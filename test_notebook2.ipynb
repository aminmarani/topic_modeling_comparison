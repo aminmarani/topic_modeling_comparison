{
 "cells": [
  {
   "cell_type": "code",
   "execution_count": 1,
   "id": "b02e6ea4",
   "metadata": {},
   "outputs": [
    {
     "name": "stderr",
     "output_type": "stream",
     "text": [
      "[nltk_data] Downloading package stopwords to /Users/das-\n",
      "[nltk_data]     lab/nltk_data...\n",
      "[nltk_data]   Package stopwords is already up-to-date!\n",
      "[nltk_data] Downloading package wordnet to /Users/das-lab/nltk_data...\n",
      "[nltk_data]   Package wordnet is already up-to-date!\n",
      "[nltk_data] Downloading package omw-1.4 to /Users/das-lab/nltk_data...\n",
      "[nltk_data]   Package omw-1.4 is already up-to-date!\n",
      "[nltk_data] Downloading package averaged_perceptron_tagger to\n",
      "[nltk_data]     /Users/das-lab/nltk_data...\n",
      "[nltk_data]   Package averaged_perceptron_tagger is already up-to-\n",
      "[nltk_data]       date!\n"
     ]
    },
    {
     "name": "stdout",
     "output_type": "stream",
     "text": [
      "blog:mote-of-dust_formatted.xlsx   with posts:271    and reblogs:238  \n",
      "blog:fuck-eatingdisorders_formatted.xlsx   with posts:37    and reblogs:4  \n",
      "blog:hellsite-residential_formatted.xlsx   with posts:247    and reblogs:191  \n",
      "blog:lets-get-better_formatted.xlsx   with posts:509    and reblogs:453  \n",
      "blog:bagelbells_formatted.xlsx   with posts:1101    and reblogs:1046  \n",
      "blog:imtrying-butimpissed_formatted.xlsx   with posts:838    and reblogs:483  \n",
      "blog:faithhopeloveandtherapy_formatted.xlsx   with posts:2994    and reblogs:1510  \n",
      "blog:finallyrecoveringforgood_formatted.xlsx   with posts:137    and reblogs:49  \n",
      "blog:intentandotrascender_formatted.xlsx   with posts:21    and reblogs:0  \n",
      "blog:fearless-foodie_formatted.xlsx   with posts:3956    and reblogs:3670  \n",
      "blog:ariessuntaurusrising_formatted.xlsx   with posts:504    and reblogs:206  \n",
      "blog:rec-hovery_formatted.xlsx   with posts:22    and reblogs:7  \n",
      "blog:shameofateen_formatted.xlsx   with posts:54    and reblogs:2  \n",
      "blog:brittle-bunny_formatted.xlsx   with posts:121    and reblogs:20  \n",
      "blog:mirithebrave_formatted.xlsx   with posts:578    and reblogs:299  \n",
      "blog:matchayogurt_formatted.xlsx   with posts:219    and reblogs:168  \n",
      "blog:palpitationstation_formatted.xlsx   with posts:1439    and reblogs:888  \n",
      "number of blogs: 17 - number of posts: 12997\n",
      "out of 12997 documents, 9234 are reblogged.\n",
      "number of unique reblogged texts: 234\n",
      "number of unique string in all texts: 11473\n",
      "size of orginal dataset: 8276 and size of the pre-processed dataset: 1\n",
      "Vocab size before lemmatiziation: 0 and after lemmatization: 0\n"
     ]
    }
   ],
   "source": [
    "from pre_processing import *\n",
    "from lda_mallet import *\n",
    "\n",
    "from os import walk\n",
    "\n",
    "\n",
    "#reading data\n",
    "datafolder = './data/ed_recovery_formatted/Excel'\n",
    "#datafolder = 'ed_recovery_topicmodel'\n",
    "df = pd.DataFrame(columns=['url','type','photo','date','tags','notes','text','photo_url','reblogged','blog_name'])\n",
    "\n",
    "for dirpath,dirnames,filenames in walk(datafolder):\n",
    "  for filename in filenames:\n",
    "    if filename.endswith('.xlsx'):\n",
    "      t = pd.read_excel(datafolder+'/'+filename,names=['url','type','photo','date','tags','notes','text','photo_url','reblogged'])\n",
    "      blog_name = t.iloc[0,0].split(':')[1]\n",
    "      t['blog_name'] = blog_name\n",
    "      df = df.append(t.iloc[3:,:],ignore_index=True)\n",
    "      print('blog:{0}   with posts:{1}    and reblogs:{2}  '.format(filename,len(t),len(t[t.reblogged=='yes'])))\n",
    "\n",
    "\n",
    "print('number of blogs: {0} - number of posts: {1}'.format(len(set(df.blog_name)),len(df)))\n",
    "print('out of {0} documents, {1} are reblogged.'.format(len(df),len(df[df.reblogged == 'yes'])))\n",
    "\n",
    "#finding reblogged texts\n",
    "texts = sorted(df.text) #sort them to keep smallest post (perhaps original one) at first\n",
    "re_texts = []\n",
    "\n",
    "while len(texts):\n",
    "  t = [texts.pop(0)]#pop first text and find it!\n",
    "  if t[0] == ' ' or len(t[0].split())<3: \n",
    "    continue #almost nothing to look\n",
    "  i = 0\n",
    "  while i<len(texts):\n",
    "    if t[0] in texts[i]:\n",
    "      t.append(texts.pop(i))\n",
    "    else:\n",
    "      i += 1\n",
    "  if len(t) > 1:\n",
    "    re_texts.append(t)\n",
    "\n",
    "\n",
    "print('number of unique reblogged texts: {0}'.format(len(re_texts)))\n",
    "print('number of unique string in all texts: {0}'.format(len(set(df.text))))\n",
    "\n",
    "extra_stopwords = ['isnt','want','cant','wanna','im','could','ive','would','dont','get','also','us','thats','got','ur','wanted',\n",
    "                   'may', 'the', 'just', 'can', 'think', 'damn', 'still', 'guys', 'literally', 'hopefully', 'much', 'even', 'rly', 'guess', 'anon']#anything with a length of one\n",
    "                   \n",
    "\n",
    "'''pre-processing'''\n",
    "original_doc_set = list(df.text[df.photo=='no'])\n",
    "pre_processed_docs,filtered_docs = preprocess_data(original_doc_set,extra_stopwords=extra_stopwords)\n",
    "vocab_dict, doc_term_matrix = prepare_corpus(pre_processed_docs)\n",
    "\n",
    "print('size of orginal dataset: {0} and size of the pre-processed dataset: {1}'.format(len(original_doc_set),len(pre_processed_docs)))\n",
    "\n",
    "pre_processed_docs_lem,filtered_docs_lem = preprocess_data(original_doc_set,extra_stopwords=extra_stopwords,lemmatized=True)\n",
    "vocab_dict_lem, doc_term_matrix_lem = prepare_corpus(pre_processed_docs_lem)\n",
    "\n",
    "print('Vocab size before lemmatiziation: {0} and after lemmatization: {1}'.format(len(vocab_dict),len(vocab_dict_lem)))\n"
   ]
  },
  {
   "cell_type": "code",
   "execution_count": 1,
   "id": "ae102447",
   "metadata": {
    "scrolled": true
   },
   "outputs": [
    {
     "name": "stderr",
     "output_type": "stream",
     "text": [
      "[nltk_data] Downloading package stopwords to /Users/das-\n",
      "[nltk_data]     lab/nltk_data...\n",
      "[nltk_data]   Package stopwords is already up-to-date!\n",
      "[nltk_data] Downloading package wordnet to /Users/das-lab/nltk_data...\n",
      "[nltk_data]   Package wordnet is already up-to-date!\n",
      "[nltk_data] Downloading package omw-1.4 to /Users/das-lab/nltk_data...\n",
      "[nltk_data]   Package omw-1.4 is already up-to-date!\n",
      "[nltk_data] Downloading package averaged_perceptron_tagger to\n",
      "[nltk_data]     /Users/das-lab/nltk_data...\n",
      "[nltk_data]   Package averaged_perceptron_tagger is already up-to-\n",
      "[nltk_data]       date!\n"
     ]
    }
   ],
   "source": [
    "from pre_processing import *\n",
    "#loading the dataset we train the model on\n",
    "text_df = newsgroup('./data/20newsgroup_preprocessed.csv')\n",
    "doc_list = list(text_df.text_cleaned)\n",
    "pre_processed_docs,filtered_docs = preprocess_data(doc_list)\n",
    "vocab_dict_, doc_term_matrix_ = prepare_corpus(pre_processed_docs)"
   ]
  },
  {
   "cell_type": "code",
   "execution_count": 4,
   "id": "7d66250a",
   "metadata": {},
   "outputs": [
    {
     "data": {
      "text/plain": [
       "13588"
      ]
     },
     "execution_count": 4,
     "metadata": {},
     "output_type": "execute_result"
    }
   ],
   "source": [
    "# vocab_dict_['existence']\n",
    "vocab_dict_.token2id['ax']"
   ]
  },
  {
   "cell_type": "code",
   "execution_count": 5,
   "id": "00627692",
   "metadata": {},
   "outputs": [],
   "source": [
    "#loading reference corpus\n",
    "wiki_docs = loading_wiki_docs('./data/wiki_sampled_5p.txt')\n",
    "pre_processed_wiki,no_var = preprocess_data(wiki_docs)\n",
    "vocab_dict, doc_term_matrix = prepare_corpus(pre_processed_wiki)\n",
    "\n",
    "#loading the dataset we train the model on\n",
    "text_df = newsgroup('./data/20newsgroup_preprocessed.csv')\n",
    "doc_list = list(text_df.text_cleaned)\n",
    "pre_processed_docs,filtered_docs = preprocess_data(doc_list)\n",
    "vocab_dict_, doc_term_matrix_ = prepare_corpus(pre_processed_docs)"
   ]
  },
  {
   "cell_type": "code",
   "execution_count": 104,
   "id": "8a2af847",
   "metadata": {},
   "outputs": [],
   "source": [
    "def reading_results(res,topic_num,itreations):\n",
    "  '''\n",
    "  Reading result to get top terms and log-likelihood every 50 iterations\n",
    "\n",
    "  returns: Log-Likelihood and all_top terms for each 50 iterations\n",
    "\n",
    "  parameter res: all the command prompt prints and results (type:str)\n",
    "  '''\n",
    "\n",
    "  #reading the string\n",
    "  current_line = 9#where to start in CSV file\n",
    "  stp1 = topic_num+2#where to read Log-Likelihood\n",
    "  stp2 = 6 #constant number of lines to get to topics again\n",
    "\n",
    "  #please set the number of iteration to what you set for your topic model\n",
    "  all_top_terms = []#storing all top terms\n",
    "  LLs = []\n",
    "  for _i in range(int(itreations/50)):\n",
    "    #top_terms = []\n",
    "    for i in range(topic_num):#reading top \n",
    "      try:\n",
    "        #reading top terms splited by two tabs + the second split is for splitting the terms with space\n",
    "        #excluding the last item using [0:-1].  because the last item is '\\n'\n",
    "        all_top_terms.append(res[current_line].split('\\t')[2].split(' ')[0:-1])\n",
    "      except:\n",
    "        print(res[current_line-2:current_line+3],current_line)\n",
    "      current_line+=1#going to next line\n",
    "    current_line+=1 #going to LL\n",
    "    if _i>3: #optimizing alpha would add [beta] update after 250 iterations and we want to add one line for that\n",
    "      current_line +=1\n",
    "    LLs.append(float(res[current_line].split(': ')[1]))\n",
    "    current_line += stp2\n",
    "    #all_top_terms.append(top_terms)\n",
    "\n",
    "  return all_top_terms,LLs"
   ]
  },
  {
   "cell_type": "code",
   "execution_count": 42,
   "id": "20b8cb46",
   "metadata": {},
   "outputs": [],
   "source": [
    "with open('t.csv','r') as csvfile:\n",
    "    res = csvfile.readlines()\n",
    "#   res = res.split('\\n')\n",
    "all_top_terms,LLs = reading_results(res,3,250)\n",
    "coherence = []"
   ]
  },
  {
   "cell_type": "code",
   "execution_count": 127,
   "id": "4a443642",
   "metadata": {},
   "outputs": [],
   "source": [
    "ls = [[50,    20,   0.004915 ,-9.06850],\n",
    "[100,    20,   0.004915 ,-9.01428],\n",
    "[150,    20,   0.004915, -8.99469],\n",
    "[200,    20,   0.004915, -8.98494],\n",
    "[250,    20,   0.004915, -8.94926],\n",
    "[50,    10,   0.004915 ,-9.06850],\n",
    "[100,    10,   0.004915 ,-9.01428],\n",
    "[150,    10,   0.004915, -8.99469],\n",
    "[200,    10,   0.004915, -8.98494],\n",
    "[250,    10,   0.004915, -8.94926]]\n",
    "stats = pd.DataFrame(data=ls,columns=['iterations','top_n','coherence','LL'])"
   ]
  },
  {
   "cell_type": "code",
   "execution_count": 130,
   "id": "22f016fb",
   "metadata": {},
   "outputs": [
    {
     "data": {
      "text/plain": [
       "Text(0, 0.5, 'Log-Likelihood')"
      ]
     },
     "execution_count": 130,
     "metadata": {},
     "output_type": "execute_result"
    },
    {
     "data": {
      "image/png": "[encoded data removed]",
      "text/plain": [
       "<Figure size 640x480 with 2 Axes>"
      ]
     },
     "metadata": {},
     "output_type": "display_data"
    }
   ],
   "source": [
    "import seaborn as sns\n",
    "\n",
    "ax = sns.pointplot(x='iterations',y='coherence',hue='top_n',data=stats)\n",
    "plt.title('Coherence and LL with Wiki docs as ref corpus')\n",
    "plt.ylabel('Coherence')\n",
    "plt.xlabel('Iterations#')\n",
    "\n",
    "ax2 = ax.twinx()\n",
    "sns.pointplot(x='iterations',y='LL',data=stats,color='cyan')\n",
    "plt.ylabel('Log-Likelihood')"
   ]
  },
  {
   "cell_type": "code",
   "execution_count": 48,
   "id": "f17962e0",
   "metadata": {},
   "outputs": [],
   "source": [
    "for top_terms in all_top_terms:\n",
    "    coherence.append(CoherenceModel(topics=top_terms,dictionary=vocab_dict,texts=pre_processed_wiki,topn=5,coherence='c_npmi').get_coherence())"
   ]
  },
  {
   "cell_type": "code",
   "execution_count": 72,
   "id": "ee2c222e",
   "metadata": {},
   "outputs": [
    {
     "data": {
      "text/plain": [
       "15"
      ]
     },
     "execution_count": 72,
     "metadata": {},
     "output_type": "execute_result"
    }
   ],
   "source": [
    "att = []\n",
    "for t in all_top_terms:\n",
    "    att.extend(t)\n",
    "len(att)"
   ]
  },
  {
   "cell_type": "code",
   "execution_count": 75,
   "id": "e0c7723b",
   "metadata": {},
   "outputs": [],
   "source": [
    "c = CoherenceModel(topics=att,dictionary=vocab_dict,texts=pre_processed_wiki,topn=5,coherence='c_npmi').get_coherence_per_topic()\n",
    "# c = CoherenceModel.for_topics(topics_as_topn_terms=all_top_terms,dictionary=vocab_dict,texts=pre_processed_wiki,topn=5,coherence='c_npmi')"
   ]
  },
  {
   "cell_type": "code",
   "execution_count": 81,
   "id": "9b3d1c0e",
   "metadata": {},
   "outputs": [
    {
     "name": "stdout",
     "output_type": "stream",
     "text": [
      "-0.034990134261869206\n",
      "-0.034990134261869206\n",
      "-0.022959832256112058\n",
      "-0.02963498672697713\n",
      "-0.02963498672697713\n",
      "[['ax', 'article', 'god', 'max', 'apr', 'ca', 'good', 'cs', 'game', 'jesus', 'year', 'john', 'team', 'christian', 'time', 'games', 'gv', 'play', 'bible', 'mike'], ['system', 'windows', 'mail', 'file', 'bit', 'problem', 'drive', 'data', 'program', 'work', 'software', 'dos', 'uk', 'computer', 'information', 'ac', 'run', 'car', 'card', 'image'], ['people', 'time', 'government', 'make', 'article', 'state', 'years', 'law', 'point', 'fact', 'things', 'world', 'made', 'question', 'good', 'day', 'back', 'long', 'case', 'part'], ['ax', 'article', 'god', 'max', 'apr', 'ca', 'cs', 'game', 'good', 'jesus', 'year', 'team', 'john', 'games', 'gv', 'play', 'bible', 'st', 'bf', 'cc'], ['system', 'windows', 'mail', 'file', 'bit', 'problem', 'drive', 'data', 'program', 'work', 'software', 'information', 'dos', 'computer', 'uk', 'car', 'ac', 'run', 'time', 'key'], ['people', 'time', 'article', 'government', 'make', 'years', 'things', 'state', 'point', 'fact', 'law', 'world', 'good', 'question', 'made', 'day', 'part', 'back', 'long', 'life'], ['ax', 'article', 'max', 'apr', 'ca', 'cs', 'game', 'good', 'jesus', 'year', 'god', 'team', 'john', 'games', 'cc', 'st', 'gv', 'mark', 'play', 'bible'], ['system', 'windows', 'mail', 'file', 'bit', 'problem', 'drive', 'program', 'data', 'work', 'software', 'space', 'key', 'dos', 'information', 'car', 'computer', 'ac', 'run', 'uk'], ['people', 'time', 'article', 'god', 'make', 'government', 'years', 'things', 'point', 'state', 'world', 'fact', 'good', 'law', 'question', 'made', 'day', 'life', 'long', 'person'], ['ax', 'article', 'max', 'apr', 'ca', 'cs', 'game', 'good', 'year', 'jesus', 'team', 'john', 'cc', 'st', 'games', 'gv', 'play', 'mike', 'bf', 'win'], ['system', 'windows', 'mail', 'file', 'bit', 'problem', 'drive', 'program', 'data', 'space', 'work', 'software', 'information', 'key', 'dos', 'car', 'computer', 'time', 'run', 'ac'], ['people', 'god', 'time', 'article', 'government', 'make', 'years', 'good', 'point', 'things', 'state', 'world', 'fact', 'question', 'law', 'made', 'day', 'life', 'true', 'back'], ['ax', 'article', 'max', 'apr', 'ca', 'cs', 'game', 'year', 'good', 'jesus', 'team', 'cc', 'john', 'games', 'st', 'gv', 'mike', 'mark', 'play', 'bf'], ['system', 'windows', 'mail', 'file', 'bit', 'problem', 'drive', 'program', 'space', 'data', 'work', 'information', 'software', 'key', 'dos', 'computer', 'car', 'time', 'run', 'gov'], ['people', 'god', 'time', 'article', 'government', 'make', 'years', 'good', 'things', 'point', 'fact', 'world', 'question', 'state', 'law', 'made', 'day', 'life', 'true', 'person']]\n"
     ]
    }
   ],
   "source": [
    "import numpy as np\n",
    "\n",
    "for i in range(int(len(c)/3)):\n",
    "    print(np.mean(c[(i*3):(i+1)*3]))\n",
    "print(att)"
   ]
  },
  {
   "cell_type": "code",
   "execution_count": 68,
   "id": "abd05ed9",
   "metadata": {},
   "outputs": [
    {
     "data": {
      "text/plain": [
       "([-0.2535461115729519], -0.2535461115729519)"
      ]
     },
     "execution_count": 68,
     "metadata": {},
     "output_type": "execute_result"
    }
   ],
   "source": [
    "# c.estimate_probabilities()\n",
    "c.get_coherence_per_topic(),c.get_coherence()"
   ]
  },
  {
   "cell_type": "code",
   "execution_count": 70,
   "id": "a4c2f05f",
   "metadata": {},
   "outputs": [
    {
     "data": {
      "text/plain": [
       "[['ax',\n",
       "  'article',\n",
       "  'god',\n",
       "  'max',\n",
       "  'apr',\n",
       "  'ca',\n",
       "  'good',\n",
       "  'cs',\n",
       "  'game',\n",
       "  'jesus',\n",
       "  'year',\n",
       "  'john',\n",
       "  'team',\n",
       "  'christian',\n",
       "  'time',\n",
       "  'games',\n",
       "  'gv',\n",
       "  'play',\n",
       "  'bible',\n",
       "  'mike'],\n",
       " ['system',\n",
       "  'windows',\n",
       "  'mail',\n",
       "  'file',\n",
       "  'bit',\n",
       "  'problem',\n",
       "  'drive',\n",
       "  'data',\n",
       "  'program',\n",
       "  'work',\n",
       "  'software',\n",
       "  'dos',\n",
       "  'uk',\n",
       "  'computer',\n",
       "  'information',\n",
       "  'ac',\n",
       "  'run',\n",
       "  'car',\n",
       "  'card',\n",
       "  'image'],\n",
       " ['people',\n",
       "  'time',\n",
       "  'government',\n",
       "  'make',\n",
       "  'article',\n",
       "  'state',\n",
       "  'years',\n",
       "  'law',\n",
       "  'point',\n",
       "  'fact',\n",
       "  'things',\n",
       "  'world',\n",
       "  'made',\n",
       "  'question',\n",
       "  'good',\n",
       "  'day',\n",
       "  'back',\n",
       "  'long',\n",
       "  'case',\n",
       "  'part']]"
      ]
     },
     "execution_count": 70,
     "metadata": {},
     "output_type": "execute_result"
    }
   ],
   "source": [
    "all_top_terms[0]"
   ]
  },
  {
   "cell_type": "code",
   "execution_count": 4,
   "id": "4df47be1",
   "metadata": {},
   "outputs": [],
   "source": [
    "from pre_processing import ap_corpus\n",
    "import pandas as pd\n",
    "import numpy as np\n",
    "\n",
    "docs = list(ap_corpus('./data/ap.txt').text)\n",
    "text_df = pd.DataFrame(zip(np.arange(1,len(docs)),docs),columns=['int_values','text'])"
   ]
  },
  {
   "cell_type": "code",
   "execution_count": 6,
   "id": "1cda0361",
   "metadata": {},
   "outputs": [
    {
     "name": "stderr",
     "output_type": "stream",
     "text": [
      "R[write to console]: Loading required package: reader\n",
      "\n",
      "R[write to console]: Loading required package: NCmisc\n",
      "\n",
      "R[write to console]: \n",
      "Attaching package: ‘reader’\n",
      "\n",
      "\n",
      "R[write to console]: The following objects are masked from ‘package:NCmisc’:\n",
      "\n",
      "    cat.path, get.ext, rmv.ext\n",
      "\n",
      "\n",
      "R[write to console]: Loading required package: stm\n",
      "\n",
      "R[write to console]: stm v1.3.6 successfully loaded. See ?stm for help. \n",
      " Papers, resources, and other materials at structuraltopicmodel.com\n",
      "\n",
      "R[write to console]: Loading required package: tm\n",
      "\n",
      "R[write to console]: Loading required package: NLP\n",
      "\n",
      "R[write to console]: \n",
      "Attaching package: ‘tm’\n",
      "\n",
      "\n",
      "R[write to console]: The following object is masked from ‘package:reader’:\n",
      "\n",
      "    reader\n",
      "\n",
      "\n"
     ]
    },
    {
     "name": "stdout",
     "output_type": "stream",
     "text": [
      "Building corpus... \n",
      "Converting to Lower Case... \n",
      "Removing punctuation... \n",
      "Removing stopwords... \n",
      "Removing numbers... \n",
      "Creating Output... \n",
      "Removing 16221 of 34848 terms (16221 of 368688 tokens) due to frequency \n",
      "Your corpus now has 2245 documents, 18627 terms and 352467 tokens."
     ]
    }
   ],
   "source": [
    "from rpy2 import robjects #loading R inside Python\n",
    "#importing functions to read pandas DF\n",
    "from rpy2.robjects import pandas2ri\n",
    "pandas2ri.activate()\n",
    "from rpy2.robjects.packages import importr\n",
    "from rpy2.robjects.conversion import localconverter\n",
    "\n",
    "from pre_processing import ap_corpus\n",
    "\n",
    "import pandas as pd\n",
    "\n",
    "import numpy as np\n",
    "\n",
    "#import R base library\n",
    "base = importr('base')\n",
    "\n",
    "\n",
    "# pd_df = pd.DataFrame({'int_values': [1,2,3],'text': ['The first example is not too long'\n",
    "  # , 'second example have to be short, too.', 'basically trying to write another example']})\n",
    "docs = list(ap_corpus('./data/ap.txt').text)\n",
    "text_df = pd.DataFrame(zip(np.arange(1,len(docs)),docs),columns=['int_values','text'])\n",
    "with localconverter(robjects.default_converter + pandas2ri.converter):\n",
    "  r_from_pd_df = robjects.conversion.py2rpy(text_df)\n",
    "\n",
    "\n",
    "# ans = robjects.r(\n",
    "#   '''\n",
    "#   library(readr)\n",
    "#   source('./coherence.R')\n",
    "#   x = {0}\n",
    "#   print({1})\n",
    "#   '''.format(12,22))\n",
    "\n",
    "robjects.r.source('stm.R')\n",
    "ans = robjects.r.run_stm(text_df,topic_n=10,max_itr=50)\n"
   ]
  },
  {
   "cell_type": "code",
   "execution_count": 23,
   "id": "b94b6aca",
   "metadata": {},
   "outputs": [
    {
     "data": {
      "text/html": [
       "\n",
       "        <span>StrMatrix with 200 elements.</span>\n",
       "        <table>\n",
       "        <tbody>\n",
       "          <tr>\n",
       "          \n",
       "            <td>\n",
       "            'said'\n",
       "            </td>\n",
       "          \n",
       "            <td>\n",
       "            'said'\n",
       "            </td>\n",
       "          \n",
       "            <td>\n",
       "            'new'\n",
       "            </td>\n",
       "          \n",
       "            <td>\n",
       "            ...\n",
       "            </td>\n",
       "          \n",
       "            <td>\n",
       "            'state'\n",
       "            </td>\n",
       "          \n",
       "            <td>\n",
       "            'exchange'\n",
       "            </td>\n",
       "          \n",
       "            <td>\n",
       "            'agreement'\n",
       "            </td>\n",
       "          \n",
       "          </tr>\n",
       "        </tbody>\n",
       "        </table>\n",
       "        "
      ],
      "text/plain": [
       "<rpy2.robjects.vectors.StrMatrix object at 0x12b166320> [RTYPES.STRSXP]\n",
       "R classes: ('matrix', 'array')\n",
       "['said', 'said', 'new', 'governme..., ..., 'industry', 'state', 'exchange', 'agreement']"
      ]
     },
     "execution_count": 23,
     "metadata": {},
     "output_type": "execute_result"
    }
   ],
   "source": [
    "ans[1]"
   ]
  },
  {
   "cell_type": "code",
   "execution_count": 27,
   "id": "f18ec7cc",
   "metadata": {},
   "outputs": [],
   "source": [
    "from rpy2.rinterface import StrSexpVector\n",
    "\n",
    "a = StrSexpVector(ans[1])"
   ]
  },
  {
   "cell_type": "code",
   "execution_count": 61,
   "id": "f682420d",
   "metadata": {},
   "outputs": [
    {
     "data": {
      "text/plain": [
       "array([['said', 'united', 'states', 'war', 'will', 'president',\n",
       "        'american', 'union', 'talks', 'foreign', 'news', 'world',\n",
       "        'countries', 'security', 'nations', 'aid', 'minister', 'troops',\n",
       "        'iraq', 'reporters'],\n",
       "       ['said', 'police', 'people', 'one', 'two', 'killed', 'fire',\n",
       "        'miles', 'city', 'officials', 'three', 'army', 'night',\n",
       "        'reported', 'old', 'force', 'four', 'death', 'area',\n",
       "        'authorities'],\n",
       "       ['new', 'first', 'time', 'york', 'show', 'year', 'just', 'high',\n",
       "        'got', 'center', 'going', 'day', 'around', 'home', 'second',\n",
       "        'san', 'wednesday', 'record', 'national', 'thats'],\n",
       "       ['government', 'said', 'south', 'since', 'two', 'rights', 'group',\n",
       "        'political', 'last', 'military', 'students', 'president',\n",
       "        'national', 'years', 'people', 'official', 'communist', 'also',\n",
       "        'news', 'leaders'],\n",
       "       ['said', 'soviet', 'bush', 'president', 'will', 'party', 'house',\n",
       "        'committee', 'congress', 'dukakis', 'campaign', 'new',\n",
       "        'democratic', 'reagan', 'senate', 'administration', 'bill',\n",
       "        'gorbachev', 'vote', 'budget'],\n",
       "       ['said', 'will', 'people', 'can', 'one', 'now', 'think', 'says',\n",
       "        'dont', 'years', 'get', 'say', 'time', 'make', 'west', 'way',\n",
       "        'just', 'many', 'east', 'even'],\n",
       "       ['said', 'federal', 'will', 'workers', 'drug', 'department',\n",
       "        'service', 'new', 'state', 'may', 'pay', 'money', 'health',\n",
       "        'last', 'used', 'employees', 'use', 'city', 'public', 'industry'],\n",
       "       ['said', 'court', 'case', 'school', 'attorney', 'family', 'judge',\n",
       "        'law', 'children', 'mrs', 'year', 'former', 'old', 'charges',\n",
       "        'years', 'trial', 'prison', 'two', 'women', 'state'],\n",
       "       ['percent', 'said', 'billion', 'million', 'market', 'year',\n",
       "        'stock', 'prices', 'new', 'dollar', 'higher', 'rose', 'price',\n",
       "        'interest', 'york', 'bank', 'late', 'oil', 'share', 'exchange'],\n",
       "       ['said', 'million', 'year', 'company', 'two', 'years', 'sales',\n",
       "        'report', 'american', 'new', 'last', 'corp', 'like', 'business',\n",
       "        'also', 'plant', 'air', 'long', 'one', 'agreement']], dtype='<U14')"
      ]
     },
     "execution_count": 61,
     "metadata": {},
     "output_type": "execute_result"
    }
   ],
   "source": [
    "np.asarray(ans[1]).reshape(10,20,order='F')#topic number * top_n"
   ]
  },
  {
   "cell_type": "code",
   "execution_count": 1,
   "id": "cdf9187e",
   "metadata": {},
   "outputs": [
    {
     "name": "stderr",
     "output_type": "stream",
     "text": [
      "[nltk_data] Downloading package stopwords to /Users/das-\n",
      "[nltk_data]     lab/nltk_data...\n",
      "[nltk_data]   Package stopwords is already up-to-date!\n",
      "[nltk_data] Downloading package wordnet to /Users/das-lab/nltk_data...\n",
      "[nltk_data]   Package wordnet is already up-to-date!\n",
      "[nltk_data] Downloading package omw-1.4 to /Users/das-lab/nltk_data...\n",
      "[nltk_data]   Package omw-1.4 is already up-to-date!\n",
      "[nltk_data] Downloading package averaged_perceptron_tagger to\n",
      "[nltk_data]     /Users/das-lab/nltk_data...\n",
      "[nltk_data]   Package averaged_perceptron_tagger is already up-to-\n",
      "[nltk_data]       date!\n"
     ]
    },
    {
     "name": "stdout",
     "output_type": "stream",
     "text": [
      "[0.01845027440640157, 0.034478599665650485]\n"
     ]
    }
   ],
   "source": [
    "#checking if average over pair of words is similar to Coherence for the whole topic\n",
    "from gensim.models.coherencemodel import CoherenceModel\n",
    "\n",
    "from pre_processing import *\n",
    "from lda_mallet import *\n",
    "from post_processing import *\n",
    "\n",
    "from os import walk\n",
    "\n",
    "\n",
    "wiki_docs = loading_wiki_docs('./data/wiki_sampled_5p.txt')\n",
    "#doing pre-processing on wiki-pedia documents\n",
    "pre_processed_wiki, _ = preprocess_data(wiki_docs)\n",
    "wiki_vocab_dict, _ = prepare_corpus(pre_processed_wiki)\n",
    "del wiki_docs\n",
    "\n",
    "top_terms = [['day', 'question', 'answer','time', 'today', 'good', 'days', 'friends', 'home', 'school'],\n",
    "            ['feel', 'time', 'shit', 'fucking', 'make', 'gonna','lol','bc', 'work', 'fuck']]\n",
    "cscore_topics = CoherenceModel(topics=top_terms,dictionary=wiki_vocab_dict,texts=pre_processed_wiki,coherence='c_npmi',processes=3,topn=10).get_coherence_per_topic()\n",
    "print(cscore_topics)"
   ]
  },
  {
   "cell_type": "code",
   "execution_count": 2,
   "id": "0cd8ad88",
   "metadata": {},
   "outputs": [
    {
     "name": "stdout",
     "output_type": "stream",
     "text": [
      "[-0.038165123831440176, -0.02549583570550637, 0.016954253737821386, 0.024292062951725663, 0.03760492692923903, 0.13482012211038202, 0.022415181391332247, 0.008581837991955303, 0.003291957312885129, 0.5252636830369656, 0.03206683243035721, 0.005019933277731493, 0.05045698485679481, -0.016621184513691593, -0.03526847959377936, -0.06258110239666063, -0.07869451349467707, 0.007460979167991682, -0.010901244149723481, 0.04060450134037613, 0.002772941318734299, 0.021242578776540733, -0.02264054950498263, -0.06841925894703153, -0.011508826841714665, 0.03512862139212584, 0.022194439203696344, 0.018345014461907515, -0.004405901167000425, -0.040200026542867744, 0.029760943098675427, -0.038237415791801455, -0.024119214080901535, 0.014142616230680784, -0.002840383749378568, 0.023651072621561867, 0.18868779974165278, -0.003056577116866124, -0.054087248010553396, 0.015880557640242553, 0.015472027002995346, -0.03732806130141921, 0.04158183449683038, 0.05356222968728836, 0.013577362819576645, 0.03897223108407221, 0.22102584813255502, 0.1262433875877466, 0.2428054600238271, 0.16124866680515137, 0.11239679504858191, -0.09491174311237913, 0.035301452012648143, 0.036471697262032275, 0.01665070738440202, 0.015359934092167668, 0.01467031484083681, 0.024539271457876443, 0.03387724244900316, -0.012056138950765087, 0.009994572949201152, 0.029128016181428663, 0.4411291824938202, 0.07290292969026045, 0.24328332876494835, 0.2847144632170288, -0.4088710845761713, 0.03550980660692336, 0.42515979958386974, 0.017074510434725014, 0.26418376944199395, -0.2446431627223483, -0.39405300667915155, -0.023316170827284422, 0.33378027301130986, 0.21007728043667645, 0.03132678315193663, -0.09454382734598851, 0.03802429973460752, 0.027173765642881008, -0.28970665870784834, -0.4391165026646517, 0.04484540309019812, 0.2106661793572662, 0.09727960834265814, 0.02079750664228137, 0.20419689023180712, -0.0866837153208195, -0.41253800086089626, -0.06883438046414718]\n",
      "0.01845027440640157 0.034478599665650485\n"
     ]
    }
   ],
   "source": [
    "import numpy as np\n",
    "\n",
    "\n",
    "all_pairs = []\n",
    "for terms in top_terms:\n",
    "    for i in range(len(terms)):\n",
    "        for j in range(i+1,len(terms)):\n",
    "            all_pairs.append([terms[i],terms[j]])\n",
    "cscore_terms = CoherenceModel(topics=all_pairs,dictionary=wiki_vocab_dict,texts=pre_processed_wiki,coherence='c_npmi',processes=3,topn=2).get_coherence_per_topic()\n",
    "print(cscore_terms)\n",
    "print(np.mean(cscore_terms[0:45]),np.mean(cscore_terms[45:]))"
   ]
  }
 ],
 "metadata": {
  "kernelspec": {
   "display_name": "Python 3 (ipykernel)",
   "language": "python",
   "name": "python3"
  },
  "language_info": {
   "codemirror_mode": {
    "name": "ipython",
    "version": 3
   },
   "file_extension": ".py",
   "mimetype": "text/x-python",
   "name": "python",
   "nbconvert_exporter": "python",
   "pygments_lexer": "ipython3",
   "version": "3.7.4"
  }
 },
 "nbformat": 4,
 "nbformat_minor": 5
}
