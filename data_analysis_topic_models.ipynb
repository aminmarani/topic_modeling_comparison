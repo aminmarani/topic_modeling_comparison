{
 "cells": [
  {
   "cell_type": "code",
   "execution_count": 3,
   "id": "fdb66805-93e6-4944-99f2-54006260bb6b",
   "metadata": {},
   "outputs": [],
   "source": [
    "%load_ext rpy2.ipython"
   ]
  },
  {
   "cell_type": "code",
   "execution_count": 2,
   "id": "3d46af5e-27a7-4e37-81bc-c5b6ce856e45",
   "metadata": {},
   "outputs": [],
   "source": [
    "import pandas as pd\n",
    "from collections import Counter\n",
    "import seaborn as sns"
   ]
  },
  {
   "cell_type": "code",
   "execution_count": 4,
   "id": "d3d0edb0-718e-4be9-bcad-a950522c50dd",
   "metadata": {},
   "outputs": [],
   "source": [
    "maps = {\"Strongly disagree\":1,\"Disagree\":2,\"Somewhat disagree\":3,\n",
    "        \"Neither disagree nor agree\":4,\"Somewhat agree\":5,\"Agree\":6,\n",
    "        \"Strongly Agree\":7}\n",
    "model_mapping = {\"Program Alpha is definitely better.\":1,\n",
    "                 \"Program Alpha is probably better.\":2,\n",
    "                 \"Program Alpha might be better.\":3,\n",
    "                 \"I cannot decide.\":4,\n",
    "                 \"Program Beta might be better.\":5,\n",
    "                 \"Program Beta is probably better.\":6,\n",
    "                 \"Program Beta is definitely  better.\":7}\n",
    "# set(df.model1_diversity_1)"
   ]
  },
  {
   "cell_type": "markdown",
   "id": "7f901fd6-8eb7-4f04-82c8-51516abae4f1",
   "metadata": {},
   "source": [
    "loading data from Prolific CSV"
   ]
  },
  {
   "cell_type": "code",
   "execution_count": 8,
   "id": "fad78873-9079-44df-bf1e-643f285a5a13",
   "metadata": {},
   "outputs": [],
   "source": [
    "df = pd.read_csv(\"./data/qualtrics/Topic_Model_Assessment_December+19,+2024_22.48.csv\")"
   ]
  },
  {
   "cell_type": "markdown",
   "id": "3ea33001-98be-40d2-9f4e-42e7a17a19be",
   "metadata": {},
   "source": [
    "removing unnacceptable responses"
   ]
  },
  {
   "cell_type": "code",
   "execution_count": 9,
   "id": "d6ab152a-3479-4b80-b4af-145e2db6cd32",
   "metadata": {},
   "outputs": [
    {
     "name": "stdout",
     "output_type": "stream",
     "text": [
      "Number of tasks: 84\n"
     ]
    }
   ],
   "source": [
    "df = df[df.mars == 'Never']\n",
    "print(f\"Number of tasks: {len(df)}\")"
   ]
  },
  {
   "cell_type": "markdown",
   "id": "0e474671-b169-4c40-b18f-b444cfb49361",
   "metadata": {},
   "source": [
    "number of comparisions"
   ]
  },
  {
   "cell_type": "code",
   "execution_count": 10,
   "id": "7009e72a-3250-4263-b476-9e0a56b302dc",
   "metadata": {},
   "outputs": [
    {
     "name": "stdout",
     "output_type": "stream",
     "text": [
      "Counter({'scholar-stm': 14, 'bertopic-lda': 14, 'lda-scholar': 14, 'bertopic-scholar': 14, 'lda-stm': 14, 'bertopic-stm': 14})\n",
      "{'scholar': 42, 'bertopic': 42, 'lda': 42, 'stm': 42}\n"
     ]
    }
   ],
   "source": [
    "print(Counter(['-'.join(sorted([i,j])) for i,j in zip(df.Model1,df.Model2)]))\n",
    "models_appearance = dict(Counter([i for i in list(df.Model1)+list(df.Model2)]))\n",
    "print(models_appearance)\n",
    "# list(df.columns)"
   ]
  },
  {
   "cell_type": "markdown",
   "id": "767da59f-6ed5-4e89-98a1-49af69287b0e",
   "metadata": {},
   "source": [
    "models quality (individual analysis)"
   ]
  },
  {
   "cell_type": "code",
   "execution_count": 11,
   "id": "2d491f8b-46ef-48d7-be73-e88df944130e",
   "metadata": {},
   "outputs": [],
   "source": [
    "# indv_ratings = pd.DataFrame(columns=[\"model\",\"item\",\"quality\"])\n",
    "ls = []\n",
    "\n",
    "for _,row in df.iterrows():\n",
    "    ls.append({\"model\":row.Model1,\"item\":\"diversity\",\"value\":maps[row.model1_diversity_1]})\n",
    "    ls.append({\"model\":row.Model1,\"item\":\"distinct\",\"value\":maps[row.m1_distinct_1]})\n",
    "    ls.append({\"model\":row.Model1,\"item\":\"understand\",\"value\":maps[row.m1_understand_1]})\n",
    "\n",
    "    ls.append({\"model\":row.Model2,\"item\":\"diversity\",\"value\":maps[row.m2_diverse_1]})\n",
    "    ls.append({\"model\":row.Model2,\"item\":\"distinct\",\"value\":maps[row.m2_distinct_1]})\n",
    "    ls.append({\"model\":row.Model2,\"item\":\"understand\",\"value\":maps[row.m2_understand_1]})\n",
    "\n",
    "indv_df = pd.DataFrame(ls)"
   ]
  },
  {
   "cell_type": "code",
   "execution_count": 12,
   "id": "76c3e1bb-f795-4e85-bd0e-349f5331dc87",
   "metadata": {},
   "outputs": [
    {
     "data": {
      "text/plain": [
       "<Axes: xlabel='item', ylabel='value'>"
      ]
     },
     "execution_count": 12,
     "metadata": {},
     "output_type": "execute_result"
    },
    {
     "data": {
      "image/png": "[encoded data removed]",
      "text/plain": [
       "<Figure size 640x480 with 1 Axes>"
      ]
     },
     "metadata": {},
     "output_type": "display_data"
    }
   ],
   "source": [
    "# sns.barplot(indv_df.groupby([\"model\",\"item\"]).mean().reset_index(),\n",
    "#             x=\"item\",y=\"value\",hue=\"model\")\n",
    "sns.barplot(indv_df,\n",
    "            x=\"item\",y=\"value\",hue=\"model\")"
   ]
  },
  {
   "cell_type": "markdown",
   "id": "4c4d69ac-06ee-450d-a8ee-02b3669041c0",
   "metadata": {},
   "source": [
    "wins ratio"
   ]
  },
  {
   "cell_type": "code",
   "execution_count": 13,
   "id": "ed9a2d9f-1b7b-4feb-9468-ee31391f1f98",
   "metadata": {},
   "outputs": [
    {
     "name": "stdout",
     "output_type": "stream",
     "text": [
      "{'scholar': 22, 'bertopic': 22, 'lda': 18, 'stm': 22}\n",
      "{'scholar': 0.5238095238095238, 'bertopic': 0.5238095238095238, 'lda': 0.42857142857142855, 'stm': 0.5238095238095238}\n"
     ]
    }
   ],
   "source": [
    "# models_appearance\n",
    "models_win = {k:0 for k,v in models_appearance.items()}\n",
    "\n",
    "for _,row in df.iterrows():\n",
    "    if \"Alpha\" in row.model_selection_1:\n",
    "        models_win[row.Model1] += 1\n",
    "    else:\n",
    "        models_win[row.Model2] += 1\n",
    "\n",
    "models_ratio = {k:models_win[k]/models_appearance[k] for k in models_win.keys()}\n",
    "\n",
    "print(models_win)\n",
    "print(models_ratio)"
   ]
  },
  {
   "cell_type": "markdown",
   "id": "9a67bf0d-bb0b-4c10-bb56-4f5f744bf177",
   "metadata": {},
   "source": [
    "how many times first model (i.e., Alpha model) wins "
   ]
  },
  {
   "cell_type": "code",
   "execution_count": 14,
   "id": "25cd9bbd-a8df-42b7-a14f-cf783360278b",
   "metadata": {},
   "outputs": [
    {
     "name": "stdout",
     "output_type": "stream",
     "text": [
      "Alpha wins 42.86%\n"
     ]
    }
   ],
   "source": [
    "count =0\n",
    "alpha_wins = 0\n",
    "for _,row in df.iterrows():\n",
    "    if \"Alpha\" in row.model_selection_1:\n",
    "        alpha_wins +=1\n",
    "    count+=1\n",
    "\n",
    "print(f\"Alpha wins {100*alpha_wins/count:0.2f}%\")"
   ]
  },
  {
   "cell_type": "markdown",
   "id": "14102941-0294-4a02-93cd-4cada27bb96d",
   "metadata": {},
   "source": [
    "Anova on model_selection"
   ]
  },
  {
   "cell_type": "code",
   "execution_count": 15,
   "id": "32011a5b-3d57-4f7f-8ead-a645bbccedb3",
   "metadata": {},
   "outputs": [
    {
     "data": {
      "text/html": [
       "<div>\n",
       "<style scoped>\n",
       "    .dataframe tbody tr th:only-of-type {\n",
       "        vertical-align: middle;\n",
       "    }\n",
       "\n",
       "    .dataframe tbody tr th {\n",
       "        vertical-align: top;\n",
       "    }\n",
       "\n",
       "    .dataframe thead th {\n",
       "        text-align: right;\n",
       "    }\n",
       "</style>\n",
       "<table border=\"1\" class=\"dataframe\">\n",
       "  <thead>\n",
       "    <tr style=\"text-align: right;\">\n",
       "      <th></th>\n",
       "      <th>comparison</th>\n",
       "      <th>model1</th>\n",
       "      <th>model2</th>\n",
       "      <th>rating</th>\n",
       "      <th>diverse1</th>\n",
       "      <th>distinct1</th>\n",
       "      <th>understand1</th>\n",
       "      <th>diverse2</th>\n",
       "      <th>distinct2</th>\n",
       "      <th>understand2</th>\n",
       "    </tr>\n",
       "  </thead>\n",
       "  <tbody>\n",
       "    <tr>\n",
       "      <th>0</th>\n",
       "      <td>scholar-stm</td>\n",
       "      <td>scholar</td>\n",
       "      <td>stm</td>\n",
       "      <td>3</td>\n",
       "      <td>7</td>\n",
       "      <td>3</td>\n",
       "      <td>4</td>\n",
       "      <td>2</td>\n",
       "      <td>6</td>\n",
       "      <td>3</td>\n",
       "    </tr>\n",
       "    <tr>\n",
       "      <th>1</th>\n",
       "      <td>bertopic-lda</td>\n",
       "      <td>bertopic</td>\n",
       "      <td>lda</td>\n",
       "      <td>5</td>\n",
       "      <td>3</td>\n",
       "      <td>5</td>\n",
       "      <td>4</td>\n",
       "      <td>4</td>\n",
       "      <td>4</td>\n",
       "      <td>4</td>\n",
       "    </tr>\n",
       "    <tr>\n",
       "      <th>2</th>\n",
       "      <td>bertopic-lda</td>\n",
       "      <td>bertopic</td>\n",
       "      <td>lda</td>\n",
       "      <td>3</td>\n",
       "      <td>4</td>\n",
       "      <td>4</td>\n",
       "      <td>4</td>\n",
       "      <td>4</td>\n",
       "      <td>4</td>\n",
       "      <td>4</td>\n",
       "    </tr>\n",
       "    <tr>\n",
       "      <th>3</th>\n",
       "      <td>scholar-stm</td>\n",
       "      <td>scholar</td>\n",
       "      <td>stm</td>\n",
       "      <td>4</td>\n",
       "      <td>4</td>\n",
       "      <td>3</td>\n",
       "      <td>5</td>\n",
       "      <td>4</td>\n",
       "      <td>3</td>\n",
       "      <td>5</td>\n",
       "    </tr>\n",
       "    <tr>\n",
       "      <th>4</th>\n",
       "      <td>lda-scholar</td>\n",
       "      <td>lda</td>\n",
       "      <td>scholar</td>\n",
       "      <td>6</td>\n",
       "      <td>5</td>\n",
       "      <td>5</td>\n",
       "      <td>4</td>\n",
       "      <td>5</td>\n",
       "      <td>5</td>\n",
       "      <td>4</td>\n",
       "    </tr>\n",
       "  </tbody>\n",
       "</table>\n",
       "</div>"
      ],
      "text/plain": [
       "     comparison    model1   model2  rating  diverse1  distinct1  understand1  \\\n",
       "0   scholar-stm   scholar      stm       3         7          3            4   \n",
       "1  bertopic-lda  bertopic      lda       5         3          5            4   \n",
       "2  bertopic-lda  bertopic      lda       3         4          4            4   \n",
       "3   scholar-stm   scholar      stm       4         4          3            5   \n",
       "4   lda-scholar       lda  scholar       6         5          5            4   \n",
       "\n",
       "   diverse2  distinct2  understand2  \n",
       "0         2          6            3  \n",
       "1         4          4            4  \n",
       "2         4          4            4  \n",
       "3         4          3            5  \n",
       "4         5          5            4  "
      ]
     },
     "execution_count": 15,
     "metadata": {},
     "output_type": "execute_result"
    }
   ],
   "source": [
    "#data prepartion\n",
    "selection = []\n",
    "\n",
    "for _,row in df.iterrows():\n",
    "    compare_name = \"-\".join(sorted([row.Model1,row.Model2]))\n",
    "    models = sorted([row.Model1,row.Model2])\n",
    "    indv_rating = [(maps[row.model1_diversity_1],maps[row.m1_distinct_1],maps[row.m1_understand_1]),\n",
    "                   (maps[row.m2_diverse_1],maps[row.m2_distinct_1],maps[row.m2_understand_1])]\n",
    "    if row.Model2 == models[0]:\n",
    "        indv_rating = [indv_rating[1],indv_rating[1]]\n",
    "    compare_val = model_mapping[row[\"model_selection_1\"]]\n",
    "    selection.append({\"comparison\":compare_name,\"model1\":models[0],\"model2\":models[1],\n",
    "                     \"rating\":compare_val if (\"-\".join([row.Model1,row.Model2]) == compare_name) \n",
    "                      else 8-compare_val,\n",
    "                     \"diverse1\":indv_rating[0][0],\"distinct1\":indv_rating[0][1],\"understand1\":indv_rating[0][2],\n",
    "                     \"diverse2\":indv_rating[1][0],\"distinct2\":indv_rating[1][1],\"understand2\":indv_rating[1][2]})\n",
    "\n",
    "selection_df = pd.DataFrame(selection)\n",
    "selection_df.head()"
   ]
  },
  {
   "cell_type": "code",
   "execution_count": 16,
   "id": "6e434421-34ef-4585-b26b-82dfee4ffd5b",
   "metadata": {},
   "outputs": [
    {
     "name": "stdout",
     "output_type": "stream",
     "text": [
      "[1] 2\n",
      "                      Df Sum Sq Mean Sq F value Pr(>F)\n",
      "as.factor(comparison)  5  14.52   2.905   0.738  0.597\n",
      "Residuals             78 307.14   3.938               \n",
      "  Tukey multiple comparisons of means\n",
      "    95% family-wise confidence level\n",
      "\n",
      "Fit: aov(formula = rating ~ as.factor(comparison), data = selection_df)\n",
      "\n",
      "$`as.factor(comparison)`\n",
      "                                     diff        lwr      upr     p adj\n",
      "bertopic-scholar-bertopic-lda -0.42857143 -2.6199570 1.762814 0.9926062\n",
      "bertopic-stm-bertopic-lda      0.78571429 -1.4056713 2.977100 0.9001291\n",
      "lda-scholar-bertopic-lda       0.50000000 -1.6913856 2.691386 0.9850595\n",
      "lda-stm-bertopic-lda           0.42857143 -1.7628142 2.619957 0.9926062\n",
      "scholar-stm-bertopic-lda      -0.14285714 -2.3342427 2.048528 0.9999640\n",
      "bertopic-stm-bertopic-scholar  1.21428571 -0.9770999 3.405671 0.5886886\n",
      "lda-scholar-bertopic-scholar   0.92857143 -1.2628142 3.119957 0.8167787\n",
      "lda-stm-bertopic-scholar       0.85714286 -1.3342427 3.048528 0.8618511\n",
      "scholar-stm-bertopic-scholar   0.28571429 -1.9056713 2.477100 0.9989185\n",
      "lda-scholar-bertopic-stm      -0.28571429 -2.4770999 1.905671 0.9989185\n",
      "lda-stm-bertopic-stm          -0.35714286 -2.5485285 1.834243 0.9968526\n",
      "scholar-stm-bertopic-stm      -0.92857143 -3.1199570 1.262814 0.8167787\n",
      "lda-stm-lda-scholar           -0.07142857 -2.2628142 2.119957 0.9999989\n",
      "scholar-stm-lda-scholar       -0.64285714 -2.8342427 1.548528 0.9553901\n",
      "scholar-stm-lda-stm           -0.57142857 -2.7628142 1.619957 0.9730242\n",
      "\n"
     ]
    }
   ],
   "source": [
    "%%R -i selection_df\n",
    "print(2)\n",
    "# print(summary(analysis.variance <- aov(rating ~ (as.factor(model1)+as.factor(model2))^2,data=selection_df)))\n",
    "print(summary(analysis.variance <- aov(rating ~ as.factor(comparison),data=selection_df)))\n",
    "print(TukeyHSD(analysis.variance))"
   ]
  },
  {
   "cell_type": "code",
   "execution_count": 19,
   "id": "6c1114fa-84b0-41ef-a6be-98615d20b5cf",
   "metadata": {},
   "outputs": [
    {
     "name": "stdout",
     "output_type": "stream",
     "text": [
      "                                                Df Sum Sq Mean Sq F value\n",
      "as.ordered(distinct1)                            6  47.39   7.898   2.137\n",
      "as.ordered(distinct2)                            5  41.65   8.330   2.254\n",
      "as.ordered(understand1)                          6  22.72   3.786   1.025\n",
      "as.ordered(understand2)                          6  30.80   5.134   1.389\n",
      "as.ordered(diverse1)                             5   9.87   1.975   0.534\n",
      "as.ordered(diverse2)                             5   3.83   0.765   0.207\n",
      "as.ordered(distinct1):as.ordered(distinct2)      9  27.31   3.034   0.821\n",
      "as.ordered(understand1):as.ordered(understand2)  4   4.24   1.060   0.287\n",
      "as.ordered(diverse1):as.ordered(diverse2)        3   8.23   2.744   0.743\n",
      "Residuals                                       34 125.63   3.695        \n",
      "                                                Pr(>F)  \n",
      "as.ordered(distinct1)                           0.0743 .\n",
      "as.ordered(distinct2)                           0.0712 .\n",
      "as.ordered(understand1)                         0.4262  \n",
      "as.ordered(understand2)                         0.2472  \n",
      "as.ordered(diverse1)                            0.7487  \n",
      "as.ordered(diverse2)                            0.9572  \n",
      "as.ordered(distinct1):as.ordered(distinct2)     0.6010  \n",
      "as.ordered(understand1):as.ordered(understand2) 0.8845  \n",
      "as.ordered(diverse1):as.ordered(diverse2)       0.5341  \n",
      "Residuals                                               \n",
      "---\n",
      "Signif. codes:  0 ‘***’ 0.001 ‘**’ 0.01 ‘*’ 0.05 ‘.’ 0.1 ‘ ’ 1\n"
     ]
    }
   ],
   "source": [
    "%%R -i selection_df\n",
    "print(summary(analysis.variance <- aov(rating ~ (as.ordered(distinct1)*as.ordered(distinct2)+\n",
    "                                              as.ordered(understand1)*as.ordered(understand2)+\n",
    "                                              as.ordered(diverse1)*as.ordered(diverse2))\n",
    "                                       ,data=selection_df)))\n",
    "# print(TukeyHSD(analysis.variance))"
   ]
  },
  {
   "cell_type": "code",
   "execution_count": 20,
   "id": "d4b92545-21f3-4564-8636-7e00a62b0282",
   "metadata": {},
   "outputs": [
    {
     "name": "stdout",
     "output_type": "stream",
     "text": [
      "                  Df   Pillai approx F num Df den Df Pr(>F)\n",
      "as.factor(model1)  2 0.042371  0.57718      6    160 0.7481\n",
      "Residuals         81                                       \n",
      "                  Df   Pillai approx F num Df den Df Pr(>F)\n",
      "as.factor(model2)  2 0.074268   1.0284      6    160 0.4088\n",
      "Residuals         81                                       \n",
      "                  Df Sum Sq Mean Sq F value Pr(>F)\n",
      "as.factor(model1)  2   4.73   2.363   1.355  0.264\n",
      "Residuals         81 141.23   1.744               \n"
     ]
    }
   ],
   "source": [
    "%%R -i selection_df\n",
    "print(summary(analysis.variance <- manova(cbind(diverse1,distinct1,understand1) ~ as.factor(model1)\n",
    "                                       ,data=selection_df)))\n",
    "print(summary(analysis.variance <- manova(cbind(diverse2,distinct2,understand2) ~ as.factor(model2)\n",
    "                                       ,data=selection_df)))\n",
    "\n",
    "print(summary(analysis.variance <- aov(distinct1 ~ as.factor(model1)\n",
    "                                       ,data=selection_df)))"
   ]
  }
 ],
 "metadata": {
  "kernelspec": {
   "display_name": "Python 3 (ipykernel)",
   "language": "python",
   "name": "python3"
  },
  "language_info": {
   "codemirror_mode": {
    "name": "ipython",
    "version": 3
   },
   "file_extension": ".py",
   "mimetype": "text/x-python",
   "name": "python",
   "nbconvert_exporter": "python",
   "pygments_lexer": "ipython3",
   "version": "3.9.16"
  }
 },
 "nbformat": 4,
 "nbformat_minor": 5
}
