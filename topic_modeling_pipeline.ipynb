{
 "cells": [
  {
   "cell_type": "markdown",
   "id": "b68fda13",
   "metadata": {},
   "source": [
    "# topic modeling pipeline\n",
    "\n",
    "This notebook will walk you through:\n",
    "1. data reterival from SQL database\n",
    "2. Pre-processing data\n",
    "3. Running topic modeling (different models)\n",
    "4. post processing (including showing topics, topic-doc distribution, etc.)\n",
    "5. Storing results into DB"
   ]
  },
  {
   "cell_type": "markdown",
   "id": "2e523ceb",
   "metadata": {},
   "source": [
    "# imports"
   ]
  },
  {
   "cell_type": "code",
   "execution_count": 1,
   "id": "e0db4bd0",
   "metadata": {},
   "outputs": [
    {
     "name": "stderr",
     "output_type": "stream",
     "text": [
      "[nltk_data] Downloading package stopwords to /home/amh418/nltk_data...\n",
      "[nltk_data]   Package stopwords is already up-to-date!\n",
      "[nltk_data] Downloading package wordnet to /home/amh418/nltk_data...\n",
      "[nltk_data]   Package wordnet is already up-to-date!\n",
      "[nltk_data] Downloading package omw-1.4 to /home/amh418/nltk_data...\n",
      "[nltk_data]   Package omw-1.4 is already up-to-date!\n",
      "[nltk_data] Downloading package averaged_perceptron_tagger to\n",
      "[nltk_data]     /home/amh418/nltk_data...\n",
      "[nltk_data]   Package averaged_perceptron_tagger is already up-to-\n",
      "[nltk_data]       date!\n",
      "/home/amh418/.local/lib/python3.8/site-packages/rpy2/robjects/pandas2ri.py:14: FutureWarning: pandas.core.index is deprecated and will be removed in a future version. The public classes are available in the top-level namespace.\n",
      "  from pandas.core.index import Index as PandasIndex\n"
     ]
    }
   ],
   "source": [
    "from pre_processing import remove_html_tags, preprocess_data, prepare_corpus\n",
    "from post_processing import topic_selection\n",
    "from rpy2 import robjects #loading R inside Python\n",
    "#importing functions to read pandas DF\n",
    "from rpy2.robjects import pandas2ri\n",
    "pandas2ri.activate()\n",
    "from rpy2.robjects.packages import importr\n",
    "from rpy2.robjects.conversion import localconverter\n",
    "\n",
    "import pandas as pd\n",
    "\n",
    "import numpy as np\n",
    "\n",
    "#import R base library\n",
    "base = importr('base')\n",
    "\n",
    "mallet_path = 'mallet' #'mallet for mac-os"
   ]
  },
  {
   "cell_type": "markdown",
   "id": "e54a1689",
   "metadata": {},
   "source": [
    "# Loading data from SQL database\n",
    "\n",
    "First creating a connection\n",
    "\n",
    "**In order to create a connection from anywhere in LU network you need to run the command below in terminal. Replace your username with amh418 in the command below.**\n",
    "\n",
    "ssh -L 3306:127.0.0.1:3306 -N -f amh418@128.180.111.76   #it will ask for lehigh pass\n",
    "\n",
    "on network (128.180.111.76)\n",
    "outside the network (ssh.lehigh.edu)\n",
    "\n",
    "**if you need to kill to SSH forwarding use the link below**\n",
    "\n",
    "https://superuser.com/questions/87014/how-do-i-remove-an-ssh-forwarded-port\n"
   ]
  },
  {
   "cell_type": "code",
   "execution_count": 2,
   "id": "5c5380dc",
   "metadata": {},
   "outputs": [],
   "source": [
    "import mysql.connector\n",
    "\n",
    "#connecting to DB\n",
    "cnx = mysql.connector.connect(user='push', password='ElI)g!LDOBIwM)%*5o5{dbfz('\n",
    "                              ,host='127.0.0.1',database='edml')"
   ]
  },
  {
   "cell_type": "markdown",
   "id": "352f4014",
   "metadata": {},
   "source": [
    "Retreiving all the posts"
   ]
  },
  {
   "cell_type": "code",
   "execution_count": 3,
   "id": "52bbc140",
   "metadata": {},
   "outputs": [
    {
     "name": "stdout",
     "output_type": "stream",
     "text": [
      "10873 posts were retreived\n"
     ]
    }
   ],
   "source": [
    "cursor = cnx.cursor() #making a cursor to execute a SQL command\n",
    "cursor.execute(\"select * from post\") #execute a command\n",
    "myresult = cursor.fetchall() #get all the results \n",
    "print('{0} posts were retreived'.format(len(myresult))) "
   ]
  },
  {
   "cell_type": "markdown",
   "id": "a86f02c3",
   "metadata": {},
   "source": [
    "# preprocessing the data\n",
    "\n",
    "First, removing html tags"
   ]
  },
  {
   "cell_type": "markdown",
   "id": "43817682",
   "metadata": {},
   "source": [
    "prepare the corupus"
   ]
  },
  {
   "cell_type": "code",
   "execution_count": 4,
   "id": "8b4aa6d9",
   "metadata": {},
   "outputs": [],
   "source": [
    "#removing tags from texts\n",
    "proc_texts = [remove_html_tags(i[3]) for i in myresult]\n",
    "#pre_processing and tokenizing docs\n",
    "pre_processed_docs,orig_docs = preprocess_data(proc_texts)\n",
    "#attaching (id,original_text,pre_processed_text,date,url) together\n",
    "id_text = [(myresult[orig_docs[i][1]][0],orig_docs[i][0],pre_processed_docs[i],\n",
    "            myresult[orig_docs[i][1]][4],myresult[orig_docs[i][1]][5]) for i in range(len(orig_docs))]\n",
    "\n",
    "# vocab_dict, doc_term_matrix = prepare_corpus(pre_processed_docs) ==> we don't need prepare corpus as we are passing this to LDA and STM R and there they will do tokenization \n",
    "\n",
    "#creat a pandas DF with one column as text, one column as original text, one column as SQL post-id, etc.\n",
    "text_df = pd.DataFrame(zip([i[0] for i in id_text],[' '.join(i[2]) for i in id_text],\n",
    "                           [i[1] for i in id_text],[i[3] for i in id_text],[i[4] for i in id_text]),\n",
    "                       columns=['id','text','original_text','date','url'])"
   ]
  },
  {
   "cell_type": "code",
   "execution_count": 5,
   "id": "c7edddb6-c596-4764-8178-11c526c5b3bf",
   "metadata": {},
   "outputs": [
    {
     "name": "stdout",
     "output_type": "stream",
     "text": [
      "10414\n",
      "10065\n"
     ]
    }
   ],
   "source": [
    "#removing duplicates only if necessary\n",
    "print(len(text_df))\n",
    "text_df = text_df.drop_duplicates(subset=['text'])\n",
    "print(len(text_df))"
   ]
  },
  {
   "cell_type": "markdown",
   "id": "b27dde94",
   "metadata": {},
   "source": [
    "# Running topic modeling (with or without evaluation)"
   ]
  },
  {
   "cell_type": "code",
   "execution_count": 5,
   "id": "f4da0367-4f0e-4a69-bc69-508a5ea0608c",
   "metadata": {},
   "outputs": [],
   "source": [
    "# from rpy2.robjects.packages import importr\n",
    "# utils = importr('utils')\n",
    "\n",
    "# utils.install_packages('stm',repos=\"https://cloud.r-project.org\")"
   ]
  },
  {
   "cell_type": "code",
   "execution_count": 9,
   "id": "9e82ed81",
   "metadata": {
    "scrolled": true,
    "tags": []
   },
   "outputs": [
    {
     "name": "stderr",
     "output_type": "stream",
     "text": [
      "/home/amh418/.local/lib/python3.8/site-packages/rpy2/robjects/pandas2ri.py:53: FutureWarning: iteritems is deprecated and will be removed in a future version. Use .items instead.\n",
      "  for name, values in obj.iteritems():\n",
      "R[write to console]: Loading required package: stm\n",
      "\n",
      "R[write to console]: Error in (function (docs, topic_n = 10, verbose = F, reportevery = 5,  : \n",
      "  stm package is not installed! You need to isntall this package to continue.\n",
      "\n",
      "R[write to console]: In addition: \n",
      "R[write to console]: Warning messages:\n",
      "\n",
      "R[write to console]: 1: \n",
      "R[write to console]: In (function (pkgs, lib, repos = getOption(\"repos\"), contriburl = contrib.url(repos,  :\n",
      "R[write to console]: \n",
      " \n",
      "R[write to console]:  installation of package ‘quanteda’ had non-zero exit status\n",
      "\n",
      "R[write to console]: 2: \n",
      "R[write to console]: In (function (pkgs, lib, repos = getOption(\"repos\"), contriburl = contrib.url(repos,  :\n",
      "R[write to console]: \n",
      " \n",
      "R[write to console]:  installation of package ‘stm’ had non-zero exit status\n",
      "\n",
      "R[write to console]: 3: \n",
      "R[write to console]: In library(package, lib.loc = lib.loc, character.only = TRUE, logical.return = TRUE,  :\n",
      "R[write to console]: \n",
      " \n",
      "R[write to console]:  there is no package called ‘stm’\n",
      "\n"
     ]
    },
    {
     "ename": "RRuntimeError",
     "evalue": "Error in (function (docs, topic_n = 10, verbose = F, reportevery = 5,  : \n  stm package is not installed! You need to isntall this package to continue.\n",
     "output_type": "error",
     "traceback": [
      "\u001b[0;31m---------------------------------------------------------------------------\u001b[0m",
      "\u001b[0;31mRRuntimeError\u001b[0m                             Traceback (most recent call last)",
      "\u001b[0;32m/share/ceph/scratch/amh418/10413175/ipykernel_2563535/2354855050.py\u001b[0m in \u001b[0;36m<module>\u001b[0;34m\u001b[0m\n\u001b[1;32m     59\u001b[0m     \u001b[0;32melse\u001b[0m\u001b[0;34m:\u001b[0m\u001b[0;34m\u001b[0m\u001b[0;34m\u001b[0m\u001b[0m\n\u001b[1;32m     60\u001b[0m         \u001b[0mrobjects\u001b[0m\u001b[0;34m.\u001b[0m\u001b[0mr\u001b[0m\u001b[0;34m.\u001b[0m\u001b[0msource\u001b[0m\u001b[0;34m(\u001b[0m\u001b[0;34m'stm.R'\u001b[0m\u001b[0;34m)\u001b[0m\u001b[0;34m\u001b[0m\u001b[0;34m\u001b[0m\u001b[0m\n\u001b[0;32m---> 61\u001b[0;31m         ans = robjects.r.run_stm(docs = text_df,topic_n=model_spec['K'],max_itr=model_spec['epochs'],\n\u001b[0m\u001b[1;32m     62\u001b[0m                                  \u001b[0mprevalence\u001b[0m\u001b[0;34m=\u001b[0m\u001b[0mmodel_spec\u001b[0m\u001b[0;34m[\u001b[0m\u001b[0;34m'prevalence'\u001b[0m\u001b[0;34m]\u001b[0m\u001b[0;34m,\u001b[0m\u001b[0mcontent\u001b[0m\u001b[0;34m=\u001b[0m\u001b[0mmodel_spec\u001b[0m\u001b[0;34m[\u001b[0m\u001b[0;34m'content'\u001b[0m\u001b[0;34m]\u001b[0m\u001b[0;34m,\u001b[0m\u001b[0;34m\u001b[0m\u001b[0;34m\u001b[0m\u001b[0m\n\u001b[1;32m     63\u001b[0m                                  \u001b[0mmodel_type\u001b[0m \u001b[0;34m=\u001b[0m \u001b[0mmodel_spec\u001b[0m\u001b[0;34m[\u001b[0m\u001b[0;34m'pre_trained_model'\u001b[0m\u001b[0;34m]\u001b[0m\u001b[0;34m,\u001b[0m\u001b[0;34m\u001b[0m\u001b[0;34m\u001b[0m\u001b[0m\n",
      "\u001b[0;32m~/.local/lib/python3.8/site-packages/rpy2/robjects/functions.py\u001b[0m in \u001b[0;36m__call__\u001b[0;34m(self, *args, **kwargs)\u001b[0m\n\u001b[1;32m    189\u001b[0m                 \u001b[0mv\u001b[0m \u001b[0;34m=\u001b[0m \u001b[0mkwargs\u001b[0m\u001b[0;34m.\u001b[0m\u001b[0mpop\u001b[0m\u001b[0;34m(\u001b[0m\u001b[0mk\u001b[0m\u001b[0;34m)\u001b[0m\u001b[0;34m\u001b[0m\u001b[0;34m\u001b[0m\u001b[0m\n\u001b[1;32m    190\u001b[0m                 \u001b[0mkwargs\u001b[0m\u001b[0;34m[\u001b[0m\u001b[0mr_k\u001b[0m\u001b[0;34m]\u001b[0m \u001b[0;34m=\u001b[0m \u001b[0mv\u001b[0m\u001b[0;34m\u001b[0m\u001b[0;34m\u001b[0m\u001b[0m\n\u001b[0;32m--> 191\u001b[0;31m         return (super(SignatureTranslatedFunction, self)\n\u001b[0m\u001b[1;32m    192\u001b[0m                 .__call__(*args, **kwargs))\n\u001b[1;32m    193\u001b[0m \u001b[0;34m\u001b[0m\u001b[0m\n",
      "\u001b[0;32m~/.local/lib/python3.8/site-packages/rpy2/robjects/functions.py\u001b[0m in \u001b[0;36m__call__\u001b[0;34m(self, *args, **kwargs)\u001b[0m\n\u001b[1;32m    119\u001b[0m             \u001b[0;32melse\u001b[0m\u001b[0;34m:\u001b[0m\u001b[0;34m\u001b[0m\u001b[0;34m\u001b[0m\u001b[0m\n\u001b[1;32m    120\u001b[0m                 \u001b[0mnew_kwargs\u001b[0m\u001b[0;34m[\u001b[0m\u001b[0mk\u001b[0m\u001b[0;34m]\u001b[0m \u001b[0;34m=\u001b[0m \u001b[0mconversion\u001b[0m\u001b[0;34m.\u001b[0m\u001b[0mpy2rpy\u001b[0m\u001b[0;34m(\u001b[0m\u001b[0mv\u001b[0m\u001b[0;34m)\u001b[0m\u001b[0;34m\u001b[0m\u001b[0;34m\u001b[0m\u001b[0m\n\u001b[0;32m--> 121\u001b[0;31m         \u001b[0mres\u001b[0m \u001b[0;34m=\u001b[0m \u001b[0msuper\u001b[0m\u001b[0;34m(\u001b[0m\u001b[0mFunction\u001b[0m\u001b[0;34m,\u001b[0m \u001b[0mself\u001b[0m\u001b[0;34m)\u001b[0m\u001b[0;34m.\u001b[0m\u001b[0m__call__\u001b[0m\u001b[0;34m(\u001b[0m\u001b[0;34m*\u001b[0m\u001b[0mnew_args\u001b[0m\u001b[0;34m,\u001b[0m \u001b[0;34m**\u001b[0m\u001b[0mnew_kwargs\u001b[0m\u001b[0;34m)\u001b[0m\u001b[0;34m\u001b[0m\u001b[0;34m\u001b[0m\u001b[0m\n\u001b[0m\u001b[1;32m    122\u001b[0m         \u001b[0mres\u001b[0m \u001b[0;34m=\u001b[0m \u001b[0mconversion\u001b[0m\u001b[0;34m.\u001b[0m\u001b[0mrpy2py\u001b[0m\u001b[0;34m(\u001b[0m\u001b[0mres\u001b[0m\u001b[0;34m)\u001b[0m\u001b[0;34m\u001b[0m\u001b[0;34m\u001b[0m\u001b[0m\n\u001b[1;32m    123\u001b[0m         \u001b[0;32mreturn\u001b[0m \u001b[0mres\u001b[0m\u001b[0;34m\u001b[0m\u001b[0;34m\u001b[0m\u001b[0m\n",
      "\u001b[0;32m~/.local/lib/python3.8/site-packages/rpy2/rinterface_lib/conversion.py\u001b[0m in \u001b[0;36m_\u001b[0;34m(*args, **kwargs)\u001b[0m\n\u001b[1;32m     26\u001b[0m \u001b[0;32mdef\u001b[0m \u001b[0m_cdata_res_to_rinterface\u001b[0m\u001b[0;34m(\u001b[0m\u001b[0mfunction\u001b[0m\u001b[0;34m)\u001b[0m\u001b[0;34m:\u001b[0m\u001b[0;34m\u001b[0m\u001b[0;34m\u001b[0m\u001b[0m\n\u001b[1;32m     27\u001b[0m     \u001b[0;32mdef\u001b[0m \u001b[0m_\u001b[0m\u001b[0;34m(\u001b[0m\u001b[0;34m*\u001b[0m\u001b[0margs\u001b[0m\u001b[0;34m,\u001b[0m \u001b[0;34m**\u001b[0m\u001b[0mkwargs\u001b[0m\u001b[0;34m)\u001b[0m\u001b[0;34m:\u001b[0m\u001b[0;34m\u001b[0m\u001b[0;34m\u001b[0m\u001b[0m\n\u001b[0;32m---> 28\u001b[0;31m         \u001b[0mcdata\u001b[0m \u001b[0;34m=\u001b[0m \u001b[0mfunction\u001b[0m\u001b[0;34m(\u001b[0m\u001b[0;34m*\u001b[0m\u001b[0margs\u001b[0m\u001b[0;34m,\u001b[0m \u001b[0;34m**\u001b[0m\u001b[0mkwargs\u001b[0m\u001b[0;34m)\u001b[0m\u001b[0;34m\u001b[0m\u001b[0;34m\u001b[0m\u001b[0m\n\u001b[0m\u001b[1;32m     29\u001b[0m         \u001b[0;31m# TODO: test cdata is of the expected CType\u001b[0m\u001b[0;34m\u001b[0m\u001b[0;34m\u001b[0m\u001b[0;34m\u001b[0m\u001b[0m\n\u001b[1;32m     30\u001b[0m         \u001b[0;32mreturn\u001b[0m \u001b[0m_cdata_to_rinterface\u001b[0m\u001b[0;34m(\u001b[0m\u001b[0mcdata\u001b[0m\u001b[0;34m)\u001b[0m\u001b[0;34m\u001b[0m\u001b[0;34m\u001b[0m\u001b[0m\n",
      "\u001b[0;32m~/.local/lib/python3.8/site-packages/rpy2/rinterface.py\u001b[0m in \u001b[0;36m__call__\u001b[0;34m(self, *args, **kwargs)\u001b[0m\n\u001b[1;32m    783\u001b[0m                     error_occured))\n\u001b[1;32m    784\u001b[0m             \u001b[0;32mif\u001b[0m \u001b[0merror_occured\u001b[0m\u001b[0;34m[\u001b[0m\u001b[0;36m0\u001b[0m\u001b[0;34m]\u001b[0m\u001b[0;34m:\u001b[0m\u001b[0;34m\u001b[0m\u001b[0;34m\u001b[0m\u001b[0m\n\u001b[0;32m--> 785\u001b[0;31m                 \u001b[0;32mraise\u001b[0m \u001b[0membedded\u001b[0m\u001b[0;34m.\u001b[0m\u001b[0mRRuntimeError\u001b[0m\u001b[0;34m(\u001b[0m\u001b[0m_rinterface\u001b[0m\u001b[0;34m.\u001b[0m\u001b[0m_geterrmessage\u001b[0m\u001b[0;34m(\u001b[0m\u001b[0;34m)\u001b[0m\u001b[0;34m)\u001b[0m\u001b[0;34m\u001b[0m\u001b[0;34m\u001b[0m\u001b[0m\n\u001b[0m\u001b[1;32m    786\u001b[0m         \u001b[0;32mreturn\u001b[0m \u001b[0mres\u001b[0m\u001b[0;34m\u001b[0m\u001b[0;34m\u001b[0m\u001b[0m\n\u001b[1;32m    787\u001b[0m \u001b[0;34m\u001b[0m\u001b[0m\n",
      "\u001b[0;31mRRuntimeError\u001b[0m: Error in (function (docs, topic_n = 10, verbose = F, reportevery = 5,  : \n  stm package is not installed! You need to isntall this package to continue.\n"
     ]
    }
   ],
   "source": [
    "is_eval = False #not evaluating the model\n",
    "#need to provide number of topics and other specification\n",
    "# model_spec = {'name':'LDA','K':90,'epochs':2000,'burnin_iteration':20,'after_iteration_burnin':50,\n",
    "#              'save_flag':True,'save_path':'LDA_test'}\n",
    "model_spec = {'name':'STM','K':90,'epochs':500,'prevalence':'','content':'','pre_trained_model': 'LDA',\\\n",
    "                'burnin_iteration':20,'LDA_epochs':50,'save_flag':True}\n",
    "\n",
    "if model_spec['name'] == 'LDA':\n",
    "    if is_eval:\n",
    "        #loading LDA mallet evaluation score\n",
    "        from lda_mallet import lda_score\n",
    "        from gensim.corpora import Dictionary\n",
    "        import pickle\n",
    "        from pre_processing import prepare_corpus\n",
    "        #creating data vocab\n",
    "        dict = Dictionary([i.split() for i in list(text_df.text)])\n",
    "        #saving it to pass it to score object\n",
    "        with open ('./data/ED_vocab.obj','wb') as vfile:\n",
    "            pickle.dump(dict,vfile)\n",
    "        wiki_vocab_dict_path = './data/wiki_sampled5p_vocab.obj'\n",
    "        with open ('./data/wiki_sampled5p_vocab.obj','rb') as vfile:\n",
    "            wiki_vocab_dict = pickle.load(vfile)\n",
    "\n",
    "\n",
    "        npmis = []\n",
    "        for n_topics in range(2,20,1):\n",
    "            #removing terms that are not in the Wiki Vocab\n",
    "            #pre_processing and tokenizing docs\n",
    "            pre_processed_docs,_ = preprocess_data(list(text_df.text),extra_stopwords=\\\n",
    "                                                           set(dict.values()).difference(set(wiki_vocab_dict.values()))\\\n",
    "                                                   .union(['denying']))\n",
    "            #preparing corpus\n",
    "            vocab_dict,doc_term_mat = prepare_corpus(pre_processed_docs)\n",
    "            #temp save of vocab file\n",
    "            with open ('./data/ED_vocab.tmp','wb') as vfile:\n",
    "                pickle.dump(vocab_dict,vfile)\n",
    "            \n",
    "            scorer = lda_score(num_topics=n_topics,alpha=10,optimize_interval=10,iterations=2000,wiki_path='./data/wiki_sampled_5p.txt',\n",
    "                      db_path = './data/wiki_full/',vocab_dict_path = './data/ED_vocab.tmp', \n",
    "                      wiki_vocab_dict_path=wiki_vocab_dict_path,npmi_skip_threshold=0.30)\n",
    "            \n",
    "            scorer.fit(doc_term_mat)#fitting an LDA Mallet\n",
    "            npmis.append([n_topics,scorer.score()])\n",
    "    else: \n",
    "        robjects.r.source('LDA_R.R')\n",
    "        ans = robjects.r.findTopics(docs = text_df,n_topics = model_spec['K'],epochs = model_spec['epochs'],\n",
    "                                    burnin_iteration = model_spec['burnin_iteration'],\n",
    "                                    after_iteration_burnin =  model_spec['after_iteration_burnin'],\n",
    "                                    save_flag=model_spec['save_flag'],save_path = model_spec['save_path'])\n",
    "        top_terms = np.asarray(ans[1])\n",
    "        topic_doc_dist = np.asarray(ans[0][0]).T\n",
    "        term_probab = ans[0][1]\n",
    "        topic_vocab = ans[0][2]\n",
    "        \n",
    "        \n",
    "elif model_spec['name'] == 'STM':\n",
    "    if is_eval:\n",
    "        pass\n",
    "    else: \n",
    "        robjects.r.source('stm.R')\n",
    "        ans = robjects.r.run_stm(docs = text_df,topic_n=model_spec['K'],max_itr=model_spec['epochs'],\n",
    "                                 prevalence=model_spec['prevalence'],content=model_spec['content'],\n",
    "                                 model_type = model_spec['pre_trained_model'],\n",
    "                                 nits = model_spec['LDA_epochs'],burnin = model_spec['burnin_iteration'],\n",
    "                                 save_flag = True)\n",
    "        top_terms = np.asarray(ans[1]).reshape(model_spec['K'],50,order='F')\n",
    "        topic_doc_dist = 0.00"
   ]
  },
  {
   "cell_type": "code",
   "execution_count": 8,
   "id": "ec8392f7",
   "metadata": {},
   "outputs": [
    {
     "data": {
      "text/plain": [
       "<Axes: xlabel='n_topics', ylabel='npmi_average'>"
      ]
     },
     "execution_count": 8,
     "metadata": {},
     "output_type": "execute_result"
    },
    {
     "data": {
      "image/png": "[encoded data removed]",
      "text/plain": [
       "<Figure size 640x480 with 1 Axes>"
      ]
     },
     "metadata": {},
     "output_type": "display_data"
    }
   ],
   "source": [
    "import seaborn as sns\n",
    "df = pd.DataFrame(npmis,columns=['n_topics','npmi_average'])\n",
    "sns.lineplot(data=df,x='n_topics',y='npmi_average')"
   ]
  },
  {
   "cell_type": "markdown",
   "id": "bb4ffa8c",
   "metadata": {},
   "source": [
    "# Post-processing"
   ]
  },
  {
   "cell_type": "markdown",
   "id": "04f5559d",
   "metadata": {},
   "source": [
    "topic distribution and topic selection\n",
    "\n",
    "for topic selection I used elbow method (selecting top topics till we get to the highest gap)"
   ]
  },
  {
   "cell_type": "code",
   "execution_count": 11,
   "id": "77ca61e0",
   "metadata": {},
   "outputs": [],
   "source": [
    "#topic selection\n",
    "topics4docs,topics4docs_bin = topic_selection(topic_doc_dist)\n",
    "\n",
    "#topic distribution addition\n",
    "for i in range(topic_doc_dist.shape[1]):\n",
    "    text_df['Topic{0}_dist'.format(i)] = topic_doc_dist[:,i]\n",
    "#topic selection addition\n",
    "for i in range(topic_doc_dist.shape[1]):\n",
    "    text_df['Topic{0}_select'.format(i)] = topics4docs_bin[:,i]\n",
    "\n",
    "\n",
    "text_df.to_csv('document_topic_info.csv')"
   ]
  },
  {
   "cell_type": "code",
   "execution_count": 12,
   "id": "f2f7c38d",
   "metadata": {},
   "outputs": [],
   "source": [
    "#storing top terms\n",
    "topic_df = pd.DataFrame(data=top_terms,columns=['top_terms'])\n",
    "topic_df.to_csv('topic_terms.csv')"
   ]
  },
  {
   "cell_type": "markdown",
   "id": "30bd2d7b",
   "metadata": {},
   "source": [
    "Running Coherence"
   ]
  },
  {
   "cell_type": "code",
   "execution_count": 14,
   "id": "f2b81c98",
   "metadata": {},
   "outputs": [
    {
     "name": "stdout",
     "output_type": "stream",
     "text": [
      "Load NPMI coherence DB. \n",
      "Number of keys : 1934666\n",
      "skipping 0 missed term-pairs < allowed misses = 0.05\n"
     ]
    }
   ],
   "source": [
    "from lda_mallet import lda_score\n",
    "import pickle\n",
    "\n",
    "# import importlib\n",
    "# importlib.reload(scorer.score_per_topic(None))\n",
    "\n",
    "#initiate scorer\n",
    "scorer = lda_score(wiki_path='./data/wiki_sampled_5p.txt',db_path='./data/wiki_full/')\n",
    "\n",
    "'''\n",
    "loading wikipedia vocab to \n",
    "    1. remove the top terms that are not in the wikipedia\n",
    "    2. use for gensim.coherence vocab argument in case any pairs are not in the DB\n",
    "'''\n",
    "with open('./data/wiki_sampled5p_vocab.obj','rb') as f:\n",
    "    scorer.wiki_vocab_dict = pickle.load(f)\n",
    "    \n",
    "#add all_top_terms (except the ones that are not in the wiki_pedia vocab)\n",
    "scorer.all_top_terms = [[t for t in top_terms[i].split() if t in scorer.wiki_vocab_dict.token2id.keys()] for i in range(len(top_terms))]\n",
    "#the output is a dictionary: the key is 0-n_topics and associated with npmi score for top-k topics \n",
    "#in which k=5,10,15,20\n",
    "topic_scores = scorer.score_per_topic(None)\n",
    "#getting avergae of multiple k for each topic\n",
    "topic_score_avg = [np.mean([vi for ki,vi in v.items()]) for k,v in topic_scores.items()]"
   ]
  },
  {
   "cell_type": "markdown",
   "id": "801bb410-2e26-44e6-89f1-188f919359af",
   "metadata": {},
   "source": [
    "# soring top terms and top documents"
   ]
  },
  {
   "cell_type": "code",
   "execution_count": 13,
   "id": "5f6826c8-60bd-4d00-88bc-c2e908040e47",
   "metadata": {},
   "outputs": [],
   "source": [
    "show_top_doc = 10\n",
    "show_top_terms = 10\n",
    "file_name = 'top_documents_lda9_no_dups.txt'\n",
    "\n",
    "#writing the results in a text file\n",
    "with open(file_name,'w') as tfile:\n",
    "    for i in range(len(top_terms)):\n",
    "        #writing top terms\n",
    "        tfile.write('Topic '+ str(i) + ' : '+'\\n'+'top terms: '+', '.join(top_terms[i].split()[:show_top_terms])+'\\n')\n",
    "        #selecting top documents\n",
    "        top_docs = text_df.sort_values('Topic{0}_dist'.format(i),ascending=False).iloc[0:show_top_doc,:]\n",
    "        for _,row in top_docs.iterrows():\n",
    "            tfile.write('Doc ID: {0}, distribution: {1} ; {2} \\n'.format(row.id,row['Topic{0}_dist'.format(i)],row['original_text']))\n",
    "            tfile.write(''.join(['-']*60)+'\\n')\n",
    "        "
   ]
  },
  {
   "cell_type": "markdown",
   "id": "1b90b652",
   "metadata": {},
   "source": [
    "# Storing to DB"
   ]
  },
  {
   "cell_type": "markdown",
   "id": "c380bacb",
   "metadata": {},
   "source": [
    "The process is described in the code cell below\n",
    "\n",
    "**Used the link below to insert and load blob**\n",
    "\n",
    "https://pynative.com/python-mysql-blob-insert-retrieve-file-image-as-a-blob-in-mysql/"
   ]
  },
  {
   "cell_type": "code",
   "execution_count": 15,
   "id": "92cde551",
   "metadata": {},
   "outputs": [
    {
     "data": {
      "text/plain": [
       "'\\n2. for each topic\\n    3. save topic\\n    4. retreive the saved topic_id and save r_topic_model\\n    5. for each doc save r_topic_post\\n'"
      ]
     },
     "execution_count": 15,
     "metadata": {},
     "output_type": "execute_result"
    }
   ],
   "source": [
    "#1. save model id (for LDA save as zip and then save)\n",
    "'''\n",
    "2. for each topic\n",
    "    3. save topic\n",
    "    4. retreive the saved topic_id and save r_topic_model\n",
    "    5. for each doc save r_topic_post\n",
    "'''\n",
    "###table format\n",
    "#model: model_id, data, model_type, last_used?\n",
    "# topic: topic_id, coherence, term1-50, probab1-50\n",
    "#r_topic_model: topic_id, model_id \n",
    "#r_topic_post: topic_id, post_id, proportion\n",
    "\n",
    "##check the columns of a table\n",
    "# cursor.execute(\"show columns from r_topic_post\") #execute a command\n",
    "# myresult = cursor.fetchall() #get all the results \n",
    "# myresult"
   ]
  },
  {
   "cell_type": "code",
   "execution_count": 16,
   "id": "404595ec",
   "metadata": {},
   "outputs": [],
   "source": [
    "#saving the model first\n",
    "#model: model_id, data, model_type, last_used?\n",
    "if model_spec['name'].lower() == 'lda':\n",
    "    #read binary data of the saved model\n",
    "    with open('MalletState_ '+model_spec['save_path']+' .gz','rb') as model_file:\n",
    "        binary_data = model_file.read()\n",
    "else:\n",
    "    pass #write codes for other models\n",
    "\n",
    "#storing the model\n",
    "cursor.execute(\" INSERT INTO model (data, model_type) VALUES (%s,%s)\",\n",
    "                    (binary_data,model_spec['name']))"
   ]
  },
  {
   "cell_type": "code",
   "execution_count": 17,
   "id": "2774c4ba",
   "metadata": {},
   "outputs": [],
   "source": [
    "#load the model with model id to use for next steps\n",
    "cursor.execute(\"Select * from model ORDER BY model_id DESC LIMIT 1\")\n",
    "result = cursor.fetchall()\n",
    "model_id,model_name = result[0][0],result[0][2]"
   ]
  },
  {
   "cell_type": "code",
   "execution_count": 18,
   "id": "dbecde81",
   "metadata": {},
   "outputs": [],
   "source": [
    "#saving each topic separately alongside relation to model table and post table\n",
    "for k in range(0,model_spec['K']):#iterating over each topic\n",
    "    #getting topic top terms\n",
    "    topic_top_terms = top_terms[k].split()\n",
    "    #we have to find the index in vocab (ans[0][2]) and then call ans[0][1][k][found_index] to get\n",
    "    #the probability of each term\n",
    "    probab = [float(term_probab[k][i]) for w in topic_top_terms for i in range(len(topic_vocab)) if w == topic_vocab[i]]\n",
    "    #adding coherence score, top terms and their probabilities\n",
    "    vals = tuple([float(topic_score_avg[k])]) + tuple(topic_top_terms) + tuple(probab)\n",
    "    #save each topic seperately\n",
    "    cursor.execute(\" INSERT INTO topic(coherence,{0},{1}) VALUES (%s,{2})\".format(\n",
    "                                        ','.join(['term'+str(i) for i in range(1,len(topic_top_terms)+1)]),\n",
    "                                        ','.join(['prob'+str(i) for i in range(1,len(topic_top_terms)+1)]),\n",
    "                                        ','.join(['%s']*(len(topic_top_terms)*2))),vals)\n",
    "    \n",
    "    '''\n",
    "    retreiving saved topic_id and save an entry for topic_id,model_id in topic_model_r table\n",
    "    '''\n",
    "    #load the latest stored topic\n",
    "    cursor.execute(\"Select * from topic ORDER BY topic_id DESC LIMIT 1\")\n",
    "    result = cursor.fetchall()\n",
    "    topic_id = result[0][0]\n",
    "    #save the topic_id,model_id in r_topic_model table \n",
    "    cursor.execute(\" INSERT INTO r_topic_model(topic_id,model_id) VALUES (%s,%s)\",\n",
    "                  (topic_id,model_id,))\n",
    "    \n",
    "    '''\n",
    "    saving topic-document proportion for each topic-doc pairs\n",
    "    '''\n",
    "    #r_topic_post : topic_id, post_id, proportion\n",
    "    doc_counter = 0\n",
    "    for doc_id in list(text_df.id):\n",
    "        cursor.execute(\" INSERT INTO r_topic_post(topic_id,post_id,proportion) VALUES (%s,%s,%s)\",\n",
    "                  (topic_id,doc_id,float(topic_doc_dist[doc_counter,k])))\n",
    "        doc_counter += 1\n",
    "        "
   ]
  },
  {
   "cell_type": "code",
   "execution_count": 19,
   "id": "52acbb94",
   "metadata": {},
   "outputs": [],
   "source": [
    "cnx.commit()"
   ]
  },
  {
   "cell_type": "code",
   "execution_count": 21,
   "id": "a7d5d7d6",
   "metadata": {},
   "outputs": [
    {
     "data": {
      "text/plain": [
       "[(11, Decimal('0.005300000')),\n",
       " (12, Decimal('0.223030000')),\n",
       " (13, Decimal('0.002400000')),\n",
       " (14, Decimal('0.007130000')),\n",
       " (15, Decimal('0.005350000')),\n",
       " (16, Decimal('0.012220000')),\n",
       " (17, Decimal('0.006210000')),\n",
       " (18, Decimal('0.005680000')),\n",
       " (19, Decimal('0.004940000')),\n",
       " (20, Decimal('0.727740000'))]"
      ]
     },
     "execution_count": 21,
     "metadata": {},
     "output_type": "execute_result"
    }
   ],
   "source": [
    "# cursor.execute(\"delete from r_topic_model\")\n",
    "# cursor.execute(\"delete from r_topic_post\")\n",
    "# cursor.execute(\"delete from topic\")\n",
    "# cursor.execute(\"delete from model\")\n",
    "\n",
    "# cursor.execute(\"select * from post\")\n",
    "# cursor.execute(\"SELECT DISTINCT user.* FROM user JOIN post ON user.user_id = post.user_id WHERE post.platform_type_id = %s\",('4',))\n",
    "# cursor.execute(\"SELECT * FROM post WHERE user_id = %s AND created BETWEEN %s AND %s;\",(3,'1/1/2023','1/1/2013',))\n",
    "# cursor.execute(\"SELECT r_topic_post.topic_id, AVG(r_topic_post.proportion) as average_proportion FROM r_topic_post JOIN r_topic_model ON r_topic_post.topic_id = r_topic_model.topic_id WHERE r_topic_post.post_id = %s AND r_topic_model.model_id = %s GROUP BY r_topic_post.topic_id;\",('1187','2',))\n",
    "# cursor.execute('select * from model')\n",
    "cursor.fetchall()"
   ]
  }
 ],
 "metadata": {
  "kernelspec": {
   "display_name": "Python 3 (ipykernel)",
   "language": "python",
   "name": "python3"
  },
  "language_info": {
   "codemirror_mode": {
    "name": "ipython",
    "version": 3
   },
   "file_extension": ".py",
   "mimetype": "text/x-python",
   "name": "python",
   "nbconvert_exporter": "python",
   "pygments_lexer": "ipython3",
   "version": "3.8.6"
  },
  "toc-autonumbering": false,
  "toc-showcode": true,
  "toc-showmarkdowntxt": false
 },
 "nbformat": 4,
 "nbformat_minor": 5
}
