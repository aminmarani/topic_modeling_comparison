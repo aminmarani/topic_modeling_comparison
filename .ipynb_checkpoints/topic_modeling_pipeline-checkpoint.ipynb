{
 "cells": [
  {
   "cell_type": "markdown",
   "id": "b68fda13",
   "metadata": {},
   "source": [
    "# topic modeling pipeline\n",
    "\n",
    "This notebook will walk you through:\n",
    "1. data reterival from SQL database\n",
    "2. Pre-processing data\n",
    "3. Running topic modeling (different models)\n",
    "4. post processing (including showing topics, topic-doc distribution, etc.)\n",
    "5. Storing results into DB"
   ]
  },
  {
   "cell_type": "markdown",
   "id": "2e523ceb",
   "metadata": {},
   "source": [
    "# imports"
   ]
  },
  {
   "cell_type": "code",
   "execution_count": 1,
   "id": "e0db4bd0",
   "metadata": {},
   "outputs": [
    {
     "name": "stderr",
     "output_type": "stream",
     "text": [
      "[nltk_data] Downloading package stopwords to /Users/das-\n",
      "[nltk_data]     lab/nltk_data...\n",
      "[nltk_data]   Package stopwords is already up-to-date!\n",
      "[nltk_data] Downloading package wordnet to /Users/das-lab/nltk_data...\n",
      "[nltk_data]   Package wordnet is already up-to-date!\n",
      "[nltk_data] Downloading package omw-1.4 to /Users/das-lab/nltk_data...\n",
      "[nltk_data]   Package omw-1.4 is already up-to-date!\n",
      "[nltk_data] Downloading package averaged_perceptron_tagger to\n",
      "[nltk_data]     /Users/das-lab/nltk_data...\n",
      "[nltk_data]   Package averaged_perceptron_tagger is already up-to-\n",
      "[nltk_data]       date!\n"
     ]
    }
   ],
   "source": [
    "from pre_processing import remove_html_tags, preprocess_data, prepare_corpus\n",
    "from pre_processing import transition_labeling\n",
    "from post_processing import topic_selection, date2days\n",
    "from rpy2 import robjects #loading R inside Python\n",
    "#importing functions to read pandas DF\n",
    "from rpy2.robjects import pandas2ri\n",
    "pandas2ri.activate()\n",
    "from rpy2.robjects.packages import importr\n",
    "from rpy2.robjects.conversion import localconverter\n",
    "\n",
    "import pandas as pd\n",
    "\n",
    "import numpy as np\n",
    "\n",
    "import os\n",
    "\n",
    "#import R base library\n",
    "base = importr('base')\n",
    "\n",
    "mallet_path = 'mallet' #'mallet for mac-os"
   ]
  },
  {
   "cell_type": "markdown",
   "id": "13cb4964-d329-4d96-aa88-711a12778482",
   "metadata": {},
   "source": [
    "loading stop words"
   ]
  },
  {
   "cell_type": "code",
   "execution_count": 2,
   "id": "ab65f8a7-7c52-4a8b-9a51-b2e86f5ad9ec",
   "metadata": {},
   "outputs": [],
   "source": [
    "#downloading github repo for down-sampling==> you only need this once!\n",
    "# !git clone https://github.com/aminmarani/authorless-tms.git"
   ]
  },
  {
   "cell_type": "code",
   "execution_count": 3,
   "id": "d0c7213d-b7d7-4d8e-9a8a-915a0aec712e",
   "metadata": {},
   "outputs": [
    {
     "data": {
      "text/plain": [
       "['duncan', 'fluffy', 'jack', 'jake', 'jim']"
      ]
     },
     "execution_count": 3,
     "metadata": {},
     "output_type": "execute_result"
    }
   ],
   "source": [
    "stop_words = []\n",
    "\n",
    "with open('freqPOS+Names.stop','r') as txtfile:\n",
    "    for r in txtfile:\n",
    "        stop_words.append(r.strip())\n",
    "        if \"'\" in r:#add the term without \"'\"; e.g., haven't & havent\n",
    "            stop_words.append(r.replace(\"'\",\"\").strip())\n",
    "\n",
    "#adding the selected stop_words\n",
    "stop_words.extend(['go','going','got','want','time','really','good','life','let','even','get',\n",
    "                  'always','answer','back','day','feel','love','need','never','people',\n",
    "                  'question','right','see','still','things','today','way','week'])\n",
    "\n",
    "stop_words[10:15]"
   ]
  },
  {
   "cell_type": "markdown",
   "id": "e54a1689",
   "metadata": {},
   "source": [
    "# Loading data from SQL database\n",
    "\n",
    "First creating a connection\n",
    "\n",
    "**In order to create a connection from anywhere in LU network you need to run the command below in terminal. Replace your username with amh418 in the command below.**\n",
    "\n",
    "ssh -L 3306:127.0.0.1:3306 -N -f amh418@128.180.111.76   #it will ask for lehigh pass\n",
    "\n",
    "on network (128.180.111.76)\n",
    "outside the network (ssh.lehigh.edu)\n",
    "\n",
    "**if you need to kill to SSH forwarding use the link below**\n",
    "\n",
    "https://superuser.com/questions/87014/how-do-i-remove-an-ssh-forwarded-port\n"
   ]
  },
  {
   "cell_type": "code",
   "execution_count": 4,
   "id": "5c5380dc",
   "metadata": {},
   "outputs": [],
   "source": [
    "import mysql.connector\n",
    "\n",
    "#connecting to DB\n",
    "cnx = mysql.connector.connect(user='push', password='ElI)g!LDOBIwM)%*5o5{dbfz('\n",
    "                              ,host='127.0.0.1',database='edml')"
   ]
  },
  {
   "cell_type": "markdown",
   "id": "352f4014",
   "metadata": {},
   "source": [
    "Retreiving all the posts\n",
    "\n",
    "**We are exlcuding recoverwithmeda for now**"
   ]
  },
  {
   "cell_type": "code",
   "execution_count": 6,
   "id": "52bbc140",
   "metadata": {},
   "outputs": [
    {
     "name": "stdout",
     "output_type": "stream",
     "text": [
      "8341 posts were retreived\n"
     ]
    }
   ],
   "source": [
    "cursor = cnx.cursor() #making a cursor to execute a SQL command\n",
    "# cursor.execute(\"select * from post\") #execute a command\n",
    "cursor.execute(\"select * from post where user_id != (select user_id from user where user_login='recoverwithmeda')\") #execute a command\n",
    "myresult = cursor.fetchall() #get all the results \n",
    "print('{0} posts were retreived'.format(len(myresult))) "
   ]
  },
  {
   "cell_type": "code",
   "execution_count": 7,
   "id": "1a69f6a8-ff63-477f-b2f2-42ac372200eb",
   "metadata": {},
   "outputs": [],
   "source": [
    "#loading user_id and user_name to convert id to user_name\n",
    "cursor.execute(\"select * from user\") #execute a command\n",
    "users = cursor.fetchall() #get all the results \n",
    "users = {i[0]:i[1] for i in users}\n",
    "myresult = [i[0:2] + tuple([users[i[2]]]) + i[3:] for i in myresult]"
   ]
  },
  {
   "cell_type": "code",
   "execution_count": 8,
   "id": "827d8114-96a1-4b9b-8968-b263f3d812ef",
   "metadata": {},
   "outputs": [
    {
     "name": "stdout",
     "output_type": "stream",
     "text": [
      "21338 posts were retreived\n"
     ]
    }
   ],
   "source": [
    "#concatenating the old dataset to the new one\n",
    "last_id = max([i[0] for i in myresult])+1\n",
    "myresult_ = [tuple([i[1]+last_id]+list(i[2:])) for i in pd.read_csv('./data/old_ed.csv',index_col=None).values]\n",
    "myresult += myresult_\n",
    "print('{0} posts were retreived'.format(len(myresult))) "
   ]
  },
  {
   "cell_type": "markdown",
   "id": "7d9e47f4-178f-4069-94a2-4f9bdd03caf1",
   "metadata": {},
   "source": [
    "Language detection\n",
    "\n",
    "keeping only English language posts/documents"
   ]
  },
  {
   "cell_type": "code",
   "execution_count": 9,
   "id": "eeedc182-9bd8-4d6a-a6fc-74e80619e864",
   "metadata": {},
   "outputs": [
    {
     "name": "stderr",
     "output_type": "stream",
     "text": [
      "100%|████████████████████████████████████| 21338/21338 [02:38<00:00, 135.05it/s]"
     ]
    },
    {
     "name": "stdout",
     "output_type": "stream",
     "text": [
      "after removing non-english posts,the size of the documents are: 17321\n"
     ]
    },
    {
     "name": "stderr",
     "output_type": "stream",
     "text": [
      "\n"
     ]
    }
   ],
   "source": [
    "from langdetect import detect\n",
    "from tqdm import tqdm\n",
    "\n",
    "\n",
    "# myresult = [s for s in myresult if len(remove_html_tags(s[3])) > 3 and detect(remove_html_tags(s[3]))=='en']\n",
    "t = []\n",
    "#removing tags and detecting language afterward\n",
    "for s in tqdm(myresult):\n",
    "    try:#in some case language detection may fail (emojies only, one word docs, etc.) ==> We don't keep those\n",
    "        if detect(remove_html_tags(s[3]))=='en':\n",
    "            t.append(s)\n",
    "    except:\n",
    "        pass #do nothing\n",
    "\n",
    "myresult = t[:]\n",
    "print('after removing non-english posts,the size of the documents are: {0}'.format(len(myresult)))"
   ]
  },
  {
   "cell_type": "markdown",
   "id": "a86f02c3",
   "metadata": {},
   "source": [
    "# preprocessing the data\n",
    "\n",
    "First, removing html tags"
   ]
  },
  {
   "cell_type": "markdown",
   "id": "43817682",
   "metadata": {},
   "source": [
    "prepare the corupus"
   ]
  },
  {
   "cell_type": "code",
   "execution_count": 10,
   "id": "8b4aa6d9",
   "metadata": {},
   "outputs": [],
   "source": [
    "import re\n",
    "\n",
    "#removing tags from texts \n",
    "proc_texts = [remove_html_tags(i[3]) for i in myresult]\n",
    "#remvoing post that  include tree_htem\n",
    "proc_texts = [re.sub(r\"\\{'comment'.*?\\}\",'',i) if \"tree_html\" in i else i for i in proc_texts]\n",
    "#pre_processing and tokenizing docs\n",
    "pre_processed_docs,orig_docs = preprocess_data(proc_texts,extra_stopwords=stop_words)\n",
    "#attaching (id,original_text,pre_processed_text,date,url) together\n",
    "id_text = [(myresult[orig_docs[i][1]][0],orig_docs[i][0],pre_processed_docs[i],\n",
    "            myresult[orig_docs[i][1]][4],myresult[orig_docs[i][1]][5],\n",
    "            myresult[orig_docs[i][1]][2]) for i in range(len(orig_docs))]\n",
    "\n",
    "# vocab_dict, doc_term_matrix = prepare_corpus(pre_processed_docs) ==> we don't need prepare corpus as we are passing this to LDA and STM R and there they will do tokenization \n",
    "\n",
    "#creat a pandas DF with one column as text, one column as original text, one column as SQL post-id, etc.\n",
    "text_df = pd.DataFrame(zip([i[0] for i in id_text],[' '.join(i[2]) for i in id_text],\n",
    "                           [i[1] for i in id_text],[i[3] for i in id_text],[i[4] for i in id_text],\n",
    "                          [i[5] for i in id_text]),\n",
    "                       columns=['id','text','original_text','date','url','blog'])"
   ]
  },
  {
   "cell_type": "code",
   "execution_count": 11,
   "id": "c7edddb6-c596-4764-8178-11c526c5b3bf",
   "metadata": {},
   "outputs": [
    {
     "name": "stdout",
     "output_type": "stream",
     "text": [
      "14054\n",
      "13360\n"
     ]
    }
   ],
   "source": [
    "#removing duplicates only if necessary\n",
    "print(len(text_df))\n",
    "text_df = text_df.drop_duplicates(subset=['text'])\n",
    "print(len(text_df))"
   ]
  },
  {
   "cell_type": "markdown",
   "id": "8c13108e-6f2e-4c56-ab98-b174c1cb459e",
   "metadata": {},
   "source": [
    "# Term Frequency\n",
    "\n",
    "Term frequency and Term/doc frequency\n",
    "\n",
    "**This is only analysis we already add stop words from these anlaysis to stop_words defined above**"
   ]
  },
  {
   "cell_type": "code",
   "execution_count": null,
   "id": "64249ace-b30f-4d68-82c2-3b93b2a7f98b",
   "metadata": {},
   "outputs": [],
   "source": [
    "import collections\n",
    "\n",
    "#extracting uni-grams\n",
    "terms = []\n",
    "for s in list(text_df.text):\n",
    "    terms.extend(s.split())\n",
    "\n",
    "#computing frequency of each term\n",
    "freqs = collections.Counter(terms)\n",
    "sorted(freqs.items(),key= lambda x:x[1],reverse=True )[0:10]\n",
    "# freqs"
   ]
  },
  {
   "cell_type": "code",
   "execution_count": 14,
   "id": "900ea647-ecf8-4c10-83bc-70bb7bb1a37a",
   "metadata": {},
   "outputs": [],
   "source": [
    "#terms-document proportion\n",
    "term_doc = {k:0 for k,v in freqs.items() if v>len(text_df)*0.05}\n",
    "\n",
    "#compute term_doc\n",
    "for s in list(text_df.text):\n",
    "    for k in term_doc.keys():\n",
    "        if k in s.split():\n",
    "            term_doc[k]+=1"
   ]
  },
  {
   "cell_type": "code",
   "execution_count": 15,
   "id": "58725777-2e08-43b3-9f2b-41254869ac46",
   "metadata": {},
   "outputs": [
    {
     "data": {
      "text/plain": [
       "{'body', 'eat', 'eating', 'food'}"
      ]
     },
     "execution_count": 15,
     "metadata": {},
     "output_type": "execute_result"
    }
   ],
   "source": [
    "#terms that appear in 20% or more of documents\n",
    "candids = {k:v for k,v in term_doc.items() if v>=len(text_df)*0.10}\n",
    "set(candids.keys())\n",
    "# selected_stop_words = set(candids.keys())\n",
    "# selected_stop_words "
   ]
  },
  {
   "cell_type": "markdown",
   "id": "c601a6d9-9596-4233-a5cb-8f9779df618c",
   "metadata": {},
   "source": [
    "# Blog distribution"
   ]
  },
  {
   "cell_type": "code",
   "execution_count": 16,
   "id": "502c301a-264a-4818-a8e5-46adaa395a73",
   "metadata": {},
   "outputs": [
    {
     "data": {
      "image/png": "[encoded data removed]",
      "text/plain": [
       "<Figure size 640x480 with 1 Axes>"
      ]
     },
     "metadata": {},
     "output_type": "display_data"
    }
   ],
   "source": [
    "from collections import Counter\n",
    "import seaborn as sns\n",
    "import matplotlib.pyplot as plt\n",
    "\n",
    "blog_dist = Counter(list(text_df.blog))\n",
    "sns.barplot(x=list(blog_dist.keys()),y=list(blog_dist.values()))\n",
    "a = plt.xticks(rotation=30,ha='right') \n",
    "# list(blog_dist.values())"
   ]
  },
  {
   "cell_type": "markdown",
   "id": "9a879e07-923a-4d8b-9c99-75f1577ef338",
   "metadata": {},
   "source": [
    "Processing documens for Topicalizer"
   ]
  },
  {
   "cell_type": "code",
   "execution_count": 18,
   "id": "ab71e427-2555-4d0f-a73a-7589a1cf5216",
   "metadata": {},
   "outputs": [],
   "source": [
    "# text_df[['date','original_text','url']].rename(columns={'original_text':'entry','url':'Link'}).to_csv('./data/processed_ed.csv')"
   ]
  },
  {
   "cell_type": "markdown",
   "id": "612c489c-ad92-4780-b239-f0c577f9a6ef",
   "metadata": {
    "jp-MarkdownHeadingCollapsed": true
   },
   "source": [
    "# Author down-sampling\n",
    "\n",
    "down-sampling terms that are more specific to an author"
   ]
  },
  {
   "cell_type": "code",
   "execution_count": 19,
   "id": "9a483557-f6c2-45de-9f5b-b33eddb0f51d",
   "metadata": {},
   "outputs": [],
   "source": [
    "# vocab = set()\n",
    "\n",
    "# for tx in list(text_df.text):\n",
    "#     tokens = tx.split()\n",
    "#     [vocab.add(t) for t in tokens]\n",
    "\n",
    "# with open('./data/temp_vocab_corpus.txt','w') as tfile:\n",
    "#     tfile.writelines([i+'\\n' for i in list(vocab)])\n",
    "\n",
    "# print('size of dictionary is {0}'.format(len(vocab)))"
   ]
  },
  {
   "cell_type": "code",
   "execution_count": 20,
   "id": "3203db41-9efe-4152-8e51-67e155c59dd4",
   "metadata": {},
   "outputs": [],
   "source": [
    "# #storing corpus for down-sampling (we send the pre-processed docs)\n",
    "# text_df[['blog','text']].to_csv('./data/temp_documents_corpus.txt',index=True,sep='\\t',\n",
    "#                                 header=False,encoding=\"UTF-8\")"
   ]
  },
  {
   "cell_type": "code",
   "execution_count": 21,
   "id": "df31d2a2-553b-4d07-8901-6467918e297e",
   "metadata": {},
   "outputs": [],
   "source": [
    "# #running down-sampling ==> if the original file in repo pops error you need to make changes in the downsample_corpus.py as stated below\n",
    "# #line 68: term_means = np.mean(author_term_freqs, axis=0).ravel() \n",
    "# #line 71: term_vars = np.var(author_term_freqs, axis=0, ddof=1).ravel()\n",
    "# #line 83: author_term_freqs = author_term_freqs.toarray()#added 2023,Nov\n",
    "# #line 88: author_freqs = author_term_freqs[:, term_id].ravel()#.getA1() #added 2023,Nov\n",
    "# !python3 ./authorless-tms/downsample_corpus.py --input ./data/temp_documents_corpus.txt --output ./data/temp_documents_corpus_new003.txt --vocab ./data/temp_vocab_corpus.txt --threshold 0.03"
   ]
  },
  {
   "cell_type": "markdown",
   "id": "5386e66e-987d-4ca4-be27-f69db4a5351c",
   "metadata": {
    "jp-MarkdownHeadingCollapsed": true
   },
   "source": [
    "# loading from down-sampled dataset"
   ]
  },
  {
   "cell_type": "code",
   "execution_count": 22,
   "id": "3b0f7664-4696-44a4-ba0b-95c885334b57",
   "metadata": {},
   "outputs": [],
   "source": [
    "# #updating text_df\n",
    "# new_df = pd.read_csv('./data/temp_documents_corpus_new005.txt',sep='\\t',header=None,\n",
    "#                      names=['id','blog','text'])\n",
    "\n",
    "# #replacing down-sampled data with original data\n",
    "# for id,row in tqdm(new_df.iterrows()):\n",
    "#     text_df.loc[text_df.id==id,'text'] = row['text']\n",
    "#     # text_df.at[int(id),'text'] = row['text']\n",
    "\n",
    "# #removing the ones that were deleted during down-sampling\n",
    "# text_df = text_df[text_df.id.isin(new_df.id)]\n",
    "\n",
    "# print('Number of documents after down-sampling: {0}'.format(len(text_df)))"
   ]
  },
  {
   "cell_type": "markdown",
   "id": "b27dde94",
   "metadata": {},
   "source": [
    "# Running topic modeling (with or without evaluation)"
   ]
  },
  {
   "cell_type": "code",
   "execution_count": 23,
   "id": "f4da0367-4f0e-4a69-bc69-508a5ea0608c",
   "metadata": {},
   "outputs": [],
   "source": [
    "# from rpy2.robjects.packages import importr\n",
    "# utils = importr('utils')\n",
    "\n",
    "# utils.install_packages('stm',repos=\"https://cloud.r-project.org\")"
   ]
  },
  {
   "cell_type": "code",
   "execution_count": 12,
   "id": "ce75d4a2-87ef-4af4-b383-6c37a895dc02",
   "metadata": {},
   "outputs": [],
   "source": [
    "#prevalence (use/non-use)\n",
    "\n",
    "#converting to date format\n",
    "# text_df.date = pd.to_datetime(text_df.date)\n",
    "# days = date2days(text_df)\n",
    "\n",
    "# labels = transition_labeling(days)\n",
    "\n",
    "# text_df['prevalence'] = \"\"\n",
    "# for id,label in labels.items():\n",
    "#     text_df.loc[text_df.id==id,'prevalence'] = label\n",
    "\n",
    "#prevalence Author (blog)\n",
    "text_df['content'] = text_df['blog']\n",
    "\n",
    "\n",
    "\n",
    "#content (instagram-tumbler)\n",
    "\n",
    "source = ['tumblr' if 'tumblr' in str(i) else 'instagram' for i in list(text_df.url) ]\n",
    "text_df['prevalence'] = source"
   ]
  },
  {
   "cell_type": "code",
   "execution_count": 49,
   "id": "8e6380df-5ad1-4913-87d3-9e6a574202b9",
   "metadata": {},
   "outputs": [],
   "source": [
    "#prevalence only (source: instagram/tumblr)\n",
    "# source = ['tumblr' if 'tumblr' in str(i) else 'instagram' for i in list(text_df.url) ]\n",
    "# text_df['prevalence'] = source"
   ]
  },
  {
   "cell_type": "code",
   "execution_count": 32,
   "id": "9e82ed81",
   "metadata": {
    "scrolled": true,
    "tags": []
   },
   "outputs": [
    {
     "name": "stdout",
     "output_type": "stream",
     "text": [
      "\n",
      "\n",
      "Running STM with 5 topics and other details as below:\n",
      "{'name': 'STM', 'epochs': 500, 'prevalence': 'prevalence', 'content': '', 'pre_trained_model': 'LDA', 'burnin_iteration': 49, 'LDA_epochs': 50, 'alpha': 30, 'save_flag': False}\n",
      "Building corpus... \n",
      "Converting to Lower Case... \n",
      "Creating Output... \n",
      "Removing 23836 of 32613 terms (41378 of 568148 tokens) due to frequency \n",
      "Your corpus now has 13354 documents, 8777 terms and 526770 tokens.Load NPMI coherence DB. \n",
      "Number of keys : 1971285\n",
      "skipping 0.10 missed term-pairs < allowed misses = 0.3\n",
      "\n",
      "\n",
      "Running STM with 6 topics and other details as below:\n",
      "{'name': 'STM', 'epochs': 500, 'prevalence': 'prevalence', 'content': '', 'pre_trained_model': 'LDA', 'burnin_iteration': 49, 'LDA_epochs': 50, 'alpha': 30, 'save_flag': False}\n",
      "Building corpus... \n",
      "Converting to Lower Case... \n",
      "Creating Output... \n",
      "Removing 23836 of 32613 terms (41378 of 568148 tokens) due to frequency \n",
      "Your corpus now has 13354 documents, 8777 terms and 526770 tokens.Load NPMI coherence DB. \n",
      "Number of keys : 1971285\n",
      "skipping 0.07 missed term-pairs < allowed misses = 0.3\n",
      "\n",
      "\n",
      "Running STM with 7 topics and other details as below:\n",
      "{'name': 'STM', 'epochs': 500, 'prevalence': 'prevalence', 'content': '', 'pre_trained_model': 'LDA', 'burnin_iteration': 49, 'LDA_epochs': 50, 'alpha': 30, 'save_flag': False}\n",
      "Building corpus... \n",
      "Converting to Lower Case... \n",
      "Creating Output... \n",
      "Removing 23836 of 32613 terms (41378 of 568148 tokens) due to frequency \n",
      "Your corpus now has 13354 documents, 8777 terms and 526770 tokens.Load NPMI coherence DB. \n",
      "Number of keys : 1971285\n",
      "skipping 0.05 missed term-pairs < allowed misses = 0.3\n",
      "\n",
      "\n",
      "Running STM with 8 topics and other details as below:\n",
      "{'name': 'STM', 'epochs': 500, 'prevalence': 'prevalence', 'content': '', 'pre_trained_model': 'LDA', 'burnin_iteration': 49, 'LDA_epochs': 50, 'alpha': 30, 'save_flag': False}\n",
      "Building corpus... \n",
      "Converting to Lower Case... \n",
      "Creating Output... \n",
      "Removing 23836 of 32613 terms (41378 of 568148 tokens) due to frequency \n",
      "Your corpus now has 13354 documents, 8777 terms and 526770 tokens.Load NPMI coherence DB. \n",
      "Number of keys : 1971285\n",
      "skipping 0.07 missed term-pairs < allowed misses = 0.3\n",
      "\n",
      "\n",
      "Running STM with 9 topics and other details as below:\n",
      "{'name': 'STM', 'epochs': 500, 'prevalence': 'prevalence', 'content': '', 'pre_trained_model': 'LDA', 'burnin_iteration': 49, 'LDA_epochs': 50, 'alpha': 30, 'save_flag': False}\n",
      "Building corpus... \n",
      "Converting to Lower Case... \n",
      "Creating Output... \n",
      "Removing 23836 of 32613 terms (41378 of 568148 tokens) due to frequency \n",
      "Your corpus now has 13354 documents, 8777 terms and 526770 tokens.Load NPMI coherence DB. \n",
      "Number of keys : 1971285\n",
      "skipping 0.07 missed term-pairs < allowed misses = 0.3\n"
     ]
    }
   ],
   "source": [
    "from lda_mallet import lda_score\n",
    "import pickle\n",
    "\n",
    "is_eval = False #not evaluating the model\n",
    "lon,upn = 5,10 #lowwer and upper topic number for evaluation\n",
    "#need to provide number of topics and other specification\n",
    "# model_spec = {'name':'LDA','K':13,'epochs':3500,'burnin_iteration':150,'after_iteration_burnin':50,\n",
    "#              'save_flag':True,'save_path':'LDA_test','alpha_sum':30.0}#burnin_iteration=20,after_iteration_burnin=50\n",
    "stm_lda_epochs = 50  #increase lda nits\n",
    "stm_lda_burnin = 150\n",
    "model_spec = {'name':'STM','K':8,'epochs':500,'prevalence':'prevalence','content':'','pre_trained_model': 'LDA',\\\n",
    "                'burnin_iteration':stm_lda_burnin if stm_lda_epochs>stm_lda_burnin else stm_lda_epochs-1,\\\n",
    "              'LDA_epochs':stm_lda_epochs,'alpha':30,'save_flag':False}\n",
    "\n",
    "if model_spec['name'] == 'LDA':\n",
    "    if is_eval:\n",
    "        #loading LDA mallet evaluation score\n",
    "        from gensim.corpora import Dictionary\n",
    "        from pre_processing import prepare_corpus\n",
    "        #creating data vocab\n",
    "        dict = Dictionary([i.split() for i in list(text_df.text)])\n",
    "        #saving it to pass it to score object\n",
    "        with open ('./data/ED_vocab.obj','wb') as vfile:\n",
    "            pickle.dump(dict,vfile)\n",
    "        wiki_vocab_dict_path = './data/wiki_sampled5p_vocab.obj'\n",
    "        with open ('./data/wiki_sampled5p_vocab.obj','rb') as vfile:\n",
    "            wiki_vocab_dict = pickle.load(vfile)\n",
    "\n",
    "\n",
    "        npmis = []\n",
    "        for n_topics in range(lon,upn,1):\n",
    "            #removing terms that are not in the Wiki Vocab\n",
    "            #pre_processing and tokenizing docs\n",
    "            # pre_processed_docs,_ = preprocess_data(list(text_df.text),extra_stopwords=\\\n",
    "            #                                                set(dict.values()).difference(set(wiki_vocab_dict.values()))\\\n",
    "            #                                        .union(['denying']))\n",
    "            pre_processed_docs,_ = preprocess_data(list(text_df.text))\n",
    "            #preparing corpus\n",
    "            vocab_dict,doc_term_mat = prepare_corpus(pre_processed_docs)\n",
    "            #temp save of vocab file\n",
    "            with open ('./data/ED_vocab.tmp','wb') as vfile:\n",
    "                pickle.dump(vocab_dict,vfile)\n",
    "            \n",
    "            scorer = lda_score(num_topics=n_topics,alpha=10,optimize_interval=10,iterations=2000,wiki_path='./data/wiki_sampled_5p.txt',\n",
    "                      db_path = './data/wiki_full/',vocab_dict_path = './data/ED_vocab.tmp', \n",
    "                      wiki_vocab_dict_path=wiki_vocab_dict_path,npmi_skip_threshold=0.30)\n",
    "            \n",
    "            scorer.fit(doc_term_mat)#fitting an LDA Mallet\n",
    "            npmis.append([n_topics,scorer.score()])\n",
    "    else: \n",
    "        #removing previously created mallet_file\n",
    "        try:\n",
    "            os.remove('MalletInstance_ {0}'.format(model_spec['save_path'])) \n",
    "            os.remove('MalletState_ {0} .gz'.format(model_spec['save_path']))\n",
    "            os.remove('MalletSpec_ {0}'.format(model_spec['save_path']))\n",
    "        except:#in case we don't have any files\n",
    "            pass\n",
    "        robjects.r.source('LDA_R.R')\n",
    "        copy_text_df = text_df.copy()\n",
    "        ans = robjects.r.findTopics(docs = copy_text_df,n_topics = model_spec['K'],epochs = model_spec['epochs'],\n",
    "                                    burnin_iteration = model_spec['burnin_iteration'],\n",
    "                                    after_iteration_burnin =  model_spec['after_iteration_burnin'],\n",
    "                                    save_flag=model_spec['save_flag'],alpha_sum=model_spec['alpha_sum'],\n",
    "                                    save_path = model_spec['save_path'])\n",
    "        top_terms = np.asarray(ans[1])\n",
    "        topic_doc_dist = np.asarray(ans[0][0]).T\n",
    "        term_probab = ans[0][1]\n",
    "        topic_vocab = ans[0][2]\n",
    "        \n",
    "        \n",
    "elif model_spec['name'] == 'STM':\n",
    "    #loading STM.R\n",
    "    robjects.r.source('stm.R')\n",
    "    \n",
    "    if is_eval:\n",
    "        \n",
    "        npmis = []\n",
    "        for n_topics in range(lon,upn,1):\n",
    "            print('\\n\\nRunning STM with {0} topics and other details as below:'.format(n_topics))\n",
    "            print({k:v for k,v in model_spec.items() if k != 'K'})\n",
    "            #running STM\n",
    "            ans = robjects.r.run_stm(docs = text_df[['id','text','prevalence','content']],topic_n=n_topics,max_itr=model_spec['epochs'],\n",
    "                                 prevalence=model_spec['prevalence'],content=model_spec['content'],\n",
    "                                 model_type = model_spec['pre_trained_model'],nits = model_spec['LDA_epochs'],\n",
    "                                 burnin = model_spec['burnin_iteration'],alpha=model_spec['alpha'],\n",
    "                                 save_flag = False)\n",
    "            #initializing scorer\n",
    "            scorer = lda_score(num_topics=n_topics,alpha=-1,optimize_interval=-1,iterations=-1,wiki_path='./data/wiki_sampled_5p.txt',\n",
    "                      db_path = './data/wiki_full/',vocab_dict_path = './data/ED_vocab.tmp', \n",
    "                      wiki_vocab_dict_path='./data/wiki_sampled5p_vocab.obj',npmi_skip_threshold=0.30)\n",
    "            #setting vocabulary of wikipedia\n",
    "            with open ('./data/wiki_sampled5p_vocab.obj','rb') as vfile:\n",
    "                wiki_vocab_dict = pickle.load(vfile)\n",
    "            scorer.wiki_vocab_dict = wiki_vocab_dict\n",
    "            #extracting top terms\n",
    "            top_terms = [[str(i) for i in ls if i in scorer.wiki_vocab_dict.token2id.keys()][0:20] \\\n",
    "             for ls in np.asarray(ans[1]).reshape(n_topics,50,order='F')]\n",
    "            scorer.all_top_terms = top_terms\n",
    "            #save the NPMI\n",
    "            npmis.append([n_topics,scorer.score()])\n",
    "            \n",
    "    else: \n",
    "        ans = robjects.r.run_stm(docs = text_df[['id','text','prevalence','content']],topic_n=model_spec['K'],max_itr=model_spec['epochs'],\n",
    "                                 prevalence=model_spec['prevalence'],content=model_spec['content'],\n",
    "                                 model_type = model_spec['pre_trained_model'],nits = model_spec['LDA_epochs'],\n",
    "                                 burnin = model_spec['burnin_iteration'],alpha=model_spec['alpha'],\n",
    "                                 save_flag = True)\n",
    "        #converting outputs to readable values\n",
    "        outs = dict(zip(ans[0].names, list(ans[0])))\n",
    "        beta = dict(zip(outs['beta'].names, list(outs['beta'])))\n",
    "        #extracting information from STM\n",
    "        top_terms = [' '.join(s) for s in np.asarray(ans[1]).reshape(model_spec['K'],50,order='F')]\n",
    "        topic_doc_dist = outs['theta']\n",
    "        term_probab = np.exp(beta['logbeta'][0])\n",
    "        topic_vocab = outs['vocab']\n",
    "        ids = pd.DataFrame(ans[2]).T[0]#ids of the remaining documents\n",
    "        text_df = text_df[text_df.id.isin(ids)]"
   ]
  },
  {
   "cell_type": "code",
   "execution_count": 107,
   "id": "2cf162c8-916a-442c-966d-8ade14ea4108",
   "metadata": {},
   "outputs": [
    {
     "name": "stderr",
     "output_type": "stream",
     "text": [
      "/var/folders/86/nw630jn16nsg2zqycwy774640000gn/T/ipykernel_24564/1080565728.py:61: MatplotlibDeprecationWarning: The legendHandles attribute was deprecated in Matplotlib 3.7 and will be removed two minor releases later. Use legend_handles instead.\n",
      "  leg.legendHandles[3].set_color('green')\n",
      "/var/folders/86/nw630jn16nsg2zqycwy774640000gn/T/ipykernel_24564/1080565728.py:62: MatplotlibDeprecationWarning: The legendHandles attribute was deprecated in Matplotlib 3.7 and will be removed two minor releases later. Use legend_handles instead.\n",
      "  leg.legendHandles[5].set_color('orange')\n",
      "/var/folders/86/nw630jn16nsg2zqycwy774640000gn/T/ipykernel_24564/1080565728.py:63: MatplotlibDeprecationWarning: The legendHandles attribute was deprecated in Matplotlib 3.7 and will be removed two minor releases later. Use legend_handles instead.\n",
      "  leg.legendHandles[6].set_color('brown')\n",
      "/var/folders/86/nw630jn16nsg2zqycwy774640000gn/T/ipykernel_24564/1080565728.py:64: MatplotlibDeprecationWarning: The legendHandles attribute was deprecated in Matplotlib 3.7 and will be removed two minor releases later. Use legend_handles instead.\n",
      "  leg.legendHandles[7].set_color('yellow')\n"
     ]
    },
    {
     "data": {
      "image/png": "[encoded data removed]",
      "text/plain": [
       "<Figure size 640x480 with 1 Axes>"
      ]
     },
     "metadata": {},
     "output_type": "display_data"
    }
   ],
   "source": [
    "#computing coherence for STM content and prevalence\n",
    "import pickle\n",
    "from lda_mallet import lda_score\n",
    "\n",
    "# file_path = './result/stmR/ '\n",
    "# npmis = []\n",
    "\n",
    "# for i in range(10,22):\n",
    "#     ans = pd.read_csv(file_path+str(i)).values[:,1:]\n",
    "#     n_topics = len(ans)\n",
    "#     #initializing scorer\n",
    "#     scorer = lda_score(num_topics=n_topics,alpha=-1,optimize_interval=-1,iterations=-1,wiki_path='./data/wiki_sampled_5p.txt',\n",
    "#               db_path = './data/wiki_full/',vocab_dict_path = './data/ED_vocab.tmp', \n",
    "#               wiki_vocab_dict_path='./data/wiki_sampled5p_vocab.obj',npmi_skip_threshold=0.30)\n",
    "#     # #setting vocabulary of wikipedia\n",
    "#     with open ('./data/wiki_sampled5p_vocab.obj','rb') as vfile:\n",
    "#         wiki_vocab_dict = pickle.load(vfile)\n",
    "#     scorer.wiki_vocab_dict = wiki_vocab_dict\n",
    "#     #extracting top terms\n",
    "#     top_terms = [[str(i) for i in ls if i in scorer.wiki_vocab_dict.token2id.keys()][0:20] \\\n",
    "#      for ls in ans]\n",
    "#     scorer.all_top_terms = top_terms\n",
    "#     #save the NPMI\n",
    "#     npmis.append([n_topics,scorer.score()])\n",
    "\n",
    "\n",
    "# import seaborn as sns\n",
    "# df = pd.DataFrame(npmis,columns=['n_topics','npmi_average'])\n",
    "# sns.lineplot(data=df,x='n_topics',y='npmi_average')\n",
    "\n",
    "# df.to_csv('./result/npmi_STMprevalencecontent.csv')\n",
    "\n",
    "import matplotlib.pyplot as plt\n",
    "\n",
    "files = [\n",
    "    #'npmi_lda_optimization says 16.csv',\n",
    "    'npmi_STM.csv','npmi_STMprevalence_author.csv',\n",
    "    'npmi_STMprevalence_author+platformcontent_author.csv',\n",
    "    'npmi_STMprevalence_author+platformcontent_platform.csv',\n",
    "    'npmi_STMprevalence_authorcontent_platform.csv',\n",
    "    'npmi_STMprevalence_platform.csv',\n",
    "    'npmi_STMprevalence_platform+author.csv',\n",
    "    'npmi_STMprevalence_platformcontent_author.csv',\n",
    "]\n",
    "\n",
    "colors = ['red','blue','black','green','pink','orange','brown','yellow']\n",
    "i = 0\n",
    "for f in files:\n",
    "    df = pd.read_csv('./result/'+f)\n",
    "    ax = sns.lineplot(x='n_topics', y='npmi_average', data=df,color=colors[i])\n",
    "    # plt.legend([f])\n",
    "    i+=1\n",
    "\n",
    "plt.legend([\n",
    "    #'LDA',\n",
    "    'no_covar','pre=author','pre=author, cont=platform',\n",
    "    'pre=author+platform, cont=platform','pre=author+platform, cont=author',\n",
    "           'prev=platform','pre=author+platform','pre=platform, cont=author'\n",
    "           ],bbox_to_anchor=(1.01, 1))\n",
    "leg = ax.get_legend()\n",
    "leg.legendHandles[3].set_color('green')\n",
    "leg.legendHandles[5].set_color('orange')\n",
    "leg.legendHandles[6].set_color('brown')\n",
    "leg.legendHandles[7].set_color('yellow')\n",
    "\n",
    "plt.show()\n"
   ]
  },
  {
   "cell_type": "code",
   "execution_count": 123,
   "id": "a7174143-f8b7-4fc9-91b5-84dfca8e12db",
   "metadata": {},
   "outputs": [
    {
     "name": "stderr",
     "output_type": "stream",
     "text": [
      "/var/folders/86/nw630jn16nsg2zqycwy774640000gn/T/ipykernel_24564/3002483529.py:29: MatplotlibDeprecationWarning: The legendHandles attribute was deprecated in Matplotlib 3.7 and will be removed two minor releases later. Use legend_handles instead.\n",
      "  leg.legendHandles[3].set_color('green')\n",
      "/var/folders/86/nw630jn16nsg2zqycwy774640000gn/T/ipykernel_24564/3002483529.py:30: MatplotlibDeprecationWarning: The legendHandles attribute was deprecated in Matplotlib 3.7 and will be removed two minor releases later. Use legend_handles instead.\n",
      "  leg.legendHandles[5].set_color('orange')\n",
      "/var/folders/86/nw630jn16nsg2zqycwy774640000gn/T/ipykernel_24564/3002483529.py:31: MatplotlibDeprecationWarning: The legendHandles attribute was deprecated in Matplotlib 3.7 and will be removed two minor releases later. Use legend_handles instead.\n",
      "  leg.legendHandles[6].set_color('brown')\n"
     ]
    },
    {
     "data": {
      "image/png": "[encoded data removed]",
      "text/plain": [
       "<Figure size 640x480 with 1 Axes>"
      ]
     },
     "metadata": {},
     "output_type": "display_data"
    }
   ],
   "source": [
    "files = [\n",
    "    #'npmi_lda_optimization says 16.csv',\n",
    "    'npmi_STM.csv','npmi_STMprevalence_author.csv',\n",
    "    # 'npmi_STMprevalence_author+platformcontent_author.csv',\n",
    "    'npmi_STMprevalence_author+platformcontent_platform.csv',\n",
    "    'npmi_STMprevalence_authorcontent_platform.csv',\n",
    "    'npmi_STMprevalence_platform.csv',\n",
    "    'npmi_STMprevalence_platform+author.csv',\n",
    "    'npmi_STMprevalence_platformcontent_author.csv',\n",
    "]\n",
    "\n",
    "colors = ['red','blue','black','green','pink','orange','brown','yellow']\n",
    "i = 0\n",
    "for f in files:\n",
    "    df = pd.read_csv('./result/'+f)\n",
    "    ax = sns.lineplot(x='n_topics', y='npmi_average', data=df,color=colors[i])\n",
    "    # plt.legend([f])\n",
    "    i+=1\n",
    "\n",
    "plt.legend([\n",
    "    #'LDA',\n",
    "    'no_covar',\"pre=platform\"\n",
    "    ,'pre=author',\n",
    "           'pre=author, cont=platform',\n",
    "           'pre=author+platform, cont=platform',\n",
    "           'pre=platfrom+author','pre=platform, cont=author'\n",
    "                    ],bbox_to_anchor=(1.01, 1))\n",
    "leg = ax.get_legend()\n",
    "leg.legendHandles[3].set_color('green')\n",
    "leg.legendHandles[5].set_color('orange')\n",
    "leg.legendHandles[6].set_color('brown')\n",
    "# leg.legendHandles[7].set_color('yellow')\n",
    "\n",
    "plt.show()"
   ]
  },
  {
   "cell_type": "code",
   "execution_count": 64,
   "id": "93688c43-a501-4fc5-bde0-cf43da1f1a74",
   "metadata": {},
   "outputs": [],
   "source": [
    "# text_df[['id','text','prevalence','content']].to_csv('./data/stm_temp.csv')"
   ]
  },
  {
   "cell_type": "code",
   "execution_count": 105,
   "id": "52337bac-1cfa-4703-9e7c-6c3f7117dab6",
   "metadata": {},
   "outputs": [
    {
     "data": {
      "image/png": "[encoded data removed]",
      "text/plain": [
       "<Figure size 640x480 with 1 Axes>"
      ]
     },
     "metadata": {},
     "output_type": "display_data"
    }
   ],
   "source": [
    "import seaborn as sns\n",
    "df = pd.DataFrame(npmis,columns=['n_topics','npmi_average'])\n",
    "sns.lineplot(data=df,x='n_topics',y='npmi_average')\n",
    "\n",
    "# df.to_csv('./result/npmi_{0}{1}{2}.csv'.format(model_spec['name'],model_spec['prevalence'],\n",
    "#                                               model_spec['content']))\n",
    "\n",
    "df.to_csv('./result/npmi_{0}{1}_platform{2}_author.csv'.format(model_spec['name'],model_spec['prevalence'],\n",
    "                                              model_spec['content']))\n",
    " # pre:platform, content = author"
   ]
  },
  {
   "cell_type": "markdown",
   "id": "bb4ffa8c",
   "metadata": {},
   "source": [
    "# Post-processing"
   ]
  },
  {
   "cell_type": "markdown",
   "id": "04f5559d",
   "metadata": {},
   "source": [
    "topic distribution and topic selection\n",
    "\n",
    "for topic selection I used elbow method (selecting top topics till we get to the highest gap)"
   ]
  },
  {
   "cell_type": "code",
   "execution_count": null,
   "id": "77ca61e0",
   "metadata": {},
   "outputs": [],
   "source": [
    "#topic selection\n",
    "topics4docs,topics4docs_bin = topic_selection(topic_doc_dist)\n",
    "\n",
    "#topic distribution addition\n",
    "for i in range(topic_doc_dist.shape[1]):\n",
    "    text_df['Topic{0}_dist'.format(i)] = topic_doc_dist[:,i]\n",
    "#topic selection addition\n",
    "for i in range(topic_doc_dist.shape[1]):\n",
    "    text_df['Topic{0}_select'.format(i)] = topics4docs_bin[:,i]\n",
    "\n",
    "#saving data to csv\n",
    "text_df.to_csv('document_topic_info.csv')"
   ]
  },
  {
   "cell_type": "code",
   "execution_count": null,
   "id": "f2f7c38d",
   "metadata": {},
   "outputs": [],
   "source": [
    "#storing top terms\n",
    "topic_df = pd.DataFrame(data=top_terms,columns=['top_terms'])\n",
    "topic_df.to_csv('topic_terms.csv')"
   ]
  },
  {
   "cell_type": "markdown",
   "id": "30bd2d7b",
   "metadata": {},
   "source": [
    "Running Coherence"
   ]
  },
  {
   "cell_type": "code",
   "execution_count": null,
   "id": "f2b81c98",
   "metadata": {},
   "outputs": [],
   "source": [
    "from lda_mallet import lda_score\n",
    "import pickle\n",
    "\n",
    "# import importlib\n",
    "# importlib.reload(scorer.score_per_topic(None))\n",
    "\n",
    "#initiate scorer\n",
    "scorer = lda_score(wiki_path='./data/wiki_sampled_5p.txt',db_path='./data/wiki_full/',npmi_skip_threshold=0.30)\n",
    "\n",
    "'''\n",
    "loading wikipedia vocab to \n",
    "    1. remove the top terms that are not in the wikipedia\n",
    "    2. use for gensim.coherence vocab argument in case any pairs are not in the DB\n",
    "'''\n",
    "with open('./data/wiki_full_vocab.obj','rb') as f: #wiki_sampled5p_vocab.obj\n",
    "    scorer.wiki_vocab_dict = pickle.load(f)\n",
    "    \n",
    "#add all_top_terms (except the ones that are not in the wiki_pedia vocab)\n",
    "scorer.all_top_terms = [[t for t in top_terms[i].split() if t in scorer.wiki_vocab_dict.token2id.keys()] for i in range(len(top_terms))]\n",
    "#the output is a dictionary: the key is 0-n_topics and associated with npmi score for top-k topics \n",
    "#in which k=5,10,15,20\n",
    "topic_scores = scorer.score_per_topic(None)\n",
    "#getting avergae of multiple k for each topic\n",
    "topic_score_avg = [np.mean([vi for ki,vi in v.items()]) for k,v in topic_scores.items()]"
   ]
  },
  {
   "cell_type": "markdown",
   "id": "801bb410-2e26-44e6-89f1-188f919359af",
   "metadata": {},
   "source": [
    "# soring top terms and top documents"
   ]
  },
  {
   "cell_type": "code",
   "execution_count": 57,
   "id": "5f6826c8-60bd-4d00-88bc-c2e908040e47",
   "metadata": {},
   "outputs": [],
   "source": [
    "show_top_doc = 10\n",
    "show_top_terms = 10\n",
    "file_name = 'top_documents_stm16_source_prevalence.txt'\n",
    "\n",
    "#writing the results in a text file\n",
    "with open(file_name,'w') as tfile:\n",
    "    for i in range(len(top_terms)):\n",
    "        #writing top terms\n",
    "        tfile.write('Topic '+ str(i) + ' : '+'\\n'+'top terms: '+', '.join(top_terms[i].split()[:show_top_terms])+'\\n')\n",
    "        #selecting top documents\n",
    "        top_docs = text_df.sort_values('Topic{0}_dist'.format(i),ascending=False).iloc[0:show_top_doc,:]\n",
    "        for _,row in top_docs.iterrows():\n",
    "            tfile.write('Doc ID: {0}, distribution: {1} ; {2} \\n'.format(row.id,row['Topic{0}_dist'.format(i)],row['original_text']))\n",
    "            tfile.write(''.join(['-']*60)+'\\n')\n",
    "        "
   ]
  },
  {
   "cell_type": "markdown",
   "id": "1b90b652",
   "metadata": {},
   "source": [
    "# Storing to DB"
   ]
  },
  {
   "cell_type": "markdown",
   "id": "c380bacb",
   "metadata": {},
   "source": [
    "The process is described in the code cell below\n",
    "\n",
    "**Used the link below to insert and load blob**\n",
    "\n",
    "https://pynative.com/python-mysql-blob-insert-retrieve-file-image-as-a-blob-in-mysql/"
   ]
  },
  {
   "cell_type": "code",
   "execution_count": 15,
   "id": "92cde551",
   "metadata": {},
   "outputs": [
    {
     "data": {
      "text/plain": [
       "'\\n2. for each topic\\n    3. save topic\\n    4. retreive the saved topic_id and save r_topic_model\\n    5. for each doc save r_topic_post\\n'"
      ]
     },
     "execution_count": 15,
     "metadata": {},
     "output_type": "execute_result"
    }
   ],
   "source": [
    "#1. save model id (for LDA save as zip and then save)\n",
    "'''\n",
    "2. for each topic\n",
    "    3. save topic\n",
    "    4. retreive the saved topic_id and save r_topic_model\n",
    "    5. for each doc save r_topic_post\n",
    "'''\n",
    "###table format\n",
    "#model: model_id, data, model_type, last_used?\n",
    "# topic: topic_id, coherence, term1-50, probab1-50\n",
    "#r_topic_model: topic_id, model_id \n",
    "#r_topic_post: topic_id, post_id, proportion\n",
    "\n",
    "##check the columns of a table\n",
    "# cursor.execute(\"show columns from r_topic_post\") #execute a command\n",
    "# myresult = cursor.fetchall() #get all the results \n",
    "# myresult"
   ]
  },
  {
   "cell_type": "code",
   "execution_count": 69,
   "id": "404595ec",
   "metadata": {},
   "outputs": [],
   "source": [
    "#saving the model first\n",
    "#model: model_id, data, model_type, last_used?\n",
    "if model_spec['name'].lower() == 'lda':\n",
    "    #read binary data of the saved model\n",
    "    with open('MalletState_ '+model_spec['save_path']+' .gz','rb') as model_file:\n",
    "        binary_data = model_file.read()\n",
    "else:\n",
    "    pass #write codes for other models\n",
    "\n",
    "#storing the model\n",
    "cursor.execute(\" INSERT INTO model (data, model_type) VALUES (%s,%s)\",\n",
    "                    (binary_data,model_spec['name']))"
   ]
  },
  {
   "cell_type": "code",
   "execution_count": 70,
   "id": "2774c4ba",
   "metadata": {},
   "outputs": [],
   "source": [
    "#load the model with model id to use for next steps\n",
    "cursor.execute(\"Select * from model ORDER BY model_id DESC LIMIT 1\")\n",
    "result = cursor.fetchall()\n",
    "model_id,model_name = result[0][0],result[0][2]"
   ]
  },
  {
   "cell_type": "code",
   "execution_count": 71,
   "id": "dbecde81",
   "metadata": {},
   "outputs": [],
   "source": [
    "#saving each topic separately alongside relation to model table and post table\n",
    "for k in range(0,model_spec['K']):#iterating over each topic\n",
    "    #getting topic top terms\n",
    "    topic_top_terms = top_terms[k].split()\n",
    "    #we have to find the index in vocab (ans[0][2]) and then call ans[0][1][k][found_index] to get\n",
    "    #the probability of each term\n",
    "    probab = [float(term_probab[k][i]) for w in topic_top_terms for i in range(len(topic_vocab)) if w == topic_vocab[i]]\n",
    "    #adding coherence score, top terms and their probabilities\n",
    "    vals = tuple([float(topic_score_avg[k])]) + tuple(topic_top_terms) + tuple(probab)\n",
    "    #save each topic seperately\n",
    "    cursor.execute(\" INSERT INTO topic(coherence,{0},{1}) VALUES (%s,{2})\".format(\n",
    "                                        ','.join(['term'+str(i) for i in range(1,len(topic_top_terms)+1)]),\n",
    "                                        ','.join(['prob'+str(i) for i in range(1,len(topic_top_terms)+1)]),\n",
    "                                        ','.join(['%s']*(len(topic_top_terms)*2))),vals)\n",
    "    \n",
    "    '''\n",
    "    retreiving saved topic_id and save an entry for topic_id,model_id in topic_model_r table\n",
    "    '''\n",
    "    #load the latest stored topic\n",
    "    cursor.execute(\"Select * from topic ORDER BY topic_id DESC LIMIT 1\")\n",
    "    result = cursor.fetchall()\n",
    "    topic_id = result[0][0]\n",
    "    #save the topic_id,model_id in r_topic_model table \n",
    "    cursor.execute(\" INSERT INTO r_topic_model(topic_id,model_id) VALUES (%s,%s)\",\n",
    "                  (topic_id,model_id,))\n",
    "    \n",
    "    '''\n",
    "    saving topic-document proportion for each topic-doc pairs\n",
    "    '''\n",
    "    #r_topic_post : topic_id, post_id, proportion\n",
    "    doc_counter = 0\n",
    "    for doc_id in list(text_df.id):\n",
    "        cursor.execute(\" INSERT INTO r_topic_post(topic_id,post_id,proportion) VALUES (%s,%s,%s)\",\n",
    "                  (topic_id,doc_id,float(topic_doc_dist[doc_counter,k])))\n",
    "        doc_counter += 1\n",
    "        "
   ]
  },
  {
   "cell_type": "code",
   "execution_count": 72,
   "id": "52acbb94",
   "metadata": {},
   "outputs": [],
   "source": [
    "cnx.commit()"
   ]
  },
  {
   "cell_type": "code",
   "execution_count": 21,
   "id": "a7d5d7d6",
   "metadata": {},
   "outputs": [
    {
     "data": {
      "text/plain": [
       "[(11, Decimal('0.005300000')),\n",
       " (12, Decimal('0.223030000')),\n",
       " (13, Decimal('0.002400000')),\n",
       " (14, Decimal('0.007130000')),\n",
       " (15, Decimal('0.005350000')),\n",
       " (16, Decimal('0.012220000')),\n",
       " (17, Decimal('0.006210000')),\n",
       " (18, Decimal('0.005680000')),\n",
       " (19, Decimal('0.004940000')),\n",
       " (20, Decimal('0.727740000'))]"
      ]
     },
     "execution_count": 21,
     "metadata": {},
     "output_type": "execute_result"
    }
   ],
   "source": [
    "# cursor.execute(\"delete from r_topic_model\")\n",
    "# cursor.execute(\"delete from r_topic_post\")\n",
    "# cursor.execute(\"delete from topic\")\n",
    "# cursor.execute(\"delete from model\")\n",
    "\n",
    "# cursor.execute(\"select * from post\")\n",
    "# cursor.execute(\"SELECT DISTINCT user.* FROM user JOIN post ON user.user_id = post.user_id WHERE post.platform_type_id = %s\",('4',))\n",
    "# cursor.execute(\"SELECT * FROM post WHERE user_id = %s AND created BETWEEN %s AND %s;\",(3,'1/1/2023','1/1/2013',))\n",
    "# cursor.execute(\"SELECT r_topic_post.topic_id, AVG(r_topic_post.proportion) as average_proportion FROM r_topic_post JOIN r_topic_model ON r_topic_post.topic_id = r_topic_model.topic_id WHERE r_topic_post.post_id = %s AND r_topic_model.model_id = %s GROUP BY r_topic_post.topic_id;\",('1187','2',))\n",
    "# cursor.execute('select * from model')\n",
    "cursor.fetchall()"
   ]
  },
  {
   "cell_type": "markdown",
   "id": "f5782f9d-eb4a-479f-ab15-ac975a4d4301",
   "metadata": {},
   "source": [
    "# Post-processing for Author-topic distribution\n",
    "\n",
    "**if you are reading from DB set the from_db= True**"
   ]
  },
  {
   "cell_type": "code",
   "execution_count": null,
   "id": "0abddaa8-5418-47e3-a77e-1c99abd8bd41",
   "metadata": {},
   "outputs": [],
   "source": [
    "from_db = False"
   ]
  },
  {
   "cell_type": "code",
   "execution_count": null,
   "id": "0cced319-03e0-4340-82f9-fa11854dc59e",
   "metadata": {},
   "outputs": [],
   "source": [
    "if not from_db:\n",
    "    topics = [[i,topic_score_avg[i],'_'.join(top_terms[i].split()[0:3])] \\\n",
    "              for i in range(len(top_terms))]\n",
    "else:\n",
    "    #taking last topics \n",
    "    cursor.execute(\"select * from topic\")\n",
    "    topics = [list(i[0:2]) + ['_'.join(i[2:6])] for i in cursor.fetchall()[-7:]] #each topic include topic_id, coherence_score and top three terms"
   ]
  },
  {
   "cell_type": "code",
   "execution_count": null,
   "id": "92e2d5a3-8563-441e-82d8-c05c8badd302",
   "metadata": {},
   "outputs": [],
   "source": [
    "topics"
   ]
  },
  {
   "cell_type": "code",
   "execution_count": null,
   "id": "e6b0d2ef-a761-4110-99bb-d4b6b80c2e21",
   "metadata": {},
   "outputs": [],
   "source": [
    "#taking post_topics\n",
    "if from_db:\n",
    "    cursor.execute(\"select * from r_topic_post where topic_id between {0} and {1}\".format(min(topics)[0],max(topics)[0]))\n",
    "    res = cursor.fetchall() #topic_id, document_id, topic_dist\n",
    "    \n",
    "    doc_dist = {}\n",
    "    \n",
    "    for item in res:\n",
    "        if item[1] not in doc_dist.keys():\n",
    "            doc_dist[item[1]] = {}\n",
    "        doc_dist[item[1]][item[0]] = item[2]\n",
    "else:\n",
    "    doc_dist = text_df.iloc[:,6:6+len(topics)].values.copy().T#topic_doc_dist.copy().T"
   ]
  },
  {
   "cell_type": "code",
   "execution_count": null,
   "id": "e4bcdc0f-0924-4b7e-bc96-7563009d9025",
   "metadata": {},
   "outputs": [],
   "source": [
    "#clipping doc_dist and converting to pandas DF as well\n",
    "from tqdm import tqdm\n",
    "from similarity import picking_topic\n",
    "\n",
    "ddist_df = pd.DataFrame(doc_dist).T\n",
    "\n",
    "ddist_np = ddist_df.values\n",
    "\n",
    "for i in tqdm(range(ddist_np.shape[0])):\n",
    "    ddist_np[i] = picking_topic(ddist_np[i].astype('float')) * ddist_np[i].astype('float')"
   ]
  },
  {
   "cell_type": "code",
   "execution_count": null,
   "id": "d3377729-a717-41ca-9b96-cf63b5f0c395",
   "metadata": {},
   "outputs": [],
   "source": [
    "if from_db:\n",
    "    ddist_df = ddist_df.rename(columns={i[0]:i[2] for i in topics})\n",
    "    ddist_df['id'] = ddist_df.index\n",
    "    ddist_df = ddist_df.merge(text_df[['id','blog']],on='id')\n",
    "else:\n",
    "    ddist_df = ddist_df.rename(columns={i[0]:i[2] for i in topics})\n",
    "    ddist_df['id'] = list(text_df.id)\n",
    "    ddist_df['blog'] = list(text_df.blog)"
   ]
  },
  {
   "cell_type": "code",
   "execution_count": null,
   "id": "bcc00b11-58b7-419f-a87e-035ef7a31afe",
   "metadata": {},
   "outputs": [],
   "source": [
    "ddist_blog = ddist_df.groupby('blog').sum()\n",
    "ddist_blog.iloc[:,0:-1] = ddist_blog.values[:,0:-1]/np.sum(ddist_blog.values[:,0:-1],axis=0)\n",
    "ddist_blog"
   ]
  },
  {
   "cell_type": "code",
   "execution_count": null,
   "id": "b7d260dd-c83f-4d06-a239-b8d1d5688e75",
   "metadata": {},
   "outputs": [],
   "source": [
    "import seaborn as sns\n",
    "from matplotlib import pyplot as plt\n",
    "plt.figure(figsize=(15,15))\n",
    "sns.set(font_scale=1)\n",
    "sns.heatmap(ddist_blog.iloc[:,0:-1].astype('float').T,fmt=\".2f\",annot=True)\n",
    "\n",
    "plt.xticks(rotation=30,ha='right') \n",
    "plt.savefig('./result/edml/lda_nodejs.svg')\n",
    "# plt.show()"
   ]
  },
  {
   "cell_type": "code",
   "execution_count": 44,
   "id": "a58ea4b9-17fb-45a2-b0c4-bc79f74a3962",
   "metadata": {},
   "outputs": [
    {
     "data": {
      "text/plain": [
       "['https://faithhopeloveandtherapy.tumblr.com/post/189209497991/strangecupoftea-we-must-risk-unlearning-what']"
      ]
     },
     "execution_count": 44,
     "metadata": {},
     "output_type": "execute_result"
    }
   ],
   "source": [
    "list(text_df[text_df.id == 16638].url)"
   ]
  },
  {
   "cell_type": "code",
   "execution_count": 49,
   "id": "fb1673ec-9785-4c5f-855f-0bf0483251d9",
   "metadata": {},
   "outputs": [
    {
     "data": {
      "text/plain": [
       "'#glutenfree_#healthy_#foodie'"
      ]
     },
     "execution_count": 49,
     "metadata": {},
     "output_type": "execute_result"
    }
   ],
   "source": [
    "topics[0][2]"
   ]
  },
  {
   "cell_type": "code",
   "execution_count": 58,
   "id": "d7c18688-ef6e-473d-b83d-17240853632c",
   "metadata": {},
   "outputs": [
    {
     "data": {
      "text/plain": [
       "(\"like a regular loaded veg bowl, but elevated 🤷🏻\\u200d♀️ all of my current faves in one spot. doesn't get better than that 🤤 i'm out for the rest of the day, hope it's been a good one for you all! ▪️▪️▪️▪️▪️▪️▪️▪️▪️▪️\\nroasted purple brussel sprouts, roasted curry cauliflower, roasted zucchini chunks, loaded eggplant stew, roasted carrot chips, sun-dried tomato cashew cream, olive oil drizzle\\n.\\n.\\n<b>#healthy</b> <b>#healthy</b>food #vegan #thefeedfeed #thefeedfeedvegan #mbg #thechalkboardeats #foodgrams <b>#wellness</b> #blogger #hbfit #wellandgoodeats #curry #vegancurry <b>#fitness</b> #healthblogger <b>#healthy</b>recipe #whatveganseat #buzzfeedfood #blogger <b>#healthy</b>dinner <b>#healthy</b>stew #veggiebowl #kale #veganfoodspace #grainfree <b>#glutenfree</b> #paleo #eggplant #cauli #roastedveg\",\n",
       " '#glutenfree_#healthy_#foodie_#healthyfood_#foodblogger_#wellness_#healthyinspo_#healthylife_#plantpower_#fitness')"
      ]
     },
     "execution_count": 58,
     "metadata": {},
     "output_type": "execute_result"
    }
   ],
   "source": [
    "topic_num = 16\n",
    "top_terms_n = 10\n",
    "\n",
    "df = pd.DataFrame()\n",
    "\n",
    "for i in range(topic_num):\n",
    "    temp_df = pd.DataFrame(text_df.sort_values('Topic'+str(i)+'_dist',ascending=False).head(20)[['original_text','url']])\n",
    "    temp_df['topic'] = topics[i][2]\n",
    "    #bold the terms in top terms\n",
    "    topic_top_terms = top_terms[i].split()[0:top_terms_n]\n",
    "    temp_df['top_terms'] = '_'.join(topic_top_terms)\n",
    "    texts = list(temp_df['original_text'])\n",
    "    for i in range(len(texts)):\n",
    "        for term in topic_top_terms:\n",
    "            texts[i] = texts[i].replace(term,'<b>{0}</b>'.format(term))\n",
    "    temp_df['original_text'] = texts\n",
    "    df = pd.concat([temp_df,df])\n",
    "\n",
    "df.iloc[-1].original_text,df.iloc[-1].top_terms"
   ]
  },
  {
   "cell_type": "code",
   "execution_count": 56,
   "id": "7fde771c-b2ee-40b1-8c54-569ea33d9899",
   "metadata": {},
   "outputs": [
    {
     "data": {
      "text/html": [
       "<div>\n",
       "<style scoped>\n",
       "    .dataframe tbody tr th:only-of-type {\n",
       "        vertical-align: middle;\n",
       "    }\n",
       "\n",
       "    .dataframe tbody tr th {\n",
       "        vertical-align: top;\n",
       "    }\n",
       "\n",
       "    .dataframe thead th {\n",
       "        text-align: right;\n",
       "    }\n",
       "</style>\n",
       "<table border=\"1\" class=\"dataframe\">\n",
       "  <thead>\n",
       "    <tr style=\"text-align: right;\">\n",
       "      <th></th>\n",
       "      <th>original_text</th>\n",
       "      <th>url</th>\n",
       "      <th>topic</th>\n",
       "    </tr>\n",
       "  </thead>\n",
       "  <tbody>\n",
       "    <tr>\n",
       "      <th>6786</th>\n",
       "      <td>Guess who just booked the next #&lt;b&gt;holly&lt;/b&gt;go...</td>\n",
       "      <td>https://www.instagram.com/p/Ce0X-05N5pB/</td>\n",
       "      <td>guys_new_video</td>\n",
       "    </tr>\n",
       "    <tr>\n",
       "      <th>7325</th>\n",
       "      <td>Sorry for another pic from May Ball, but it ga...</td>\n",
       "      <td>https://www.instagram.com/p/BVzNLpAlcru/</td>\n",
       "      <td>guys_new_video</td>\n",
       "    </tr>\n",
       "    <tr>\n",
       "      <th>6740</th>\n",
       "      <td>Come with us to the mountains 🏔✨ Episode  of t...</td>\n",
       "      <td>https://www.instagram.com/p/CidKIngAr2e/</td>\n",
       "      <td>guys_new_video</td>\n",
       "    </tr>\n",
       "    <tr>\n",
       "      <th>1487</th>\n",
       "      <td>Wanted to say a huge THANK YOU for all the lov...</td>\n",
       "      <td>https://www.instagram.com/p/BwBq2mBhJQ1/</td>\n",
       "      <td>guys_new_video</td>\n",
       "    </tr>\n",
       "    <tr>\n",
       "      <th>7197</th>\n",
       "      <td>I love London 🇬🇧 But one of my favourite thing...</td>\n",
       "      <td>https://www.instagram.com/p/Bmu8FutAvTm/</td>\n",
       "      <td>guys_new_video</td>\n",
       "    </tr>\n",
       "    <tr>\n",
       "      <th>...</th>\n",
       "      <td>...</td>\n",
       "      <td>...</td>\n",
       "      <td>...</td>\n",
       "    </tr>\n",
       "    <tr>\n",
       "      <th>3315</th>\n",
       "      <td>hitting all my OG followers in their feels wit...</td>\n",
       "      <td>https://www.instagram.com/p/CAGbjJFJCiQ/</td>\n",
       "      <td>#glutenfree_#healthy_#foodie</td>\n",
       "    </tr>\n",
       "    <tr>\n",
       "      <th>3165</th>\n",
       "      <td>more...thanksgiving...leftovers... 😚 bc i know...</td>\n",
       "      <td>https://www.instagram.com/p/CIMHpXxD-8F/</td>\n",
       "      <td>#glutenfree_#healthy_#foodie</td>\n",
       "    </tr>\n",
       "    <tr>\n",
       "      <th>3078</th>\n",
       "      <td>on wednesday we *eat* pink...and on thursday w...</td>\n",
       "      <td>https://www.instagram.com/p/CNswcYqjwVC/</td>\n",
       "      <td>#glutenfree_#healthy_#foodie</td>\n",
       "    </tr>\n",
       "    <tr>\n",
       "      <th>2835</th>\n",
       "      <td>i just tried pasta salad for the first time…\\n...</td>\n",
       "      <td>https://www.instagram.com/p/CgzUBB6q8L6/</td>\n",
       "      <td>#glutenfree_#healthy_#foodie</td>\n",
       "    </tr>\n",
       "    <tr>\n",
       "      <th>3660</th>\n",
       "      <td>like a regular loaded veg bowl, but elevated 🤷...</td>\n",
       "      <td>https://www.instagram.com/p/BzOgm6MDQqK/</td>\n",
       "      <td>#glutenfree_#healthy_#foodie</td>\n",
       "    </tr>\n",
       "  </tbody>\n",
       "</table>\n",
       "<p>260 rows × 3 columns</p>\n",
       "</div>"
      ],
      "text/plain": [
       "                                          original_text  \\\n",
       "6786  Guess who just booked the next #<b>holly</b>go...   \n",
       "7325  Sorry for another pic from May Ball, but it ga...   \n",
       "6740  Come with us to the mountains 🏔✨ Episode  of t...   \n",
       "1487  Wanted to say a huge THANK YOU for all the lov...   \n",
       "7197  I love London 🇬🇧 But one of my favourite thing...   \n",
       "...                                                 ...   \n",
       "3315  hitting all my OG followers in their feels wit...   \n",
       "3165  more...thanksgiving...leftovers... 😚 bc i know...   \n",
       "3078  on wednesday we *eat* pink...and on thursday w...   \n",
       "2835  i just tried pasta salad for the first time…\\n...   \n",
       "3660  like a regular loaded veg bowl, but elevated 🤷...   \n",
       "\n",
       "                                           url                         topic  \n",
       "6786  https://www.instagram.com/p/Ce0X-05N5pB/                guys_new_video  \n",
       "7325  https://www.instagram.com/p/BVzNLpAlcru/                guys_new_video  \n",
       "6740  https://www.instagram.com/p/CidKIngAr2e/                guys_new_video  \n",
       "1487  https://www.instagram.com/p/BwBq2mBhJQ1/                guys_new_video  \n",
       "7197  https://www.instagram.com/p/Bmu8FutAvTm/                guys_new_video  \n",
       "...                                        ...                           ...  \n",
       "3315  https://www.instagram.com/p/CAGbjJFJCiQ/  #glutenfree_#healthy_#foodie  \n",
       "3165  https://www.instagram.com/p/CIMHpXxD-8F/  #glutenfree_#healthy_#foodie  \n",
       "3078  https://www.instagram.com/p/CNswcYqjwVC/  #glutenfree_#healthy_#foodie  \n",
       "2835  https://www.instagram.com/p/CgzUBB6q8L6/  #glutenfree_#healthy_#foodie  \n",
       "3660  https://www.instagram.com/p/BzOgm6MDQqK/  #glutenfree_#healthy_#foodie  \n",
       "\n",
       "[260 rows x 3 columns]"
      ]
     },
     "execution_count": 56,
     "metadata": {},
     "output_type": "execute_result"
    }
   ],
   "source": [
    "df"
   ]
  },
  {
   "cell_type": "code",
   "execution_count": 206,
   "id": "a046b479-a2d3-47ea-8fce-0b79b9e1b423",
   "metadata": {},
   "outputs": [
    {
     "ename": "KeyError",
     "evalue": "<class 'float'>",
     "output_type": "error",
     "traceback": [
      "\u001b[0;31m---------------------------------------------------------------------------\u001b[0m",
      "\u001b[0;31mKeyError\u001b[0m                                  Traceback (most recent call last)",
      "Cell \u001b[0;32mIn[206], line 7\u001b[0m\n\u001b[1;32m      4\u001b[0m \u001b[38;5;28;01mfrom\u001b[39;00m \u001b[38;5;21;01mrpy2\u001b[39;00m\u001b[38;5;21;01m.\u001b[39;00m\u001b[38;5;21;01mrobjects\u001b[39;00m\u001b[38;5;21;01m.\u001b[39;00m\u001b[38;5;21;01mpackages\u001b[39;00m \u001b[38;5;28;01mimport\u001b[39;00m importr\n\u001b[1;32m      5\u001b[0m base \u001b[38;5;241m=\u001b[39m importr(\u001b[38;5;124m'\u001b[39m\u001b[38;5;124mbase\u001b[39m\u001b[38;5;124m'\u001b[39m)\n\u001b[0;32m----> 7\u001b[0m dataf_rnorm \u001b[38;5;241m=\u001b[39m \u001b[43mrobjects\u001b[49m\u001b[38;5;241;43m.\u001b[39;49m\u001b[43mDataFrame\u001b[49m\u001b[43m(\u001b[49m\u001b[43mddist_blog\u001b[49m\u001b[38;5;241;43m.\u001b[39;49m\u001b[43miloc\u001b[49m\u001b[43m[\u001b[49m\u001b[43m:\u001b[49m\u001b[43m,\u001b[49m\u001b[38;5;241;43m0\u001b[39;49m\u001b[43m:\u001b[49m\u001b[38;5;241;43m-\u001b[39;49m\u001b[38;5;241;43m1\u001b[39;49m\u001b[43m]\u001b[49m\u001b[43m)\u001b[49m\n\u001b[1;32m      8\u001b[0m robjects\u001b[38;5;241m.\u001b[39mr(\u001b[38;5;124m'''\u001b[39m\u001b[38;5;124m \u001b[39m\n\u001b[1;32m      9\u001b[0m \u001b[38;5;124mlibrary(data.table)\u001b[39m\n\u001b[1;32m     10\u001b[0m \u001b[38;5;124mtopic.title.tall <- melt(setDT(ddist_blog), id.vars = c(\u001b[39m\u001b[38;5;124m\"\u001b[39m\u001b[38;5;124mtitle\u001b[39m\u001b[38;5;124m\"\u001b[39m\u001b[38;5;124m), variable.name = \u001b[39m\u001b[38;5;124m\"\u001b[39m\u001b[38;5;124mtopic\u001b[39m\u001b[38;5;124m\"\u001b[39m\u001b[38;5;124m)\u001b[39m\n\u001b[1;32m     11\u001b[0m \u001b[38;5;124m'''\u001b[39m)\n",
      "File \u001b[0;32m/usr/local/lib/python3.9/site-packages/rpy2/robjects/vectors.py:1292\u001b[0m, in \u001b[0;36mDataFrame.__init__\u001b[0;34m(self, obj, stringsasfactor, checknames)\u001b[0m\n\u001b[1;32m   1290\u001b[0m cv \u001b[38;5;241m=\u001b[39m conversion\u001b[38;5;241m.\u001b[39mget_conversion()\n\u001b[1;32m   1291\u001b[0m \u001b[38;5;28;01mtry\u001b[39;00m:\n\u001b[0;32m-> 1292\u001b[0m     kv \u001b[38;5;241m=\u001b[39m [(\u001b[38;5;28mstr\u001b[39m(k), cv\u001b[38;5;241m.\u001b[39mpy2rpy(v)) \u001b[38;5;28;01mfor\u001b[39;00m k, v \u001b[38;5;129;01min\u001b[39;00m obj\u001b[38;5;241m.\u001b[39mitems()]\n\u001b[1;32m   1293\u001b[0m \u001b[38;5;28;01mexcept\u001b[39;00m \u001b[38;5;167;01mAttributeError\u001b[39;00m:\n\u001b[1;32m   1294\u001b[0m     \u001b[38;5;28;01mraise\u001b[39;00m \u001b[38;5;167;01mValueError\u001b[39;00m(\n\u001b[1;32m   1295\u001b[0m         \u001b[38;5;124m'\u001b[39m\u001b[38;5;124mobj can only be\u001b[39m\u001b[38;5;124m'\u001b[39m\n\u001b[1;32m   1296\u001b[0m         \u001b[38;5;124m'\u001b[39m\u001b[38;5;124man instance of rpy2.rinterface.ListSexpVector, \u001b[39m\u001b[38;5;124m'\u001b[39m\n\u001b[0;32m   (...)\u001b[0m\n\u001b[1;32m   1299\u001b[0m         \u001b[38;5;124m'\u001b[39m\u001b[38;5;124m(key, value) pairs \u001b[39m\u001b[38;5;124m'\u001b[39m\n\u001b[1;32m   1300\u001b[0m         \u001b[38;5;124m'\u001b[39m\u001b[38;5;124m(such a Python dict, rpy2.rlike.container OrdDict).\u001b[39m\u001b[38;5;124m'\u001b[39m)\n",
      "File \u001b[0;32m/usr/local/lib/python3.9/site-packages/rpy2/robjects/vectors.py:1292\u001b[0m, in \u001b[0;36m<listcomp>\u001b[0;34m(.0)\u001b[0m\n\u001b[1;32m   1290\u001b[0m cv \u001b[38;5;241m=\u001b[39m conversion\u001b[38;5;241m.\u001b[39mget_conversion()\n\u001b[1;32m   1291\u001b[0m \u001b[38;5;28;01mtry\u001b[39;00m:\n\u001b[0;32m-> 1292\u001b[0m     kv \u001b[38;5;241m=\u001b[39m [(\u001b[38;5;28mstr\u001b[39m(k), \u001b[43mcv\u001b[49m\u001b[38;5;241;43m.\u001b[39;49m\u001b[43mpy2rpy\u001b[49m\u001b[43m(\u001b[49m\u001b[43mv\u001b[49m\u001b[43m)\u001b[49m) \u001b[38;5;28;01mfor\u001b[39;00m k, v \u001b[38;5;129;01min\u001b[39;00m obj\u001b[38;5;241m.\u001b[39mitems()]\n\u001b[1;32m   1293\u001b[0m \u001b[38;5;28;01mexcept\u001b[39;00m \u001b[38;5;167;01mAttributeError\u001b[39;00m:\n\u001b[1;32m   1294\u001b[0m     \u001b[38;5;28;01mraise\u001b[39;00m \u001b[38;5;167;01mValueError\u001b[39;00m(\n\u001b[1;32m   1295\u001b[0m         \u001b[38;5;124m'\u001b[39m\u001b[38;5;124mobj can only be\u001b[39m\u001b[38;5;124m'\u001b[39m\n\u001b[1;32m   1296\u001b[0m         \u001b[38;5;124m'\u001b[39m\u001b[38;5;124man instance of rpy2.rinterface.ListSexpVector, \u001b[39m\u001b[38;5;124m'\u001b[39m\n\u001b[0;32m   (...)\u001b[0m\n\u001b[1;32m   1299\u001b[0m         \u001b[38;5;124m'\u001b[39m\u001b[38;5;124m(key, value) pairs \u001b[39m\u001b[38;5;124m'\u001b[39m\n\u001b[1;32m   1300\u001b[0m         \u001b[38;5;124m'\u001b[39m\u001b[38;5;124m(such a Python dict, rpy2.rlike.container OrdDict).\u001b[39m\u001b[38;5;124m'\u001b[39m)\n",
      "File \u001b[0;32m/usr/local/Cellar/python@3.9/3.9.16/Frameworks/Python.framework/Versions/3.9/lib/python3.9/functools.py:888\u001b[0m, in \u001b[0;36msingledispatch.<locals>.wrapper\u001b[0;34m(*args, **kw)\u001b[0m\n\u001b[1;32m    884\u001b[0m \u001b[38;5;28;01mif\u001b[39;00m \u001b[38;5;129;01mnot\u001b[39;00m args:\n\u001b[1;32m    885\u001b[0m     \u001b[38;5;28;01mraise\u001b[39;00m \u001b[38;5;167;01mTypeError\u001b[39;00m(\u001b[38;5;124mf\u001b[39m\u001b[38;5;124m'\u001b[39m\u001b[38;5;132;01m{\u001b[39;00mfuncname\u001b[38;5;132;01m}\u001b[39;00m\u001b[38;5;124m requires at least \u001b[39m\u001b[38;5;124m'\u001b[39m\n\u001b[1;32m    886\u001b[0m                     \u001b[38;5;124m'\u001b[39m\u001b[38;5;124m1 positional argument\u001b[39m\u001b[38;5;124m'\u001b[39m)\n\u001b[0;32m--> 888\u001b[0m \u001b[38;5;28;01mreturn\u001b[39;00m \u001b[43mdispatch\u001b[49m\u001b[43m(\u001b[49m\u001b[43margs\u001b[49m\u001b[43m[\u001b[49m\u001b[38;5;241;43m0\u001b[39;49m\u001b[43m]\u001b[49m\u001b[38;5;241;43m.\u001b[39;49m\u001b[38;5;18;43m__class__\u001b[39;49m\u001b[43m)\u001b[49m\u001b[43m(\u001b[49m\u001b[38;5;241;43m*\u001b[39;49m\u001b[43margs\u001b[49m\u001b[43m,\u001b[49m\u001b[43m \u001b[49m\u001b[38;5;241;43m*\u001b[39;49m\u001b[38;5;241;43m*\u001b[39;49m\u001b[43mkw\u001b[49m\u001b[43m)\u001b[49m\n",
      "File \u001b[0;32m/usr/local/lib/python3.9/site-packages/rpy2/robjects/pandas2ri.py:223\u001b[0m, in \u001b[0;36mpy2rpy_pandasseries\u001b[0;34m(obj)\u001b[0m\n\u001b[1;32m    216\u001b[0m             \u001b[38;5;28;01mraise\u001b[39;00m \u001b[38;5;167;01mValueError\u001b[39;00m(\n\u001b[1;32m    217\u001b[0m                 \u001b[38;5;124m'\u001b[39m\u001b[38;5;124mSeries can only be of one type, or None \u001b[39m\u001b[38;5;124m'\u001b[39m\n\u001b[1;32m    218\u001b[0m                 \u001b[38;5;124m'\u001b[39m\u001b[38;5;124m(and here we have \u001b[39m\u001b[38;5;132;01m%s\u001b[39;00m\u001b[38;5;124m and \u001b[39m\u001b[38;5;132;01m%s\u001b[39;00m\u001b[38;5;124m). If happening with \u001b[39m\u001b[38;5;124m'\u001b[39m\n\u001b[1;32m    219\u001b[0m                 \u001b[38;5;124m'\u001b[39m\u001b[38;5;124ma pandas DataFrame the method infer_objects() \u001b[39m\u001b[38;5;124m'\u001b[39m\n\u001b[1;32m    220\u001b[0m                 \u001b[38;5;124m'\u001b[39m\u001b[38;5;124mwill normalize data types before conversion.\u001b[39m\u001b[38;5;124m'\u001b[39m \u001b[38;5;241m%\u001b[39m\n\u001b[1;32m    221\u001b[0m                 (homogeneous_type, \u001b[38;5;28mtype\u001b[39m(x)))\n\u001b[1;32m    222\u001b[0m     \u001b[38;5;66;03m# TODO: Could this be merged with obj.type.name == 'O' case above ?\u001b[39;00m\n\u001b[0;32m--> 223\u001b[0m     res \u001b[38;5;241m=\u001b[39m \u001b[43m_PANDASTYPE2RPY2\u001b[49m\u001b[43m[\u001b[49m\u001b[43mhomogeneous_type\u001b[49m\u001b[43m]\u001b[49m(obj)\n\u001b[1;32m    224\u001b[0m \u001b[38;5;28;01melif\u001b[39;00m \u001b[38;5;28mtype\u001b[39m(obj\u001b[38;5;241m.\u001b[39mdtype) \u001b[38;5;129;01min\u001b[39;00m (pandas\u001b[38;5;241m.\u001b[39mFloat64Dtype, pandas\u001b[38;5;241m.\u001b[39mBooleanDtype):\n\u001b[1;32m    225\u001b[0m     res \u001b[38;5;241m=\u001b[39m _PANDASTYPE2RPY2[\u001b[38;5;28mtype\u001b[39m(obj\u001b[38;5;241m.\u001b[39mdtype)](obj)\n",
      "\u001b[0;31mKeyError\u001b[0m: <class 'float'>"
     ]
    }
   ],
   "source": [
    "import math, datetime\n",
    "import rpy2.robjects.lib.ggplot2 as ggplot2\n",
    "import rpy2.robjects as ro\n",
    "from rpy2.robjects.packages import importr\n",
    "base = importr('base')\n",
    "\n",
    "dataf_rnorm = robjects.DataFrame(ddist_blog.iloc[:,0:-1])\n",
    "robjects.r(''' \n",
    "library(data.table)\n",
    "topic.title.tall <- melt(setDT(ddist_blog), id.vars = c(\"title\"), variable.name = \"topic\")\n",
    "''')"
   ]
  },
  {
   "cell_type": "code",
   "execution_count": 198,
   "id": "d03f7910-d7ad-4d65-b921-bf7a3bef08fa",
   "metadata": {},
   "outputs": [
    {
     "ename": "PlotnineError",
     "evalue": "\"Could not evaluate the 'x' mapping: 'blog' (original error: name 'blog' is not defined)\"",
     "output_type": "error",
     "traceback": [
      "\u001b[0;31m---------------------------------------------------------------------------\u001b[0m",
      "\u001b[0;31mNameError\u001b[0m                                 Traceback (most recent call last)",
      "File \u001b[0;32m/usr/local/lib/python3.9/site-packages/plotnine/mapping/evaluation.py:228\u001b[0m, in \u001b[0;36mevaluate\u001b[0;34m(aesthetics, data, env)\u001b[0m\n\u001b[1;32m    227\u001b[0m \u001b[38;5;28;01mtry\u001b[39;00m:\n\u001b[0;32m--> 228\u001b[0m     new_val \u001b[38;5;241m=\u001b[39m \u001b[43menv\u001b[49m\u001b[38;5;241;43m.\u001b[39;49m\u001b[43meval\u001b[49m\u001b[43m(\u001b[49m\u001b[43mcol\u001b[49m\u001b[43m,\u001b[49m\u001b[43m \u001b[49m\u001b[43minner_namespace\u001b[49m\u001b[38;5;241;43m=\u001b[39;49m\u001b[43mdata\u001b[49m\u001b[43m)\u001b[49m\n\u001b[1;32m    229\u001b[0m \u001b[38;5;28;01mexcept\u001b[39;00m \u001b[38;5;167;01mException\u001b[39;00m \u001b[38;5;28;01mas\u001b[39;00m e:\n",
      "File \u001b[0;32m/usr/local/lib/python3.9/site-packages/patsy/eval.py:169\u001b[0m, in \u001b[0;36mEvalEnvironment.eval\u001b[0;34m(self, expr, source_name, inner_namespace)\u001b[0m\n\u001b[1;32m    168\u001b[0m code \u001b[38;5;241m=\u001b[39m \u001b[38;5;28mcompile\u001b[39m(expr, source_name, \u001b[38;5;124m\"\u001b[39m\u001b[38;5;124meval\u001b[39m\u001b[38;5;124m\"\u001b[39m, \u001b[38;5;28mself\u001b[39m\u001b[38;5;241m.\u001b[39mflags, \u001b[38;5;28;01mFalse\u001b[39;00m)\n\u001b[0;32m--> 169\u001b[0m \u001b[38;5;28;01mreturn\u001b[39;00m \u001b[38;5;28;43meval\u001b[39;49m\u001b[43m(\u001b[49m\u001b[43mcode\u001b[49m\u001b[43m,\u001b[49m\u001b[43m \u001b[49m\u001b[43m{\u001b[49m\u001b[43m}\u001b[49m\u001b[43m,\u001b[49m\u001b[43m \u001b[49m\u001b[43mVarLookupDict\u001b[49m\u001b[43m(\u001b[49m\u001b[43m[\u001b[49m\u001b[43minner_namespace\u001b[49m\u001b[43m]\u001b[49m\n\u001b[1;32m    170\u001b[0m \u001b[43m                                    \u001b[49m\u001b[38;5;241;43m+\u001b[39;49m\u001b[43m \u001b[49m\u001b[38;5;28;43mself\u001b[39;49m\u001b[38;5;241;43m.\u001b[39;49m\u001b[43m_namespaces\u001b[49m\u001b[43m)\u001b[49m\u001b[43m)\u001b[49m\n",
      "File \u001b[0;32m<string>:1\u001b[0m\n",
      "\u001b[0;31mNameError\u001b[0m: name 'blog' is not defined",
      "\nDuring handling of the above exception, another exception occurred:\n",
      "\u001b[0;31mPlotnineError\u001b[0m                             Traceback (most recent call last)",
      "File \u001b[0;32m/usr/local/lib/python3.9/site-packages/IPython/core/formatters.py:708\u001b[0m, in \u001b[0;36mPlainTextFormatter.__call__\u001b[0;34m(self, obj)\u001b[0m\n\u001b[1;32m    701\u001b[0m stream \u001b[38;5;241m=\u001b[39m StringIO()\n\u001b[1;32m    702\u001b[0m printer \u001b[38;5;241m=\u001b[39m pretty\u001b[38;5;241m.\u001b[39mRepresentationPrinter(stream, \u001b[38;5;28mself\u001b[39m\u001b[38;5;241m.\u001b[39mverbose,\n\u001b[1;32m    703\u001b[0m     \u001b[38;5;28mself\u001b[39m\u001b[38;5;241m.\u001b[39mmax_width, \u001b[38;5;28mself\u001b[39m\u001b[38;5;241m.\u001b[39mnewline,\n\u001b[1;32m    704\u001b[0m     max_seq_length\u001b[38;5;241m=\u001b[39m\u001b[38;5;28mself\u001b[39m\u001b[38;5;241m.\u001b[39mmax_seq_length,\n\u001b[1;32m    705\u001b[0m     singleton_pprinters\u001b[38;5;241m=\u001b[39m\u001b[38;5;28mself\u001b[39m\u001b[38;5;241m.\u001b[39msingleton_printers,\n\u001b[1;32m    706\u001b[0m     type_pprinters\u001b[38;5;241m=\u001b[39m\u001b[38;5;28mself\u001b[39m\u001b[38;5;241m.\u001b[39mtype_printers,\n\u001b[1;32m    707\u001b[0m     deferred_pprinters\u001b[38;5;241m=\u001b[39m\u001b[38;5;28mself\u001b[39m\u001b[38;5;241m.\u001b[39mdeferred_printers)\n\u001b[0;32m--> 708\u001b[0m \u001b[43mprinter\u001b[49m\u001b[38;5;241;43m.\u001b[39;49m\u001b[43mpretty\u001b[49m\u001b[43m(\u001b[49m\u001b[43mobj\u001b[49m\u001b[43m)\u001b[49m\n\u001b[1;32m    709\u001b[0m printer\u001b[38;5;241m.\u001b[39mflush()\n\u001b[1;32m    710\u001b[0m \u001b[38;5;28;01mreturn\u001b[39;00m stream\u001b[38;5;241m.\u001b[39mgetvalue()\n",
      "File \u001b[0;32m/usr/local/lib/python3.9/site-packages/IPython/lib/pretty.py:410\u001b[0m, in \u001b[0;36mRepresentationPrinter.pretty\u001b[0;34m(self, obj)\u001b[0m\n\u001b[1;32m    407\u001b[0m                         \u001b[38;5;28;01mreturn\u001b[39;00m meth(obj, \u001b[38;5;28mself\u001b[39m, cycle)\n\u001b[1;32m    408\u001b[0m                 \u001b[38;5;28;01mif\u001b[39;00m \u001b[38;5;28mcls\u001b[39m \u001b[38;5;129;01mis\u001b[39;00m \u001b[38;5;129;01mnot\u001b[39;00m \u001b[38;5;28mobject\u001b[39m \\\n\u001b[1;32m    409\u001b[0m                         \u001b[38;5;129;01mand\u001b[39;00m \u001b[38;5;28mcallable\u001b[39m(\u001b[38;5;28mcls\u001b[39m\u001b[38;5;241m.\u001b[39m\u001b[38;5;18m__dict__\u001b[39m\u001b[38;5;241m.\u001b[39mget(\u001b[38;5;124m'\u001b[39m\u001b[38;5;124m__repr__\u001b[39m\u001b[38;5;124m'\u001b[39m)):\n\u001b[0;32m--> 410\u001b[0m                     \u001b[38;5;28;01mreturn\u001b[39;00m \u001b[43m_repr_pprint\u001b[49m\u001b[43m(\u001b[49m\u001b[43mobj\u001b[49m\u001b[43m,\u001b[49m\u001b[43m \u001b[49m\u001b[38;5;28;43mself\u001b[39;49m\u001b[43m,\u001b[49m\u001b[43m \u001b[49m\u001b[43mcycle\u001b[49m\u001b[43m)\u001b[49m\n\u001b[1;32m    412\u001b[0m     \u001b[38;5;28;01mreturn\u001b[39;00m _default_pprint(obj, \u001b[38;5;28mself\u001b[39m, cycle)\n\u001b[1;32m    413\u001b[0m \u001b[38;5;28;01mfinally\u001b[39;00m:\n",
      "File \u001b[0;32m/usr/local/lib/python3.9/site-packages/IPython/lib/pretty.py:778\u001b[0m, in \u001b[0;36m_repr_pprint\u001b[0;34m(obj, p, cycle)\u001b[0m\n\u001b[1;32m    776\u001b[0m \u001b[38;5;250m\u001b[39m\u001b[38;5;124;03m\"\"\"A pprint that just redirects to the normal repr function.\"\"\"\u001b[39;00m\n\u001b[1;32m    777\u001b[0m \u001b[38;5;66;03m# Find newlines and replace them with p.break_()\u001b[39;00m\n\u001b[0;32m--> 778\u001b[0m output \u001b[38;5;241m=\u001b[39m \u001b[38;5;28;43mrepr\u001b[39;49m\u001b[43m(\u001b[49m\u001b[43mobj\u001b[49m\u001b[43m)\u001b[49m\n\u001b[1;32m    779\u001b[0m lines \u001b[38;5;241m=\u001b[39m output\u001b[38;5;241m.\u001b[39msplitlines()\n\u001b[1;32m    780\u001b[0m \u001b[38;5;28;01mwith\u001b[39;00m p\u001b[38;5;241m.\u001b[39mgroup():\n",
      "File \u001b[0;32m/usr/local/lib/python3.9/site-packages/plotnine/ggplot.py:114\u001b[0m, in \u001b[0;36mggplot.__repr__\u001b[0;34m(self)\u001b[0m\n\u001b[1;32m    110\u001b[0m \u001b[38;5;28;01mdef\u001b[39;00m \u001b[38;5;21m__repr__\u001b[39m(\u001b[38;5;28mself\u001b[39m) \u001b[38;5;241m-\u001b[39m\u001b[38;5;241m>\u001b[39m \u001b[38;5;28mstr\u001b[39m:\n\u001b[1;32m    111\u001b[0m \u001b[38;5;250m    \u001b[39m\u001b[38;5;124;03m\"\"\"\u001b[39;00m\n\u001b[1;32m    112\u001b[0m \u001b[38;5;124;03m    Print/show the plot\u001b[39;00m\n\u001b[1;32m    113\u001b[0m \u001b[38;5;124;03m    \"\"\"\u001b[39;00m\n\u001b[0;32m--> 114\u001b[0m     figure \u001b[38;5;241m=\u001b[39m \u001b[38;5;28;43mself\u001b[39;49m\u001b[38;5;241;43m.\u001b[39;49m\u001b[43mdraw\u001b[49m\u001b[43m(\u001b[49m\u001b[43mshow\u001b[49m\u001b[38;5;241;43m=\u001b[39;49m\u001b[38;5;28;43;01mTrue\u001b[39;49;00m\u001b[43m)\u001b[49m\n\u001b[1;32m    116\u001b[0m     dpi \u001b[38;5;241m=\u001b[39m figure\u001b[38;5;241m.\u001b[39mget_dpi()\n\u001b[1;32m    117\u001b[0m     W \u001b[38;5;241m=\u001b[39m \u001b[38;5;28mint\u001b[39m(figure\u001b[38;5;241m.\u001b[39mget_figwidth() \u001b[38;5;241m*\u001b[39m dpi)\n",
      "File \u001b[0;32m/usr/local/lib/python3.9/site-packages/plotnine/ggplot.py:224\u001b[0m, in \u001b[0;36mggplot.draw\u001b[0;34m(self, show)\u001b[0m\n\u001b[1;32m    222\u001b[0m \u001b[38;5;28mself\u001b[39m \u001b[38;5;241m=\u001b[39m deepcopy(\u001b[38;5;28mself\u001b[39m)\n\u001b[1;32m    223\u001b[0m \u001b[38;5;28;01mwith\u001b[39;00m plot_context(\u001b[38;5;28mself\u001b[39m, show\u001b[38;5;241m=\u001b[39mshow):\n\u001b[0;32m--> 224\u001b[0m     \u001b[38;5;28;43mself\u001b[39;49m\u001b[38;5;241;43m.\u001b[39;49m\u001b[43m_build\u001b[49m\u001b[43m(\u001b[49m\u001b[43m)\u001b[49m\n\u001b[1;32m    226\u001b[0m     \u001b[38;5;66;03m# setup\u001b[39;00m\n\u001b[1;32m    227\u001b[0m     figure, axs \u001b[38;5;241m=\u001b[39m \u001b[38;5;28mself\u001b[39m\u001b[38;5;241m.\u001b[39m_create_figure()\n",
      "File \u001b[0;32m/usr/local/lib/python3.9/site-packages/plotnine/ggplot.py:314\u001b[0m, in \u001b[0;36mggplot._build\u001b[0;34m(self)\u001b[0m\n\u001b[1;32m    310\u001b[0m layout\u001b[38;5;241m.\u001b[39msetup(layers, \u001b[38;5;28mself\u001b[39m)\n\u001b[1;32m    312\u001b[0m \u001b[38;5;66;03m# Compute aesthetics to produce data with generalised\u001b[39;00m\n\u001b[1;32m    313\u001b[0m \u001b[38;5;66;03m# variable names\u001b[39;00m\n\u001b[0;32m--> 314\u001b[0m \u001b[43mlayers\u001b[49m\u001b[38;5;241;43m.\u001b[39;49m\u001b[43mcompute_aesthetics\u001b[49m\u001b[43m(\u001b[49m\u001b[38;5;28;43mself\u001b[39;49m\u001b[43m)\u001b[49m\n\u001b[1;32m    316\u001b[0m \u001b[38;5;66;03m# Transform data using all scales\u001b[39;00m\n\u001b[1;32m    317\u001b[0m layers\u001b[38;5;241m.\u001b[39mtransform(scales)\n",
      "File \u001b[0;32m/usr/local/lib/python3.9/site-packages/plotnine/layer.py:467\u001b[0m, in \u001b[0;36mLayers.compute_aesthetics\u001b[0;34m(self, plot)\u001b[0m\n\u001b[1;32m    465\u001b[0m \u001b[38;5;28;01mdef\u001b[39;00m \u001b[38;5;21mcompute_aesthetics\u001b[39m(\u001b[38;5;28mself\u001b[39m, plot: Ggplot):\n\u001b[1;32m    466\u001b[0m     \u001b[38;5;28;01mfor\u001b[39;00m l \u001b[38;5;129;01min\u001b[39;00m \u001b[38;5;28mself\u001b[39m:\n\u001b[0;32m--> 467\u001b[0m         \u001b[43ml\u001b[49m\u001b[38;5;241;43m.\u001b[39;49m\u001b[43mcompute_aesthetics\u001b[49m\u001b[43m(\u001b[49m\u001b[43mplot\u001b[49m\u001b[43m)\u001b[49m\n",
      "File \u001b[0;32m/usr/local/lib/python3.9/site-packages/plotnine/layer.py:260\u001b[0m, in \u001b[0;36mlayer.compute_aesthetics\u001b[0;34m(self, plot)\u001b[0m\n\u001b[1;32m    253\u001b[0m \u001b[38;5;28;01mdef\u001b[39;00m \u001b[38;5;21mcompute_aesthetics\u001b[39m(\u001b[38;5;28mself\u001b[39m, plot: Ggplot):\n\u001b[1;32m    254\u001b[0m \u001b[38;5;250m    \u001b[39m\u001b[38;5;124;03m\"\"\"\u001b[39;00m\n\u001b[1;32m    255\u001b[0m \u001b[38;5;124;03m    Return a dataframe where the columns match the aesthetic mappings\u001b[39;00m\n\u001b[1;32m    256\u001b[0m \n\u001b[1;32m    257\u001b[0m \u001b[38;5;124;03m    Transformations like 'factor(cyl)' and other\u001b[39;00m\n\u001b[1;32m    258\u001b[0m \u001b[38;5;124;03m    expression evaluation are  made in here\u001b[39;00m\n\u001b[1;32m    259\u001b[0m \u001b[38;5;124;03m    \"\"\"\u001b[39;00m\n\u001b[0;32m--> 260\u001b[0m     evaled \u001b[38;5;241m=\u001b[39m \u001b[43mevaluate\u001b[49m\u001b[43m(\u001b[49m\u001b[38;5;28;43mself\u001b[39;49m\u001b[38;5;241;43m.\u001b[39;49m\u001b[43mmapping\u001b[49m\u001b[38;5;241;43m.\u001b[39;49m\u001b[43m_starting\u001b[49m\u001b[43m,\u001b[49m\u001b[43m \u001b[49m\u001b[38;5;28;43mself\u001b[39;49m\u001b[38;5;241;43m.\u001b[39;49m\u001b[43mdata\u001b[49m\u001b[43m,\u001b[49m\u001b[43m \u001b[49m\u001b[43mplot\u001b[49m\u001b[38;5;241;43m.\u001b[39;49m\u001b[43menvironment\u001b[49m\u001b[43m)\u001b[49m\n\u001b[1;32m    261\u001b[0m     evaled_aes \u001b[38;5;241m=\u001b[39m aes(\u001b[38;5;241m*\u001b[39m\u001b[38;5;241m*\u001b[39m{\u001b[38;5;28mstr\u001b[39m(col): col \u001b[38;5;28;01mfor\u001b[39;00m col \u001b[38;5;129;01min\u001b[39;00m evaled})\n\u001b[1;32m    262\u001b[0m     plot\u001b[38;5;241m.\u001b[39mscales\u001b[38;5;241m.\u001b[39madd_defaults(evaled, evaled_aes)\n",
      "File \u001b[0;32m/usr/local/lib/python3.9/site-packages/plotnine/mapping/evaluation.py:230\u001b[0m, in \u001b[0;36mevaluate\u001b[0;34m(aesthetics, data, env)\u001b[0m\n\u001b[1;32m    228\u001b[0m     new_val \u001b[38;5;241m=\u001b[39m env\u001b[38;5;241m.\u001b[39meval(col, inner_namespace\u001b[38;5;241m=\u001b[39mdata)\n\u001b[1;32m    229\u001b[0m \u001b[38;5;28;01mexcept\u001b[39;00m \u001b[38;5;167;01mException\u001b[39;00m \u001b[38;5;28;01mas\u001b[39;00m e:\n\u001b[0;32m--> 230\u001b[0m     \u001b[38;5;28;01mraise\u001b[39;00m PlotnineError(_TPL_EVAL_FAIL\u001b[38;5;241m.\u001b[39mformat(ae, col, \u001b[38;5;28mstr\u001b[39m(e)))\n\u001b[1;32m    232\u001b[0m \u001b[38;5;28;01mtry\u001b[39;00m:\n\u001b[1;32m    233\u001b[0m     evaled[ae] \u001b[38;5;241m=\u001b[39m new_val\n",
      "\u001b[0;31mPlotnineError\u001b[0m: \"Could not evaluate the 'x' mapping: 'blog' (original error: name 'blog' is not defined)\""
     ]
    }
   ],
   "source": [
    "from plotnine import ggplot, aes, geom_line,geom_tile, scale_fill_gradient\n",
    "(\n",
    "ggplot(ddist_blog.iloc[:,0:-1], aes(x='blog')) +\n",
    "    # geom_tile(aes(fill = value)) + \n",
    "    # geom_text(aes(label = round(value, 2))) +\n",
    "    scale_fill_gradient(low = \"white\", high = \"red\")\n",
    "    # +theme(text = element_text(size=20),axis.text.x = element_text(angle=45, hjust=1))\n",
    ")"
   ]
  },
  {
   "cell_type": "code",
   "execution_count": 199,
   "id": "40473e75-c951-4974-8aae-01eb554e281d",
   "metadata": {},
   "outputs": [
    {
     "data": {
      "text/html": [
       "<div>\n",
       "<style scoped>\n",
       "    .dataframe tbody tr th:only-of-type {\n",
       "        vertical-align: middle;\n",
       "    }\n",
       "\n",
       "    .dataframe tbody tr th {\n",
       "        vertical-align: top;\n",
       "    }\n",
       "\n",
       "    .dataframe thead th {\n",
       "        text-align: right;\n",
       "    }\n",
       "</style>\n",
       "<table border=\"1\" class=\"dataframe\">\n",
       "  <thead>\n",
       "    <tr style=\"text-align: right;\">\n",
       "      <th></th>\n",
       "      <th>eating_support_alliance_us</th>\n",
       "      <th>bowl_oats_butter_almond</th>\n",
       "      <th>life_body_feel_like</th>\n",
       "      <th>roasted_#healthy_oil_add</th>\n",
       "      <th>body_like_feel_day</th>\n",
       "      <th>day_time_one_like</th>\n",
       "      <th>cup_chocolate_butter_add</th>\n",
       "      <th>id</th>\n",
       "    </tr>\n",
       "    <tr>\n",
       "      <th>blog</th>\n",
       "      <th></th>\n",
       "      <th></th>\n",
       "      <th></th>\n",
       "      <th></th>\n",
       "      <th></th>\n",
       "      <th></th>\n",
       "      <th></th>\n",
       "      <th></th>\n",
       "    </tr>\n",
       "  </thead>\n",
       "  <tbody>\n",
       "    <tr>\n",
       "      <th>Breeelenehan</th>\n",
       "      <td>0.004505</td>\n",
       "      <td>0.011943</td>\n",
       "      <td>0.032642</td>\n",
       "      <td>0.002196</td>\n",
       "      <td>0.805447</td>\n",
       "      <td>0.123988</td>\n",
       "      <td>0.006482</td>\n",
       "      <td>1873399</td>\n",
       "    </tr>\n",
       "    <tr>\n",
       "      <th>alliancefored</th>\n",
       "      <td>0.901694</td>\n",
       "      <td>0.000727</td>\n",
       "      <td>0.074312</td>\n",
       "      <td>0.0</td>\n",
       "      <td>0.035109</td>\n",
       "      <td>0.021241</td>\n",
       "      <td>0.000715</td>\n",
       "      <td>6127291</td>\n",
       "    </tr>\n",
       "    <tr>\n",
       "      <th>amandavsevilla</th>\n",
       "      <td>0.009553</td>\n",
       "      <td>0.019371</td>\n",
       "      <td>0.158634</td>\n",
       "      <td>0.015112</td>\n",
       "      <td>0.018207</td>\n",
       "      <td>0.11161</td>\n",
       "      <td>0.005156</td>\n",
       "      <td>6136628</td>\n",
       "    </tr>\n",
       "    <tr>\n",
       "      <th>anxiousgayyy</th>\n",
       "      <td>0.000502</td>\n",
       "      <td>0.0</td>\n",
       "      <td>0.020532</td>\n",
       "      <td>0.000634</td>\n",
       "      <td>0.002199</td>\n",
       "      <td>0.002959</td>\n",
       "      <td>0.0</td>\n",
       "      <td>132541</td>\n",
       "    </tr>\n",
       "    <tr>\n",
       "      <th>healthfulradiance</th>\n",
       "      <td>0.009095</td>\n",
       "      <td>0.587512</td>\n",
       "      <td>0.09613</td>\n",
       "      <td>0.699153</td>\n",
       "      <td>0.027373</td>\n",
       "      <td>0.112608</td>\n",
       "      <td>0.944535</td>\n",
       "      <td>14710522</td>\n",
       "    </tr>\n",
       "    <tr>\n",
       "      <th>imtrying-butimpissed</th>\n",
       "      <td>0.024045</td>\n",
       "      <td>0.015182</td>\n",
       "      <td>0.285263</td>\n",
       "      <td>0.004865</td>\n",
       "      <td>0.031289</td>\n",
       "      <td>0.040838</td>\n",
       "      <td>0.0</td>\n",
       "      <td>1490061</td>\n",
       "    </tr>\n",
       "    <tr>\n",
       "      <th>itsclairexu</th>\n",
       "      <td>0.036686</td>\n",
       "      <td>0.293368</td>\n",
       "      <td>0.30226</td>\n",
       "      <td>0.09059</td>\n",
       "      <td>0.05645</td>\n",
       "      <td>0.139927</td>\n",
       "      <td>0.03727</td>\n",
       "      <td>14539093</td>\n",
       "    </tr>\n",
       "    <tr>\n",
       "      <th>veganhollyg</th>\n",
       "      <td>0.013919</td>\n",
       "      <td>0.071898</td>\n",
       "      <td>0.030227</td>\n",
       "      <td>0.187451</td>\n",
       "      <td>0.023927</td>\n",
       "      <td>0.446829</td>\n",
       "      <td>0.005842</td>\n",
       "      <td>12825333</td>\n",
       "    </tr>\n",
       "  </tbody>\n",
       "</table>\n",
       "</div>"
      ],
      "text/plain": [
       "                     eating_support_alliance_us bowl_oats_butter_almond  \\\n",
       "blog                                                                      \n",
       "Breeelenehan                           0.004505                0.011943   \n",
       "alliancefored                          0.901694                0.000727   \n",
       "amandavsevilla                         0.009553                0.019371   \n",
       "anxiousgayyy                           0.000502                     0.0   \n",
       "healthfulradiance                      0.009095                0.587512   \n",
       "imtrying-butimpissed                   0.024045                0.015182   \n",
       "itsclairexu                            0.036686                0.293368   \n",
       "veganhollyg                            0.013919                0.071898   \n",
       "\n",
       "                     life_body_feel_like roasted_#healthy_oil_add  \\\n",
       "blog                                                                \n",
       "Breeelenehan                    0.032642                 0.002196   \n",
       "alliancefored                   0.074312                      0.0   \n",
       "amandavsevilla                  0.158634                 0.015112   \n",
       "anxiousgayyy                    0.020532                 0.000634   \n",
       "healthfulradiance                0.09613                 0.699153   \n",
       "imtrying-butimpissed            0.285263                 0.004865   \n",
       "itsclairexu                      0.30226                  0.09059   \n",
       "veganhollyg                     0.030227                 0.187451   \n",
       "\n",
       "                     body_like_feel_day day_time_one_like  \\\n",
       "blog                                                        \n",
       "Breeelenehan                   0.805447          0.123988   \n",
       "alliancefored                  0.035109          0.021241   \n",
       "amandavsevilla                 0.018207           0.11161   \n",
       "anxiousgayyy                   0.002199          0.002959   \n",
       "healthfulradiance              0.027373          0.112608   \n",
       "imtrying-butimpissed           0.031289          0.040838   \n",
       "itsclairexu                     0.05645          0.139927   \n",
       "veganhollyg                    0.023927          0.446829   \n",
       "\n",
       "                     cup_chocolate_butter_add        id  \n",
       "blog                                                     \n",
       "Breeelenehan                         0.006482   1873399  \n",
       "alliancefored                        0.000715   6127291  \n",
       "amandavsevilla                       0.005156   6136628  \n",
       "anxiousgayyy                              0.0    132541  \n",
       "healthfulradiance                    0.944535  14710522  \n",
       "imtrying-butimpissed                      0.0   1490061  \n",
       "itsclairexu                           0.03727  14539093  \n",
       "veganhollyg                          0.005842  12825333  "
      ]
     },
     "execution_count": 199,
     "metadata": {},
     "output_type": "execute_result"
    }
   ],
   "source": [
    "ddist_blog"
   ]
  }
 ],
 "metadata": {
  "kernelspec": {
   "display_name": "Python 3 (ipykernel)",
   "language": "python",
   "name": "python3"
  },
  "language_info": {
   "codemirror_mode": {
    "name": "ipython",
    "version": 3
   },
   "file_extension": ".py",
   "mimetype": "text/x-python",
   "name": "python",
   "nbconvert_exporter": "python",
   "pygments_lexer": "ipython3",
   "version": "3.9.16"
  },
  "toc-autonumbering": false,
  "toc-showcode": true,
  "toc-showmarkdowntxt": false
 },
 "nbformat": 4,
 "nbformat_minor": 5
}
