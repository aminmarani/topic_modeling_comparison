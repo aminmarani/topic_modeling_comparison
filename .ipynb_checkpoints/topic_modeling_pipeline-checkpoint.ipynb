{
 "cells": [
  {
   "cell_type": "markdown",
   "id": "f821c6c0-a80e-4dec-8d4a-63402add6713",
   "metadata": {},
   "source": [
    "# topic modeling pipeline\n",
    "\n",
    "This notebook will walk you through:\n",
    "1. data reterival from SQL database\n",
    "2. Pre-processing data\n",
    "3. Running topic modeling (different models)\n",
    "4. post processing (including showing topics, topic-doc distribution, etc.)\n",
    "5. Storing results into DB"
   ]
  },
  {
   "cell_type": "markdown",
   "id": "f08f405f-ce90-4ad5-abc0-3649dbc807ed",
   "metadata": {},
   "source": [
    "# imports"
   ]
  },
  {
   "cell_type": "code",
   "execution_count": 1,
   "id": "e4e5deed-c592-492d-8038-332034300663",
   "metadata": {},
   "outputs": [
    {
     "name": "stderr",
     "output_type": "stream",
     "text": [
      "[nltk_data] Downloading package stopwords to /Users/das-\n",
      "[nltk_data]     lab/nltk_data...\n",
      "[nltk_data]   Package stopwords is already up-to-date!\n",
      "[nltk_data] Downloading package wordnet to /Users/das-lab/nltk_data...\n",
      "[nltk_data]   Package wordnet is already up-to-date!\n",
      "[nltk_data] Downloading package omw-1.4 to /Users/das-lab/nltk_data...\n",
      "[nltk_data]   Package omw-1.4 is already up-to-date!\n",
      "[nltk_data] Downloading package averaged_perceptron_tagger to\n",
      "[nltk_data]     /Users/das-lab/nltk_data...\n",
      "[nltk_data]   Package averaged_perceptron_tagger is already up-to-\n",
      "[nltk_data]       date!\n"
     ]
    }
   ],
   "source": [
    "from pre_processing import remove_html_tags, preprocess_data, prepare_corpus\n",
    "from rpy2 import robjects #loading R inside Python\n",
    "#importing functions to read pandas DF\n",
    "from rpy2.robjects import pandas2ri\n",
    "pandas2ri.activate()\n",
    "from rpy2.robjects.packages import importr\n",
    "from rpy2.robjects.conversion import localconverter\n",
    "\n",
    "import pandas as pd\n",
    "\n",
    "import numpy as np\n",
    "\n",
    "#import R base library\n",
    "base = importr('base')"
   ]
  },
  {
   "cell_type": "markdown",
   "id": "5367f3b3-eb1d-43be-bb75-a96bce0e900b",
   "metadata": {},
   "source": [
    "# Loading data from SQL database\n",
    "\n",
    "First creating a connection\n",
    "\n",
    "**In order to create a connection from anywhere in LU network you need to run the command below in terminal. Replace your username with amh418 in the command below.**\n",
    "\n",
    "ssh -L 3306:127.0.0.1:3306 -N -f amh418@128.180.111.76   #it will ask for lehigh pass\n",
    "\n",
    "on network (128.180.111.76)\n",
    "outside the network (ssh.lehigh.edu)\n",
    "\n",
    "**if you need to kill to SSH forwarding use the link below**\n",
    "\n",
    "https://superuser.com/questions/87014/how-do-i-remove-an-ssh-forwarded-port\n"
   ]
  },
  {
   "cell_type": "code",
   "execution_count": 1,
   "id": "d6768609-2fdd-4816-8a83-cdb03c94f99c",
   "metadata": {},
   "outputs": [
    {
     "ename": "ProgrammingError",
     "evalue": "1045 (28000): Access denied for user 'push'@'dyn203071.cc.lehigh.edu' (using password: YES)",
     "output_type": "error",
     "traceback": [
      "\u001b[0;31m---------------------------------------------------------------------------\u001b[0m",
      "\u001b[0;31mProgrammingError\u001b[0m                          Traceback (most recent call last)",
      "\u001b[0;32m/var/folders/86/nw630jn16nsg2zqycwy774640000gn/T/ipykernel_52495/1303590898.py\u001b[0m in \u001b[0;36m<module>\u001b[0;34m\u001b[0m\n\u001b[1;32m      3\u001b[0m \u001b[0;31m#connecting to DB\u001b[0m\u001b[0;34m\u001b[0m\u001b[0;34m\u001b[0m\u001b[0;34m\u001b[0m\u001b[0m\n\u001b[1;32m      4\u001b[0m cnx = mysql.connector.connect(user='push', password='ElI)g!LDOBIwM)%*5o5{dbfz('\n\u001b[0;32m----> 5\u001b[0;31m                               ,host='128.180.111.76',database='edml')\n\u001b[0m",
      "\u001b[0;32m/usr/local/lib/python3.7/site-packages/mysql/connector/pooling.py\u001b[0m in \u001b[0;36mconnect\u001b[0;34m(*args, **kwargs)\u001b[0m\n\u001b[1;32m    285\u001b[0m     \u001b[0;32mif\u001b[0m \u001b[0mCMySQLConnection\u001b[0m \u001b[0;32mand\u001b[0m \u001b[0;32mnot\u001b[0m \u001b[0muse_pure\u001b[0m\u001b[0;34m:\u001b[0m\u001b[0;34m\u001b[0m\u001b[0;34m\u001b[0m\u001b[0m\n\u001b[1;32m    286\u001b[0m         \u001b[0;32mreturn\u001b[0m \u001b[0mCMySQLConnection\u001b[0m\u001b[0;34m(\u001b[0m\u001b[0;34m*\u001b[0m\u001b[0margs\u001b[0m\u001b[0;34m,\u001b[0m \u001b[0;34m**\u001b[0m\u001b[0mkwargs\u001b[0m\u001b[0;34m)\u001b[0m\u001b[0;34m\u001b[0m\u001b[0;34m\u001b[0m\u001b[0m\n\u001b[0;32m--> 287\u001b[0;31m     \u001b[0;32mreturn\u001b[0m \u001b[0mMySQLConnection\u001b[0m\u001b[0;34m(\u001b[0m\u001b[0;34m*\u001b[0m\u001b[0margs\u001b[0m\u001b[0;34m,\u001b[0m \u001b[0;34m**\u001b[0m\u001b[0mkwargs\u001b[0m\u001b[0;34m)\u001b[0m\u001b[0;34m\u001b[0m\u001b[0;34m\u001b[0m\u001b[0m\n\u001b[0m\u001b[1;32m    288\u001b[0m \u001b[0;34m\u001b[0m\u001b[0m\n\u001b[1;32m    289\u001b[0m \u001b[0;34m\u001b[0m\u001b[0m\n",
      "\u001b[0;32m/usr/local/lib/python3.7/site-packages/mysql/connector/connection.py\u001b[0m in \u001b[0;36m__init__\u001b[0;34m(self, **kwargs)\u001b[0m\n\u001b[1;32m    135\u001b[0m         \u001b[0;32mif\u001b[0m \u001b[0mkwargs\u001b[0m\u001b[0;34m:\u001b[0m\u001b[0;34m\u001b[0m\u001b[0;34m\u001b[0m\u001b[0m\n\u001b[1;32m    136\u001b[0m             \u001b[0;32mtry\u001b[0m\u001b[0;34m:\u001b[0m\u001b[0;34m\u001b[0m\u001b[0;34m\u001b[0m\u001b[0m\n\u001b[0;32m--> 137\u001b[0;31m                 \u001b[0mself\u001b[0m\u001b[0;34m.\u001b[0m\u001b[0mconnect\u001b[0m\u001b[0;34m(\u001b[0m\u001b[0;34m**\u001b[0m\u001b[0mkwargs\u001b[0m\u001b[0;34m)\u001b[0m\u001b[0;34m\u001b[0m\u001b[0;34m\u001b[0m\u001b[0m\n\u001b[0m\u001b[1;32m    138\u001b[0m             \u001b[0;32mexcept\u001b[0m \u001b[0mException\u001b[0m\u001b[0;34m:\u001b[0m\u001b[0;34m\u001b[0m\u001b[0;34m\u001b[0m\u001b[0m\n\u001b[1;32m    139\u001b[0m                 \u001b[0;31m# Tidy-up underlying socket on failure\u001b[0m\u001b[0;34m\u001b[0m\u001b[0;34m\u001b[0m\u001b[0;34m\u001b[0m\u001b[0m\n",
      "\u001b[0;32m/usr/local/lib/python3.7/site-packages/mysql/connector/abstracts.py\u001b[0m in \u001b[0;36mconnect\u001b[0;34m(self, **kwargs)\u001b[0m\n\u001b[1;32m   1106\u001b[0m \u001b[0;34m\u001b[0m\u001b[0m\n\u001b[1;32m   1107\u001b[0m         \u001b[0mself\u001b[0m\u001b[0;34m.\u001b[0m\u001b[0mdisconnect\u001b[0m\u001b[0;34m(\u001b[0m\u001b[0;34m)\u001b[0m\u001b[0;34m\u001b[0m\u001b[0;34m\u001b[0m\u001b[0m\n\u001b[0;32m-> 1108\u001b[0;31m         \u001b[0mself\u001b[0m\u001b[0;34m.\u001b[0m\u001b[0m_open_connection\u001b[0m\u001b[0;34m(\u001b[0m\u001b[0;34m)\u001b[0m\u001b[0;34m\u001b[0m\u001b[0;34m\u001b[0m\u001b[0m\n\u001b[0m\u001b[1;32m   1109\u001b[0m         \u001b[0;31m# Server does not allow to run any other statement different from ALTER\u001b[0m\u001b[0;34m\u001b[0m\u001b[0;34m\u001b[0m\u001b[0;34m\u001b[0m\u001b[0m\n\u001b[1;32m   1110\u001b[0m         \u001b[0;31m# when user's password has been expired.\u001b[0m\u001b[0;34m\u001b[0m\u001b[0;34m\u001b[0m\u001b[0;34m\u001b[0m\u001b[0m\n",
      "\u001b[0;32m/usr/local/lib/python3.7/site-packages/mysql/connector/connection.py\u001b[0m in \u001b[0;36m_open_connection\u001b[0;34m(self)\u001b[0m\n\u001b[1;32m    540\u001b[0m                 \u001b[0mself\u001b[0m\u001b[0;34m.\u001b[0m\u001b[0m_charset_id\u001b[0m\u001b[0;34m,\u001b[0m\u001b[0;34m\u001b[0m\u001b[0;34m\u001b[0m\u001b[0m\n\u001b[1;32m    541\u001b[0m                 \u001b[0mself\u001b[0m\u001b[0;34m.\u001b[0m\u001b[0m_ssl\u001b[0m\u001b[0;34m,\u001b[0m\u001b[0;34m\u001b[0m\u001b[0;34m\u001b[0m\u001b[0m\n\u001b[0;32m--> 542\u001b[0;31m                 \u001b[0mself\u001b[0m\u001b[0;34m.\u001b[0m\u001b[0m_conn_attrs\u001b[0m\u001b[0;34m,\u001b[0m\u001b[0;34m\u001b[0m\u001b[0;34m\u001b[0m\u001b[0m\n\u001b[0m\u001b[1;32m    543\u001b[0m             )\n\u001b[1;32m    544\u001b[0m             \u001b[0mself\u001b[0m\u001b[0;34m.\u001b[0m\u001b[0mset_converter_class\u001b[0m\u001b[0;34m(\u001b[0m\u001b[0mself\u001b[0m\u001b[0;34m.\u001b[0m\u001b[0m_converter_class\u001b[0m\u001b[0;34m)\u001b[0m\u001b[0;34m\u001b[0m\u001b[0;34m\u001b[0m\u001b[0m\n",
      "\u001b[0;32m/usr/local/lib/python3.7/site-packages/mysql/connector/connection.py\u001b[0m in \u001b[0;36m_do_auth\u001b[0;34m(self, username, password, database, client_flags, charset, ssl_options, conn_attrs)\u001b[0m\n\u001b[1;32m    277\u001b[0m         )\n\u001b[1;32m    278\u001b[0m         \u001b[0mself\u001b[0m\u001b[0;34m.\u001b[0m\u001b[0m_socket\u001b[0m\u001b[0;34m.\u001b[0m\u001b[0msend\u001b[0m\u001b[0;34m(\u001b[0m\u001b[0mpacket\u001b[0m\u001b[0;34m)\u001b[0m\u001b[0;34m\u001b[0m\u001b[0;34m\u001b[0m\u001b[0m\n\u001b[0;32m--> 279\u001b[0;31m         \u001b[0mself\u001b[0m\u001b[0;34m.\u001b[0m\u001b[0m_auth_switch_request\u001b[0m\u001b[0;34m(\u001b[0m\u001b[0musername\u001b[0m\u001b[0;34m,\u001b[0m \u001b[0mpassword\u001b[0m\u001b[0;34m)\u001b[0m\u001b[0;34m\u001b[0m\u001b[0;34m\u001b[0m\u001b[0m\n\u001b[0m\u001b[1;32m    280\u001b[0m \u001b[0;34m\u001b[0m\u001b[0m\n\u001b[1;32m    281\u001b[0m         \u001b[0;32mif\u001b[0m \u001b[0;32mnot\u001b[0m \u001b[0;34m(\u001b[0m\u001b[0mclient_flags\u001b[0m \u001b[0;34m&\u001b[0m \u001b[0mClientFlag\u001b[0m\u001b[0;34m.\u001b[0m\u001b[0mCONNECT_WITH_DB\u001b[0m\u001b[0;34m)\u001b[0m \u001b[0;32mand\u001b[0m \u001b[0mdatabase\u001b[0m\u001b[0;34m:\u001b[0m\u001b[0;34m\u001b[0m\u001b[0;34m\u001b[0m\u001b[0m\n",
      "\u001b[0;32m/usr/local/lib/python3.7/site-packages/mysql/connector/connection.py\u001b[0m in \u001b[0;36m_auth_switch_request\u001b[0;34m(self, username, password)\u001b[0m\n\u001b[1;32m    330\u001b[0m             \u001b[0;32mreturn\u001b[0m \u001b[0mself\u001b[0m\u001b[0;34m.\u001b[0m\u001b[0m_handle_mfa\u001b[0m\u001b[0;34m(\u001b[0m\u001b[0mpacket\u001b[0m\u001b[0;34m)\u001b[0m\u001b[0;34m\u001b[0m\u001b[0;34m\u001b[0m\u001b[0m\n\u001b[1;32m    331\u001b[0m         \u001b[0;32mif\u001b[0m \u001b[0mpacket\u001b[0m\u001b[0;34m[\u001b[0m\u001b[0;36m4\u001b[0m\u001b[0;34m]\u001b[0m \u001b[0;34m==\u001b[0m \u001b[0;36m255\u001b[0m\u001b[0;34m:\u001b[0m\u001b[0;34m\u001b[0m\u001b[0;34m\u001b[0m\u001b[0m\n\u001b[0;32m--> 332\u001b[0;31m             \u001b[0;32mraise\u001b[0m \u001b[0mget_exception\u001b[0m\u001b[0;34m(\u001b[0m\u001b[0mpacket\u001b[0m\u001b[0;34m)\u001b[0m\u001b[0;34m\u001b[0m\u001b[0;34m\u001b[0m\u001b[0m\n\u001b[0m\u001b[1;32m    333\u001b[0m         \u001b[0;32mreturn\u001b[0m \u001b[0;32mNone\u001b[0m\u001b[0;34m\u001b[0m\u001b[0;34m\u001b[0m\u001b[0m\n\u001b[1;32m    334\u001b[0m \u001b[0;34m\u001b[0m\u001b[0m\n",
      "\u001b[0;31mProgrammingError\u001b[0m: 1045 (28000): Access denied for user 'push'@'dyn203071.cc.lehigh.edu' (using password: YES)"
     ]
    }
   ],
   "source": [
    "import mysql.connector\n",
    "\n",
    "#connecting to DB\n",
    "cnx = mysql.connector.connect(user='push', password='ElI)g!LDOBIwM)%*5o5{dbfz('\n",
    "                              ,host='127.0.0.1',database='edml')"
   ]
  },
  {
   "cell_type": "markdown",
   "id": "4e464c26-cfb2-4627-ac9e-3f84c893e5e2",
   "metadata": {},
   "source": [
    "Retreiving all the posts"
   ]
  },
  {
   "cell_type": "code",
   "execution_count": 6,
   "id": "0684789d-85c5-47e9-b5b0-699a00466018",
   "metadata": {},
   "outputs": [
    {
     "name": "stdout",
     "output_type": "stream",
     "text": [
      "1129 posts were retreived\n"
     ]
    }
   ],
   "source": [
    "cursor = cnx.cursor() #making a cursor to execute a SQL command\n",
    "cursor.execute(\"select * from post\") #execute a command\n",
    "myresult = cursor.fetchall() #get all the results \n",
    "print('{0} posts were retreived'.format(len(myresult))) "
   ]
  },
  {
   "cell_type": "markdown",
   "id": "250ce28e-13bb-48f1-90ce-12e0dfe01575",
   "metadata": {},
   "source": [
    "# preprocessing the data\n",
    "\n",
    "First, removing html tags"
   ]
  },
  {
   "cell_type": "code",
   "execution_count": 2,
   "id": "893db254-5fb5-499a-b7f4-1015ca2fb592",
   "metadata": {},
   "outputs": [
    {
     "data": {
      "text/plain": [
       "'more-naps-please:'"
      ]
     },
     "execution_count": 2,
     "metadata": {},
     "output_type": "execute_result"
    }
   ],
   "source": [
    "doc = '<p><a href=\"https://more-naps-please.tumblr.com/post/181536078778\" class=\"tumblr_blog\">more-naps-please</a>:</p>\\n\\n<blockquote><figure class=\"tmblr-full\" data-orig-height=\"525\" data-orig-width=\"393\"><img src=\"https://64.media.tumblr.com/8f604012a6b1949a44190f7bc0313297/tumblr_pkj24pvrZX1umwwqv_540.png\" data-orig-height=\"525\" data-orig-width=\"393\"/></figure></blockquote>'\n",
    "remove_html_tags(doc)\n",
    "#do the same thing for myresult document ==> maybe make a pandas and then do?"
   ]
  },
  {
   "cell_type": "markdown",
   "id": "1052173c-6b17-45b9-9c79-1276debd3b58",
   "metadata": {},
   "source": [
    "prepare the corupus"
   ]
  },
  {
   "cell_type": "code",
   "execution_count": null,
   "id": "5caca387-ff25-4edb-9156-0b0934919d29",
   "metadata": {},
   "outputs": [],
   "source": [
    "pre_processed_docs,orig_docs = preprocess_data(list of strings)\n",
    "# vocab_dict, doc_term_matrix = prepare_corpus(pre_processed_docs)\n",
    "#creat a pandas DF with one column as text, one column as original text, one column as SQL post-id, etc.\n",
    "text_df = pd.DataFrame(zip(np.arange(1,len(docs)),docs),columns=['int_values','text'])"
   ]
  },
  {
   "cell_type": "markdown",
   "id": "0e215ac7-c4ae-410c-b02f-9bb63ed5fed3",
   "metadata": {},
   "source": [
    "# Running topic modeling (with or without evaluation)"
   ]
  },
  {
   "cell_type": "code",
   "execution_count": null,
   "id": "186372f2-6363-44d1-bac0-88e8c24b0c9b",
   "metadata": {},
   "outputs": [],
   "source": [
    "is_eval = False #not evaluating the model\n",
    "#need to provide number of topics and other specification\n",
    "model_spec = {'name':'LDA','K':10,'epochs':2000,'burnin_iteration':20,'after_iteration_burnin':50}\n",
    "#model_spec = {'name':'STM','K':10,'epochs':500,'prevalence':'','content':'',pre_trained_model = 'LDA',\n",
    "                # 'burnin_iteration':20,'LDA_epochs':50}\n",
    "\n",
    "if model_spec['name'] == 'LDA':\n",
    "    if is_eval:\n",
    "        pass\n",
    "    else: \n",
    "        robjects.r.source('LDA_R.R')\n",
    "        ans = robjects.r.findTopics(docs = text_df,n_topics = model_spec['K'],epochs = model_spec['epochs'],\n",
    "                                    burnin_iteration = model_spec['burnin_iteration'],\n",
    "                                    after_iteration_burnin =  model_spec['after_iteration_burnin'],save_flag=True)\n",
    "        top_terms = np.asarray(ans[1])\n",
    "        topic_doc_dist = ???\n",
    "        \n",
    "        \n",
    "elif model_spec['name'] == 'STM':\n",
    "    if is_eval:\n",
    "        pass\n",
    "    else: \n",
    "        robjects.r.source('stm.R')\n",
    "        ans = robjects.r.run_stm(docs = text_df,topic_n=model_spec['K'],max_itr=model_spec['epochs'],\n",
    "                                 prevalence=model_spec['prevalence'],content=model_spec['content'],\n",
    "                                 model_type = model_spec['pre_trained_model'],\n",
    "                                 nits = model_spec['LDA_epochs'],burnin = model_spec['burnin_iteration']\n",
    "                                 save_flag = True)\n",
    "        top_terms = np.asarray(ans[1]).reshape(model_spec['K'],50,order='F')\n",
    "        topic_doc_dist = ???"
   ]
  },
  {
   "cell_type": "markdown",
   "id": "666d9a4f-d529-4bab-870b-10be7d6d5ee8",
   "metadata": {},
   "source": [
    "# Post-processing"
   ]
  },
  {
   "cell_type": "markdown",
   "id": "526ab8fb-65d3-4020-baea-0fb45040ba3e",
   "metadata": {},
   "source": [
    "# Storing to DB"
   ]
  }
 ],
 "metadata": {
  "kernelspec": {
   "display_name": "Python 3 (ipykernel)",
   "language": "python",
   "name": "python3"
  },
  "language_info": {
   "codemirror_mode": {
    "name": "ipython",
    "version": 3
   },
   "file_extension": ".py",
   "mimetype": "text/x-python",
   "name": "python",
   "nbconvert_exporter": "python",
   "pygments_lexer": "ipython3",
   "version": "3.7.4"
  }
 },
 "nbformat": 4,
 "nbformat_minor": 5
}
