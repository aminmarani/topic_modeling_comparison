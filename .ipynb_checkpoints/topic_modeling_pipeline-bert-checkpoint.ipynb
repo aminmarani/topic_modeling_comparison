{
 "cells": [
  {
   "cell_type": "markdown",
   "id": "b68fda13",
   "metadata": {},
   "source": [
    "# topic modeling pipeline\n",
    "\n",
    "This notebook will walk you through:\n",
    "1. data reterival from SQL database\n",
    "2. Pre-processing data\n",
    "3. Running topic modeling (different models)\n",
    "4. post processing (including showing topics, topic-doc distribution, etc.)\n",
    "5. Storing results into DB"
   ]
  },
  {
   "cell_type": "markdown",
   "id": "2e523ceb",
   "metadata": {},
   "source": [
    "# imports"
   ]
  },
  {
   "cell_type": "code",
   "execution_count": 1,
   "id": "e0db4bd0",
   "metadata": {},
   "outputs": [
    {
     "name": "stderr",
     "output_type": "stream",
     "text": [
      "[nltk_data] Downloading package stopwords to /home/amh418/nltk_data...\n",
      "[nltk_data]   Package stopwords is already up-to-date!\n",
      "[nltk_data] Downloading package wordnet to /home/amh418/nltk_data...\n",
      "[nltk_data]   Package wordnet is already up-to-date!\n",
      "[nltk_data] Downloading package omw-1.4 to /home/amh418/nltk_data...\n",
      "[nltk_data]   Package omw-1.4 is already up-to-date!\n",
      "[nltk_data] Downloading package averaged_perceptron_tagger to\n",
      "[nltk_data]     /home/amh418/nltk_data...\n",
      "[nltk_data]   Package averaged_perceptron_tagger is already up-to-\n",
      "[nltk_data]       date!\n"
     ]
    }
   ],
   "source": [
    "from pre_processing import remove_html_tags, preprocess_data, prepare_corpus\n",
    "from pre_processing import transition_labeling\n",
    "from post_processing import topic_selection, date2days, topic_terms_bert\n",
    "# from rpy2 import robjects #loading R inside Python\n",
    "#importing functions to read pandas DF\n",
    "# from rpy2.robjects import pandas2ri\n",
    "# pandas2ri.activate()\n",
    "# from rpy2.robjects.packages import importr\n",
    "# from rpy2.robjects.conversion import localconverter\n",
    "\n",
    "import pandas as pd\n",
    "\n",
    "import numpy as np\n",
    "\n",
    "import os\n",
    "\n",
    "from bertopic import BERTopic\n",
    "from bertopic.representation import KeyBERTInspired\n",
    "\n",
    "\n",
    "\n",
    "#import R base library\n",
    "# base = importr('base')\n",
    "\n",
    "mallet_path = 'mallet' #'mallet for mac-os"
   ]
  },
  {
   "cell_type": "markdown",
   "id": "13cb4964-d329-4d96-aa88-711a12778482",
   "metadata": {},
   "source": [
    "loading stop words"
   ]
  },
  {
   "cell_type": "code",
   "execution_count": null,
   "id": "ab65f8a7-7c52-4a8b-9a51-b2e86f5ad9ec",
   "metadata": {},
   "outputs": [],
   "source": [
    "#downloading github repo for down-sampling==> you only need this once!\n",
    "# !git clone https://github.com/aminmarani/authorless-tms.git"
   ]
  },
  {
   "cell_type": "code",
   "execution_count": 2,
   "id": "d0c7213d-b7d7-4d8e-9a8a-915a0aec712e",
   "metadata": {},
   "outputs": [
    {
     "data": {
      "text/plain": [
       "['duncan', 'fluffy', 'jack', 'jake', 'jim']"
      ]
     },
     "execution_count": 2,
     "metadata": {},
     "output_type": "execute_result"
    }
   ],
   "source": [
    "stop_words = []\n",
    "\n",
    "with open('freqPOS+Names.stop','r') as txtfile:\n",
    "    for r in txtfile:\n",
    "        stop_words.append(r.strip())\n",
    "        if \"'\" in r:#add the term without \"'\"; e.g., haven't & havent\n",
    "            stop_words.append(r.replace(\"'\",\"\").strip())\n",
    "\n",
    "#adding the selected stop_words\n",
    "stop_words.extend(['go','going','got','want','time','really','good','life','let','even','get',\n",
    "                  'always','answer','back','day','feel','love','need','never','people',\n",
    "                  'question','right','see','still','things','today','way','week'])\n",
    "\n",
    "stop_words[10:15]"
   ]
  },
  {
   "cell_type": "markdown",
   "id": "e54a1689",
   "metadata": {},
   "source": [
    "# Loading data from SQL database\n",
    "\n",
    "First creating a connection\n",
    "\n",
    "**In order to create a connection from anywhere in LU network you need to run the command below in terminal. Replace your username with amh418 in the command below.**\n",
    "\n",
    "ssh -L 3306:127.0.0.1:3306 -N -f amh418@128.180.111.76   #it will ask for lehigh pass\n",
    "\n",
    "on network (128.180.111.76)\n",
    "outside the network (ssh.lehigh.edu)\n",
    "\n",
    "**if you need to kill to SSH forwarding use the link below**\n",
    "\n",
    "https://superuser.com/questions/87014/how-do-i-remove-an-ssh-forwarded-port\n"
   ]
  },
  {
   "cell_type": "code",
   "execution_count": 3,
   "id": "5c5380dc",
   "metadata": {},
   "outputs": [],
   "source": [
    "import mysql.connector\n",
    "\n",
    "#connecting to DB\n",
    "cnx = mysql.connector.connect(user='push', password='ElI)g!LDOBIwM)%*5o5{dbfz('\n",
    "                              ,host='127.0.0.1',database='edml')"
   ]
  },
  {
   "cell_type": "markdown",
   "id": "352f4014",
   "metadata": {},
   "source": [
    "Retreiving all the posts\n",
    "\n",
    "**We are exlcuding recoverwithmeda for now**"
   ]
  },
  {
   "cell_type": "code",
   "execution_count": 4,
   "id": "52bbc140",
   "metadata": {},
   "outputs": [
    {
     "name": "stdout",
     "output_type": "stream",
     "text": [
      "8341 posts were retreived\n"
     ]
    }
   ],
   "source": [
    "cursor = cnx.cursor() #making a cursor to execute a SQL command\n",
    "# cursor.execute(\"select * from post\") #execute a command\n",
    "cursor.execute(\"select * from post where user_id != (select user_id from user where user_login='recoverwithmeda')\") #execute a command\n",
    "myresult = cursor.fetchall() #get all the results \n",
    "print('{0} posts were retreived'.format(len(myresult))) "
   ]
  },
  {
   "cell_type": "code",
   "execution_count": 5,
   "id": "1a69f6a8-ff63-477f-b2f2-42ac372200eb",
   "metadata": {},
   "outputs": [],
   "source": [
    "#loading user_id and user_name to convert id to user_name\n",
    "cursor.execute(\"select * from user\") #execute a command\n",
    "users = cursor.fetchall() #get all the results \n",
    "users = {i[0]:i[1] for i in users}\n",
    "myresult = [i[0:2] + tuple([users[i[2]]]) + i[3:] for i in myresult]"
   ]
  },
  {
   "cell_type": "code",
   "execution_count": 6,
   "id": "827d8114-96a1-4b9b-8968-b263f3d812ef",
   "metadata": {},
   "outputs": [
    {
     "name": "stdout",
     "output_type": "stream",
     "text": [
      "21338 posts were retreived\n"
     ]
    }
   ],
   "source": [
    "#concatenating the old dataset to the new one\n",
    "last_id = max([i[0] for i in myresult])+1\n",
    "myresult_ = [tuple([i[1]+last_id]+list(i[2:])) for i in pd.read_csv('./data/old_ed.csv',index_col=None).values]\n",
    "myresult += myresult_\n",
    "print('{0} posts were retreived'.format(len(myresult))) "
   ]
  },
  {
   "cell_type": "markdown",
   "id": "7d9e47f4-178f-4069-94a2-4f9bdd03caf1",
   "metadata": {},
   "source": [
    "Language detection\n",
    "\n",
    "keeping only English language posts/documents"
   ]
  },
  {
   "cell_type": "code",
   "execution_count": 8,
   "id": "eeedc182-9bd8-4d6a-a6fc-74e80619e864",
   "metadata": {},
   "outputs": [
    {
     "name": "stderr",
     "output_type": "stream",
     "text": [
      "100%|██████████| 17322/17322 [01:24<00:00, 204.13it/s]"
     ]
    },
    {
     "name": "stdout",
     "output_type": "stream",
     "text": [
      "after removing non-english posts,the size of the documents are: 17143\n"
     ]
    },
    {
     "name": "stderr",
     "output_type": "stream",
     "text": [
      "\n"
     ]
    }
   ],
   "source": [
    "from langdetect import detect\n",
    "from tqdm import tqdm\n",
    "\n",
    "\n",
    "# myresult = [s for s in myresult if len(remove_html_tags(s[3])) > 3 and detect(remove_html_tags(s[3]))=='en']\n",
    "t = []\n",
    "#removing tags and detecting language afterward\n",
    "for s in tqdm(myresult):\n",
    "    try:#in some case language detection may fail (emojies only, one word docs, etc.) ==> We don't keep those\n",
    "        if detect(remove_html_tags(s[3]))=='en':\n",
    "            t.append(s)\n",
    "    except:\n",
    "        pass #do nothing\n",
    "\n",
    "myresult = t[:]\n",
    "print('after removing non-english posts,the size of the documents are: {0}'.format(len(myresult)))"
   ]
  },
  {
   "cell_type": "markdown",
   "id": "a86f02c3",
   "metadata": {},
   "source": [
    "# preprocessing the data\n",
    "\n",
    "First, removing html tags"
   ]
  },
  {
   "cell_type": "markdown",
   "id": "43817682",
   "metadata": {},
   "source": [
    "prepare the corupus"
   ]
  },
  {
   "cell_type": "code",
   "execution_count": 9,
   "id": "8b4aa6d9",
   "metadata": {},
   "outputs": [],
   "source": [
    "import re\n",
    "\n",
    "#removing tags from texts \n",
    "proc_texts = [remove_html_tags(i[3]) for i in myresult]\n",
    "#remvoing post that  include tree_htem\n",
    "proc_texts = [re.sub(r\"\\{'comment'.*?\\}\",'',i) if \"tree_html\" in i else i for i in proc_texts]\n",
    "#pre_processing and tokenizing docs\n",
    "pre_processed_docs,orig_docs = preprocess_data(proc_texts,extra_stopwords=stop_words)\n",
    "#attaching (id,original_text,pre_processed_text,date,url) together\n",
    "id_text = [(myresult[orig_docs[i][1]][0],orig_docs[i][0],pre_processed_docs[i],\n",
    "            myresult[orig_docs[i][1]][4],myresult[orig_docs[i][1]][5],\n",
    "            myresult[orig_docs[i][1]][2]) for i in range(len(orig_docs))]\n",
    "\n",
    "# vocab_dict, doc_term_matrix = prepare_corpus(pre_processed_docs) ==> we don't need prepare corpus as we are passing this to LDA and STM R and there they will do tokenization \n",
    "\n",
    "#creat a pandas DF with one column as text, one column as original text, one column as SQL post-id, etc.\n",
    "text_df = pd.DataFrame(zip([i[0] for i in id_text],[' '.join(i[2]) for i in id_text],\n",
    "                           [i[1] for i in id_text],[i[3] for i in id_text],[i[4] for i in id_text],\n",
    "                          [i[5] for i in id_text]),\n",
    "                       columns=['id','text','original_text','date','url','blog'])"
   ]
  },
  {
   "cell_type": "code",
   "execution_count": 10,
   "id": "c7edddb6-c596-4764-8178-11c526c5b3bf",
   "metadata": {},
   "outputs": [
    {
     "name": "stdout",
     "output_type": "stream",
     "text": [
      "14043\n",
      "13350\n"
     ]
    }
   ],
   "source": [
    "#removing duplicates only if necessary\n",
    "print(len(text_df))\n",
    "text_df = text_df.drop_duplicates(subset=['text'])\n",
    "print(len(text_df))"
   ]
  },
  {
   "cell_type": "markdown",
   "id": "8c13108e-6f2e-4c56-ab98-b174c1cb459e",
   "metadata": {},
   "source": [
    "# Term Frequency\n",
    "\n",
    "Term frequency and Term/doc frequency\n",
    "\n",
    "**This is only analysis we already add stop words from these anlaysis to stop_words defined above**"
   ]
  },
  {
   "cell_type": "code",
   "execution_count": null,
   "id": "64249ace-b30f-4d68-82c2-3b93b2a7f98b",
   "metadata": {},
   "outputs": [],
   "source": [
    "import collections\n",
    "\n",
    "#extracting uni-grams\n",
    "terms = []\n",
    "for s in list(text_df.text):\n",
    "    terms.extend(s.split())\n",
    "\n",
    "#computing frequency of each term\n",
    "freqs = collections.Counter(terms)\n",
    "sorted(freqs.items(),key= lambda x:x[1],reverse=True )[0:10]\n",
    "# freqs"
   ]
  },
  {
   "cell_type": "code",
   "execution_count": 14,
   "id": "900ea647-ecf8-4c10-83bc-70bb7bb1a37a",
   "metadata": {},
   "outputs": [],
   "source": [
    "#terms-document proportion\n",
    "term_doc = {k:0 for k,v in freqs.items() if v>len(text_df)*0.05}\n",
    "\n",
    "#compute term_doc\n",
    "for s in list(text_df.text):\n",
    "    for k in term_doc.keys():\n",
    "        if k in s.split():\n",
    "            term_doc[k]+=1"
   ]
  },
  {
   "cell_type": "code",
   "execution_count": 15,
   "id": "58725777-2e08-43b3-9f2b-41254869ac46",
   "metadata": {},
   "outputs": [
    {
     "data": {
      "text/plain": [
       "{'body', 'eat', 'eating', 'food'}"
      ]
     },
     "execution_count": 15,
     "metadata": {},
     "output_type": "execute_result"
    }
   ],
   "source": [
    "#terms that appear in 20% or more of documents\n",
    "candids = {k:v for k,v in term_doc.items() if v>=len(text_df)*0.10}\n",
    "set(candids.keys())\n",
    "# selected_stop_words = set(candids.keys())\n",
    "# selected_stop_words "
   ]
  },
  {
   "cell_type": "markdown",
   "id": "c601a6d9-9596-4233-a5cb-8f9779df618c",
   "metadata": {},
   "source": [
    "# Blog distribution"
   ]
  },
  {
   "cell_type": "code",
   "execution_count": 16,
   "id": "502c301a-264a-4818-a8e5-46adaa395a73",
   "metadata": {},
   "outputs": [
    {
     "data": {
      "image/png": "[encoded data removed]",
      "text/plain": [
       "<Figure size 640x480 with 1 Axes>"
      ]
     },
     "metadata": {},
     "output_type": "display_data"
    }
   ],
   "source": [
    "from collections import Counter\n",
    "import seaborn as sns\n",
    "import matplotlib.pyplot as plt\n",
    "\n",
    "blog_dist = Counter(list(text_df.blog))\n",
    "sns.barplot(x=list(blog_dist.keys()),y=list(blog_dist.values()))\n",
    "a = plt.xticks(rotation=30,ha='right') \n",
    "# list(blog_dist.values())"
   ]
  },
  {
   "cell_type": "markdown",
   "id": "9a879e07-923a-4d8b-9c99-75f1577ef338",
   "metadata": {},
   "source": [
    "Processing documens for Topicalizer"
   ]
  },
  {
   "cell_type": "code",
   "execution_count": 18,
   "id": "ab71e427-2555-4d0f-a73a-7589a1cf5216",
   "metadata": {},
   "outputs": [],
   "source": [
    "# text_df[['date','original_text','url']].rename(columns={'original_text':'entry','url':'Link'}).to_csv('./data/processed_ed.csv')"
   ]
  },
  {
   "cell_type": "markdown",
   "id": "612c489c-ad92-4780-b239-f0c577f9a6ef",
   "metadata": {
    "jp-MarkdownHeadingCollapsed": true
   },
   "source": [
    "# Author down-sampling\n",
    "\n",
    "down-sampling terms that are more specific to an author"
   ]
  },
  {
   "cell_type": "code",
   "execution_count": 19,
   "id": "9a483557-f6c2-45de-9f5b-b33eddb0f51d",
   "metadata": {},
   "outputs": [],
   "source": [
    "# vocab = set()\n",
    "\n",
    "# for tx in list(text_df.text):\n",
    "#     tokens = tx.split()\n",
    "#     [vocab.add(t) for t in tokens]\n",
    "\n",
    "# with open('./data/temp_vocab_corpus.txt','w') as tfile:\n",
    "#     tfile.writelines([i+'\\n' for i in list(vocab)])\n",
    "\n",
    "# print('size of dictionary is {0}'.format(len(vocab)))"
   ]
  },
  {
   "cell_type": "code",
   "execution_count": 20,
   "id": "3203db41-9efe-4152-8e51-67e155c59dd4",
   "metadata": {},
   "outputs": [],
   "source": [
    "# #storing corpus for down-sampling (we send the pre-processed docs)\n",
    "# text_df[['blog','text']].to_csv('./data/temp_documents_corpus.txt',index=True,sep='\\t',\n",
    "#                                 header=False,encoding=\"UTF-8\")"
   ]
  },
  {
   "cell_type": "code",
   "execution_count": 21,
   "id": "df31d2a2-553b-4d07-8901-6467918e297e",
   "metadata": {},
   "outputs": [],
   "source": [
    "# #running down-sampling ==> if the original file in repo pops error you need to make changes in the downsample_corpus.py as stated below\n",
    "# #line 68: term_means = np.mean(author_term_freqs, axis=0).ravel() \n",
    "# #line 71: term_vars = np.var(author_term_freqs, axis=0, ddof=1).ravel()\n",
    "# #line 83: author_term_freqs = author_term_freqs.toarray()#added 2023,Nov\n",
    "# #line 88: author_freqs = author_term_freqs[:, term_id].ravel()#.getA1() #added 2023,Nov\n",
    "# !python3 ./authorless-tms/downsample_corpus.py --input ./data/temp_documents_corpus.txt --output ./data/temp_documents_corpus_new003.txt --vocab ./data/temp_vocab_corpus.txt --threshold 0.03"
   ]
  },
  {
   "cell_type": "markdown",
   "id": "5386e66e-987d-4ca4-be27-f69db4a5351c",
   "metadata": {
    "jp-MarkdownHeadingCollapsed": true
   },
   "source": [
    "# loading from down-sampled dataset"
   ]
  },
  {
   "cell_type": "code",
   "execution_count": 22,
   "id": "3b0f7664-4696-44a4-ba0b-95c885334b57",
   "metadata": {},
   "outputs": [],
   "source": [
    "# #updating text_df\n",
    "# new_df = pd.read_csv('./data/temp_documents_corpus_new005.txt',sep='\\t',header=None,\n",
    "#                      names=['id','blog','text'])\n",
    "\n",
    "# #replacing down-sampled data with original data\n",
    "# for id,row in tqdm(new_df.iterrows()):\n",
    "#     text_df.loc[text_df.id==id,'text'] = row['text']\n",
    "#     # text_df.at[int(id),'text'] = row['text']\n",
    "\n",
    "# #removing the ones that were deleted during down-sampling\n",
    "# text_df = text_df[text_df.id.isin(new_df.id)]\n",
    "\n",
    "# print('Number of documents after down-sampling: {0}'.format(len(text_df)))"
   ]
  },
  {
   "cell_type": "markdown",
   "id": "b27dde94",
   "metadata": {},
   "source": [
    "# Running topic modeling (with or without evaluation)"
   ]
  },
  {
   "cell_type": "code",
   "execution_count": 23,
   "id": "f4da0367-4f0e-4a69-bc69-508a5ea0608c",
   "metadata": {},
   "outputs": [],
   "source": [
    "# from rpy2.robjects.packages import importr\n",
    "# utils = importr('utils')\n",
    "\n",
    "# utils.install_packages('stm',repos=\"https://cloud.r-project.org\")"
   ]
  },
  {
   "cell_type": "code",
   "execution_count": 54,
   "id": "ce75d4a2-87ef-4af4-b383-6c37a895dc02",
   "metadata": {},
   "outputs": [],
   "source": [
    "#prevalence (use/non-use)\n",
    "\n",
    "#converting to date format\n",
    "# text_df.date = pd.to_datetime(text_df.date)\n",
    "# days = date2days(text_df)\n",
    "\n",
    "# labels = transition_labeling(days)\n",
    "\n",
    "# text_df['prevalence'] = \"\"\n",
    "# for id,label in labels.items():\n",
    "#     text_df.loc[text_df.id==id,'prevalence'] = label\n",
    "\n",
    "#prevalence Author (blog)\n",
    "# text_df['prevalence'] = text_df['blog']\n",
    "\n",
    "\n",
    "\n",
    "# #content (instagram-tumbler)\n",
    "\n",
    "# source = ['tumblr' if 'tumblr' in str(i) else 'instagram' for i in list(text_df.url) ]\n",
    "# text_df['content'] = source"
   ]
  },
  {
   "cell_type": "code",
   "execution_count": 49,
   "id": "8e6380df-5ad1-4913-87d3-9e6a574202b9",
   "metadata": {},
   "outputs": [],
   "source": [
    "#prevalence only (source: instagram/tumblr)\n",
    "# source = ['tumblr' if 'tumblr' in str(i) else 'instagram' for i in list(text_df.url) ]\n",
    "# text_df['prevalence'] = source"
   ]
  },
  {
   "cell_type": "code",
   "execution_count": 68,
   "id": "dc847554-4be1-446e-a1e8-bdd95c9a3022",
   "metadata": {},
   "outputs": [
    {
     "data": {
      "text/plain": [
       "<Signature (top_n_words: int = 10, nr_repr_docs: int = 5, nr_samples: int = 500, nr_candidate_words: int = 100, random_state: int = 42)>"
      ]
     },
     "execution_count": 68,
     "metadata": {},
     "output_type": "execute_result"
    }
   ],
   "source": [
    "from inspect import signature\n",
    "\n",
    "# min_topic_size=10 or #min_cluster_size"
   ]
  },
  {
   "cell_type": "code",
   "execution_count": 17,
   "id": "9e82ed81",
   "metadata": {
    "scrolled": true,
    "tags": []
   },
   "outputs": [
    {
     "name": "stdout",
     "output_type": "stream",
     "text": [
      "\n",
      "\n",
      "Running BERTopic with 5 topics and other details as below:\n",
      "{'name': 'bertopic', 'min_topic_size': 70, 'min_samples': 20, 'save_flag': False}\n"
     ]
    },
    {
     "data": {
      "application/vnd.jupyter.widget-view+json": {
       "model_id": "2625c4aec7d74ba9ba3a09300fb28757",
       "version_major": 2,
       "version_minor": 0
      },
      "text/plain": [
       "Batches:   0%|          | 0/418 [00:00<?, ?it/s]"
      ]
     },
     "metadata": {},
     "output_type": "display_data"
    },
    {
     "name": "stderr",
     "output_type": "stream",
     "text": [
      "2024-01-22 22:30:31,899 - BERTopic - Transformed documents to Embeddings\n",
      "2024-01-22 22:30:39,848 - BERTopic - Reduced dimensionality\n",
      "2024-01-22 22:30:40,830 - BERTopic - Clustered reduced embeddings\n",
      "2024-01-22 22:30:43,102 - BERTopic - Reduced number of topics from 3 to 3\n"
     ]
    },
    {
     "data": {
      "application/vnd.jupyter.widget-view+json": {
       "model_id": "187e84d47b7c423bb756a5101f6ccd15",
       "version_major": 2,
       "version_minor": 0
      },
      "text/plain": [
       "Batches:   0%|          | 0/418 [00:00<?, ?it/s]"
      ]
     },
     "metadata": {},
     "output_type": "display_data"
    },
    {
     "name": "stderr",
     "output_type": "stream",
     "text": [
      "2024-01-22 22:31:50,921 - BERTopic - Transformed documents to Embeddings\n",
      "2024-01-22 22:31:58,872 - BERTopic - Reduced dimensionality\n",
      "2024-01-22 22:32:00,327 - BERTopic - Clustered reduced embeddings\n",
      "2024-01-22 22:32:07,133 - BERTopic - Reduced number of topics from 28 to 5\n"
     ]
    },
    {
     "name": "stdout",
     "output_type": "stream",
     "text": [
      "Load NPMI coherence DB. \n",
      "Number of keys : 1948257\n",
      "skipping 0.03 missed term-pairs < allowed misses = 0.15\n",
      "\n",
      "\n",
      "Running BERTopic with 6 topics and other details as below:\n",
      "{'name': 'bertopic', 'min_topic_size': 70, 'min_samples': 20, 'save_flag': False}\n"
     ]
    },
    {
     "data": {
      "application/vnd.jupyter.widget-view+json": {
       "model_id": "751e1d0f1cea4daf867bffe57cc2f560",
       "version_major": 2,
       "version_minor": 0
      },
      "text/plain": [
       "Batches:   0%|          | 0/418 [00:00<?, ?it/s]"
      ]
     },
     "metadata": {},
     "output_type": "display_data"
    },
    {
     "name": "stderr",
     "output_type": "stream",
     "text": [
      "2024-01-22 22:33:17,824 - BERTopic - Transformed documents to Embeddings\n",
      "2024-01-22 22:33:26,669 - BERTopic - Reduced dimensionality\n",
      "2024-01-22 22:33:28,083 - BERTopic - Clustered reduced embeddings\n",
      "2024-01-22 22:33:34,898 - BERTopic - Reduced number of topics from 27 to 6\n"
     ]
    },
    {
     "name": "stdout",
     "output_type": "stream",
     "text": [
      "Load NPMI coherence DB. \n",
      "Number of keys : 1948257\n",
      "skipping 0.11 missed term-pairs < allowed misses = 0.15\n"
     ]
    },
    {
     "data": {
      "application/vnd.jupyter.widget-view+json": {
       "model_id": "206c52d4acf84f18b4b6625ee9c36845",
       "version_major": 2,
       "version_minor": 0
      },
      "text/plain": [
       "Batches:   0%|          | 0/418 [00:00<?, ?it/s]"
      ]
     },
     "metadata": {},
     "output_type": "display_data"
    },
    {
     "name": "stderr",
     "output_type": "stream",
     "text": [
      "2024-01-22 22:34:45,454 - BERTopic - Transformed documents to Embeddings\n",
      "2024-01-22 22:34:53,604 - BERTopic - Reduced dimensionality\n",
      "2024-01-22 22:34:54,988 - BERTopic - Clustered reduced embeddings\n",
      "2024-01-22 22:35:02,039 - BERTopic - Reduced number of topics from 27 to 6\n"
     ]
    },
    {
     "name": "stdout",
     "output_type": "stream",
     "text": [
      "Load NPMI coherence DB. \n",
      "Number of keys : 1948257\n",
      "skipping 0.04 missed term-pairs < allowed misses = 0.15\n",
      "\n",
      "\n",
      "Running BERTopic with 7 topics and other details as below:\n",
      "{'name': 'bertopic', 'min_topic_size': 70, 'min_samples': 20, 'save_flag': False}\n"
     ]
    },
    {
     "data": {
      "application/vnd.jupyter.widget-view+json": {
       "model_id": "8a9c9eeb377347629ad051442cb4c105",
       "version_major": 2,
       "version_minor": 0
      },
      "text/plain": [
       "Batches:   0%|          | 0/418 [00:00<?, ?it/s]"
      ]
     },
     "metadata": {},
     "output_type": "display_data"
    },
    {
     "name": "stderr",
     "output_type": "stream",
     "text": [
      "2024-01-22 22:36:12,523 - BERTopic - Transformed documents to Embeddings\n",
      "2024-01-22 22:36:23,211 - BERTopic - Reduced dimensionality\n",
      "2024-01-22 22:36:24,627 - BERTopic - Clustered reduced embeddings\n",
      "2024-01-22 22:36:31,431 - BERTopic - Reduced number of topics from 27 to 7\n"
     ]
    },
    {
     "name": "stdout",
     "output_type": "stream",
     "text": [
      "Load NPMI coherence DB. \n",
      "Number of keys : 1948257\n",
      "skipping 0.02 missed term-pairs < allowed misses = 0.15\n"
     ]
    },
    {
     "data": {
      "application/vnd.jupyter.widget-view+json": {
       "model_id": "c7353ed8afc6406bbedd7e2e1c15e8b9",
       "version_major": 2,
       "version_minor": 0
      },
      "text/plain": [
       "Batches:   0%|          | 0/418 [00:00<?, ?it/s]"
      ]
     },
     "metadata": {},
     "output_type": "display_data"
    },
    {
     "name": "stderr",
     "output_type": "stream",
     "text": [
      "2024-01-22 22:37:43,812 - BERTopic - Transformed documents to Embeddings\n",
      "2024-01-22 22:37:51,768 - BERTopic - Reduced dimensionality\n",
      "2024-01-22 22:37:53,235 - BERTopic - Clustered reduced embeddings\n",
      "2024-01-22 22:38:00,149 - BERTopic - Reduced number of topics from 28 to 7\n"
     ]
    },
    {
     "name": "stdout",
     "output_type": "stream",
     "text": [
      "Load NPMI coherence DB. \n",
      "Number of keys : 1948257\n",
      "skipping 0.02 missed term-pairs < allowed misses = 0.15\n",
      "\n",
      "\n",
      "Running BERTopic with 8 topics and other details as below:\n",
      "{'name': 'bertopic', 'min_topic_size': 70, 'min_samples': 20, 'save_flag': False}\n"
     ]
    },
    {
     "data": {
      "application/vnd.jupyter.widget-view+json": {
       "model_id": "f6d1d7c4fe08416eaad880fb25c7fd00",
       "version_major": 2,
       "version_minor": 0
      },
      "text/plain": [
       "Batches:   0%|          | 0/418 [00:00<?, ?it/s]"
      ]
     },
     "metadata": {},
     "output_type": "display_data"
    },
    {
     "name": "stderr",
     "output_type": "stream",
     "text": [
      "2024-01-22 22:39:12,054 - BERTopic - Transformed documents to Embeddings\n",
      "2024-01-22 22:39:20,936 - BERTopic - Reduced dimensionality\n",
      "2024-01-22 22:39:21,940 - BERTopic - Clustered reduced embeddings\n",
      "2024-01-22 22:39:24,229 - BERTopic - Reduced number of topics from 3 to 3\n"
     ]
    },
    {
     "data": {
      "application/vnd.jupyter.widget-view+json": {
       "model_id": "ce1a9efea0bf4e428fa78f8d1f456834",
       "version_major": 2,
       "version_minor": 0
      },
      "text/plain": [
       "Batches:   0%|          | 0/418 [00:00<?, ?it/s]"
      ]
     },
     "metadata": {},
     "output_type": "display_data"
    },
    {
     "name": "stderr",
     "output_type": "stream",
     "text": [
      "2024-01-22 22:40:31,390 - BERTopic - Transformed documents to Embeddings\n",
      "2024-01-22 22:40:39,417 - BERTopic - Reduced dimensionality\n",
      "2024-01-22 22:40:40,835 - BERTopic - Clustered reduced embeddings\n",
      "2024-01-22 22:40:47,917 - BERTopic - Reduced number of topics from 29 to 8\n"
     ]
    },
    {
     "name": "stdout",
     "output_type": "stream",
     "text": [
      "Load NPMI coherence DB. \n",
      "Number of keys : 1948257\n",
      "skipping 0.02 missed term-pairs < allowed misses = 0.15\n",
      "\n",
      "\n",
      "Running BERTopic with 9 topics and other details as below:\n",
      "{'name': 'bertopic', 'min_topic_size': 70, 'min_samples': 20, 'save_flag': False}\n"
     ]
    },
    {
     "data": {
      "application/vnd.jupyter.widget-view+json": {
       "model_id": "51956572395b46bdb19800b12598f084",
       "version_major": 2,
       "version_minor": 0
      },
      "text/plain": [
       "Batches:   0%|          | 0/418 [00:00<?, ?it/s]"
      ]
     },
     "metadata": {},
     "output_type": "display_data"
    },
    {
     "name": "stderr",
     "output_type": "stream",
     "text": [
      "2024-01-22 22:42:00,393 - BERTopic - Transformed documents to Embeddings\n",
      "2024-01-22 22:42:08,405 - BERTopic - Reduced dimensionality\n",
      "2024-01-22 22:42:09,870 - BERTopic - Clustered reduced embeddings\n",
      "2024-01-22 22:42:17,078 - BERTopic - Reduced number of topics from 31 to 9\n"
     ]
    },
    {
     "name": "stdout",
     "output_type": "stream",
     "text": [
      "Load NPMI coherence DB. \n",
      "Number of keys : 1948257\n",
      "skipping 0.06 missed term-pairs < allowed misses = 0.15\n"
     ]
    },
    {
     "data": {
      "application/vnd.jupyter.widget-view+json": {
       "model_id": "ac6c5c65efe34a44a30fe62e394b400e",
       "version_major": 2,
       "version_minor": 0
      },
      "text/plain": [
       "Batches:   0%|          | 0/418 [00:00<?, ?it/s]"
      ]
     },
     "metadata": {},
     "output_type": "display_data"
    },
    {
     "name": "stderr",
     "output_type": "stream",
     "text": [
      "2024-01-22 22:43:28,282 - BERTopic - Transformed documents to Embeddings\n",
      "2024-01-22 22:43:36,274 - BERTopic - Reduced dimensionality\n",
      "2024-01-22 22:43:37,801 - BERTopic - Clustered reduced embeddings\n",
      "2024-01-22 22:43:44,920 - BERTopic - Reduced number of topics from 30 to 9\n"
     ]
    },
    {
     "name": "stdout",
     "output_type": "stream",
     "text": [
      "Load NPMI coherence DB. \n",
      "Number of keys : 1948257\n",
      "skipping 0.04 missed term-pairs < allowed misses = 0.15\n",
      "\n",
      "\n",
      "Running BERTopic with 10 topics and other details as below:\n",
      "{'name': 'bertopic', 'min_topic_size': 70, 'min_samples': 20, 'save_flag': False}\n"
     ]
    },
    {
     "data": {
      "application/vnd.jupyter.widget-view+json": {
       "model_id": "b5c95b5e2dc54d039d9ffdd9111dcf01",
       "version_major": 2,
       "version_minor": 0
      },
      "text/plain": [
       "Batches:   0%|          | 0/418 [00:00<?, ?it/s]"
      ]
     },
     "metadata": {},
     "output_type": "display_data"
    },
    {
     "name": "stderr",
     "output_type": "stream",
     "text": [
      "2024-01-22 22:44:57,742 - BERTopic - Transformed documents to Embeddings\n",
      "2024-01-22 22:45:08,535 - BERTopic - Reduced dimensionality\n",
      "2024-01-22 22:45:09,930 - BERTopic - Clustered reduced embeddings\n",
      "2024-01-22 22:45:17,182 - BERTopic - Reduced number of topics from 29 to 10\n"
     ]
    },
    {
     "name": "stdout",
     "output_type": "stream",
     "text": [
      "Load NPMI coherence DB. \n",
      "Number of keys : 1948257\n",
      "skipping 0.03 missed term-pairs < allowed misses = 0.15\n"
     ]
    },
    {
     "data": {
      "application/vnd.jupyter.widget-view+json": {
       "model_id": "fec20501dfca46d5932e2f9ead4f6911",
       "version_major": 2,
       "version_minor": 0
      },
      "text/plain": [
       "Batches:   0%|          | 0/418 [00:00<?, ?it/s]"
      ]
     },
     "metadata": {},
     "output_type": "display_data"
    },
    {
     "name": "stderr",
     "output_type": "stream",
     "text": [
      "2024-01-22 22:46:29,494 - BERTopic - Transformed documents to Embeddings\n",
      "2024-01-22 22:46:37,569 - BERTopic - Reduced dimensionality\n",
      "2024-01-22 22:46:38,992 - BERTopic - Clustered reduced embeddings\n",
      "2024-01-22 22:46:46,182 - BERTopic - Reduced number of topics from 28 to 10\n"
     ]
    },
    {
     "name": "stdout",
     "output_type": "stream",
     "text": [
      "Load NPMI coherence DB. \n",
      "Number of keys : 1948257\n",
      "skipping 0.05 missed term-pairs < allowed misses = 0.15\n",
      "\n",
      "\n",
      "Running BERTopic with 11 topics and other details as below:\n",
      "{'name': 'bertopic', 'min_topic_size': 70, 'min_samples': 20, 'save_flag': False}\n"
     ]
    },
    {
     "data": {
      "application/vnd.jupyter.widget-view+json": {
       "model_id": "8deee396bec2444495c40975e7f6dc5c",
       "version_major": 2,
       "version_minor": 0
      },
      "text/plain": [
       "Batches:   0%|          | 0/418 [00:00<?, ?it/s]"
      ]
     },
     "metadata": {},
     "output_type": "display_data"
    },
    {
     "name": "stderr",
     "output_type": "stream",
     "text": [
      "2024-01-22 22:47:59,380 - BERTopic - Transformed documents to Embeddings\n",
      "2024-01-22 22:48:07,578 - BERTopic - Reduced dimensionality\n",
      "2024-01-22 22:48:09,069 - BERTopic - Clustered reduced embeddings\n",
      "2024-01-22 22:48:16,520 - BERTopic - Reduced number of topics from 31 to 11\n"
     ]
    },
    {
     "name": "stdout",
     "output_type": "stream",
     "text": [
      "Load NPMI coherence DB. \n",
      "Number of keys : 1948257\n",
      "skipping 0.06 missed term-pairs < allowed misses = 0.15\n"
     ]
    },
    {
     "data": {
      "application/vnd.jupyter.widget-view+json": {
       "model_id": "fc275d94f8e549bfa7bbe42e3436fdff",
       "version_major": 2,
       "version_minor": 0
      },
      "text/plain": [
       "Batches:   0%|          | 0/418 [00:00<?, ?it/s]"
      ]
     },
     "metadata": {},
     "output_type": "display_data"
    },
    {
     "name": "stderr",
     "output_type": "stream",
     "text": [
      "2024-01-22 22:49:29,361 - BERTopic - Transformed documents to Embeddings\n",
      "2024-01-22 22:49:37,310 - BERTopic - Reduced dimensionality\n",
      "2024-01-22 22:49:38,727 - BERTopic - Clustered reduced embeddings\n",
      "2024-01-22 22:49:45,973 - BERTopic - Reduced number of topics from 29 to 11\n"
     ]
    },
    {
     "name": "stdout",
     "output_type": "stream",
     "text": [
      "Load NPMI coherence DB. \n",
      "Number of keys : 1948257\n",
      "skipping 0.03 missed term-pairs < allowed misses = 0.15\n",
      "\n",
      "\n",
      "Running BERTopic with 12 topics and other details as below:\n",
      "{'name': 'bertopic', 'min_topic_size': 70, 'min_samples': 20, 'save_flag': False}\n"
     ]
    },
    {
     "data": {
      "application/vnd.jupyter.widget-view+json": {
       "model_id": "7a43388e4a044379b7601945a05e05cc",
       "version_major": 2,
       "version_minor": 0
      },
      "text/plain": [
       "Batches:   0%|          | 0/418 [00:00<?, ?it/s]"
      ]
     },
     "metadata": {},
     "output_type": "display_data"
    },
    {
     "name": "stderr",
     "output_type": "stream",
     "text": [
      "2024-01-22 22:50:58,077 - BERTopic - Transformed documents to Embeddings\n",
      "2024-01-22 22:51:09,854 - BERTopic - Reduced dimensionality\n",
      "2024-01-22 22:51:11,316 - BERTopic - Clustered reduced embeddings\n",
      "2024-01-22 22:51:18,744 - BERTopic - Reduced number of topics from 29 to 12\n"
     ]
    },
    {
     "name": "stdout",
     "output_type": "stream",
     "text": [
      "Load NPMI coherence DB. \n",
      "Number of keys : 1948257\n",
      "skipping 0.02 missed term-pairs < allowed misses = 0.15\n"
     ]
    },
    {
     "data": {
      "application/vnd.jupyter.widget-view+json": {
       "model_id": "c168b626049349258623b1c65a445c2a",
       "version_major": 2,
       "version_minor": 0
      },
      "text/plain": [
       "Batches:   0%|          | 0/418 [00:00<?, ?it/s]"
      ]
     },
     "metadata": {},
     "output_type": "display_data"
    },
    {
     "name": "stderr",
     "output_type": "stream",
     "text": [
      "2024-01-22 22:52:30,973 - BERTopic - Transformed documents to Embeddings\n",
      "2024-01-22 22:52:39,008 - BERTopic - Reduced dimensionality\n",
      "2024-01-22 22:52:40,011 - BERTopic - Clustered reduced embeddings\n",
      "2024-01-22 22:52:42,201 - BERTopic - Reduced number of topics from 2 to 2\n"
     ]
    },
    {
     "name": "stdout",
     "output_type": "stream",
     "text": [
      "\n",
      "\n",
      "Running BERTopic with 13 topics and other details as below:\n",
      "{'name': 'bertopic', 'min_topic_size': 70, 'min_samples': 20, 'save_flag': False}\n"
     ]
    },
    {
     "data": {
      "application/vnd.jupyter.widget-view+json": {
       "model_id": "4960ff72a2c54df8b5d5c197e6c91359",
       "version_major": 2,
       "version_minor": 0
      },
      "text/plain": [
       "Batches:   0%|          | 0/418 [00:00<?, ?it/s]"
      ]
     },
     "metadata": {},
     "output_type": "display_data"
    },
    {
     "name": "stderr",
     "output_type": "stream",
     "text": [
      "2024-01-22 22:53:50,274 - BERTopic - Transformed documents to Embeddings\n",
      "2024-01-22 22:53:58,361 - BERTopic - Reduced dimensionality\n",
      "2024-01-22 22:53:59,763 - BERTopic - Clustered reduced embeddings\n",
      "2024-01-22 22:54:07,135 - BERTopic - Reduced number of topics from 26 to 13\n"
     ]
    },
    {
     "name": "stdout",
     "output_type": "stream",
     "text": [
      "Load NPMI coherence DB. \n",
      "Number of keys : 1948257\n",
      "skipping 0.06 missed term-pairs < allowed misses = 0.15\n"
     ]
    },
    {
     "data": {
      "application/vnd.jupyter.widget-view+json": {
       "model_id": "b72152af97604abdaeedf7538f3b5def",
       "version_major": 2,
       "version_minor": 0
      },
      "text/plain": [
       "Batches:   0%|          | 0/418 [00:00<?, ?it/s]"
      ]
     },
     "metadata": {},
     "output_type": "display_data"
    },
    {
     "name": "stderr",
     "output_type": "stream",
     "text": [
      "2024-01-22 22:55:19,532 - BERTopic - Transformed documents to Embeddings\n",
      "2024-01-22 22:55:27,494 - BERTopic - Reduced dimensionality\n",
      "2024-01-22 22:55:28,905 - BERTopic - Clustered reduced embeddings\n",
      "2024-01-22 22:55:36,312 - BERTopic - Reduced number of topics from 28 to 13\n"
     ]
    },
    {
     "name": "stdout",
     "output_type": "stream",
     "text": [
      "Load NPMI coherence DB. \n",
      "Number of keys : 1948257\n",
      "skipping 0.03 missed term-pairs < allowed misses = 0.15\n",
      "\n",
      "\n",
      "Running BERTopic with 14 topics and other details as below:\n",
      "{'name': 'bertopic', 'min_topic_size': 70, 'min_samples': 20, 'save_flag': False}\n"
     ]
    },
    {
     "data": {
      "application/vnd.jupyter.widget-view+json": {
       "model_id": "7ab8f772c84e4a1a9c315645d4f974c5",
       "version_major": 2,
       "version_minor": 0
      },
      "text/plain": [
       "Batches:   0%|          | 0/418 [00:00<?, ?it/s]"
      ]
     },
     "metadata": {},
     "output_type": "display_data"
    },
    {
     "name": "stderr",
     "output_type": "stream",
     "text": [
      "2024-01-22 22:56:48,816 - BERTopic - Transformed documents to Embeddings\n",
      "2024-01-22 22:56:57,598 - BERTopic - Reduced dimensionality\n",
      "2024-01-22 22:56:59,017 - BERTopic - Clustered reduced embeddings\n",
      "2024-01-22 22:57:06,707 - BERTopic - Reduced number of topics from 30 to 14\n"
     ]
    },
    {
     "name": "stdout",
     "output_type": "stream",
     "text": [
      "Load NPMI coherence DB. \n",
      "Number of keys : 1948257\n",
      "skipping 0.07 missed term-pairs < allowed misses = 0.15\n"
     ]
    },
    {
     "data": {
      "application/vnd.jupyter.widget-view+json": {
       "model_id": "1ba837798db84b95af498c1ba872552e",
       "version_major": 2,
       "version_minor": 0
      },
      "text/plain": [
       "Batches:   0%|          | 0/418 [00:00<?, ?it/s]"
      ]
     },
     "metadata": {},
     "output_type": "display_data"
    },
    {
     "name": "stderr",
     "output_type": "stream",
     "text": [
      "2024-01-22 22:58:21,129 - BERTopic - Transformed documents to Embeddings\n",
      "2024-01-22 22:58:29,022 - BERTopic - Reduced dimensionality\n",
      "2024-01-22 22:58:30,404 - BERTopic - Clustered reduced embeddings\n",
      "2024-01-22 22:58:37,913 - BERTopic - Reduced number of topics from 27 to 14\n"
     ]
    },
    {
     "name": "stdout",
     "output_type": "stream",
     "text": [
      "Load NPMI coherence DB. \n",
      "Number of keys : 1948257\n",
      "skipping 0.04 missed term-pairs < allowed misses = 0.15\n",
      "\n",
      "\n",
      "Running BERTopic with 15 topics and other details as below:\n",
      "{'name': 'bertopic', 'min_topic_size': 70, 'min_samples': 20, 'save_flag': False}\n"
     ]
    },
    {
     "data": {
      "application/vnd.jupyter.widget-view+json": {
       "model_id": "e62d5338afb54875ba60cbd572441607",
       "version_major": 2,
       "version_minor": 0
      },
      "text/plain": [
       "Batches:   0%|          | 0/418 [00:00<?, ?it/s]"
      ]
     },
     "metadata": {},
     "output_type": "display_data"
    },
    {
     "name": "stderr",
     "output_type": "stream",
     "text": [
      "2024-01-22 22:59:51,110 - BERTopic - Transformed documents to Embeddings\n",
      "2024-01-22 22:59:59,064 - BERTopic - Reduced dimensionality\n",
      "2024-01-22 23:00:00,439 - BERTopic - Clustered reduced embeddings\n",
      "2024-01-22 23:00:07,951 - BERTopic - Reduced number of topics from 28 to 15\n"
     ]
    },
    {
     "name": "stdout",
     "output_type": "stream",
     "text": [
      "Load NPMI coherence DB. \n",
      "Number of keys : 1948257\n",
      "skipping 0.04 missed term-pairs < allowed misses = 0.15\n"
     ]
    },
    {
     "data": {
      "application/vnd.jupyter.widget-view+json": {
       "model_id": "68061f28b3ed4aa9812e091115b2566a",
       "version_major": 2,
       "version_minor": 0
      },
      "text/plain": [
       "Batches:   0%|          | 0/418 [00:00<?, ?it/s]"
      ]
     },
     "metadata": {},
     "output_type": "display_data"
    },
    {
     "name": "stderr",
     "output_type": "stream",
     "text": [
      "2024-01-22 23:01:21,716 - BERTopic - Transformed documents to Embeddings\n",
      "2024-01-22 23:01:29,739 - BERTopic - Reduced dimensionality\n",
      "2024-01-22 23:01:31,092 - BERTopic - Clustered reduced embeddings\n",
      "2024-01-22 23:01:38,512 - BERTopic - Reduced number of topics from 26 to 15\n"
     ]
    },
    {
     "name": "stdout",
     "output_type": "stream",
     "text": [
      "Load NPMI coherence DB. \n",
      "Number of keys : 1948257\n",
      "skipping 0.04 missed term-pairs < allowed misses = 0.15\n",
      "\n",
      "\n",
      "Running BERTopic with 16 topics and other details as below:\n",
      "{'name': 'bertopic', 'min_topic_size': 70, 'min_samples': 20, 'save_flag': False}\n"
     ]
    },
    {
     "data": {
      "application/vnd.jupyter.widget-view+json": {
       "model_id": "f2bd6a4fc1c5468db2ab07d4a8bd24bc",
       "version_major": 2,
       "version_minor": 0
      },
      "text/plain": [
       "Batches:   0%|          | 0/418 [00:00<?, ?it/s]"
      ]
     },
     "metadata": {},
     "output_type": "display_data"
    },
    {
     "name": "stderr",
     "output_type": "stream",
     "text": [
      "2024-01-22 23:02:51,395 - BERTopic - Transformed documents to Embeddings\n",
      "2024-01-22 23:03:00,132 - BERTopic - Reduced dimensionality\n",
      "2024-01-22 23:03:01,094 - BERTopic - Clustered reduced embeddings\n",
      "2024-01-22 23:03:03,379 - BERTopic - Reduced number of topics from 3 to 3\n"
     ]
    },
    {
     "data": {
      "application/vnd.jupyter.widget-view+json": {
       "model_id": "fde6be986f8d493d82cdb27c8194bf68",
       "version_major": 2,
       "version_minor": 0
      },
      "text/plain": [
       "Batches:   0%|          | 0/418 [00:00<?, ?it/s]"
      ]
     },
     "metadata": {},
     "output_type": "display_data"
    },
    {
     "name": "stderr",
     "output_type": "stream",
     "text": [
      "2024-01-22 23:04:11,984 - BERTopic - Transformed documents to Embeddings\n",
      "2024-01-22 23:04:19,991 - BERTopic - Reduced dimensionality\n",
      "2024-01-22 23:04:21,468 - BERTopic - Clustered reduced embeddings\n",
      "2024-01-22 23:04:29,219 - BERTopic - Reduced number of topics from 31 to 16\n"
     ]
    },
    {
     "name": "stdout",
     "output_type": "stream",
     "text": [
      "Load NPMI coherence DB. \n",
      "Number of keys : 1948257\n",
      "skipping 0.04 missed term-pairs < allowed misses = 0.15\n",
      "\n",
      "\n",
      "Running BERTopic with 17 topics and other details as below:\n",
      "{'name': 'bertopic', 'min_topic_size': 70, 'min_samples': 20, 'save_flag': False}\n"
     ]
    },
    {
     "data": {
      "application/vnd.jupyter.widget-view+json": {
       "model_id": "ce52ee1b531b4d389f4e7acb38af1b32",
       "version_major": 2,
       "version_minor": 0
      },
      "text/plain": [
       "Batches:   0%|          | 0/418 [00:00<?, ?it/s]"
      ]
     },
     "metadata": {},
     "output_type": "display_data"
    },
    {
     "name": "stderr",
     "output_type": "stream",
     "text": [
      "2024-01-22 23:05:43,020 - BERTopic - Transformed documents to Embeddings\n",
      "2024-01-22 23:05:50,907 - BERTopic - Reduced dimensionality\n",
      "2024-01-22 23:05:52,321 - BERTopic - Clustered reduced embeddings\n",
      "2024-01-22 23:05:59,979 - BERTopic - Reduced number of topics from 28 to 17\n"
     ]
    },
    {
     "name": "stdout",
     "output_type": "stream",
     "text": [
      "Load NPMI coherence DB. \n",
      "Number of keys : 1948257\n",
      "skipping 0.09 missed term-pairs < allowed misses = 0.15\n"
     ]
    },
    {
     "data": {
      "application/vnd.jupyter.widget-view+json": {
       "model_id": "18a164fd84404dabb7c7edcc5e2bbb79",
       "version_major": 2,
       "version_minor": 0
      },
      "text/plain": [
       "Batches:   0%|          | 0/418 [00:00<?, ?it/s]"
      ]
     },
     "metadata": {},
     "output_type": "display_data"
    },
    {
     "name": "stderr",
     "output_type": "stream",
     "text": [
      "2024-01-22 23:07:13,103 - BERTopic - Transformed documents to Embeddings\n",
      "2024-01-22 23:07:21,241 - BERTopic - Reduced dimensionality\n",
      "2024-01-22 23:07:22,661 - BERTopic - Clustered reduced embeddings\n",
      "2024-01-22 23:07:30,320 - BERTopic - Reduced number of topics from 29 to 17\n"
     ]
    },
    {
     "name": "stdout",
     "output_type": "stream",
     "text": [
      "Load NPMI coherence DB. \n",
      "Number of keys : 1948257\n",
      "skipping 0.07 missed term-pairs < allowed misses = 0.15\n",
      "\n",
      "\n",
      "Running BERTopic with 18 topics and other details as below:\n",
      "{'name': 'bertopic', 'min_topic_size': 70, 'min_samples': 20, 'save_flag': False}\n"
     ]
    },
    {
     "data": {
      "application/vnd.jupyter.widget-view+json": {
       "model_id": "2a5283a212864cdcaf5522e738e56421",
       "version_major": 2,
       "version_minor": 0
      },
      "text/plain": [
       "Batches:   0%|          | 0/418 [00:00<?, ?it/s]"
      ]
     },
     "metadata": {},
     "output_type": "display_data"
    },
    {
     "name": "stderr",
     "output_type": "stream",
     "text": [
      "2024-01-22 23:08:43,933 - BERTopic - Transformed documents to Embeddings\n",
      "2024-01-22 23:08:52,868 - BERTopic - Reduced dimensionality\n",
      "2024-01-22 23:08:54,272 - BERTopic - Clustered reduced embeddings\n",
      "2024-01-22 23:09:02,042 - BERTopic - Reduced number of topics from 27 to 18\n"
     ]
    },
    {
     "name": "stdout",
     "output_type": "stream",
     "text": [
      "Load NPMI coherence DB. \n",
      "Number of keys : 1948257\n",
      "skipping 0.07 missed term-pairs < allowed misses = 0.15\n"
     ]
    },
    {
     "data": {
      "application/vnd.jupyter.widget-view+json": {
       "model_id": "bda585c018ed48cfa3a436f92b71d543",
       "version_major": 2,
       "version_minor": 0
      },
      "text/plain": [
       "Batches:   0%|          | 0/418 [00:00<?, ?it/s]"
      ]
     },
     "metadata": {},
     "output_type": "display_data"
    },
    {
     "name": "stderr",
     "output_type": "stream",
     "text": [
      "2024-01-22 23:10:15,443 - BERTopic - Transformed documents to Embeddings\n",
      "2024-01-22 23:10:23,593 - BERTopic - Reduced dimensionality\n",
      "2024-01-22 23:10:25,057 - BERTopic - Clustered reduced embeddings\n",
      "2024-01-22 23:10:32,922 - BERTopic - Reduced number of topics from 29 to 18\n"
     ]
    },
    {
     "name": "stdout",
     "output_type": "stream",
     "text": [
      "Load NPMI coherence DB. \n",
      "Number of keys : 1948257\n",
      "skipping 0.05 missed term-pairs < allowed misses = 0.15\n",
      "\n",
      "\n",
      "Running BERTopic with 19 topics and other details as below:\n",
      "{'name': 'bertopic', 'min_topic_size': 70, 'min_samples': 20, 'save_flag': False}\n"
     ]
    },
    {
     "data": {
      "application/vnd.jupyter.widget-view+json": {
       "model_id": "391326be1fcc40e087f61ddc68877f47",
       "version_major": 2,
       "version_minor": 0
      },
      "text/plain": [
       "Batches:   0%|          | 0/418 [00:00<?, ?it/s]"
      ]
     },
     "metadata": {},
     "output_type": "display_data"
    },
    {
     "name": "stderr",
     "output_type": "stream",
     "text": [
      "2024-01-22 23:11:47,655 - BERTopic - Transformed documents to Embeddings\n",
      "2024-01-22 23:11:55,688 - BERTopic - Reduced dimensionality\n",
      "2024-01-22 23:11:57,215 - BERTopic - Clustered reduced embeddings\n",
      "2024-01-22 23:12:05,314 - BERTopic - Reduced number of topics from 32 to 19\n"
     ]
    },
    {
     "name": "stdout",
     "output_type": "stream",
     "text": [
      "Load NPMI coherence DB. \n",
      "Number of keys : 1948257\n",
      "skipping 0.07 missed term-pairs < allowed misses = 0.15\n"
     ]
    },
    {
     "data": {
      "application/vnd.jupyter.widget-view+json": {
       "model_id": "5fb91585a8d7461a9f0be126a681fc3d",
       "version_major": 2,
       "version_minor": 0
      },
      "text/plain": [
       "Batches:   0%|          | 0/418 [00:00<?, ?it/s]"
      ]
     },
     "metadata": {},
     "output_type": "display_data"
    },
    {
     "name": "stderr",
     "output_type": "stream",
     "text": [
      "2024-01-22 23:13:21,345 - BERTopic - Transformed documents to Embeddings\n",
      "2024-01-22 23:13:29,284 - BERTopic - Reduced dimensionality\n",
      "2024-01-22 23:13:30,725 - BERTopic - Clustered reduced embeddings\n",
      "2024-01-22 23:13:38,654 - BERTopic - Reduced number of topics from 30 to 19\n"
     ]
    },
    {
     "name": "stdout",
     "output_type": "stream",
     "text": [
      "Load NPMI coherence DB. \n",
      "Number of keys : 1948257\n",
      "skipping 0.05 missed term-pairs < allowed misses = 0.15\n",
      "\n",
      "\n",
      "Running BERTopic with 20 topics and other details as below:\n",
      "{'name': 'bertopic', 'min_topic_size': 70, 'min_samples': 20, 'save_flag': False}\n"
     ]
    },
    {
     "data": {
      "application/vnd.jupyter.widget-view+json": {
       "model_id": "1538f4dc80dc4b4b86f36754a0c7549c",
       "version_major": 2,
       "version_minor": 0
      },
      "text/plain": [
       "Batches:   0%|          | 0/418 [00:00<?, ?it/s]"
      ]
     },
     "metadata": {},
     "output_type": "display_data"
    },
    {
     "name": "stderr",
     "output_type": "stream",
     "text": [
      "2024-01-22 23:14:52,250 - BERTopic - Transformed documents to Embeddings\n",
      "2024-01-22 23:15:01,100 - BERTopic - Reduced dimensionality\n",
      "2024-01-22 23:15:02,472 - BERTopic - Clustered reduced embeddings\n",
      "2024-01-22 23:15:10,427 - BERTopic - Reduced number of topics from 26 to 20\n"
     ]
    },
    {
     "name": "stdout",
     "output_type": "stream",
     "text": [
      "Load NPMI coherence DB. \n",
      "Number of keys : 1948257\n",
      "skipping 0.05 missed term-pairs < allowed misses = 0.15\n"
     ]
    },
    {
     "data": {
      "application/vnd.jupyter.widget-view+json": {
       "model_id": "b48e35c205334eefa317af9771e52d5a",
       "version_major": 2,
       "version_minor": 0
      },
      "text/plain": [
       "Batches:   0%|          | 0/418 [00:00<?, ?it/s]"
      ]
     },
     "metadata": {},
     "output_type": "display_data"
    },
    {
     "name": "stderr",
     "output_type": "stream",
     "text": [
      "2024-01-22 23:16:23,957 - BERTopic - Transformed documents to Embeddings\n",
      "2024-01-22 23:16:34,901 - BERTopic - Reduced dimensionality\n",
      "2024-01-22 23:16:36,381 - BERTopic - Clustered reduced embeddings\n",
      "2024-01-22 23:16:44,524 - BERTopic - Reduced number of topics from 31 to 20\n"
     ]
    },
    {
     "name": "stdout",
     "output_type": "stream",
     "text": [
      "Load NPMI coherence DB. \n",
      "Number of keys : 1948257\n",
      "skipping 0.06 missed term-pairs < allowed misses = 0.15\n",
      "\n",
      "\n",
      "Running BERTopic with 21 topics and other details as below:\n",
      "{'name': 'bertopic', 'min_topic_size': 70, 'min_samples': 20, 'save_flag': False}\n"
     ]
    },
    {
     "data": {
      "application/vnd.jupyter.widget-view+json": {
       "model_id": "90c35f5add4c44ae9f4598b8519bc2df",
       "version_major": 2,
       "version_minor": 0
      },
      "text/plain": [
       "Batches:   0%|          | 0/418 [00:00<?, ?it/s]"
      ]
     },
     "metadata": {},
     "output_type": "display_data"
    },
    {
     "name": "stderr",
     "output_type": "stream",
     "text": [
      "2024-01-22 23:17:59,177 - BERTopic - Transformed documents to Embeddings\n",
      "2024-01-22 23:18:07,155 - BERTopic - Reduced dimensionality\n",
      "2024-01-22 23:18:08,533 - BERTopic - Clustered reduced embeddings\n",
      "2024-01-22 23:18:16,774 - BERTopic - Reduced number of topics from 28 to 21\n"
     ]
    },
    {
     "name": "stdout",
     "output_type": "stream",
     "text": [
      "Load NPMI coherence DB. \n",
      "Number of keys : 1948257\n",
      "skipping 0.10 missed term-pairs < allowed misses = 0.15\n"
     ]
    },
    {
     "data": {
      "application/vnd.jupyter.widget-view+json": {
       "model_id": "93e2ec2a75af4f05b5395990cb977249",
       "version_major": 2,
       "version_minor": 0
      },
      "text/plain": [
       "Batches:   0%|          | 0/418 [00:00<?, ?it/s]"
      ]
     },
     "metadata": {},
     "output_type": "display_data"
    },
    {
     "name": "stderr",
     "output_type": "stream",
     "text": [
      "2024-01-22 23:19:33,029 - BERTopic - Transformed documents to Embeddings\n",
      "2024-01-22 23:19:41,067 - BERTopic - Reduced dimensionality\n",
      "2024-01-22 23:19:42,510 - BERTopic - Clustered reduced embeddings\n",
      "2024-01-22 23:19:50,581 - BERTopic - Reduced number of topics from 29 to 21\n"
     ]
    },
    {
     "name": "stdout",
     "output_type": "stream",
     "text": [
      "Load NPMI coherence DB. \n",
      "Number of keys : 1948257\n",
      "skipping 0.08 missed term-pairs < allowed misses = 0.15\n",
      "\n",
      "\n",
      "Running BERTopic with 22 topics and other details as below:\n",
      "{'name': 'bertopic', 'min_topic_size': 70, 'min_samples': 20, 'save_flag': False}\n"
     ]
    },
    {
     "data": {
      "application/vnd.jupyter.widget-view+json": {
       "model_id": "28c22e5a60bc47ffb76f501ed3ed8947",
       "version_major": 2,
       "version_minor": 0
      },
      "text/plain": [
       "Batches:   0%|          | 0/418 [00:00<?, ?it/s]"
      ]
     },
     "metadata": {},
     "output_type": "display_data"
    },
    {
     "name": "stderr",
     "output_type": "stream",
     "text": [
      "2024-01-22 23:21:05,055 - BERTopic - Transformed documents to Embeddings\n",
      "2024-01-22 23:21:13,993 - BERTopic - Reduced dimensionality\n",
      "2024-01-22 23:21:15,408 - BERTopic - Clustered reduced embeddings\n",
      "2024-01-22 23:21:23,577 - BERTopic - Reduced number of topics from 29 to 22\n"
     ]
    },
    {
     "name": "stdout",
     "output_type": "stream",
     "text": [
      "Load NPMI coherence DB. \n",
      "Number of keys : 1948257\n",
      "skipping 0.07 missed term-pairs < allowed misses = 0.15\n"
     ]
    },
    {
     "data": {
      "application/vnd.jupyter.widget-view+json": {
       "model_id": "461308e9e63f453c8338b8af7a33ae0c",
       "version_major": 2,
       "version_minor": 0
      },
      "text/plain": [
       "Batches:   0%|          | 0/418 [00:00<?, ?it/s]"
      ]
     },
     "metadata": {},
     "output_type": "display_data"
    },
    {
     "name": "stderr",
     "output_type": "stream",
     "text": [
      "2024-01-22 23:22:38,846 - BERTopic - Transformed documents to Embeddings\n",
      "2024-01-22 23:22:49,758 - BERTopic - Reduced dimensionality\n",
      "2024-01-22 23:22:51,249 - BERTopic - Clustered reduced embeddings\n",
      "2024-01-22 23:22:59,520 - BERTopic - Reduced number of topics from 31 to 22\n"
     ]
    },
    {
     "name": "stdout",
     "output_type": "stream",
     "text": [
      "Load NPMI coherence DB. \n",
      "Number of keys : 1948257\n",
      "skipping 0.08 missed term-pairs < allowed misses = 0.15\n",
      "\n",
      "\n",
      "Running BERTopic with 23 topics and other details as below:\n",
      "{'name': 'bertopic', 'min_topic_size': 70, 'min_samples': 20, 'save_flag': False}\n"
     ]
    },
    {
     "data": {
      "application/vnd.jupyter.widget-view+json": {
       "model_id": "179a7758bb57424eaa8411cfbed68225",
       "version_major": 2,
       "version_minor": 0
      },
      "text/plain": [
       "Batches:   0%|          | 0/418 [00:00<?, ?it/s]"
      ]
     },
     "metadata": {},
     "output_type": "display_data"
    },
    {
     "name": "stderr",
     "output_type": "stream",
     "text": [
      "2024-01-22 23:24:15,633 - BERTopic - Transformed documents to Embeddings\n",
      "2024-01-22 23:24:23,630 - BERTopic - Reduced dimensionality\n",
      "2024-01-22 23:24:25,149 - BERTopic - Clustered reduced embeddings\n",
      "2024-01-22 23:24:33,415 - BERTopic - Reduced number of topics from 30 to 23\n"
     ]
    },
    {
     "name": "stdout",
     "output_type": "stream",
     "text": [
      "Load NPMI coherence DB. \n",
      "Number of keys : 1948257\n",
      "skipping 0.09 missed term-pairs < allowed misses = 0.15\n"
     ]
    },
    {
     "data": {
      "application/vnd.jupyter.widget-view+json": {
       "model_id": "97b6d54ef80145d2a135fdcc7f6656da",
       "version_major": 2,
       "version_minor": 0
      },
      "text/plain": [
       "Batches:   0%|          | 0/418 [00:00<?, ?it/s]"
      ]
     },
     "metadata": {},
     "output_type": "display_data"
    },
    {
     "name": "stderr",
     "output_type": "stream",
     "text": [
      "2024-01-22 23:25:50,782 - BERTopic - Transformed documents to Embeddings\n",
      "2024-01-22 23:26:01,399 - BERTopic - Reduced dimensionality\n",
      "2024-01-22 23:26:02,898 - BERTopic - Clustered reduced embeddings\n",
      "2024-01-22 23:26:11,178 - BERTopic - Reduced number of topics from 30 to 23\n"
     ]
    },
    {
     "name": "stdout",
     "output_type": "stream",
     "text": [
      "Load NPMI coherence DB. \n",
      "Number of keys : 1948257\n",
      "skipping 0.08 missed term-pairs < allowed misses = 0.15\n",
      "\n",
      "\n",
      "Running BERTopic with 24 topics and other details as below:\n",
      "{'name': 'bertopic', 'min_topic_size': 70, 'min_samples': 20, 'save_flag': False}\n"
     ]
    },
    {
     "data": {
      "application/vnd.jupyter.widget-view+json": {
       "model_id": "fb00aebc22c7410bb7dca2b0acd8e43c",
       "version_major": 2,
       "version_minor": 0
      },
      "text/plain": [
       "Batches:   0%|          | 0/418 [00:00<?, ?it/s]"
      ]
     },
     "metadata": {},
     "output_type": "display_data"
    },
    {
     "name": "stderr",
     "output_type": "stream",
     "text": [
      "2024-01-22 23:27:28,020 - BERTopic - Transformed documents to Embeddings\n",
      "2024-01-22 23:27:37,045 - BERTopic - Reduced dimensionality\n",
      "2024-01-22 23:27:38,455 - BERTopic - Clustered reduced embeddings\n",
      "2024-01-22 23:27:46,631 - BERTopic - Reduced number of topics from 26 to 24\n"
     ]
    },
    {
     "name": "stdout",
     "output_type": "stream",
     "text": [
      "Load NPMI coherence DB. \n",
      "Number of keys : 1948257\n",
      "skipping 0.10 missed term-pairs < allowed misses = 0.15\n"
     ]
    },
    {
     "data": {
      "application/vnd.jupyter.widget-view+json": {
       "model_id": "4f4c0c2d5cbf4b4eb16dd5e084e0b556",
       "version_major": 2,
       "version_minor": 0
      },
      "text/plain": [
       "Batches:   0%|          | 0/418 [00:00<?, ?it/s]"
      ]
     },
     "metadata": {},
     "output_type": "display_data"
    },
    {
     "name": "stderr",
     "output_type": "stream",
     "text": [
      "2024-01-22 23:29:02,999 - BERTopic - Transformed documents to Embeddings\n",
      "2024-01-22 23:29:13,726 - BERTopic - Reduced dimensionality\n",
      "2024-01-22 23:29:15,156 - BERTopic - Clustered reduced embeddings\n",
      "2024-01-22 23:29:23,356 - BERTopic - Reduced number of topics from 28 to 24\n"
     ]
    },
    {
     "name": "stdout",
     "output_type": "stream",
     "text": [
      "Load NPMI coherence DB. \n",
      "Number of keys : 1948257\n",
      "skipping 0.09 missed term-pairs < allowed misses = 0.15\n",
      "\n",
      "\n",
      "Running BERTopic with 25 topics and other details as below:\n",
      "{'name': 'bertopic', 'min_topic_size': 70, 'min_samples': 20, 'save_flag': False}\n"
     ]
    },
    {
     "data": {
      "application/vnd.jupyter.widget-view+json": {
       "model_id": "b2d1fa208e834c4bbfcbb36862d021bc",
       "version_major": 2,
       "version_minor": 0
      },
      "text/plain": [
       "Batches:   0%|          | 0/418 [00:00<?, ?it/s]"
      ]
     },
     "metadata": {},
     "output_type": "display_data"
    },
    {
     "name": "stderr",
     "output_type": "stream",
     "text": [
      "2024-01-22 23:30:38,985 - BERTopic - Transformed documents to Embeddings\n",
      "2024-01-22 23:30:47,048 - BERTopic - Reduced dimensionality\n",
      "2024-01-22 23:30:48,441 - BERTopic - Clustered reduced embeddings\n",
      "2024-01-22 23:30:56,744 - BERTopic - Reduced number of topics from 27 to 25\n"
     ]
    },
    {
     "name": "stdout",
     "output_type": "stream",
     "text": [
      "Load NPMI coherence DB. \n",
      "Number of keys : 1948257\n",
      "skipping 0.10 missed term-pairs < allowed misses = 0.15\n"
     ]
    },
    {
     "data": {
      "application/vnd.jupyter.widget-view+json": {
       "model_id": "415b1c0b4e3446d1b04cff1502f0cfc8",
       "version_major": 2,
       "version_minor": 0
      },
      "text/plain": [
       "Batches:   0%|          | 0/418 [00:00<?, ?it/s]"
      ]
     },
     "metadata": {},
     "output_type": "display_data"
    },
    {
     "name": "stderr",
     "output_type": "stream",
     "text": [
      "2024-01-22 23:32:14,541 - BERTopic - Transformed documents to Embeddings\n",
      "2024-01-22 23:32:22,677 - BERTopic - Reduced dimensionality\n",
      "2024-01-22 23:32:24,162 - BERTopic - Clustered reduced embeddings\n",
      "2024-01-22 23:32:32,597 - BERTopic - Reduced number of topics from 31 to 25\n"
     ]
    },
    {
     "name": "stdout",
     "output_type": "stream",
     "text": [
      "Load NPMI coherence DB. \n",
      "Number of keys : 1948257\n",
      "skipping 0.11 missed term-pairs < allowed misses = 0.15\n",
      "\n",
      "\n",
      "Running BERTopic with 26 topics and other details as below:\n",
      "{'name': 'bertopic', 'min_topic_size': 70, 'min_samples': 20, 'save_flag': False}\n"
     ]
    },
    {
     "data": {
      "application/vnd.jupyter.widget-view+json": {
       "model_id": "c62f995eb5e24468a980cb2523ef8793",
       "version_major": 2,
       "version_minor": 0
      },
      "text/plain": [
       "Batches:   0%|          | 0/418 [00:00<?, ?it/s]"
      ]
     },
     "metadata": {},
     "output_type": "display_data"
    },
    {
     "name": "stderr",
     "output_type": "stream",
     "text": [
      "2024-01-22 23:33:49,556 - BERTopic - Transformed documents to Embeddings\n",
      "2024-01-22 23:33:57,506 - BERTopic - Reduced dimensionality\n",
      "2024-01-22 23:33:58,868 - BERTopic - Clustered reduced embeddings\n",
      "2024-01-22 23:34:03,063 - BERTopic - Reduced number of topics from 26 to 26\n"
     ]
    },
    {
     "name": "stdout",
     "output_type": "stream",
     "text": [
      "Load NPMI coherence DB. \n",
      "Number of keys : 1948257\n",
      "skipping 0.10 missed term-pairs < allowed misses = 0.15\n"
     ]
    },
    {
     "data": {
      "application/vnd.jupyter.widget-view+json": {
       "model_id": "dca60cf579b4493aab6c99dd1d443f9d",
       "version_major": 2,
       "version_minor": 0
      },
      "text/plain": [
       "Batches:   0%|          | 0/418 [00:00<?, ?it/s]"
      ]
     },
     "metadata": {},
     "output_type": "display_data"
    },
    {
     "name": "stderr",
     "output_type": "stream",
     "text": [
      "2024-01-22 23:35:20,930 - BERTopic - Transformed documents to Embeddings\n",
      "2024-01-22 23:35:28,892 - BERTopic - Reduced dimensionality\n",
      "2024-01-22 23:35:30,395 - BERTopic - Clustered reduced embeddings\n",
      "2024-01-22 23:35:38,920 - BERTopic - Reduced number of topics from 31 to 26\n"
     ]
    },
    {
     "name": "stdout",
     "output_type": "stream",
     "text": [
      "Load NPMI coherence DB. \n",
      "Number of keys : 1948257\n",
      "skipping 0.10 missed term-pairs < allowed misses = 0.15\n",
      "\n",
      "\n",
      "Running BERTopic with 27 topics and other details as below:\n",
      "{'name': 'bertopic', 'min_topic_size': 70, 'min_samples': 20, 'save_flag': False}\n"
     ]
    },
    {
     "data": {
      "application/vnd.jupyter.widget-view+json": {
       "model_id": "8d0d1095451e4e2fab1a99f401bac6b9",
       "version_major": 2,
       "version_minor": 0
      },
      "text/plain": [
       "Batches:   0%|          | 0/418 [00:00<?, ?it/s]"
      ]
     },
     "metadata": {},
     "output_type": "display_data"
    },
    {
     "name": "stderr",
     "output_type": "stream",
     "text": [
      "2024-01-22 23:36:55,367 - BERTopic - Transformed documents to Embeddings\n",
      "2024-01-22 23:37:03,405 - BERTopic - Reduced dimensionality\n",
      "2024-01-22 23:37:04,858 - BERTopic - Clustered reduced embeddings\n",
      "2024-01-22 23:37:13,542 - BERTopic - Reduced number of topics from 29 to 27\n"
     ]
    },
    {
     "name": "stdout",
     "output_type": "stream",
     "text": [
      "Load NPMI coherence DB. \n",
      "Number of keys : 1948257\n",
      "skipping 0.10 missed term-pairs < allowed misses = 0.15\n"
     ]
    },
    {
     "data": {
      "application/vnd.jupyter.widget-view+json": {
       "model_id": "d628596f445147d1835913b5237d7dab",
       "version_major": 2,
       "version_minor": 0
      },
      "text/plain": [
       "Batches:   0%|          | 0/418 [00:00<?, ?it/s]"
      ]
     },
     "metadata": {},
     "output_type": "display_data"
    },
    {
     "name": "stderr",
     "output_type": "stream",
     "text": [
      "2024-01-22 23:38:30,005 - BERTopic - Transformed documents to Embeddings\n",
      "2024-01-22 23:38:37,996 - BERTopic - Reduced dimensionality\n",
      "2024-01-22 23:38:39,451 - BERTopic - Clustered reduced embeddings\n",
      "2024-01-22 23:38:48,031 - BERTopic - Reduced number of topics from 28 to 27\n"
     ]
    },
    {
     "name": "stdout",
     "output_type": "stream",
     "text": [
      "Load NPMI coherence DB. \n",
      "Number of keys : 1948257\n",
      "skipping 0.09 missed term-pairs < allowed misses = 0.15\n",
      "\n",
      "\n",
      "Running BERTopic with 28 topics and other details as below:\n",
      "{'name': 'bertopic', 'min_topic_size': 70, 'min_samples': 20, 'save_flag': False}\n"
     ]
    },
    {
     "data": {
      "application/vnd.jupyter.widget-view+json": {
       "model_id": "b0315314a5cb42a09bf96328ecb7c6df",
       "version_major": 2,
       "version_minor": 0
      },
      "text/plain": [
       "Batches:   0%|          | 0/418 [00:00<?, ?it/s]"
      ]
     },
     "metadata": {},
     "output_type": "display_data"
    },
    {
     "name": "stderr",
     "output_type": "stream",
     "text": [
      "2024-01-22 23:40:06,964 - BERTopic - Transformed documents to Embeddings\n",
      "2024-01-22 23:40:17,842 - BERTopic - Reduced dimensionality\n",
      "2024-01-22 23:40:19,328 - BERTopic - Clustered reduced embeddings\n",
      "2024-01-22 23:40:28,000 - BERTopic - Reduced number of topics from 31 to 28\n"
     ]
    },
    {
     "name": "stdout",
     "output_type": "stream",
     "text": [
      "Load NPMI coherence DB. \n",
      "Number of keys : 1948257\n",
      "skipping 0.10 missed term-pairs < allowed misses = 0.15\n"
     ]
    },
    {
     "data": {
      "application/vnd.jupyter.widget-view+json": {
       "model_id": "16e5a5f73c2b414db10f9169b9bff10a",
       "version_major": 2,
       "version_minor": 0
      },
      "text/plain": [
       "Batches:   0%|          | 0/418 [00:00<?, ?it/s]"
      ]
     },
     "metadata": {},
     "output_type": "display_data"
    },
    {
     "name": "stderr",
     "output_type": "stream",
     "text": [
      "2024-01-22 23:41:46,404 - BERTopic - Transformed documents to Embeddings\n",
      "2024-01-22 23:41:54,559 - BERTopic - Reduced dimensionality\n",
      "2024-01-22 23:41:55,946 - BERTopic - Clustered reduced embeddings\n",
      "2024-01-22 23:42:00,208 - BERTopic - Reduced number of topics from 28 to 28\n"
     ]
    },
    {
     "name": "stdout",
     "output_type": "stream",
     "text": [
      "Load NPMI coherence DB. \n",
      "Number of keys : 1948257\n",
      "skipping 0.12 missed term-pairs < allowed misses = 0.15\n",
      "\n",
      "\n",
      "Running BERTopic with 29 topics and other details as below:\n",
      "{'name': 'bertopic', 'min_topic_size': 70, 'min_samples': 20, 'save_flag': False}\n"
     ]
    },
    {
     "data": {
      "application/vnd.jupyter.widget-view+json": {
       "model_id": "ce2b111e771340b4a433284f557de9b4",
       "version_major": 2,
       "version_minor": 0
      },
      "text/plain": [
       "Batches:   0%|          | 0/418 [00:00<?, ?it/s]"
      ]
     },
     "metadata": {},
     "output_type": "display_data"
    },
    {
     "name": "stderr",
     "output_type": "stream",
     "text": [
      "2024-01-22 23:43:18,775 - BERTopic - Transformed documents to Embeddings\n",
      "2024-01-22 23:43:26,748 - BERTopic - Reduced dimensionality\n",
      "2024-01-22 23:43:28,121 - BERTopic - Clustered reduced embeddings\n",
      "2024-01-22 23:43:32,309 - BERTopic - Reduced number of topics from 26 to 26\n"
     ]
    },
    {
     "data": {
      "application/vnd.jupyter.widget-view+json": {
       "model_id": "4da1910bce1844d3ae54826d2ad02f19",
       "version_major": 2,
       "version_minor": 0
      },
      "text/plain": [
       "Batches:   0%|          | 0/418 [00:00<?, ?it/s]"
      ]
     },
     "metadata": {},
     "output_type": "display_data"
    },
    {
     "name": "stderr",
     "output_type": "stream",
     "text": [
      "2024-01-22 23:44:40,336 - BERTopic - Transformed documents to Embeddings\n",
      "2024-01-22 23:44:48,418 - BERTopic - Reduced dimensionality\n",
      "2024-01-22 23:44:49,434 - BERTopic - Clustered reduced embeddings\n",
      "2024-01-22 23:44:51,714 - BERTopic - Reduced number of topics from 3 to 3\n",
      "/home/amh418/.local/lib/python3.8/site-packages/numpy/core/fromnumeric.py:3432: RuntimeWarning: Mean of empty slice.\n",
      "  return _methods._mean(a, axis=axis, dtype=dtype,\n",
      "/home/amh418/.local/lib/python3.8/site-packages/numpy/core/_methods.py:190: RuntimeWarning: invalid value encountered in double_scalars\n",
      "  ret = ret.dtype.type(ret / rcount)\n"
     ]
    },
    {
     "name": "stdout",
     "output_type": "stream",
     "text": [
      "\n",
      "\n",
      "Running BERTopic with 30 topics and other details as below:\n",
      "{'name': 'bertopic', 'min_topic_size': 70, 'min_samples': 20, 'save_flag': False}\n"
     ]
    },
    {
     "data": {
      "application/vnd.jupyter.widget-view+json": {
       "model_id": "4f051142e3a643f29a26b48318cbe94c",
       "version_major": 2,
       "version_minor": 0
      },
      "text/plain": [
       "Batches:   0%|          | 0/418 [00:00<?, ?it/s]"
      ]
     },
     "metadata": {},
     "output_type": "display_data"
    },
    {
     "name": "stderr",
     "output_type": "stream",
     "text": [
      "2024-01-22 23:46:00,600 - BERTopic - Transformed documents to Embeddings\n",
      "2024-01-22 23:46:11,599 - BERTopic - Reduced dimensionality\n",
      "2024-01-22 23:46:13,030 - BERTopic - Clustered reduced embeddings\n",
      "2024-01-22 23:46:17,314 - BERTopic - Reduced number of topics from 28 to 28\n"
     ]
    },
    {
     "data": {
      "application/vnd.jupyter.widget-view+json": {
       "model_id": "d136be9d928e4b0bafe469e1d3ba0a2e",
       "version_major": 2,
       "version_minor": 0
      },
      "text/plain": [
       "Batches:   0%|          | 0/418 [00:00<?, ?it/s]"
      ]
     },
     "metadata": {},
     "output_type": "display_data"
    },
    {
     "name": "stderr",
     "output_type": "stream",
     "text": [
      "2024-01-22 23:47:25,771 - BERTopic - Transformed documents to Embeddings\n",
      "2024-01-22 23:47:34,764 - BERTopic - Reduced dimensionality\n",
      "2024-01-22 23:47:36,229 - BERTopic - Clustered reduced embeddings\n",
      "2024-01-22 23:47:40,625 - BERTopic - Reduced number of topics from 30 to 30\n"
     ]
    },
    {
     "name": "stdout",
     "output_type": "stream",
     "text": [
      "Load NPMI coherence DB. \n",
      "Number of keys : 1948257\n",
      "skipping 0.14 missed term-pairs < allowed misses = 0.15\n",
      "\n",
      "\n",
      "Running BERTopic with 31 topics and other details as below:\n",
      "{'name': 'bertopic', 'min_topic_size': 70, 'min_samples': 20, 'save_flag': False}\n"
     ]
    },
    {
     "data": {
      "application/vnd.jupyter.widget-view+json": {
       "model_id": "51272b8986cd41e8b6a89aa151c81dab",
       "version_major": 2,
       "version_minor": 0
      },
      "text/plain": [
       "Batches:   0%|          | 0/418 [00:00<?, ?it/s]"
      ]
     },
     "metadata": {},
     "output_type": "display_data"
    },
    {
     "name": "stderr",
     "output_type": "stream",
     "text": [
      "2024-01-22 23:48:57,044 - BERTopic - Transformed documents to Embeddings\n",
      "2024-01-22 23:49:05,047 - BERTopic - Reduced dimensionality\n",
      "2024-01-22 23:49:06,511 - BERTopic - Clustered reduced embeddings\n",
      "2024-01-22 23:49:10,837 - BERTopic - Reduced number of topics from 29 to 29\n"
     ]
    },
    {
     "data": {
      "application/vnd.jupyter.widget-view+json": {
       "model_id": "ed97774e9120499ea08867f2a55a1dc7",
       "version_major": 2,
       "version_minor": 0
      },
      "text/plain": [
       "Batches:   0%|          | 0/418 [00:00<?, ?it/s]"
      ]
     },
     "metadata": {},
     "output_type": "display_data"
    },
    {
     "name": "stderr",
     "output_type": "stream",
     "text": [
      "2024-01-22 23:50:19,291 - BERTopic - Transformed documents to Embeddings\n",
      "2024-01-22 23:50:27,415 - BERTopic - Reduced dimensionality\n",
      "2024-01-22 23:50:28,904 - BERTopic - Clustered reduced embeddings\n",
      "2024-01-22 23:50:33,337 - BERTopic - Reduced number of topics from 31 to 31\n"
     ]
    },
    {
     "name": "stdout",
     "output_type": "stream",
     "text": [
      "Load NPMI coherence DB. \n",
      "Number of keys : 1948257\n",
      "skipping 0.13 missed term-pairs < allowed misses = 0.15\n",
      "\n",
      "\n",
      "Running BERTopic with 32 topics and other details as below:\n",
      "{'name': 'bertopic', 'min_topic_size': 70, 'min_samples': 20, 'save_flag': False}\n"
     ]
    },
    {
     "data": {
      "application/vnd.jupyter.widget-view+json": {
       "model_id": "bb0cac601ebe494d8ae4b59e3fc404ab",
       "version_major": 2,
       "version_minor": 0
      },
      "text/plain": [
       "Batches:   0%|          | 0/418 [00:00<?, ?it/s]"
      ]
     },
     "metadata": {},
     "output_type": "display_data"
    },
    {
     "name": "stderr",
     "output_type": "stream",
     "text": [
      "2024-01-22 23:51:54,380 - BERTopic - Transformed documents to Embeddings\n",
      "2024-01-22 23:52:02,459 - BERTopic - Reduced dimensionality\n",
      "2024-01-22 23:52:03,821 - BERTopic - Clustered reduced embeddings\n",
      "2024-01-22 23:52:07,961 - BERTopic - Reduced number of topics from 26 to 26\n"
     ]
    },
    {
     "data": {
      "application/vnd.jupyter.widget-view+json": {
       "model_id": "bf091a061410416884fdb5dc4d967691",
       "version_major": 2,
       "version_minor": 0
      },
      "text/plain": [
       "Batches:   0%|          | 0/418 [00:00<?, ?it/s]"
      ]
     },
     "metadata": {},
     "output_type": "display_data"
    },
    {
     "name": "stderr",
     "output_type": "stream",
     "text": [
      "2024-01-22 23:53:15,103 - BERTopic - Transformed documents to Embeddings\n",
      "2024-01-22 23:53:23,248 - BERTopic - Reduced dimensionality\n",
      "2024-01-22 23:53:24,654 - BERTopic - Clustered reduced embeddings\n",
      "2024-01-22 23:53:28,875 - BERTopic - Reduced number of topics from 27 to 27\n",
      "/home/amh418/.local/lib/python3.8/site-packages/numpy/core/fromnumeric.py:3432: RuntimeWarning: Mean of empty slice.\n",
      "  return _methods._mean(a, axis=axis, dtype=dtype,\n",
      "/home/amh418/.local/lib/python3.8/site-packages/numpy/core/_methods.py:190: RuntimeWarning: invalid value encountered in double_scalars\n",
      "  ret = ret.dtype.type(ret / rcount)\n"
     ]
    },
    {
     "name": "stdout",
     "output_type": "stream",
     "text": [
      "\n",
      "\n",
      "Running BERTopic with 33 topics and other details as below:\n",
      "{'name': 'bertopic', 'min_topic_size': 70, 'min_samples': 20, 'save_flag': False}\n"
     ]
    },
    {
     "data": {
      "application/vnd.jupyter.widget-view+json": {
       "model_id": "019dd2ffdefc4903b170018e96b21536",
       "version_major": 2,
       "version_minor": 0
      },
      "text/plain": [
       "Batches:   0%|          | 0/418 [00:00<?, ?it/s]"
      ]
     },
     "metadata": {},
     "output_type": "display_data"
    },
    {
     "name": "stderr",
     "output_type": "stream",
     "text": [
      "2024-01-22 23:54:37,773 - BERTopic - Transformed documents to Embeddings\n",
      "2024-01-22 23:54:45,920 - BERTopic - Reduced dimensionality\n",
      "2024-01-22 23:54:47,428 - BERTopic - Clustered reduced embeddings\n",
      "2024-01-22 23:54:51,794 - BERTopic - Reduced number of topics from 30 to 30\n"
     ]
    },
    {
     "data": {
      "application/vnd.jupyter.widget-view+json": {
       "model_id": "f82d222d41814693b5599f1be3b036f2",
       "version_major": 2,
       "version_minor": 0
      },
      "text/plain": [
       "Batches:   0%|          | 0/418 [00:00<?, ?it/s]"
      ]
     },
     "metadata": {},
     "output_type": "display_data"
    },
    {
     "name": "stderr",
     "output_type": "stream",
     "text": [
      "2024-01-22 23:56:00,560 - BERTopic - Transformed documents to Embeddings\n",
      "2024-01-22 23:56:08,516 - BERTopic - Reduced dimensionality\n",
      "2024-01-22 23:56:10,036 - BERTopic - Clustered reduced embeddings\n",
      "2024-01-22 23:56:14,454 - BERTopic - Reduced number of topics from 31 to 31\n",
      "/home/amh418/.local/lib/python3.8/site-packages/numpy/core/fromnumeric.py:3432: RuntimeWarning: Mean of empty slice.\n",
      "  return _methods._mean(a, axis=axis, dtype=dtype,\n",
      "/home/amh418/.local/lib/python3.8/site-packages/numpy/core/_methods.py:190: RuntimeWarning: invalid value encountered in double_scalars\n",
      "  ret = ret.dtype.type(ret / rcount)\n"
     ]
    },
    {
     "name": "stdout",
     "output_type": "stream",
     "text": [
      "\n",
      "\n",
      "Running BERTopic with 34 topics and other details as below:\n",
      "{'name': 'bertopic', 'min_topic_size': 70, 'min_samples': 20, 'save_flag': False}\n"
     ]
    },
    {
     "data": {
      "application/vnd.jupyter.widget-view+json": {
       "model_id": "38f3412a7f2c4e618b5d044bf8d3cd31",
       "version_major": 2,
       "version_minor": 0
      },
      "text/plain": [
       "Batches:   0%|          | 0/418 [00:00<?, ?it/s]"
      ]
     },
     "metadata": {},
     "output_type": "display_data"
    },
    {
     "name": "stderr",
     "output_type": "stream",
     "text": [
      "2024-01-22 23:57:23,193 - BERTopic - Transformed documents to Embeddings\n",
      "2024-01-22 23:57:31,113 - BERTopic - Reduced dimensionality\n",
      "2024-01-22 23:57:32,102 - BERTopic - Clustered reduced embeddings\n",
      "2024-01-22 23:57:34,407 - BERTopic - Reduced number of topics from 3 to 3\n"
     ]
    },
    {
     "data": {
      "application/vnd.jupyter.widget-view+json": {
       "model_id": "99fcfc0ee497451c934c643b2949834a",
       "version_major": 2,
       "version_minor": 0
      },
      "text/plain": [
       "Batches:   0%|          | 0/418 [00:00<?, ?it/s]"
      ]
     },
     "metadata": {},
     "output_type": "display_data"
    },
    {
     "name": "stderr",
     "output_type": "stream",
     "text": [
      "2024-01-22 23:58:42,250 - BERTopic - Transformed documents to Embeddings\n",
      "2024-01-22 23:58:52,762 - BERTopic - Reduced dimensionality\n",
      "2024-01-22 23:58:54,113 - BERTopic - Clustered reduced embeddings\n",
      "2024-01-22 23:58:58,278 - BERTopic - Reduced number of topics from 26 to 26\n",
      "/home/amh418/.local/lib/python3.8/site-packages/numpy/core/fromnumeric.py:3432: RuntimeWarning: Mean of empty slice.\n",
      "  return _methods._mean(a, axis=axis, dtype=dtype,\n",
      "/home/amh418/.local/lib/python3.8/site-packages/numpy/core/_methods.py:190: RuntimeWarning: invalid value encountered in double_scalars\n",
      "  ret = ret.dtype.type(ret / rcount)\n"
     ]
    },
    {
     "name": "stdout",
     "output_type": "stream",
     "text": [
      "\n",
      "\n",
      "Running BERTopic with 35 topics and other details as below:\n",
      "{'name': 'bertopic', 'min_topic_size': 70, 'min_samples': 20, 'save_flag': False}\n"
     ]
    },
    {
     "data": {
      "application/vnd.jupyter.widget-view+json": {
       "model_id": "f0ea494b48f045aabc81275cb5057549",
       "version_major": 2,
       "version_minor": 0
      },
      "text/plain": [
       "Batches:   0%|          | 0/418 [00:00<?, ?it/s]"
      ]
     },
     "metadata": {},
     "output_type": "display_data"
    },
    {
     "name": "stderr",
     "output_type": "stream",
     "text": [
      "2024-01-23 00:00:06,766 - BERTopic - Transformed documents to Embeddings\n",
      "2024-01-23 00:00:15,642 - BERTopic - Reduced dimensionality\n",
      "2024-01-23 00:00:17,175 - BERTopic - Clustered reduced embeddings\n",
      "2024-01-23 00:00:21,663 - BERTopic - Reduced number of topics from 32 to 32\n"
     ]
    },
    {
     "data": {
      "application/vnd.jupyter.widget-view+json": {
       "model_id": "0eb1a129fccb47f6a26346dacd30b7c8",
       "version_major": 2,
       "version_minor": 0
      },
      "text/plain": [
       "Batches:   0%|          | 0/418 [00:00<?, ?it/s]"
      ]
     },
     "metadata": {},
     "output_type": "display_data"
    },
    {
     "name": "stderr",
     "output_type": "stream",
     "text": [
      "2024-01-23 00:01:30,623 - BERTopic - Transformed documents to Embeddings\n",
      "2024-01-23 00:01:38,741 - BERTopic - Reduced dimensionality\n",
      "2024-01-23 00:01:40,198 - BERTopic - Clustered reduced embeddings\n",
      "2024-01-23 00:01:44,508 - BERTopic - Reduced number of topics from 29 to 29\n",
      "/home/amh418/.local/lib/python3.8/site-packages/numpy/core/fromnumeric.py:3432: RuntimeWarning: Mean of empty slice.\n",
      "  return _methods._mean(a, axis=axis, dtype=dtype,\n",
      "/home/amh418/.local/lib/python3.8/site-packages/numpy/core/_methods.py:190: RuntimeWarning: invalid value encountered in double_scalars\n",
      "  ret = ret.dtype.type(ret / rcount)\n"
     ]
    },
    {
     "name": "stdout",
     "output_type": "stream",
     "text": [
      "\n",
      "\n",
      "Running BERTopic with 36 topics and other details as below:\n",
      "{'name': 'bertopic', 'min_topic_size': 70, 'min_samples': 20, 'save_flag': False}\n"
     ]
    },
    {
     "data": {
      "application/vnd.jupyter.widget-view+json": {
       "model_id": "3da11c1fe9554bcd9444fd96813cd99a",
       "version_major": 2,
       "version_minor": 0
      },
      "text/plain": [
       "Batches:   0%|          | 0/418 [00:00<?, ?it/s]"
      ]
     },
     "metadata": {},
     "output_type": "display_data"
    },
    {
     "name": "stderr",
     "output_type": "stream",
     "text": [
      "2024-01-23 00:02:52,209 - BERTopic - Transformed documents to Embeddings\n",
      "2024-01-23 00:03:02,849 - BERTopic - Reduced dimensionality\n",
      "2024-01-23 00:03:04,276 - BERTopic - Clustered reduced embeddings\n",
      "2024-01-23 00:03:08,602 - BERTopic - Reduced number of topics from 29 to 29\n"
     ]
    },
    {
     "data": {
      "application/vnd.jupyter.widget-view+json": {
       "model_id": "bb54ed0e25bb43e9bc11599b22a3db9e",
       "version_major": 2,
       "version_minor": 0
      },
      "text/plain": [
       "Batches:   0%|          | 0/418 [00:00<?, ?it/s]"
      ]
     },
     "metadata": {},
     "output_type": "display_data"
    },
    {
     "name": "stderr",
     "output_type": "stream",
     "text": [
      "2024-01-23 00:04:28,275 - BERTopic - Transformed documents to Embeddings\n",
      "2024-01-23 00:04:36,303 - BERTopic - Reduced dimensionality\n",
      "2024-01-23 00:04:37,661 - BERTopic - Clustered reduced embeddings\n",
      "2024-01-23 00:04:41,878 - BERTopic - Reduced number of topics from 27 to 27\n",
      "/home/amh418/.local/lib/python3.8/site-packages/numpy/core/fromnumeric.py:3432: RuntimeWarning: Mean of empty slice.\n",
      "  return _methods._mean(a, axis=axis, dtype=dtype,\n",
      "/home/amh418/.local/lib/python3.8/site-packages/numpy/core/_methods.py:190: RuntimeWarning: invalid value encountered in double_scalars\n",
      "  ret = ret.dtype.type(ret / rcount)\n"
     ]
    },
    {
     "name": "stdout",
     "output_type": "stream",
     "text": [
      "\n",
      "\n",
      "Running BERTopic with 37 topics and other details as below:\n",
      "{'name': 'bertopic', 'min_topic_size': 70, 'min_samples': 20, 'save_flag': False}\n"
     ]
    },
    {
     "data": {
      "application/vnd.jupyter.widget-view+json": {
       "model_id": "22e6fa41d88843818f4cd31918a6d1fd",
       "version_major": 2,
       "version_minor": 0
      },
      "text/plain": [
       "Batches:   0%|          | 0/418 [00:00<?, ?it/s]"
      ]
     },
     "metadata": {},
     "output_type": "display_data"
    },
    {
     "name": "stderr",
     "output_type": "stream",
     "text": [
      "2024-01-23 00:05:50,423 - BERTopic - Transformed documents to Embeddings\n",
      "2024-01-23 00:05:59,364 - BERTopic - Reduced dimensionality\n",
      "2024-01-23 00:06:00,802 - BERTopic - Clustered reduced embeddings\n",
      "2024-01-23 00:06:05,142 - BERTopic - Reduced number of topics from 29 to 29\n"
     ]
    },
    {
     "data": {
      "application/vnd.jupyter.widget-view+json": {
       "model_id": "3eded911f71d4dd688309514560bdf44",
       "version_major": 2,
       "version_minor": 0
      },
      "text/plain": [
       "Batches:   0%|          | 0/418 [00:00<?, ?it/s]"
      ]
     },
     "metadata": {},
     "output_type": "display_data"
    },
    {
     "name": "stderr",
     "output_type": "stream",
     "text": [
      "2024-01-23 00:07:12,626 - BERTopic - Transformed documents to Embeddings\n",
      "2024-01-23 00:07:23,388 - BERTopic - Reduced dimensionality\n",
      "2024-01-23 00:07:24,817 - BERTopic - Clustered reduced embeddings\n",
      "2024-01-23 00:07:29,182 - BERTopic - Reduced number of topics from 30 to 30\n",
      "/home/amh418/.local/lib/python3.8/site-packages/numpy/core/fromnumeric.py:3432: RuntimeWarning: Mean of empty slice.\n",
      "  return _methods._mean(a, axis=axis, dtype=dtype,\n",
      "/home/amh418/.local/lib/python3.8/site-packages/numpy/core/_methods.py:190: RuntimeWarning: invalid value encountered in double_scalars\n",
      "  ret = ret.dtype.type(ret / rcount)\n"
     ]
    },
    {
     "name": "stdout",
     "output_type": "stream",
     "text": [
      "\n",
      "\n",
      "Running BERTopic with 38 topics and other details as below:\n",
      "{'name': 'bertopic', 'min_topic_size': 70, 'min_samples': 20, 'save_flag': False}\n"
     ]
    },
    {
     "data": {
      "application/vnd.jupyter.widget-view+json": {
       "model_id": "98f9bace21e644a1a3fccd3fc63425d5",
       "version_major": 2,
       "version_minor": 0
      },
      "text/plain": [
       "Batches:   0%|          | 0/418 [00:00<?, ?it/s]"
      ]
     },
     "metadata": {},
     "output_type": "display_data"
    },
    {
     "name": "stderr",
     "output_type": "stream",
     "text": [
      "2024-01-23 00:08:36,834 - BERTopic - Transformed documents to Embeddings\n",
      "2024-01-23 00:08:47,636 - BERTopic - Reduced dimensionality\n",
      "2024-01-23 00:08:49,023 - BERTopic - Clustered reduced embeddings\n",
      "2024-01-23 00:08:53,332 - BERTopic - Reduced number of topics from 28 to 28\n"
     ]
    },
    {
     "data": {
      "application/vnd.jupyter.widget-view+json": {
       "model_id": "d58cf3a98a564bc7bd5dcc223ace6419",
       "version_major": 2,
       "version_minor": 0
      },
      "text/plain": [
       "Batches:   0%|          | 0/418 [00:00<?, ?it/s]"
      ]
     },
     "metadata": {},
     "output_type": "display_data"
    },
    {
     "name": "stderr",
     "output_type": "stream",
     "text": [
      "2024-01-23 00:10:02,245 - BERTopic - Transformed documents to Embeddings\n",
      "2024-01-23 00:10:10,321 - BERTopic - Reduced dimensionality\n",
      "2024-01-23 00:10:11,699 - BERTopic - Clustered reduced embeddings\n",
      "2024-01-23 00:10:15,933 - BERTopic - Reduced number of topics from 26 to 26\n",
      "/home/amh418/.local/lib/python3.8/site-packages/numpy/core/fromnumeric.py:3432: RuntimeWarning: Mean of empty slice.\n",
      "  return _methods._mean(a, axis=axis, dtype=dtype,\n",
      "/home/amh418/.local/lib/python3.8/site-packages/numpy/core/_methods.py:190: RuntimeWarning: invalid value encountered in double_scalars\n",
      "  ret = ret.dtype.type(ret / rcount)\n"
     ]
    },
    {
     "name": "stdout",
     "output_type": "stream",
     "text": [
      "\n",
      "\n",
      "Running BERTopic with 39 topics and other details as below:\n",
      "{'name': 'bertopic', 'min_topic_size': 70, 'min_samples': 20, 'save_flag': False}\n"
     ]
    },
    {
     "data": {
      "application/vnd.jupyter.widget-view+json": {
       "model_id": "4c6ed4743c9f4a1799d82cde7099f7a3",
       "version_major": 2,
       "version_minor": 0
      },
      "text/plain": [
       "Batches:   0%|          | 0/418 [00:00<?, ?it/s]"
      ]
     },
     "metadata": {},
     "output_type": "display_data"
    },
    {
     "name": "stderr",
     "output_type": "stream",
     "text": [
      "2024-01-23 00:11:23,736 - BERTopic - Transformed documents to Embeddings\n",
      "2024-01-23 00:11:34,438 - BERTopic - Reduced dimensionality\n",
      "2024-01-23 00:11:35,409 - BERTopic - Clustered reduced embeddings\n",
      "2024-01-23 00:11:37,704 - BERTopic - Reduced number of topics from 3 to 3\n"
     ]
    },
    {
     "data": {
      "application/vnd.jupyter.widget-view+json": {
       "model_id": "7dcc9ce70bdf4e4285851e6946b9353b",
       "version_major": 2,
       "version_minor": 0
      },
      "text/plain": [
       "Batches:   0%|          | 0/418 [00:00<?, ?it/s]"
      ]
     },
     "metadata": {},
     "output_type": "display_data"
    },
    {
     "name": "stderr",
     "output_type": "stream",
     "text": [
      "2024-01-23 00:12:44,651 - BERTopic - Transformed documents to Embeddings\n",
      "2024-01-23 00:12:53,510 - BERTopic - Reduced dimensionality\n",
      "2024-01-23 00:12:54,513 - BERTopic - Clustered reduced embeddings\n",
      "2024-01-23 00:12:56,767 - BERTopic - Reduced number of topics from 3 to 3\n",
      "/home/amh418/.local/lib/python3.8/site-packages/numpy/core/fromnumeric.py:3432: RuntimeWarning: Mean of empty slice.\n",
      "  return _methods._mean(a, axis=axis, dtype=dtype,\n",
      "/home/amh418/.local/lib/python3.8/site-packages/numpy/core/_methods.py:190: RuntimeWarning: invalid value encountered in double_scalars\n",
      "  ret = ret.dtype.type(ret / rcount)\n"
     ]
    },
    {
     "name": "stdout",
     "output_type": "stream",
     "text": [
      "\n",
      "\n",
      "Running BERTopic with 40 topics and other details as below:\n",
      "{'name': 'bertopic', 'min_topic_size': 70, 'min_samples': 20, 'save_flag': False}\n"
     ]
    },
    {
     "data": {
      "application/vnd.jupyter.widget-view+json": {
       "model_id": "7a44397f6de94561bca6991fd663f6e4",
       "version_major": 2,
       "version_minor": 0
      },
      "text/plain": [
       "Batches:   0%|          | 0/418 [00:00<?, ?it/s]"
      ]
     },
     "metadata": {},
     "output_type": "display_data"
    },
    {
     "name": "stderr",
     "output_type": "stream",
     "text": [
      "2024-01-23 00:14:04,742 - BERTopic - Transformed documents to Embeddings\n",
      "2024-01-23 00:14:15,239 - BERTopic - Reduced dimensionality\n",
      "2024-01-23 00:14:16,633 - BERTopic - Clustered reduced embeddings\n",
      "2024-01-23 00:14:20,842 - BERTopic - Reduced number of topics from 27 to 27\n"
     ]
    },
    {
     "data": {
      "application/vnd.jupyter.widget-view+json": {
       "model_id": "80bc410efc04452ea6cc9acfb8bfa5a2",
       "version_major": 2,
       "version_minor": 0
      },
      "text/plain": [
       "Batches:   0%|          | 0/418 [00:00<?, ?it/s]"
      ]
     },
     "metadata": {},
     "output_type": "display_data"
    },
    {
     "name": "stderr",
     "output_type": "stream",
     "text": [
      "2024-01-23 00:15:30,200 - BERTopic - Transformed documents to Embeddings\n",
      "2024-01-23 00:15:40,720 - BERTopic - Reduced dimensionality\n",
      "2024-01-23 00:15:42,275 - BERTopic - Clustered reduced embeddings\n",
      "2024-01-23 00:15:46,859 - BERTopic - Reduced number of topics from 33 to 33\n",
      "/home/amh418/.local/lib/python3.8/site-packages/numpy/core/fromnumeric.py:3432: RuntimeWarning: Mean of empty slice.\n",
      "  return _methods._mean(a, axis=axis, dtype=dtype,\n",
      "/home/amh418/.local/lib/python3.8/site-packages/numpy/core/_methods.py:190: RuntimeWarning: invalid value encountered in double_scalars\n",
      "  ret = ret.dtype.type(ret / rcount)\n"
     ]
    }
   ],
   "source": [
    "from lda_mallet import lda_score\n",
    "import pickle\n",
    "\n",
    "is_eval = True #not evaluating the model\n",
    "lon,upn = 5,41 #lowwer and upper topic number for evaluation\n",
    "#need to provide number of topics and other specification\n",
    "# model_spec = {'name':'LDA','K':16,'epochs':3500,'burnin_iteration':150,'after_iteration_burnin':50,\n",
    "             # 'save_flag':True,'save_path':'LDA_test','alpha_sum':30.0}#burnin_iteration=20,after_iteration_burnin=50\n",
    "stm_lda_epochs = 50  #increase lda nits\n",
    "stm_lda_burnin = 150\n",
    "# model_spec = {'name':'STM','K':16,'epochs':500,'prevalence':'prevalence','content':'content','pre_trained_model': 'LDA',\\\n",
    "#                 'burnin_iteration':stm_lda_burnin if stm_lda_epochs>stm_lda_burnin else stm_lda_epochs-1,\\\n",
    "#               'LDA_epochs':stm_lda_epochs,'alpha':30,'save_flag':False}\n",
    "\n",
    "model_spec = {'name':'bertopic','K':12,'min_topic_size':70,'min_samples':20,'save_flag':False}\n",
    "\n",
    "if model_spec['name'] == 'LDA':\n",
    "    if is_eval:\n",
    "        #loading LDA mallet evaluation score\n",
    "        from gensim.corpora import Dictionary\n",
    "        from pre_processing import prepare_corpus\n",
    "        #creating data vocab\n",
    "        dict = Dictionary([i.split() for i in list(text_df.text)])\n",
    "        #saving it to pass it to score object\n",
    "        with open ('./data/ED_vocab.obj','wb') as vfile:\n",
    "            pickle.dump(dict,vfile)\n",
    "        wiki_vocab_dict_path = './data/wiki_sampled5p_vocab.obj'\n",
    "        with open ('./data/wiki_sampled5p_vocab.obj','rb') as vfile:\n",
    "            wiki_vocab_dict = pickle.load(vfile)\n",
    "\n",
    "\n",
    "        npmis = []\n",
    "        for n_topics in range(lon,upn,1):\n",
    "            #removing terms that are not in the Wiki Vocab\n",
    "            #pre_processing and tokenizing docs\n",
    "            # pre_processed_docs,_ = preprocess_data(list(text_df.text),extra_stopwords=\\\n",
    "            #                                                set(dict.values()).difference(set(wiki_vocab_dict.values()))\\\n",
    "            #                                        .union(['denying']))\n",
    "            pre_processed_docs,_ = preprocess_data(list(text_df.text))\n",
    "            #preparing corpus\n",
    "            vocab_dict,doc_term_mat = prepare_corpus(pre_processed_docs)\n",
    "            #temp save of vocab file\n",
    "            with open ('./data/ED_vocab.tmp','wb') as vfile:\n",
    "                pickle.dump(vocab_dict,vfile)\n",
    "            \n",
    "            scorer = lda_score(num_topics=n_topics,alpha=10,optimize_interval=10,iterations=2000,wiki_path='./data/wiki_sampled_5p.txt',\n",
    "                      db_path = './data/wiki_full/',vocab_dict_path = './data/ED_vocab.tmp', \n",
    "                      wiki_vocab_dict_path=wiki_vocab_dict_path,npmi_skip_threshold=0.30)\n",
    "            \n",
    "            scorer.fit(doc_term_mat)#fitting an LDA Mallet\n",
    "            npmis.append([n_topics,scorer.score()])\n",
    "    else: \n",
    "        #removing previously created mallet_file\n",
    "        try:\n",
    "            os.remove('MalletInstance_ {0}'.format(model_spec['save_path'])) \n",
    "            os.remove('MalletState_ {0} .gz'.format(model_spec['save_path']))\n",
    "            os.remove('MalletSpec_ {0}'.format(model_spec['save_path']))\n",
    "        except:#in case we don't have any files\n",
    "            pass\n",
    "        robjects.r.source('LDA_R.R')\n",
    "        copy_text_df = text_df.copy()\n",
    "        ans = robjects.r.findTopics(docs = copy_text_df,n_topics = model_spec['K'],epochs = model_spec['epochs'],\n",
    "                                    burnin_iteration = model_spec['burnin_iteration'],\n",
    "                                    after_iteration_burnin =  model_spec['after_iteration_burnin'],\n",
    "                                    save_flag=model_spec['save_flag'],alpha_sum=model_spec['alpha_sum'],\n",
    "                                    save_path = model_spec['save_path'])\n",
    "        top_terms = np.asarray(ans[1])\n",
    "        topic_doc_dist = np.asarray(ans[0][0]).T\n",
    "        term_probab = ans[0][1]\n",
    "        topic_vocab = ans[0][2]\n",
    "        \n",
    "        \n",
    "elif model_spec['name'] == 'STM':\n",
    "    #loading STM.R\n",
    "    robjects.r.source('stm.R')\n",
    "    \n",
    "    if is_eval:\n",
    "        \n",
    "        npmis = []\n",
    "        for n_topics in range(lon,upn,1):\n",
    "            print('\\n\\nRunning STM with {0} topics and other details as below:'.format(n_topics))\n",
    "            print({k:v for k,v in model_spec.items() if k != 'K'})\n",
    "            #running STM\n",
    "            ans = robjects.r.run_stm(docs = text_df[['id','text','prevalence','content']],topic_n=n_topics,max_itr=model_spec['epochs'],\n",
    "                                 prevalence=model_spec['prevalence'],content=model_spec['content'],\n",
    "                                 model_type = model_spec['pre_trained_model'],nits = model_spec['LDA_epochs'],\n",
    "                                 burnin = model_spec['burnin_iteration'],alpha=model_spec['alpha'],\n",
    "                                 save_flag = False)\n",
    "            #initializing scorer\n",
    "            scorer = lda_score(num_topics=n_topics,alpha=-1,optimize_interval=-1,iterations=-1,wiki_path='./data/wiki_sampled_5p.txt',\n",
    "                      db_path = './data/wiki_full/',vocab_dict_path = './data/ED_vocab.tmp', \n",
    "                      wiki_vocab_dict_path='./data/wiki_sampled5p_vocab.obj',npmi_skip_threshold=0.30)\n",
    "            #setting vocabulary of wikipedia\n",
    "            with open ('./data/wiki_sampled5p_vocab.obj','rb') as vfile:\n",
    "                wiki_vocab_dict = pickle.load(vfile)\n",
    "            scorer.wiki_vocab_dict = wiki_vocab_dict\n",
    "            #extracting top terms\n",
    "            top_terms = [[str(i) for i in ls if i in scorer.wiki_vocab_dict.token2id.keys()][0:20] \\\n",
    "             for ls in np.asarray(ans[1]).reshape(n_topics,50,order='F')]\n",
    "            scorer.all_top_terms = top_terms\n",
    "            #save the NPMI\n",
    "            npmis.append([n_topics,scorer.score()])\n",
    "            \n",
    "    else: \n",
    "        ans = robjects.r.run_stm(docs = text_df[['id','text','prevalence','content']],topic_n=model_spec['K'],max_itr=model_spec['epochs'],\n",
    "                                 prevalence=model_spec['prevalence'],content=model_spec['content'],\n",
    "                                 model_type = model_spec['pre_trained_model'],nits = model_spec['LDA_epochs'],\n",
    "                                 burnin = model_spec['burnin_iteration'],alpha=model_spec['alpha'],\n",
    "                                 save_flag = True)\n",
    "        #converting outputs to readable values\n",
    "        outs = dict(zip(ans[0].names, list(ans[0])))\n",
    "        beta = dict(zip(outs['beta'].names, list(outs['beta'])))\n",
    "        #extracting information from STM\n",
    "        top_terms = [' '.join(s) for s in np.asarray(ans[1]).reshape(model_spec['K'],50,order='F')]\n",
    "        topic_doc_dist = outs['theta']\n",
    "        term_probab = np.exp(beta['logbeta'][0])\n",
    "        topic_vocab = outs['vocab']\n",
    "        ids = pd.DataFrame(ans[2]).T[0]#ids of the remaini\n",
    "        text_df = text_df[text_df.id.isin(ids)]\n",
    "        \n",
    "elif model_spec['name'] == 'bertopic':\n",
    "    #you have to set the representation top terms to the number you'd like to see as top terms\n",
    "    representation_model = KeyBERTInspired(top_n_words=50) \n",
    "    docs = text_df.original_text\n",
    "    #         docs = text_df.text\n",
    "    if is_eval:\n",
    "        npmis = []\n",
    "        for n_topics in range(lon,upn,1):\n",
    "            print('\\n\\nRunning BERTopic with {0} topics and other details as below:'.format(n_topics))\n",
    "            print({k:v for k,v in model_spec.items() if k != 'K'})\n",
    "            npmi_runs = []\n",
    "            for _ in range(2): #two runs and then average\n",
    "                #running bertopic\n",
    "                from hdbscan import HDBSCAN\n",
    "                hdbscan_model = HDBSCAN(min_cluster_size=model_spec['min_topic_size'],\n",
    "                                        min_samples=model_spec['min_samples'],prediction_data=True)\n",
    "                topic_model = BERTopic(nr_topics=n_topics,calculate_probabilities=True,verbose=True,\n",
    "                           top_n_words=50,representation_model=representation_model,\n",
    "                                      min_topic_size=model_spec['min_topic_size'],\n",
    "                                       hdbscan_model=hdbscan_model).fit(docs)\n",
    "                #initializing scorer\n",
    "                scorer = lda_score(num_topics=n_topics,alpha=-1,optimize_interval=-1,iterations=-1,wiki_path='./data/wiki_sampled_5p.txt',\n",
    "                          db_path = './data/wiki_full/',vocab_dict_path = './data/ED_vocab.tmp', \n",
    "                          wiki_vocab_dict_path='./data/wiki_sampled5p_vocab.obj',npmi_skip_threshold=0.15)\n",
    "                #setting vocabulary of wikipedia\n",
    "                with open ('./data/wiki_sampled5p_vocab.obj','rb') as vfile:\n",
    "                    wiki_vocab_dict = pickle.load(vfile)\n",
    "                scorer.wiki_vocab_dict = wiki_vocab_dict\n",
    "                #extracting top terms\n",
    "                top_terms = []\n",
    "                for ls in list(topic_model.get_topic_info().Representation):\n",
    "                    res = []\n",
    "                    for i in ls:\n",
    "                        res.extend([j for j in i.split() if j not in res and j in scorer.wiki_vocab_dict.token2id.keys()])\n",
    "                    top_terms.append(res[0:20])\n",
    "    #             top_terms = [[str(i) for i in ls if i in scorer.wiki_vocab_dict.token2id.keys()][0:20] \\\n",
    "    #              for ls in list(topic_model.get_topic_info().Representation)]\n",
    "    #             top_terms = [' '.join(i) for i in list(topic_model.get_topic_info().Representation)]\n",
    "                scorer.all_top_terms = top_terms\n",
    "                #save the NPMI\n",
    "                if len(top_terms) == n_topics:\n",
    "                    npmi_runs.append(scorer.score())\n",
    "            npmis.append([n_topics,np.mean(npmi_runs)])\n",
    "            \n",
    "    else:\n",
    "        topic_model = BERTopic(nr_topics=model_spec['K'],calculate_probabilities=True,verbose=True,\n",
    "                       top_n_words=50,representation_model=representation_model).fit(docs)\n",
    "        top_terms = [' '.join(i) for i in list(topic_model.get_topic_info().Representation)]\n",
    "#         topic_doc_dist = np.array([i/np.sum(i) for i in topic_model.probabilities_])\n",
    "        topic_doc_dist = np.array([[1.0-np.sum(i)]+list(i) for i in topic_model.probabilities_])\n",
    "        #getting representative documents\n",
    "        documents = pd.DataFrame({\"Document\": docs,\n",
    "                          \"ID\": range(len( text_df)),\n",
    "                          \"Topic\": topic_model.topics_})\n",
    "        repr_docs, _, _,_ = topic_model._extract_representative_docs(c_tf_idf=topic_model.c_tf_idf_,\n",
    "                                                          documents=documents,\n",
    "                                                          topics=topic_model.topic_representations_ ,\n",
    "                                                          nr_repr_docs=50)\n",
    "        term_probab = topic_terms_bert(topic_model,len(top_terms)-1)\n",
    "        topic_vocab = None\n"
   ]
  },
  {
   "cell_type": "code",
   "execution_count": 64,
   "id": "93688c43-a501-4fc5-bde0-cf43da1f1a74",
   "metadata": {},
   "outputs": [],
   "source": [
    "# text_df[['id','text','prevalence','content']].to_csv('./data/stm_temp.csv')"
   ]
  },
  {
   "cell_type": "code",
   "execution_count": 18,
   "id": "52337bac-1cfa-4703-9e7c-6c3f7117dab6",
   "metadata": {},
   "outputs": [
    {
     "data": {
      "image/png": "[encoded data removed]",
      "text/plain": [
       "<Figure size 432x288 with 1 Axes>"
      ]
     },
     "metadata": {
      "needs_background": "light"
     },
     "output_type": "display_data"
    }
   ],
   "source": [
    "import seaborn as sns\n",
    "df = pd.DataFrame(npmis,columns=['n_topics','npmi_average'])\n",
    "# df = pd.concat([df,pd.DataFrame(npmis,columns=['n_topics','npmi_average'])])\n",
    "\n",
    "sns.lineplot(data=df,x='n_topics',y='npmi_average')\n",
    "\n",
    "# df.to_csv('./result/npmi_{0}{1}{2}.csv'.format(model_spec['name'],model_spec['prevalence'],\n",
    "#                                               model_spec['content']))\n",
    "\n",
    "df.to_csv('./result/npmi_{0}_min_topic_size={1}_min_samples={2}.csv'.format(model_spec['name'],\n",
    "                                                            model_spec['min_topic_size'],model_spec['min_samples']))"
   ]
  },
  {
   "cell_type": "code",
   "execution_count": 13,
   "id": "eafc7dc0-d7d5-4fe3-b68d-7708cb2230b3",
   "metadata": {},
   "outputs": [
    {
     "data": {
      "text/plain": [
       "<AxesSubplot:xlabel='n_topics', ylabel='npmi_average'>"
      ]
     },
     "execution_count": 13,
     "metadata": {},
     "output_type": "execute_result"
    },
    {
     "data": {
      "image/png": "[encoded data removed]",
      "text/plain": [
       "<Figure size 432x288 with 1 Axes>"
      ]
     },
     "metadata": {
      "needs_background": "light"
     },
     "output_type": "display_data"
    }
   ],
   "source": [
    "# df = pd.read_csv('./result/npmi_bertopic.csv')\n",
    "# df = pd.concat([df,pd.read_csv('./result/npmi_bertopic_31_40.csv')])\n",
    "# sns.lineplot(data=df,x='n_topics',y='npmi_average')"
   ]
  },
  {
   "cell_type": "code",
   "execution_count": 15,
   "id": "f02924cb-d6de-4df5-82dc-2ebcc563de6f",
   "metadata": {},
   "outputs": [
    {
     "data": {
      "text/html": [
       "<div>\n",
       "<style scoped>\n",
       "    .dataframe tbody tr th:only-of-type {\n",
       "        vertical-align: middle;\n",
       "    }\n",
       "\n",
       "    .dataframe tbody tr th {\n",
       "        vertical-align: top;\n",
       "    }\n",
       "\n",
       "    .dataframe thead th {\n",
       "        text-align: right;\n",
       "    }\n",
       "</style>\n",
       "<table border=\"1\" class=\"dataframe\">\n",
       "  <thead>\n",
       "    <tr style=\"text-align: right;\">\n",
       "      <th></th>\n",
       "      <th>Topic</th>\n",
       "      <th>Count</th>\n",
       "      <th>Name</th>\n",
       "      <th>Representation</th>\n",
       "      <th>Representative_Docs</th>\n",
       "    </tr>\n",
       "  </thead>\n",
       "  <tbody>\n",
       "    <tr>\n",
       "      <th>0</th>\n",
       "      <td>-1</td>\n",
       "      <td>5640</td>\n",
       "      <td>-1_yourself_life_being_feel</td>\n",
       "      <td>[yourself, life, being, feel, eat, myself, goi...</td>\n",
       "      <td>[Tw! Exercise stuff So, for my recovery i star...</td>\n",
       "    </tr>\n",
       "    <tr>\n",
       "      <th>1</th>\n",
       "      <td>0</td>\n",
       "      <td>4169</td>\n",
       "      <td>0_therapy_eating_feel_eat</td>\n",
       "      <td>[therapy, eating, feel, eat, healthy, her, be,...</td>\n",
       "      <td>[Therapy .. // the relationship &gt; everything e...</td>\n",
       "    </tr>\n",
       "    <tr>\n",
       "      <th>2</th>\n",
       "      <td>1</td>\n",
       "      <td>1070</td>\n",
       "      <td>1_recovery_work_run_am</td>\n",
       "      <td>[recovery, work, run, am, be, being, yourself,...</td>\n",
       "      <td>[picture this: ☕️you're minding your own busin...</td>\n",
       "    </tr>\n",
       "    <tr>\n",
       "      <th>3</th>\n",
       "      <td>2</td>\n",
       "      <td>763</td>\n",
       "      <td>2_travel_happy_going_feel</td>\n",
       "      <td>[travel, happy, going, feel, life, hope, you, ...</td>\n",
       "      <td>[So we've been opening up A LOT recently on th...</td>\n",
       "    </tr>\n",
       "    <tr>\n",
       "      <th>4</th>\n",
       "      <td>3</td>\n",
       "      <td>735</td>\n",
       "      <td>3_hospital_inpatient_going_care</td>\n",
       "      <td>[hospital, inpatient, going, care, go, be, bab...</td>\n",
       "      <td>[This self quarantine is hard and I really mis...</td>\n",
       "    </tr>\n",
       "    <tr>\n",
       "      <th>5</th>\n",
       "      <td>4</td>\n",
       "      <td>495</td>\n",
       "      <td>4_eatingdisorders_eating_disorders_disorder</td>\n",
       "      <td>[eatingdisorders, eating, disorders, disorder,...</td>\n",
       "      <td>[In honor of #MentalHealthAwarenessMonth, it i...</td>\n",
       "    </tr>\n",
       "    <tr>\n",
       "      <th>6</th>\n",
       "      <td>5</td>\n",
       "      <td>276</td>\n",
       "      <td>5_instagram_blog_tumblr_being</td>\n",
       "      <td>[instagram, blog, tumblr, being, blogs, social...</td>\n",
       "      <td>[last night i caught myself starting to go dow...</td>\n",
       "    </tr>\n",
       "    <tr>\n",
       "      <th>7</th>\n",
       "      <td>6</td>\n",
       "      <td>135</td>\n",
       "      <td>6_reading_book_books_read</td>\n",
       "      <td>[reading, book, books, read, writing, kindle, ...</td>\n",
       "      <td>[Throwback to an outback sunrise and the clear...</td>\n",
       "    </tr>\n",
       "    <tr>\n",
       "      <th>8</th>\n",
       "      <td>7</td>\n",
       "      <td>27</td>\n",
       "      <td>7_summer_warm_bikini_warmer</td>\n",
       "      <td>[summer, warm, bikini, warmer, cold, hot, temp...</td>\n",
       "      <td>[When we were in the desert, we had a whole co...</td>\n",
       "    </tr>\n",
       "    <tr>\n",
       "      <th>9</th>\n",
       "      <td>8</td>\n",
       "      <td>26</td>\n",
       "      <td>8_college_school_toschool_studying</td>\n",
       "      <td>[college, school, toschool, studying, major, u...</td>\n",
       "      <td>[Question: What are you gonna do about school?...</td>\n",
       "    </tr>\n",
       "    <tr>\n",
       "      <th>10</th>\n",
       "      <td>9</td>\n",
       "      <td>13</td>\n",
       "      <td>9_houses_neighbours_terraces_bungalows</td>\n",
       "      <td>[houses, neighbours, terraces, bungalows, hous...</td>\n",
       "      <td>[Question: We do have semi-attached homes in t...</td>\n",
       "    </tr>\n",
       "    <tr>\n",
       "      <th>11</th>\n",
       "      <td>10</td>\n",
       "      <td>11</td>\n",
       "      <td>10_skincare_moisturizer_lotion_cleanser</td>\n",
       "      <td>[skincare, moisturizer, lotion, cleanser, skin...</td>\n",
       "      <td>[*clean hands only*\\n_______\\ni've been pretty...</td>\n",
       "    </tr>\n",
       "  </tbody>\n",
       "</table>\n",
       "</div>"
      ],
      "text/plain": [
       "    Topic  Count                                         Name  \\\n",
       "0      -1   5640                  -1_yourself_life_being_feel   \n",
       "1       0   4169                    0_therapy_eating_feel_eat   \n",
       "2       1   1070                       1_recovery_work_run_am   \n",
       "3       2    763                    2_travel_happy_going_feel   \n",
       "4       3    735              3_hospital_inpatient_going_care   \n",
       "5       4    495  4_eatingdisorders_eating_disorders_disorder   \n",
       "6       5    276                5_instagram_blog_tumblr_being   \n",
       "7       6    135                    6_reading_book_books_read   \n",
       "8       7     27                  7_summer_warm_bikini_warmer   \n",
       "9       8     26           8_college_school_toschool_studying   \n",
       "10      9     13       9_houses_neighbours_terraces_bungalows   \n",
       "11     10     11      10_skincare_moisturizer_lotion_cleanser   \n",
       "\n",
       "                                       Representation  \\\n",
       "0   [yourself, life, being, feel, eat, myself, goi...   \n",
       "1   [therapy, eating, feel, eat, healthy, her, be,...   \n",
       "2   [recovery, work, run, am, be, being, yourself,...   \n",
       "3   [travel, happy, going, feel, life, hope, you, ...   \n",
       "4   [hospital, inpatient, going, care, go, be, bab...   \n",
       "5   [eatingdisorders, eating, disorders, disorder,...   \n",
       "6   [instagram, blog, tumblr, being, blogs, social...   \n",
       "7   [reading, book, books, read, writing, kindle, ...   \n",
       "8   [summer, warm, bikini, warmer, cold, hot, temp...   \n",
       "9   [college, school, toschool, studying, major, u...   \n",
       "10  [houses, neighbours, terraces, bungalows, hous...   \n",
       "11  [skincare, moisturizer, lotion, cleanser, skin...   \n",
       "\n",
       "                                  Representative_Docs  \n",
       "0   [Tw! Exercise stuff So, for my recovery i star...  \n",
       "1   [Therapy .. // the relationship > everything e...  \n",
       "2   [picture this: ☕️you're minding your own busin...  \n",
       "3   [So we've been opening up A LOT recently on th...  \n",
       "4   [This self quarantine is hard and I really mis...  \n",
       "5   [In honor of #MentalHealthAwarenessMonth, it i...  \n",
       "6   [last night i caught myself starting to go dow...  \n",
       "7   [Throwback to an outback sunrise and the clear...  \n",
       "8   [When we were in the desert, we had a whole co...  \n",
       "9   [Question: What are you gonna do about school?...  \n",
       "10  [Question: We do have semi-attached homes in t...  \n",
       "11  [*clean hands only*\\n_______\\ni've been pretty...  "
      ]
     },
     "execution_count": 15,
     "metadata": {},
     "output_type": "execute_result"
    }
   ],
   "source": [
    "topic_model.get_topic_info()"
   ]
  },
  {
   "cell_type": "markdown",
   "id": "bb4ffa8c",
   "metadata": {},
   "source": [
    "# Post-processing"
   ]
  },
  {
   "cell_type": "markdown",
   "id": "04f5559d",
   "metadata": {},
   "source": [
    "topic distribution and topic selection\n",
    "\n",
    "for topic selection I used elbow method (selecting top topics till we get to the highest gap)"
   ]
  },
  {
   "cell_type": "code",
   "execution_count": 155,
   "id": "77ca61e0",
   "metadata": {},
   "outputs": [],
   "source": [
    "#topic selection\n",
    "topics4docs,topics4docs_bin = topic_selection(topic_doc_dist)\n",
    "\n",
    "#topic distribution addition\n",
    "for i in range(topic_doc_dist.shape[1]):\n",
    "    text_df['Topic{0}_dist'.format(i)] = topic_doc_dist[:,i]\n",
    "#topic selection addition\n",
    "for i in range(topic_doc_dist.shape[1]):\n",
    "    text_df['Topic{0}_select'.format(i)] = topics4docs_bin[:,i]\n",
    "\n",
    "#saving data to csv\n",
    "text_df.to_csv('document_topic_info.csv')"
   ]
  },
  {
   "cell_type": "code",
   "execution_count": 156,
   "id": "f2f7c38d",
   "metadata": {},
   "outputs": [],
   "source": [
    "#storing top terms\n",
    "topic_df = pd.DataFrame(data=top_terms,columns=['top_terms'])\n",
    "topic_df.to_csv('topic_terms.csv')"
   ]
  },
  {
   "cell_type": "markdown",
   "id": "30bd2d7b",
   "metadata": {},
   "source": [
    "Running Coherence"
   ]
  },
  {
   "cell_type": "code",
   "execution_count": 157,
   "id": "f2b81c98",
   "metadata": {},
   "outputs": [
    {
     "name": "stdout",
     "output_type": "stream",
     "text": [
      "Load NPMI coherence DB. \n",
      "Number of keys : 1938962\n",
      "percentage of misses = 47% exceeds the threshold = 30.0%\n",
      "computing Coherence Value...\n"
     ]
    }
   ],
   "source": [
    "from lda_mallet import lda_score\n",
    "import pickle\n",
    "\n",
    "# import importlib\n",
    "# importlib.reload(scorer.score_per_topic(None))\n",
    "\n",
    "#initiate scorer\n",
    "scorer = lda_score(wiki_path='./data/wiki_sampled_5p.txt',db_path='./data/wiki_full/',npmi_skip_threshold=0.30)\n",
    "\n",
    "'''\n",
    "loading wikipedia vocab to \n",
    "    1. remove the top terms that are not in the wikipedia\n",
    "    2. use for gensim.coherence vocab argument in case any pairs are not in the DB\n",
    "'''\n",
    "with open('./data/wiki_full_vocab.obj','rb') as f: #wiki_sampled5p_vocab.obj\n",
    "    scorer.wiki_vocab_dict = pickle.load(f)\n",
    "    \n",
    "#add all_top_terms (except the ones that are not in the wiki_pedia vocab)\n",
    "scorer.all_top_terms = [[t for t in top_terms[i].split() if t in scorer.wiki_vocab_dict.token2id.keys()] for i in range(len(top_terms))]\n",
    "#the output is a dictionary: the key is 0-n_topics and associated with npmi score for top-k topics \n",
    "#in which k=5,10,15,20\n",
    "topic_scores = scorer.score_per_topic(None)\n",
    "#getting avergae of multiple k for each topic\n",
    "topic_score_avg = [np.mean([vi for ki,vi in v.items()]) for k,v in topic_scores.items()]"
   ]
  },
  {
   "cell_type": "markdown",
   "id": "801bb410-2e26-44e6-89f1-188f919359af",
   "metadata": {},
   "source": [
    "# scoring top terms and top documents"
   ]
  },
  {
   "cell_type": "code",
   "execution_count": 169,
   "id": "5f6826c8-60bd-4d00-88bc-c2e908040e47",
   "metadata": {},
   "outputs": [],
   "source": [
    "show_top_doc = 10\n",
    "show_top_terms = 10\n",
    "file_name = 'top_documents_bertopic_12_full_text.txt'\n",
    "\n",
    "#writing the results in a text file\n",
    "with open(file_name,'w') as tfile:\n",
    "    if model_spec['name'] == 'bertopic':\n",
    "        i = 0\n",
    "        for k in repr_docs.keys():\n",
    "            tfile.write('Topic '+ str(i) + ' : '+'\\n'+'top terms: '+', '.join(top_terms[i].split()[:show_top_terms])+'\\n')\n",
    "            for txt in repr_docs[k]:\n",
    "#                 tfile.write(list(text_df[text_df.text==txt].original_text)[0]+'\\n')\n",
    "                row = text_df[text_df.original_text==txt]\n",
    "                tfile.write('Doc ID: {0}, distribution: {1} ; {2} \\n'.format(list(row.id)[0],\n",
    "                                                        list(row['Topic{0}_dist'.format(i)])[0],\n",
    "                                                            list(row.original_text)[0]))\n",
    "                tfile.write(''.join(['-']*60)+'\\n')\n",
    "            i+=1\n",
    "    \n",
    "    else:\n",
    "        for i in range(len(top_terms)):\n",
    "            #writing top terms\n",
    "            tfile.write('Topic '+ str(i) + ' : '+'\\n'+'top terms: '+', '.join(top_terms[i].split()[:show_top_terms])+'\\n')\n",
    "            #selecting top documents\n",
    "            top_docs = text_df.sort_values('Topic{0}_dist'.format(i),ascending=False).iloc[0:show_top_doc,:]\n",
    "            for _,row in top_docs.iterrows():\n",
    "                tfile.write('Doc ID: {0}, distribution: {1} ; {2} \\n'.format(row.id,row['Topic{0}_dist'.format(i)],row['original_text']))\n",
    "                tfile.write(''.join(['-']*60)+'\\n')\n",
    "        "
   ]
  },
  {
   "cell_type": "markdown",
   "id": "1b90b652",
   "metadata": {},
   "source": [
    "# Storing to DB"
   ]
  },
  {
   "cell_type": "markdown",
   "id": "c380bacb",
   "metadata": {},
   "source": [
    "The process is described in the code cell below\n",
    "\n",
    "**Used the link below to insert and load blob**\n",
    "\n",
    "https://pynative.com/python-mysql-blob-insert-retrieve-file-image-as-a-blob-in-mysql/"
   ]
  },
  {
   "cell_type": "code",
   "execution_count": 15,
   "id": "92cde551",
   "metadata": {},
   "outputs": [
    {
     "data": {
      "text/plain": [
       "'\\n2. for each topic\\n    3. save topic\\n    4. retreive the saved topic_id and save r_topic_model\\n    5. for each doc save r_topic_post\\n'"
      ]
     },
     "execution_count": 15,
     "metadata": {},
     "output_type": "execute_result"
    }
   ],
   "source": [
    "#1. save model id (for LDA save as zip and then save)\n",
    "'''\n",
    "2. for each topic\n",
    "    3. save topic\n",
    "    4. retreive the saved topic_id and save r_topic_model\n",
    "    5. for each doc save r_topic_post\n",
    "'''\n",
    "###table format\n",
    "#model: model_id, data, model_type, last_used?\n",
    "# topic: topic_id, coherence, term1-50, probab1-50\n",
    "#r_topic_model: topic_id, model_id \n",
    "#r_topic_post: topic_id, post_id, proportion\n",
    "\n",
    "##check the columns of a table\n",
    "# cursor.execute(\"show columns from r_topic_post\") #execute a command\n",
    "# myresult = cursor.fetchall() #get all the results \n",
    "# myresult"
   ]
  },
  {
   "cell_type": "code",
   "execution_count": 69,
   "id": "404595ec",
   "metadata": {},
   "outputs": [],
   "source": [
    "#saving the model first\n",
    "#model: model_id, data, model_type, last_used?\n",
    "if model_spec['name'].lower() == 'lda':\n",
    "    #read binary data of the saved model\n",
    "    with open('MalletState_ '+model_spec['save_path']+' .gz','rb') as model_file:\n",
    "        binary_data = model_file.read()\n",
    "else:\n",
    "    pass #write codes for other models\n",
    "\n",
    "#storing the model\n",
    "cursor.execute(\" INSERT INTO model (data, model_type) VALUES (%s,%s)\",\n",
    "                    (binary_data,model_spec['name']))"
   ]
  },
  {
   "cell_type": "code",
   "execution_count": 70,
   "id": "2774c4ba",
   "metadata": {},
   "outputs": [],
   "source": [
    "#load the model with model id to use for next steps\n",
    "cursor.execute(\"Select * from model ORDER BY model_id DESC LIMIT 1\")\n",
    "result = cursor.fetchall()\n",
    "model_id,model_name = result[0][0],result[0][2]"
   ]
  },
  {
   "cell_type": "code",
   "execution_count": 71,
   "id": "dbecde81",
   "metadata": {},
   "outputs": [],
   "source": [
    "#saving each topic separately alongside relation to model table and post table\n",
    "for k in range(0,model_spec['K']):#iterating over each topic\n",
    "    #getting topic top terms\n",
    "    topic_top_terms = top_terms[k].split()\n",
    "    #we have to find the index in vocab (ans[0][2]) and then call ans[0][1][k][found_index] to get\n",
    "    #the probability of each term\n",
    "    if model_spec['name'] == 'LDA':\n",
    "        probab = [float(term_probab[k][i]) for w in topic_top_terms for i in range(len(topic_vocab)) if w == topic_vocab[i]]\n",
    "    else:\n",
    "        probab = term_probab[k]\n",
    "    #adding coherence score, top terms and their probabilities\n",
    "    vals = tuple([float(topic_score_avg[k])]) + tuple(topic_top_terms) + tuple(probab)\n",
    "    #save each topic seperately\n",
    "    cursor.execute(\" INSERT INTO topic(coherence,{0},{1}) VALUES (%s,{2})\".format(\n",
    "                                        ','.join(['term'+str(i) for i in range(1,len(topic_top_terms)+1)]),\n",
    "                                        ','.join(['prob'+str(i) for i in range(1,len(topic_top_terms)+1)]),\n",
    "                                        ','.join(['%s']*(len(topic_top_terms)*2))),vals)\n",
    "    \n",
    "    '''\n",
    "    retreiving saved topic_id and save an entry for topic_id,model_id in topic_model_r table\n",
    "    '''\n",
    "    #load the latest stored topic\n",
    "    cursor.execute(\"Select * from topic ORDER BY topic_id DESC LIMIT 1\")\n",
    "    result = cursor.fetchall()\n",
    "    topic_id = result[0][0]\n",
    "    #save the topic_id,model_id in r_topic_model table \n",
    "    cursor.execute(\" INSERT INTO r_topic_model(topic_id,model_id) VALUES (%s,%s)\",\n",
    "                  (topic_id,model_id,))\n",
    "    \n",
    "    '''\n",
    "    saving topic-document proportion for each topic-doc pairs\n",
    "    '''\n",
    "    #r_topic_post : topic_id, post_id, proportion\n",
    "    doc_counter = 0\n",
    "    for doc_id in list(text_df.id):\n",
    "        cursor.execute(\" INSERT INTO r_topic_post(topic_id,post_id,proportion) VALUES (%s,%s,%s)\",\n",
    "                  (topic_id,doc_id,float(topic_doc_dist[doc_counter,k])))\n",
    "        doc_counter += 1\n",
    "        "
   ]
  },
  {
   "cell_type": "code",
   "execution_count": 72,
   "id": "52acbb94",
   "metadata": {},
   "outputs": [],
   "source": [
    "cnx.commit()"
   ]
  },
  {
   "cell_type": "code",
   "execution_count": 21,
   "id": "a7d5d7d6",
   "metadata": {},
   "outputs": [
    {
     "data": {
      "text/plain": [
       "[(11, Decimal('0.005300000')),\n",
       " (12, Decimal('0.223030000')),\n",
       " (13, Decimal('0.002400000')),\n",
       " (14, Decimal('0.007130000')),\n",
       " (15, Decimal('0.005350000')),\n",
       " (16, Decimal('0.012220000')),\n",
       " (17, Decimal('0.006210000')),\n",
       " (18, Decimal('0.005680000')),\n",
       " (19, Decimal('0.004940000')),\n",
       " (20, Decimal('0.727740000'))]"
      ]
     },
     "execution_count": 21,
     "metadata": {},
     "output_type": "execute_result"
    }
   ],
   "source": [
    "# cursor.execute(\"delete from r_topic_model\")\n",
    "# cursor.execute(\"delete from r_topic_post\")\n",
    "# cursor.execute(\"delete from topic\")\n",
    "# cursor.execute(\"delete from model\")\n",
    "\n",
    "# cursor.execute(\"select * from post\")\n",
    "# cursor.execute(\"SELECT DISTINCT user.* FROM user JOIN post ON user.user_id = post.user_id WHERE post.platform_type_id = %s\",('4',))\n",
    "# cursor.execute(\"SELECT * FROM post WHERE user_id = %s AND created BETWEEN %s AND %s;\",(3,'1/1/2023','1/1/2013',))\n",
    "# cursor.execute(\"SELECT r_topic_post.topic_id, AVG(r_topic_post.proportion) as average_proportion FROM r_topic_post JOIN r_topic_model ON r_topic_post.topic_id = r_topic_model.topic_id WHERE r_topic_post.post_id = %s AND r_topic_model.model_id = %s GROUP BY r_topic_post.topic_id;\",('1187','2',))\n",
    "# cursor.execute('select * from model')\n",
    "cursor.fetchall()"
   ]
  },
  {
   "cell_type": "markdown",
   "id": "f5782f9d-eb4a-479f-ab15-ac975a4d4301",
   "metadata": {},
   "source": [
    "# Post-processing for Author-topic distribution\n",
    "\n",
    "**if you are reading from DB set the from_db= True**"
   ]
  },
  {
   "cell_type": "code",
   "execution_count": 19,
   "id": "0abddaa8-5418-47e3-a77e-1c99abd8bd41",
   "metadata": {},
   "outputs": [],
   "source": [
    "from_db = False"
   ]
  },
  {
   "cell_type": "code",
   "execution_count": 20,
   "id": "0cced319-03e0-4340-82f9-fa11854dc59e",
   "metadata": {},
   "outputs": [],
   "source": [
    "if not from_db:\n",
    "    topics = [[i,topic_score_avg[i],'_'.join(top_terms[i].split()[0:3])] \\\n",
    "              for i in range(len(top_terms))]\n",
    "else:\n",
    "    #taking last topics \n",
    "    cursor.execute(\"select * from topic\")\n",
    "    topics = [list(i[0:2]) + ['_'.join(i[2:6])] for i in cursor.fetchall()[-7:]] #each topic include topic_id, coherence_score and top three terms"
   ]
  },
  {
   "cell_type": "code",
   "execution_count": 21,
   "id": "92e2d5a3-8563-441e-82d8-c05c8badd302",
   "metadata": {},
   "outputs": [
    {
     "data": {
      "text/plain": [
       "[[0, 0.13093816558924454, 'cup_chocolate_tbsp'],\n",
       " [1, 0.03679840662145004, 'guys_new_video'],\n",
       " [2, 0.05682526304229091, 'recovery_hard_better'],\n",
       " [3, 0.07237440927610028, 'home_morning_last'],\n",
       " [4, 0.17858081356084665, 'food_eating_body'],\n",
       " [5, 0.15583521058337063, 'bowl_oats_butter'],\n",
       " [6, 0.06630970139832629, '#glutenfree_#healthy_#foodie'],\n",
       " [7, 0.07591599143525932, 'school_uk_family'],\n",
       " [8, 0.022238935549487533, 'body_look_real'],\n",
       " [9, 0.0775602157688427, 'yoga_run_running'],\n",
       " [10, 0.03580528305488123, 'vegan_plant_based'],\n",
       " [11, 0.04026261422511173, 'self_take_years'],\n",
       " [12, 0.14623481894280768, 'body_look_skin'],\n",
       " [13, 0.06123383898506602, 'eating_support_alliance'],\n",
       " [14, 0.09385309418283183, 'therapy_session_bit'],\n",
       " [15, 0.06777174823724447, 'fucking_recovery_shit']]"
      ]
     },
     "execution_count": 21,
     "metadata": {},
     "output_type": "execute_result"
    }
   ],
   "source": [
    "topics"
   ]
  },
  {
   "cell_type": "code",
   "execution_count": 22,
   "id": "e6b0d2ef-a761-4110-99bb-d4b6b80c2e21",
   "metadata": {},
   "outputs": [],
   "source": [
    "#taking post_topics\n",
    "if from_db:\n",
    "    cursor.execute(\"select * from r_topic_post where topic_id between {0} and {1}\".format(min(topics)[0],max(topics)[0]))\n",
    "    res = cursor.fetchall() #topic_id, document_id, topic_dist\n",
    "    \n",
    "    doc_dist = {}\n",
    "    \n",
    "    for item in res:\n",
    "        if item[1] not in doc_dist.keys():\n",
    "            doc_dist[item[1]] = {}\n",
    "        doc_dist[item[1]][item[0]] = item[2]\n",
    "else:\n",
    "    doc_dist = text_df.iloc[:,6:6+len(topics)].values.copy().T#topic_doc_dist.copy().T"
   ]
  },
  {
   "cell_type": "code",
   "execution_count": 23,
   "id": "e4bcdc0f-0924-4b7e-bc96-7563009d9025",
   "metadata": {},
   "outputs": [
    {
     "name": "stderr",
     "output_type": "stream",
     "text": [
      "100%|██████████████████████████████████| 13360/13360 [00:00<00:00, 16508.34it/s]\n"
     ]
    }
   ],
   "source": [
    "#clipping doc_dist and converting to pandas DF as well\n",
    "from tqdm import tqdm\n",
    "from similarity import picking_topic\n",
    "\n",
    "ddist_df = pd.DataFrame(doc_dist).T\n",
    "\n",
    "ddist_np = ddist_df.values\n",
    "\n",
    "for i in tqdm(range(ddist_np.shape[0])):\n",
    "    ddist_np[i] = picking_topic(ddist_np[i].astype('float')) * ddist_np[i].astype('float')"
   ]
  },
  {
   "cell_type": "code",
   "execution_count": 24,
   "id": "d3377729-a717-41ca-9b96-cf63b5f0c395",
   "metadata": {},
   "outputs": [],
   "source": [
    "if from_db:\n",
    "    ddist_df = ddist_df.rename(columns={i[0]:i[2] for i in topics})\n",
    "    ddist_df['id'] = ddist_df.index\n",
    "    ddist_df = ddist_df.merge(text_df[['id','blog']],on='id')\n",
    "else:\n",
    "    ddist_df = ddist_df.rename(columns={i[0]:i[2] for i in topics})\n",
    "    ddist_df['id'] = list(text_df.id)\n",
    "    ddist_df['blog'] = list(text_df.blog)"
   ]
  },
  {
   "cell_type": "code",
   "execution_count": 25,
   "id": "bcc00b11-58b7-419f-a87e-035ef7a31afe",
   "metadata": {},
   "outputs": [
    {
     "data": {
      "text/html": [
       "<div>\n",
       "<style scoped>\n",
       "    .dataframe tbody tr th:only-of-type {\n",
       "        vertical-align: middle;\n",
       "    }\n",
       "\n",
       "    .dataframe tbody tr th {\n",
       "        vertical-align: top;\n",
       "    }\n",
       "\n",
       "    .dataframe thead th {\n",
       "        text-align: right;\n",
       "    }\n",
       "</style>\n",
       "<table border=\"1\" class=\"dataframe\">\n",
       "  <thead>\n",
       "    <tr style=\"text-align: right;\">\n",
       "      <th></th>\n",
       "      <th>cup_chocolate_tbsp</th>\n",
       "      <th>guys_new_video</th>\n",
       "      <th>recovery_hard_better</th>\n",
       "      <th>home_morning_last</th>\n",
       "      <th>food_eating_body</th>\n",
       "      <th>bowl_oats_butter</th>\n",
       "      <th>#glutenfree_#healthy_#foodie</th>\n",
       "      <th>school_uk_family</th>\n",
       "      <th>body_look_real</th>\n",
       "      <th>yoga_run_running</th>\n",
       "      <th>vegan_plant_based</th>\n",
       "      <th>self_take_years</th>\n",
       "      <th>body_look_skin</th>\n",
       "      <th>eating_support_alliance</th>\n",
       "      <th>therapy_session_bit</th>\n",
       "      <th>fucking_recovery_shit</th>\n",
       "      <th>id</th>\n",
       "    </tr>\n",
       "    <tr>\n",
       "      <th>blog</th>\n",
       "      <th></th>\n",
       "      <th></th>\n",
       "      <th></th>\n",
       "      <th></th>\n",
       "      <th></th>\n",
       "      <th></th>\n",
       "      <th></th>\n",
       "      <th></th>\n",
       "      <th></th>\n",
       "      <th></th>\n",
       "      <th></th>\n",
       "      <th></th>\n",
       "      <th></th>\n",
       "      <th></th>\n",
       "      <th></th>\n",
       "      <th></th>\n",
       "      <th></th>\n",
       "    </tr>\n",
       "  </thead>\n",
       "  <tbody>\n",
       "    <tr>\n",
       "      <th>Breeelenehan</th>\n",
       "      <td>0.002516</td>\n",
       "      <td>0.147604</td>\n",
       "      <td>0.004664</td>\n",
       "      <td>0.047340</td>\n",
       "      <td>0.063769</td>\n",
       "      <td>0.008559</td>\n",
       "      <td>0.000000</td>\n",
       "      <td>0.010497</td>\n",
       "      <td>0.532144</td>\n",
       "      <td>0.051082</td>\n",
       "      <td>0.169424</td>\n",
       "      <td>0.064852</td>\n",
       "      <td>0.044392</td>\n",
       "      <td>0.000727</td>\n",
       "      <td>0.004226</td>\n",
       "      <td>0.003936</td>\n",
       "      <td>1817888</td>\n",
       "    </tr>\n",
       "    <tr>\n",
       "      <th>alliancefored</th>\n",
       "      <td>0.000643</td>\n",
       "      <td>0.009987</td>\n",
       "      <td>0.009379</td>\n",
       "      <td>0.010921</td>\n",
       "      <td>0.003106</td>\n",
       "      <td>0.000000</td>\n",
       "      <td>0.000000</td>\n",
       "      <td>0.038094</td>\n",
       "      <td>0.001347</td>\n",
       "      <td>0.047564</td>\n",
       "      <td>0.016619</td>\n",
       "      <td>0.087774</td>\n",
       "      <td>0.023086</td>\n",
       "      <td>0.950848</td>\n",
       "      <td>0.005924</td>\n",
       "      <td>0.000537</td>\n",
       "      <td>6029796</td>\n",
       "    </tr>\n",
       "    <tr>\n",
       "      <th>amandavsevilla</th>\n",
       "      <td>0.004356</td>\n",
       "      <td>0.032375</td>\n",
       "      <td>0.009347</td>\n",
       "      <td>0.036984</td>\n",
       "      <td>0.024930</td>\n",
       "      <td>0.033738</td>\n",
       "      <td>0.003700</td>\n",
       "      <td>0.017570</td>\n",
       "      <td>0.007380</td>\n",
       "      <td>0.277077</td>\n",
       "      <td>0.163188</td>\n",
       "      <td>0.172625</td>\n",
       "      <td>0.036326</td>\n",
       "      <td>0.000727</td>\n",
       "      <td>0.007150</td>\n",
       "      <td>0.007206</td>\n",
       "      <td>6064822</td>\n",
       "    </tr>\n",
       "    <tr>\n",
       "      <th>anxiousgayyy</th>\n",
       "      <td>0.000000</td>\n",
       "      <td>0.000000</td>\n",
       "      <td>0.013962</td>\n",
       "      <td>0.002370</td>\n",
       "      <td>0.020589</td>\n",
       "      <td>0.000459</td>\n",
       "      <td>0.000000</td>\n",
       "      <td>0.000000</td>\n",
       "      <td>0.000000</td>\n",
       "      <td>0.000000</td>\n",
       "      <td>0.002866</td>\n",
       "      <td>0.001188</td>\n",
       "      <td>0.005122</td>\n",
       "      <td>0.000000</td>\n",
       "      <td>0.000788</td>\n",
       "      <td>0.013777</td>\n",
       "      <td>132541</td>\n",
       "    </tr>\n",
       "    <tr>\n",
       "      <th>ariessuntaurusrising</th>\n",
       "      <td>0.000790</td>\n",
       "      <td>0.005162</td>\n",
       "      <td>0.061001</td>\n",
       "      <td>0.023395</td>\n",
       "      <td>0.032345</td>\n",
       "      <td>0.004841</td>\n",
       "      <td>0.000000</td>\n",
       "      <td>0.013596</td>\n",
       "      <td>0.000000</td>\n",
       "      <td>0.016251</td>\n",
       "      <td>0.002448</td>\n",
       "      <td>0.014462</td>\n",
       "      <td>0.064333</td>\n",
       "      <td>0.002121</td>\n",
       "      <td>0.017608</td>\n",
       "      <td>0.047891</td>\n",
       "      <td>4032806</td>\n",
       "    </tr>\n",
       "    <tr>\n",
       "      <th>bagelbells</th>\n",
       "      <td>0.000489</td>\n",
       "      <td>0.005943</td>\n",
       "      <td>0.017330</td>\n",
       "      <td>0.009540</td>\n",
       "      <td>0.024444</td>\n",
       "      <td>0.003007</td>\n",
       "      <td>0.000000</td>\n",
       "      <td>0.012989</td>\n",
       "      <td>0.007757</td>\n",
       "      <td>0.029055</td>\n",
       "      <td>0.004469</td>\n",
       "      <td>0.013290</td>\n",
       "      <td>0.025764</td>\n",
       "      <td>0.001613</td>\n",
       "      <td>0.004020</td>\n",
       "      <td>0.056688</td>\n",
       "      <td>3125727</td>\n",
       "    </tr>\n",
       "    <tr>\n",
       "      <th>brittle-bunny</th>\n",
       "      <td>0.000000</td>\n",
       "      <td>0.000567</td>\n",
       "      <td>0.022144</td>\n",
       "      <td>0.010263</td>\n",
       "      <td>0.031666</td>\n",
       "      <td>0.005309</td>\n",
       "      <td>0.000644</td>\n",
       "      <td>0.000762</td>\n",
       "      <td>0.000000</td>\n",
       "      <td>0.000000</td>\n",
       "      <td>0.000000</td>\n",
       "      <td>0.001830</td>\n",
       "      <td>0.013720</td>\n",
       "      <td>0.000000</td>\n",
       "      <td>0.006898</td>\n",
       "      <td>0.006597</td>\n",
       "      <td>2315848</td>\n",
       "    </tr>\n",
       "    <tr>\n",
       "      <th>faithhopeloveandtherapy</th>\n",
       "      <td>0.007835</td>\n",
       "      <td>0.037521</td>\n",
       "      <td>0.080160</td>\n",
       "      <td>0.374732</td>\n",
       "      <td>0.116216</td>\n",
       "      <td>0.092721</td>\n",
       "      <td>0.006897</td>\n",
       "      <td>0.534408</td>\n",
       "      <td>0.002940</td>\n",
       "      <td>0.201036</td>\n",
       "      <td>0.031670</td>\n",
       "      <td>0.067666</td>\n",
       "      <td>0.112877</td>\n",
       "      <td>0.005718</td>\n",
       "      <td>0.847348</td>\n",
       "      <td>0.027912</td>\n",
       "      <td>37023154</td>\n",
       "    </tr>\n",
       "    <tr>\n",
       "      <th>fearless-foodie</th>\n",
       "      <td>0.000000</td>\n",
       "      <td>0.012592</td>\n",
       "      <td>0.258602</td>\n",
       "      <td>0.027845</td>\n",
       "      <td>0.013054</td>\n",
       "      <td>0.000000</td>\n",
       "      <td>0.000000</td>\n",
       "      <td>0.102314</td>\n",
       "      <td>0.005193</td>\n",
       "      <td>0.017938</td>\n",
       "      <td>0.007145</td>\n",
       "      <td>0.047745</td>\n",
       "      <td>0.037550</td>\n",
       "      <td>0.006258</td>\n",
       "      <td>0.021363</td>\n",
       "      <td>0.026350</td>\n",
       "      <td>13335756</td>\n",
       "    </tr>\n",
       "    <tr>\n",
       "      <th>finallyrecoveringforgood</th>\n",
       "      <td>0.000000</td>\n",
       "      <td>0.001678</td>\n",
       "      <td>0.029767</td>\n",
       "      <td>0.007057</td>\n",
       "      <td>0.027228</td>\n",
       "      <td>0.002511</td>\n",
       "      <td>0.000000</td>\n",
       "      <td>0.000000</td>\n",
       "      <td>0.003951</td>\n",
       "      <td>0.000000</td>\n",
       "      <td>0.000000</td>\n",
       "      <td>0.002976</td>\n",
       "      <td>0.009779</td>\n",
       "      <td>0.000924</td>\n",
       "      <td>0.003832</td>\n",
       "      <td>0.012652</td>\n",
       "      <td>1422428</td>\n",
       "    </tr>\n",
       "    <tr>\n",
       "      <th>fuck-eatingdisorders</th>\n",
       "      <td>0.000000</td>\n",
       "      <td>0.001238</td>\n",
       "      <td>0.005926</td>\n",
       "      <td>0.000504</td>\n",
       "      <td>0.007752</td>\n",
       "      <td>0.000000</td>\n",
       "      <td>0.000000</td>\n",
       "      <td>0.001700</td>\n",
       "      <td>0.000000</td>\n",
       "      <td>0.001079</td>\n",
       "      <td>0.000000</td>\n",
       "      <td>0.002041</td>\n",
       "      <td>0.000000</td>\n",
       "      <td>0.001261</td>\n",
       "      <td>0.000318</td>\n",
       "      <td>0.002690</td>\n",
       "      <td>514741</td>\n",
       "    </tr>\n",
       "    <tr>\n",
       "      <th>healthfulradiance</th>\n",
       "      <td>0.950749</td>\n",
       "      <td>0.018355</td>\n",
       "      <td>0.013305</td>\n",
       "      <td>0.109074</td>\n",
       "      <td>0.031786</td>\n",
       "      <td>0.288667</td>\n",
       "      <td>0.961954</td>\n",
       "      <td>0.000944</td>\n",
       "      <td>0.022796</td>\n",
       "      <td>0.052321</td>\n",
       "      <td>0.162301</td>\n",
       "      <td>0.073976</td>\n",
       "      <td>0.044748</td>\n",
       "      <td>0.000943</td>\n",
       "      <td>0.001653</td>\n",
       "      <td>0.002465</td>\n",
       "      <td>14660880</td>\n",
       "    </tr>\n",
       "    <tr>\n",
       "      <th>hellsite-residential</th>\n",
       "      <td>0.000000</td>\n",
       "      <td>0.002189</td>\n",
       "      <td>0.026573</td>\n",
       "      <td>0.008537</td>\n",
       "      <td>0.065590</td>\n",
       "      <td>0.004558</td>\n",
       "      <td>0.000000</td>\n",
       "      <td>0.015767</td>\n",
       "      <td>0.000000</td>\n",
       "      <td>0.008784</td>\n",
       "      <td>0.002096</td>\n",
       "      <td>0.001517</td>\n",
       "      <td>0.015348</td>\n",
       "      <td>0.000761</td>\n",
       "      <td>0.003524</td>\n",
       "      <td>0.036415</td>\n",
       "      <td>3786588</td>\n",
       "    </tr>\n",
       "    <tr>\n",
       "      <th>imtrying-butimpissed</th>\n",
       "      <td>0.001653</td>\n",
       "      <td>0.025329</td>\n",
       "      <td>0.224475</td>\n",
       "      <td>0.089143</td>\n",
       "      <td>0.134320</td>\n",
       "      <td>0.031537</td>\n",
       "      <td>0.001321</td>\n",
       "      <td>0.028804</td>\n",
       "      <td>0.024383</td>\n",
       "      <td>0.004956</td>\n",
       "      <td>0.020977</td>\n",
       "      <td>0.048961</td>\n",
       "      <td>0.118443</td>\n",
       "      <td>0.006039</td>\n",
       "      <td>0.015512</td>\n",
       "      <td>0.295391</td>\n",
       "      <td>6672342</td>\n",
       "    </tr>\n",
       "    <tr>\n",
       "      <th>intentandotrascender</th>\n",
       "      <td>0.000000</td>\n",
       "      <td>0.000000</td>\n",
       "      <td>0.004379</td>\n",
       "      <td>0.000000</td>\n",
       "      <td>0.009020</td>\n",
       "      <td>0.000000</td>\n",
       "      <td>0.000000</td>\n",
       "      <td>0.000640</td>\n",
       "      <td>0.000000</td>\n",
       "      <td>0.001721</td>\n",
       "      <td>0.000000</td>\n",
       "      <td>0.001485</td>\n",
       "      <td>0.000000</td>\n",
       "      <td>0.000000</td>\n",
       "      <td>0.000713</td>\n",
       "      <td>0.000000</td>\n",
       "      <td>214931</td>\n",
       "    </tr>\n",
       "    <tr>\n",
       "      <th>itsclairexu</th>\n",
       "      <td>0.021839</td>\n",
       "      <td>0.016792</td>\n",
       "      <td>0.030968</td>\n",
       "      <td>0.124866</td>\n",
       "      <td>0.193642</td>\n",
       "      <td>0.377469</td>\n",
       "      <td>0.006750</td>\n",
       "      <td>0.024418</td>\n",
       "      <td>0.025647</td>\n",
       "      <td>0.028188</td>\n",
       "      <td>0.308957</td>\n",
       "      <td>0.238720</td>\n",
       "      <td>0.051194</td>\n",
       "      <td>0.003818</td>\n",
       "      <td>0.004555</td>\n",
       "      <td>0.005789</td>\n",
       "      <td>14188297</td>\n",
       "    </tr>\n",
       "    <tr>\n",
       "      <th>lets-get-better</th>\n",
       "      <td>0.000000</td>\n",
       "      <td>0.001367</td>\n",
       "      <td>0.013736</td>\n",
       "      <td>0.009424</td>\n",
       "      <td>0.046677</td>\n",
       "      <td>0.000000</td>\n",
       "      <td>0.000000</td>\n",
       "      <td>0.001763</td>\n",
       "      <td>0.009668</td>\n",
       "      <td>0.000000</td>\n",
       "      <td>0.000000</td>\n",
       "      <td>0.009209</td>\n",
       "      <td>0.040396</td>\n",
       "      <td>0.000000</td>\n",
       "      <td>0.001730</td>\n",
       "      <td>0.019570</td>\n",
       "      <td>1696667</td>\n",
       "    </tr>\n",
       "    <tr>\n",
       "      <th>matchayogurt</th>\n",
       "      <td>0.000422</td>\n",
       "      <td>0.002200</td>\n",
       "      <td>0.005585</td>\n",
       "      <td>0.002751</td>\n",
       "      <td>0.022233</td>\n",
       "      <td>0.002290</td>\n",
       "      <td>0.000000</td>\n",
       "      <td>0.008523</td>\n",
       "      <td>0.002322</td>\n",
       "      <td>0.013371</td>\n",
       "      <td>0.004310</td>\n",
       "      <td>0.001563</td>\n",
       "      <td>0.004865</td>\n",
       "      <td>0.001113</td>\n",
       "      <td>0.000497</td>\n",
       "      <td>0.028285</td>\n",
       "      <td>940846</td>\n",
       "    </tr>\n",
       "    <tr>\n",
       "      <th>mirithebrave</th>\n",
       "      <td>0.000000</td>\n",
       "      <td>0.026035</td>\n",
       "      <td>0.058111</td>\n",
       "      <td>0.019123</td>\n",
       "      <td>0.008929</td>\n",
       "      <td>0.002257</td>\n",
       "      <td>0.000000</td>\n",
       "      <td>0.094952</td>\n",
       "      <td>0.004228</td>\n",
       "      <td>0.046792</td>\n",
       "      <td>0.009581</td>\n",
       "      <td>0.044489</td>\n",
       "      <td>0.131193</td>\n",
       "      <td>0.011359</td>\n",
       "      <td>0.013848</td>\n",
       "      <td>0.013612</td>\n",
       "      <td>4726871</td>\n",
       "    </tr>\n",
       "    <tr>\n",
       "      <th>mote-of-dust</th>\n",
       "      <td>0.000000</td>\n",
       "      <td>0.001958</td>\n",
       "      <td>0.024507</td>\n",
       "      <td>0.001022</td>\n",
       "      <td>0.029777</td>\n",
       "      <td>0.001800</td>\n",
       "      <td>0.000000</td>\n",
       "      <td>0.003577</td>\n",
       "      <td>0.000000</td>\n",
       "      <td>0.002019</td>\n",
       "      <td>0.000000</td>\n",
       "      <td>0.020589</td>\n",
       "      <td>0.022183</td>\n",
       "      <td>0.000659</td>\n",
       "      <td>0.001458</td>\n",
       "      <td>0.004893</td>\n",
       "      <td>1726371</td>\n",
       "    </tr>\n",
       "    <tr>\n",
       "      <th>palpitationstation</th>\n",
       "      <td>0.002530</td>\n",
       "      <td>0.014099</td>\n",
       "      <td>0.065510</td>\n",
       "      <td>0.043790</td>\n",
       "      <td>0.059942</td>\n",
       "      <td>0.009552</td>\n",
       "      <td>0.000000</td>\n",
       "      <td>0.074118</td>\n",
       "      <td>0.004483</td>\n",
       "      <td>0.067552</td>\n",
       "      <td>0.021207</td>\n",
       "      <td>0.046328</td>\n",
       "      <td>0.163693</td>\n",
       "      <td>0.003357</td>\n",
       "      <td>0.018567</td>\n",
       "      <td>0.377692</td>\n",
       "      <td>19109199</td>\n",
       "    </tr>\n",
       "    <tr>\n",
       "      <th>rec-hovery</th>\n",
       "      <td>0.000000</td>\n",
       "      <td>0.000000</td>\n",
       "      <td>0.000784</td>\n",
       "      <td>0.000272</td>\n",
       "      <td>0.005891</td>\n",
       "      <td>0.000000</td>\n",
       "      <td>0.000000</td>\n",
       "      <td>0.005020</td>\n",
       "      <td>0.000000</td>\n",
       "      <td>0.000000</td>\n",
       "      <td>0.000000</td>\n",
       "      <td>0.000985</td>\n",
       "      <td>0.000000</td>\n",
       "      <td>0.001754</td>\n",
       "      <td>0.000000</td>\n",
       "      <td>0.005196</td>\n",
       "      <td>294559</td>\n",
       "    </tr>\n",
       "    <tr>\n",
       "      <th>shameofateen</th>\n",
       "      <td>0.000000</td>\n",
       "      <td>0.001566</td>\n",
       "      <td>0.013773</td>\n",
       "      <td>0.002587</td>\n",
       "      <td>0.008170</td>\n",
       "      <td>0.000625</td>\n",
       "      <td>0.000000</td>\n",
       "      <td>0.000000</td>\n",
       "      <td>0.003199</td>\n",
       "      <td>0.001519</td>\n",
       "      <td>0.000000</td>\n",
       "      <td>0.001269</td>\n",
       "      <td>0.009290</td>\n",
       "      <td>0.000000</td>\n",
       "      <td>0.003111</td>\n",
       "      <td>0.003111</td>\n",
       "      <td>1097491</td>\n",
       "    </tr>\n",
       "    <tr>\n",
       "      <th>veganhollyg</th>\n",
       "      <td>0.006178</td>\n",
       "      <td>0.635444</td>\n",
       "      <td>0.006011</td>\n",
       "      <td>0.038461</td>\n",
       "      <td>0.018922</td>\n",
       "      <td>0.130101</td>\n",
       "      <td>0.018734</td>\n",
       "      <td>0.009545</td>\n",
       "      <td>0.342563</td>\n",
       "      <td>0.131694</td>\n",
       "      <td>0.072743</td>\n",
       "      <td>0.034460</td>\n",
       "      <td>0.025698</td>\n",
       "      <td>0.000000</td>\n",
       "      <td>0.015357</td>\n",
       "      <td>0.001345</td>\n",
       "      <td>12465920</td>\n",
       "    </tr>\n",
       "  </tbody>\n",
       "</table>\n",
       "</div>"
      ],
      "text/plain": [
       "                          cup_chocolate_tbsp  guys_new_video  \\\n",
       "blog                                                           \n",
       "Breeelenehan                        0.002516        0.147604   \n",
       "alliancefored                       0.000643        0.009987   \n",
       "amandavsevilla                      0.004356        0.032375   \n",
       "anxiousgayyy                        0.000000        0.000000   \n",
       "ariessuntaurusrising                0.000790        0.005162   \n",
       "bagelbells                          0.000489        0.005943   \n",
       "brittle-bunny                       0.000000        0.000567   \n",
       "faithhopeloveandtherapy             0.007835        0.037521   \n",
       "fearless-foodie                     0.000000        0.012592   \n",
       "finallyrecoveringforgood            0.000000        0.001678   \n",
       "fuck-eatingdisorders                0.000000        0.001238   \n",
       "healthfulradiance                   0.950749        0.018355   \n",
       "hellsite-residential                0.000000        0.002189   \n",
       "imtrying-butimpissed                0.001653        0.025329   \n",
       "intentandotrascender                0.000000        0.000000   \n",
       "itsclairexu                         0.021839        0.016792   \n",
       "lets-get-better                     0.000000        0.001367   \n",
       "matchayogurt                        0.000422        0.002200   \n",
       "mirithebrave                        0.000000        0.026035   \n",
       "mote-of-dust                        0.000000        0.001958   \n",
       "palpitationstation                  0.002530        0.014099   \n",
       "rec-hovery                          0.000000        0.000000   \n",
       "shameofateen                        0.000000        0.001566   \n",
       "veganhollyg                         0.006178        0.635444   \n",
       "\n",
       "                          recovery_hard_better  home_morning_last  \\\n",
       "blog                                                                \n",
       "Breeelenehan                          0.004664           0.047340   \n",
       "alliancefored                         0.009379           0.010921   \n",
       "amandavsevilla                        0.009347           0.036984   \n",
       "anxiousgayyy                          0.013962           0.002370   \n",
       "ariessuntaurusrising                  0.061001           0.023395   \n",
       "bagelbells                            0.017330           0.009540   \n",
       "brittle-bunny                         0.022144           0.010263   \n",
       "faithhopeloveandtherapy               0.080160           0.374732   \n",
       "fearless-foodie                       0.258602           0.027845   \n",
       "finallyrecoveringforgood              0.029767           0.007057   \n",
       "fuck-eatingdisorders                  0.005926           0.000504   \n",
       "healthfulradiance                     0.013305           0.109074   \n",
       "hellsite-residential                  0.026573           0.008537   \n",
       "imtrying-butimpissed                  0.224475           0.089143   \n",
       "intentandotrascender                  0.004379           0.000000   \n",
       "itsclairexu                           0.030968           0.124866   \n",
       "lets-get-better                       0.013736           0.009424   \n",
       "matchayogurt                          0.005585           0.002751   \n",
       "mirithebrave                          0.058111           0.019123   \n",
       "mote-of-dust                          0.024507           0.001022   \n",
       "palpitationstation                    0.065510           0.043790   \n",
       "rec-hovery                            0.000784           0.000272   \n",
       "shameofateen                          0.013773           0.002587   \n",
       "veganhollyg                           0.006011           0.038461   \n",
       "\n",
       "                          food_eating_body  bowl_oats_butter  \\\n",
       "blog                                                           \n",
       "Breeelenehan                      0.063769          0.008559   \n",
       "alliancefored                     0.003106          0.000000   \n",
       "amandavsevilla                    0.024930          0.033738   \n",
       "anxiousgayyy                      0.020589          0.000459   \n",
       "ariessuntaurusrising              0.032345          0.004841   \n",
       "bagelbells                        0.024444          0.003007   \n",
       "brittle-bunny                     0.031666          0.005309   \n",
       "faithhopeloveandtherapy           0.116216          0.092721   \n",
       "fearless-foodie                   0.013054          0.000000   \n",
       "finallyrecoveringforgood          0.027228          0.002511   \n",
       "fuck-eatingdisorders              0.007752          0.000000   \n",
       "healthfulradiance                 0.031786          0.288667   \n",
       "hellsite-residential              0.065590          0.004558   \n",
       "imtrying-butimpissed              0.134320          0.031537   \n",
       "intentandotrascender              0.009020          0.000000   \n",
       "itsclairexu                       0.193642          0.377469   \n",
       "lets-get-better                   0.046677          0.000000   \n",
       "matchayogurt                      0.022233          0.002290   \n",
       "mirithebrave                      0.008929          0.002257   \n",
       "mote-of-dust                      0.029777          0.001800   \n",
       "palpitationstation                0.059942          0.009552   \n",
       "rec-hovery                        0.005891          0.000000   \n",
       "shameofateen                      0.008170          0.000625   \n",
       "veganhollyg                       0.018922          0.130101   \n",
       "\n",
       "                          #glutenfree_#healthy_#foodie  school_uk_family  \\\n",
       "blog                                                                       \n",
       "Breeelenehan                                  0.000000          0.010497   \n",
       "alliancefored                                 0.000000          0.038094   \n",
       "amandavsevilla                                0.003700          0.017570   \n",
       "anxiousgayyy                                  0.000000          0.000000   \n",
       "ariessuntaurusrising                          0.000000          0.013596   \n",
       "bagelbells                                    0.000000          0.012989   \n",
       "brittle-bunny                                 0.000644          0.000762   \n",
       "faithhopeloveandtherapy                       0.006897          0.534408   \n",
       "fearless-foodie                               0.000000          0.102314   \n",
       "finallyrecoveringforgood                      0.000000          0.000000   \n",
       "fuck-eatingdisorders                          0.000000          0.001700   \n",
       "healthfulradiance                             0.961954          0.000944   \n",
       "hellsite-residential                          0.000000          0.015767   \n",
       "imtrying-butimpissed                          0.001321          0.028804   \n",
       "intentandotrascender                          0.000000          0.000640   \n",
       "itsclairexu                                   0.006750          0.024418   \n",
       "lets-get-better                               0.000000          0.001763   \n",
       "matchayogurt                                  0.000000          0.008523   \n",
       "mirithebrave                                  0.000000          0.094952   \n",
       "mote-of-dust                                  0.000000          0.003577   \n",
       "palpitationstation                            0.000000          0.074118   \n",
       "rec-hovery                                    0.000000          0.005020   \n",
       "shameofateen                                  0.000000          0.000000   \n",
       "veganhollyg                                   0.018734          0.009545   \n",
       "\n",
       "                          body_look_real  yoga_run_running  vegan_plant_based  \\\n",
       "blog                                                                            \n",
       "Breeelenehan                    0.532144          0.051082           0.169424   \n",
       "alliancefored                   0.001347          0.047564           0.016619   \n",
       "amandavsevilla                  0.007380          0.277077           0.163188   \n",
       "anxiousgayyy                    0.000000          0.000000           0.002866   \n",
       "ariessuntaurusrising            0.000000          0.016251           0.002448   \n",
       "bagelbells                      0.007757          0.029055           0.004469   \n",
       "brittle-bunny                   0.000000          0.000000           0.000000   \n",
       "faithhopeloveandtherapy         0.002940          0.201036           0.031670   \n",
       "fearless-foodie                 0.005193          0.017938           0.007145   \n",
       "finallyrecoveringforgood        0.003951          0.000000           0.000000   \n",
       "fuck-eatingdisorders            0.000000          0.001079           0.000000   \n",
       "healthfulradiance               0.022796          0.052321           0.162301   \n",
       "hellsite-residential            0.000000          0.008784           0.002096   \n",
       "imtrying-butimpissed            0.024383          0.004956           0.020977   \n",
       "intentandotrascender            0.000000          0.001721           0.000000   \n",
       "itsclairexu                     0.025647          0.028188           0.308957   \n",
       "lets-get-better                 0.009668          0.000000           0.000000   \n",
       "matchayogurt                    0.002322          0.013371           0.004310   \n",
       "mirithebrave                    0.004228          0.046792           0.009581   \n",
       "mote-of-dust                    0.000000          0.002019           0.000000   \n",
       "palpitationstation              0.004483          0.067552           0.021207   \n",
       "rec-hovery                      0.000000          0.000000           0.000000   \n",
       "shameofateen                    0.003199          0.001519           0.000000   \n",
       "veganhollyg                     0.342563          0.131694           0.072743   \n",
       "\n",
       "                          self_take_years  body_look_skin  \\\n",
       "blog                                                        \n",
       "Breeelenehan                     0.064852        0.044392   \n",
       "alliancefored                    0.087774        0.023086   \n",
       "amandavsevilla                   0.172625        0.036326   \n",
       "anxiousgayyy                     0.001188        0.005122   \n",
       "ariessuntaurusrising             0.014462        0.064333   \n",
       "bagelbells                       0.013290        0.025764   \n",
       "brittle-bunny                    0.001830        0.013720   \n",
       "faithhopeloveandtherapy          0.067666        0.112877   \n",
       "fearless-foodie                  0.047745        0.037550   \n",
       "finallyrecoveringforgood         0.002976        0.009779   \n",
       "fuck-eatingdisorders             0.002041        0.000000   \n",
       "healthfulradiance                0.073976        0.044748   \n",
       "hellsite-residential             0.001517        0.015348   \n",
       "imtrying-butimpissed             0.048961        0.118443   \n",
       "intentandotrascender             0.001485        0.000000   \n",
       "itsclairexu                      0.238720        0.051194   \n",
       "lets-get-better                  0.009209        0.040396   \n",
       "matchayogurt                     0.001563        0.004865   \n",
       "mirithebrave                     0.044489        0.131193   \n",
       "mote-of-dust                     0.020589        0.022183   \n",
       "palpitationstation               0.046328        0.163693   \n",
       "rec-hovery                       0.000985        0.000000   \n",
       "shameofateen                     0.001269        0.009290   \n",
       "veganhollyg                      0.034460        0.025698   \n",
       "\n",
       "                          eating_support_alliance  therapy_session_bit  \\\n",
       "blog                                                                     \n",
       "Breeelenehan                             0.000727             0.004226   \n",
       "alliancefored                            0.950848             0.005924   \n",
       "amandavsevilla                           0.000727             0.007150   \n",
       "anxiousgayyy                             0.000000             0.000788   \n",
       "ariessuntaurusrising                     0.002121             0.017608   \n",
       "bagelbells                               0.001613             0.004020   \n",
       "brittle-bunny                            0.000000             0.006898   \n",
       "faithhopeloveandtherapy                  0.005718             0.847348   \n",
       "fearless-foodie                          0.006258             0.021363   \n",
       "finallyrecoveringforgood                 0.000924             0.003832   \n",
       "fuck-eatingdisorders                     0.001261             0.000318   \n",
       "healthfulradiance                        0.000943             0.001653   \n",
       "hellsite-residential                     0.000761             0.003524   \n",
       "imtrying-butimpissed                     0.006039             0.015512   \n",
       "intentandotrascender                     0.000000             0.000713   \n",
       "itsclairexu                              0.003818             0.004555   \n",
       "lets-get-better                          0.000000             0.001730   \n",
       "matchayogurt                             0.001113             0.000497   \n",
       "mirithebrave                             0.011359             0.013848   \n",
       "mote-of-dust                             0.000659             0.001458   \n",
       "palpitationstation                       0.003357             0.018567   \n",
       "rec-hovery                               0.001754             0.000000   \n",
       "shameofateen                             0.000000             0.003111   \n",
       "veganhollyg                              0.000000             0.015357   \n",
       "\n",
       "                          fucking_recovery_shit        id  \n",
       "blog                                                       \n",
       "Breeelenehan                           0.003936   1817888  \n",
       "alliancefored                          0.000537   6029796  \n",
       "amandavsevilla                         0.007206   6064822  \n",
       "anxiousgayyy                           0.013777    132541  \n",
       "ariessuntaurusrising                   0.047891   4032806  \n",
       "bagelbells                             0.056688   3125727  \n",
       "brittle-bunny                          0.006597   2315848  \n",
       "faithhopeloveandtherapy                0.027912  37023154  \n",
       "fearless-foodie                        0.026350  13335756  \n",
       "finallyrecoveringforgood               0.012652   1422428  \n",
       "fuck-eatingdisorders                   0.002690    514741  \n",
       "healthfulradiance                      0.002465  14660880  \n",
       "hellsite-residential                   0.036415   3786588  \n",
       "imtrying-butimpissed                   0.295391   6672342  \n",
       "intentandotrascender                   0.000000    214931  \n",
       "itsclairexu                            0.005789  14188297  \n",
       "lets-get-better                        0.019570   1696667  \n",
       "matchayogurt                           0.028285    940846  \n",
       "mirithebrave                           0.013612   4726871  \n",
       "mote-of-dust                           0.004893   1726371  \n",
       "palpitationstation                     0.377692  19109199  \n",
       "rec-hovery                             0.005196    294559  \n",
       "shameofateen                           0.003111   1097491  \n",
       "veganhollyg                            0.001345  12465920  "
      ]
     },
     "execution_count": 25,
     "metadata": {},
     "output_type": "execute_result"
    }
   ],
   "source": [
    "ddist_blog = ddist_df.groupby('blog').sum()\n",
    "ddist_blog.iloc[:,0:-1] = ddist_blog.values[:,0:-1]/np.sum(ddist_blog.values[:,0:-1],axis=0)\n",
    "ddist_blog"
   ]
  },
  {
   "cell_type": "code",
   "execution_count": 26,
   "id": "b7d260dd-c83f-4d06-a239-b8d1d5688e75",
   "metadata": {},
   "outputs": [
    {
     "data": {
      "image/png": "[encoded data removed]",
      "text/plain": [
       "<Figure size 1500x1500 with 2 Axes>"
      ]
     },
     "metadata": {},
     "output_type": "display_data"
    }
   ],
   "source": [
    "import seaborn as sns\n",
    "from matplotlib import pyplot as plt\n",
    "plt.figure(figsize=(15,15))\n",
    "sns.set(font_scale=1)\n",
    "sns.heatmap(ddist_blog.iloc[:,0:-1].astype('float').T,fmt=\".2f\",annot=True)\n",
    "\n",
    "plt.xticks(rotation=30,ha='right') \n",
    "plt.savefig('./result/edml/lda_nodejs.svg')\n",
    "# plt.show()"
   ]
  },
  {
   "cell_type": "code",
   "execution_count": 44,
   "id": "a58ea4b9-17fb-45a2-b0c4-bc79f74a3962",
   "metadata": {},
   "outputs": [
    {
     "data": {
      "text/plain": [
       "['https://faithhopeloveandtherapy.tumblr.com/post/189209497991/strangecupoftea-we-must-risk-unlearning-what']"
      ]
     },
     "execution_count": 44,
     "metadata": {},
     "output_type": "execute_result"
    }
   ],
   "source": [
    "list(text_df[text_df.id == 16638].url)"
   ]
  },
  {
   "cell_type": "code",
   "execution_count": 49,
   "id": "fb1673ec-9785-4c5f-855f-0bf0483251d9",
   "metadata": {},
   "outputs": [
    {
     "data": {
      "text/plain": [
       "'#glutenfree_#healthy_#foodie'"
      ]
     },
     "execution_count": 49,
     "metadata": {},
     "output_type": "execute_result"
    }
   ],
   "source": [
    "topics[0][2]"
   ]
  },
  {
   "cell_type": "code",
   "execution_count": 58,
   "id": "d7c18688-ef6e-473d-b83d-17240853632c",
   "metadata": {},
   "outputs": [
    {
     "data": {
      "text/plain": [
       "(\"like a regular loaded veg bowl, but elevated 🤷🏻\\u200d♀️ all of my current faves in one spot. doesn't get better than that 🤤 i'm out for the rest of the day, hope it's been a good one for you all! ▪️▪️▪️▪️▪️▪️▪️▪️▪️▪️\\nroasted purple brussel sprouts, roasted curry cauliflower, roasted zucchini chunks, loaded eggplant stew, roasted carrot chips, sun-dried tomato cashew cream, olive oil drizzle\\n.\\n.\\n<b>#healthy</b> <b>#healthy</b>food #vegan #thefeedfeed #thefeedfeedvegan #mbg #thechalkboardeats #foodgrams <b>#wellness</b> #blogger #hbfit #wellandgoodeats #curry #vegancurry <b>#fitness</b> #healthblogger <b>#healthy</b>recipe #whatveganseat #buzzfeedfood #blogger <b>#healthy</b>dinner <b>#healthy</b>stew #veggiebowl #kale #veganfoodspace #grainfree <b>#glutenfree</b> #paleo #eggplant #cauli #roastedveg\",\n",
       " '#glutenfree_#healthy_#foodie_#healthyfood_#foodblogger_#wellness_#healthyinspo_#healthylife_#plantpower_#fitness')"
      ]
     },
     "execution_count": 58,
     "metadata": {},
     "output_type": "execute_result"
    }
   ],
   "source": [
    "topic_num = 13\n",
    "top_terms_n = 10\n",
    "\n",
    "df = pd.DataFrame()\n",
    "\n",
    "for i in range(topic_num):\n",
    "    temp_df = pd.DataFrame(text_df.sort_values('Topic'+str(i)+'_dist',ascending=False).head(20)[['original_text','url']])\n",
    "    temp_df['topic'] = topics[i][2]\n",
    "    #bold the terms in top terms\n",
    "    topic_top_terms = top_terms[i].split()[0:top_terms_n]\n",
    "    temp_df['top_terms'] = '_'.join(topic_top_terms)\n",
    "    texts = list(temp_df['original_text'])\n",
    "    for i in range(len(texts)):\n",
    "        for term in topic_top_terms:\n",
    "            texts[i] = texts[i].replace(term,'<b>{0}</b>'.format(term))\n",
    "    temp_df['original_text'] = texts\n",
    "    df = pd.concat([temp_df,df])\n",
    "\n",
    "df.iloc[-1].original_text,df.iloc[-1].top_terms"
   ]
  },
  {
   "cell_type": "code",
   "execution_count": 56,
   "id": "7fde771c-b2ee-40b1-8c54-569ea33d9899",
   "metadata": {},
   "outputs": [
    {
     "data": {
      "text/html": [
       "<div>\n",
       "<style scoped>\n",
       "    .dataframe tbody tr th:only-of-type {\n",
       "        vertical-align: middle;\n",
       "    }\n",
       "\n",
       "    .dataframe tbody tr th {\n",
       "        vertical-align: top;\n",
       "    }\n",
       "\n",
       "    .dataframe thead th {\n",
       "        text-align: right;\n",
       "    }\n",
       "</style>\n",
       "<table border=\"1\" class=\"dataframe\">\n",
       "  <thead>\n",
       "    <tr style=\"text-align: right;\">\n",
       "      <th></th>\n",
       "      <th>original_text</th>\n",
       "      <th>url</th>\n",
       "      <th>topic</th>\n",
       "    </tr>\n",
       "  </thead>\n",
       "  <tbody>\n",
       "    <tr>\n",
       "      <th>6786</th>\n",
       "      <td>Guess who just booked the next #&lt;b&gt;holly&lt;/b&gt;go...</td>\n",
       "      <td>https://www.instagram.com/p/Ce0X-05N5pB/</td>\n",
       "      <td>guys_new_video</td>\n",
       "    </tr>\n",
       "    <tr>\n",
       "      <th>7325</th>\n",
       "      <td>Sorry for another pic from May Ball, but it ga...</td>\n",
       "      <td>https://www.instagram.com/p/BVzNLpAlcru/</td>\n",
       "      <td>guys_new_video</td>\n",
       "    </tr>\n",
       "    <tr>\n",
       "      <th>6740</th>\n",
       "      <td>Come with us to the mountains 🏔✨ Episode  of t...</td>\n",
       "      <td>https://www.instagram.com/p/CidKIngAr2e/</td>\n",
       "      <td>guys_new_video</td>\n",
       "    </tr>\n",
       "    <tr>\n",
       "      <th>1487</th>\n",
       "      <td>Wanted to say a huge THANK YOU for all the lov...</td>\n",
       "      <td>https://www.instagram.com/p/BwBq2mBhJQ1/</td>\n",
       "      <td>guys_new_video</td>\n",
       "    </tr>\n",
       "    <tr>\n",
       "      <th>7197</th>\n",
       "      <td>I love London 🇬🇧 But one of my favourite thing...</td>\n",
       "      <td>https://www.instagram.com/p/Bmu8FutAvTm/</td>\n",
       "      <td>guys_new_video</td>\n",
       "    </tr>\n",
       "    <tr>\n",
       "      <th>...</th>\n",
       "      <td>...</td>\n",
       "      <td>...</td>\n",
       "      <td>...</td>\n",
       "    </tr>\n",
       "    <tr>\n",
       "      <th>3315</th>\n",
       "      <td>hitting all my OG followers in their feels wit...</td>\n",
       "      <td>https://www.instagram.com/p/CAGbjJFJCiQ/</td>\n",
       "      <td>#glutenfree_#healthy_#foodie</td>\n",
       "    </tr>\n",
       "    <tr>\n",
       "      <th>3165</th>\n",
       "      <td>more...thanksgiving...leftovers... 😚 bc i know...</td>\n",
       "      <td>https://www.instagram.com/p/CIMHpXxD-8F/</td>\n",
       "      <td>#glutenfree_#healthy_#foodie</td>\n",
       "    </tr>\n",
       "    <tr>\n",
       "      <th>3078</th>\n",
       "      <td>on wednesday we *eat* pink...and on thursday w...</td>\n",
       "      <td>https://www.instagram.com/p/CNswcYqjwVC/</td>\n",
       "      <td>#glutenfree_#healthy_#foodie</td>\n",
       "    </tr>\n",
       "    <tr>\n",
       "      <th>2835</th>\n",
       "      <td>i just tried pasta salad for the first time…\\n...</td>\n",
       "      <td>https://www.instagram.com/p/CgzUBB6q8L6/</td>\n",
       "      <td>#glutenfree_#healthy_#foodie</td>\n",
       "    </tr>\n",
       "    <tr>\n",
       "      <th>3660</th>\n",
       "      <td>like a regular loaded veg bowl, but elevated 🤷...</td>\n",
       "      <td>https://www.instagram.com/p/BzOgm6MDQqK/</td>\n",
       "      <td>#glutenfree_#healthy_#foodie</td>\n",
       "    </tr>\n",
       "  </tbody>\n",
       "</table>\n",
       "<p>260 rows × 3 columns</p>\n",
       "</div>"
      ],
      "text/plain": [
       "                                          original_text  \\\n",
       "6786  Guess who just booked the next #<b>holly</b>go...   \n",
       "7325  Sorry for another pic from May Ball, but it ga...   \n",
       "6740  Come with us to the mountains 🏔✨ Episode  of t...   \n",
       "1487  Wanted to say a huge THANK YOU for all the lov...   \n",
       "7197  I love London 🇬🇧 But one of my favourite thing...   \n",
       "...                                                 ...   \n",
       "3315  hitting all my OG followers in their feels wit...   \n",
       "3165  more...thanksgiving...leftovers... 😚 bc i know...   \n",
       "3078  on wednesday we *eat* pink...and on thursday w...   \n",
       "2835  i just tried pasta salad for the first time…\\n...   \n",
       "3660  like a regular loaded veg bowl, but elevated 🤷...   \n",
       "\n",
       "                                           url                         topic  \n",
       "6786  https://www.instagram.com/p/Ce0X-05N5pB/                guys_new_video  \n",
       "7325  https://www.instagram.com/p/BVzNLpAlcru/                guys_new_video  \n",
       "6740  https://www.instagram.com/p/CidKIngAr2e/                guys_new_video  \n",
       "1487  https://www.instagram.com/p/BwBq2mBhJQ1/                guys_new_video  \n",
       "7197  https://www.instagram.com/p/Bmu8FutAvTm/                guys_new_video  \n",
       "...                                        ...                           ...  \n",
       "3315  https://www.instagram.com/p/CAGbjJFJCiQ/  #glutenfree_#healthy_#foodie  \n",
       "3165  https://www.instagram.com/p/CIMHpXxD-8F/  #glutenfree_#healthy_#foodie  \n",
       "3078  https://www.instagram.com/p/CNswcYqjwVC/  #glutenfree_#healthy_#foodie  \n",
       "2835  https://www.instagram.com/p/CgzUBB6q8L6/  #glutenfree_#healthy_#foodie  \n",
       "3660  https://www.instagram.com/p/BzOgm6MDQqK/  #glutenfree_#healthy_#foodie  \n",
       "\n",
       "[260 rows x 3 columns]"
      ]
     },
     "execution_count": 56,
     "metadata": {},
     "output_type": "execute_result"
    }
   ],
   "source": [
    "df"
   ]
  },
  {
   "cell_type": "code",
   "execution_count": 206,
   "id": "a046b479-a2d3-47ea-8fce-0b79b9e1b423",
   "metadata": {},
   "outputs": [
    {
     "ename": "KeyError",
     "evalue": "<class 'float'>",
     "output_type": "error",
     "traceback": [
      "\u001b[0;31m---------------------------------------------------------------------------\u001b[0m",
      "\u001b[0;31mKeyError\u001b[0m                                  Traceback (most recent call last)",
      "Cell \u001b[0;32mIn[206], line 7\u001b[0m\n\u001b[1;32m      4\u001b[0m \u001b[38;5;28;01mfrom\u001b[39;00m \u001b[38;5;21;01mrpy2\u001b[39;00m\u001b[38;5;21;01m.\u001b[39;00m\u001b[38;5;21;01mrobjects\u001b[39;00m\u001b[38;5;21;01m.\u001b[39;00m\u001b[38;5;21;01mpackages\u001b[39;00m \u001b[38;5;28;01mimport\u001b[39;00m importr\n\u001b[1;32m      5\u001b[0m base \u001b[38;5;241m=\u001b[39m importr(\u001b[38;5;124m'\u001b[39m\u001b[38;5;124mbase\u001b[39m\u001b[38;5;124m'\u001b[39m)\n\u001b[0;32m----> 7\u001b[0m dataf_rnorm \u001b[38;5;241m=\u001b[39m \u001b[43mrobjects\u001b[49m\u001b[38;5;241;43m.\u001b[39;49m\u001b[43mDataFrame\u001b[49m\u001b[43m(\u001b[49m\u001b[43mddist_blog\u001b[49m\u001b[38;5;241;43m.\u001b[39;49m\u001b[43miloc\u001b[49m\u001b[43m[\u001b[49m\u001b[43m:\u001b[49m\u001b[43m,\u001b[49m\u001b[38;5;241;43m0\u001b[39;49m\u001b[43m:\u001b[49m\u001b[38;5;241;43m-\u001b[39;49m\u001b[38;5;241;43m1\u001b[39;49m\u001b[43m]\u001b[49m\u001b[43m)\u001b[49m\n\u001b[1;32m      8\u001b[0m robjects\u001b[38;5;241m.\u001b[39mr(\u001b[38;5;124m'''\u001b[39m\u001b[38;5;124m \u001b[39m\n\u001b[1;32m      9\u001b[0m \u001b[38;5;124mlibrary(data.table)\u001b[39m\n\u001b[1;32m     10\u001b[0m \u001b[38;5;124mtopic.title.tall <- melt(setDT(ddist_blog), id.vars = c(\u001b[39m\u001b[38;5;124m\"\u001b[39m\u001b[38;5;124mtitle\u001b[39m\u001b[38;5;124m\"\u001b[39m\u001b[38;5;124m), variable.name = \u001b[39m\u001b[38;5;124m\"\u001b[39m\u001b[38;5;124mtopic\u001b[39m\u001b[38;5;124m\"\u001b[39m\u001b[38;5;124m)\u001b[39m\n\u001b[1;32m     11\u001b[0m \u001b[38;5;124m'''\u001b[39m)\n",
      "File \u001b[0;32m/usr/local/lib/python3.9/site-packages/rpy2/robjects/vectors.py:1292\u001b[0m, in \u001b[0;36mDataFrame.__init__\u001b[0;34m(self, obj, stringsasfactor, checknames)\u001b[0m\n\u001b[1;32m   1290\u001b[0m cv \u001b[38;5;241m=\u001b[39m conversion\u001b[38;5;241m.\u001b[39mget_conversion()\n\u001b[1;32m   1291\u001b[0m \u001b[38;5;28;01mtry\u001b[39;00m:\n\u001b[0;32m-> 1292\u001b[0m     kv \u001b[38;5;241m=\u001b[39m [(\u001b[38;5;28mstr\u001b[39m(k), cv\u001b[38;5;241m.\u001b[39mpy2rpy(v)) \u001b[38;5;28;01mfor\u001b[39;00m k, v \u001b[38;5;129;01min\u001b[39;00m obj\u001b[38;5;241m.\u001b[39mitems()]\n\u001b[1;32m   1293\u001b[0m \u001b[38;5;28;01mexcept\u001b[39;00m \u001b[38;5;167;01mAttributeError\u001b[39;00m:\n\u001b[1;32m   1294\u001b[0m     \u001b[38;5;28;01mraise\u001b[39;00m \u001b[38;5;167;01mValueError\u001b[39;00m(\n\u001b[1;32m   1295\u001b[0m         \u001b[38;5;124m'\u001b[39m\u001b[38;5;124mobj can only be\u001b[39m\u001b[38;5;124m'\u001b[39m\n\u001b[1;32m   1296\u001b[0m         \u001b[38;5;124m'\u001b[39m\u001b[38;5;124man instance of rpy2.rinterface.ListSexpVector, \u001b[39m\u001b[38;5;124m'\u001b[39m\n\u001b[0;32m   (...)\u001b[0m\n\u001b[1;32m   1299\u001b[0m         \u001b[38;5;124m'\u001b[39m\u001b[38;5;124m(key, value) pairs \u001b[39m\u001b[38;5;124m'\u001b[39m\n\u001b[1;32m   1300\u001b[0m         \u001b[38;5;124m'\u001b[39m\u001b[38;5;124m(such a Python dict, rpy2.rlike.container OrdDict).\u001b[39m\u001b[38;5;124m'\u001b[39m)\n",
      "File \u001b[0;32m/usr/local/lib/python3.9/site-packages/rpy2/robjects/vectors.py:1292\u001b[0m, in \u001b[0;36m<listcomp>\u001b[0;34m(.0)\u001b[0m\n\u001b[1;32m   1290\u001b[0m cv \u001b[38;5;241m=\u001b[39m conversion\u001b[38;5;241m.\u001b[39mget_conversion()\n\u001b[1;32m   1291\u001b[0m \u001b[38;5;28;01mtry\u001b[39;00m:\n\u001b[0;32m-> 1292\u001b[0m     kv \u001b[38;5;241m=\u001b[39m [(\u001b[38;5;28mstr\u001b[39m(k), \u001b[43mcv\u001b[49m\u001b[38;5;241;43m.\u001b[39;49m\u001b[43mpy2rpy\u001b[49m\u001b[43m(\u001b[49m\u001b[43mv\u001b[49m\u001b[43m)\u001b[49m) \u001b[38;5;28;01mfor\u001b[39;00m k, v \u001b[38;5;129;01min\u001b[39;00m obj\u001b[38;5;241m.\u001b[39mitems()]\n\u001b[1;32m   1293\u001b[0m \u001b[38;5;28;01mexcept\u001b[39;00m \u001b[38;5;167;01mAttributeError\u001b[39;00m:\n\u001b[1;32m   1294\u001b[0m     \u001b[38;5;28;01mraise\u001b[39;00m \u001b[38;5;167;01mValueError\u001b[39;00m(\n\u001b[1;32m   1295\u001b[0m         \u001b[38;5;124m'\u001b[39m\u001b[38;5;124mobj can only be\u001b[39m\u001b[38;5;124m'\u001b[39m\n\u001b[1;32m   1296\u001b[0m         \u001b[38;5;124m'\u001b[39m\u001b[38;5;124man instance of rpy2.rinterface.ListSexpVector, \u001b[39m\u001b[38;5;124m'\u001b[39m\n\u001b[0;32m   (...)\u001b[0m\n\u001b[1;32m   1299\u001b[0m         \u001b[38;5;124m'\u001b[39m\u001b[38;5;124m(key, value) pairs \u001b[39m\u001b[38;5;124m'\u001b[39m\n\u001b[1;32m   1300\u001b[0m         \u001b[38;5;124m'\u001b[39m\u001b[38;5;124m(such a Python dict, rpy2.rlike.container OrdDict).\u001b[39m\u001b[38;5;124m'\u001b[39m)\n",
      "File \u001b[0;32m/usr/local/Cellar/python@3.9/3.9.16/Frameworks/Python.framework/Versions/3.9/lib/python3.9/functools.py:888\u001b[0m, in \u001b[0;36msingledispatch.<locals>.wrapper\u001b[0;34m(*args, **kw)\u001b[0m\n\u001b[1;32m    884\u001b[0m \u001b[38;5;28;01mif\u001b[39;00m \u001b[38;5;129;01mnot\u001b[39;00m args:\n\u001b[1;32m    885\u001b[0m     \u001b[38;5;28;01mraise\u001b[39;00m \u001b[38;5;167;01mTypeError\u001b[39;00m(\u001b[38;5;124mf\u001b[39m\u001b[38;5;124m'\u001b[39m\u001b[38;5;132;01m{\u001b[39;00mfuncname\u001b[38;5;132;01m}\u001b[39;00m\u001b[38;5;124m requires at least \u001b[39m\u001b[38;5;124m'\u001b[39m\n\u001b[1;32m    886\u001b[0m                     \u001b[38;5;124m'\u001b[39m\u001b[38;5;124m1 positional argument\u001b[39m\u001b[38;5;124m'\u001b[39m)\n\u001b[0;32m--> 888\u001b[0m \u001b[38;5;28;01mreturn\u001b[39;00m \u001b[43mdispatch\u001b[49m\u001b[43m(\u001b[49m\u001b[43margs\u001b[49m\u001b[43m[\u001b[49m\u001b[38;5;241;43m0\u001b[39;49m\u001b[43m]\u001b[49m\u001b[38;5;241;43m.\u001b[39;49m\u001b[38;5;18;43m__class__\u001b[39;49m\u001b[43m)\u001b[49m\u001b[43m(\u001b[49m\u001b[38;5;241;43m*\u001b[39;49m\u001b[43margs\u001b[49m\u001b[43m,\u001b[49m\u001b[43m \u001b[49m\u001b[38;5;241;43m*\u001b[39;49m\u001b[38;5;241;43m*\u001b[39;49m\u001b[43mkw\u001b[49m\u001b[43m)\u001b[49m\n",
      "File \u001b[0;32m/usr/local/lib/python3.9/site-packages/rpy2/robjects/pandas2ri.py:223\u001b[0m, in \u001b[0;36mpy2rpy_pandasseries\u001b[0;34m(obj)\u001b[0m\n\u001b[1;32m    216\u001b[0m             \u001b[38;5;28;01mraise\u001b[39;00m \u001b[38;5;167;01mValueError\u001b[39;00m(\n\u001b[1;32m    217\u001b[0m                 \u001b[38;5;124m'\u001b[39m\u001b[38;5;124mSeries can only be of one type, or None \u001b[39m\u001b[38;5;124m'\u001b[39m\n\u001b[1;32m    218\u001b[0m                 \u001b[38;5;124m'\u001b[39m\u001b[38;5;124m(and here we have \u001b[39m\u001b[38;5;132;01m%s\u001b[39;00m\u001b[38;5;124m and \u001b[39m\u001b[38;5;132;01m%s\u001b[39;00m\u001b[38;5;124m). If happening with \u001b[39m\u001b[38;5;124m'\u001b[39m\n\u001b[1;32m    219\u001b[0m                 \u001b[38;5;124m'\u001b[39m\u001b[38;5;124ma pandas DataFrame the method infer_objects() \u001b[39m\u001b[38;5;124m'\u001b[39m\n\u001b[1;32m    220\u001b[0m                 \u001b[38;5;124m'\u001b[39m\u001b[38;5;124mwill normalize data types before conversion.\u001b[39m\u001b[38;5;124m'\u001b[39m \u001b[38;5;241m%\u001b[39m\n\u001b[1;32m    221\u001b[0m                 (homogeneous_type, \u001b[38;5;28mtype\u001b[39m(x)))\n\u001b[1;32m    222\u001b[0m     \u001b[38;5;66;03m# TODO: Could this be merged with obj.type.name == 'O' case above ?\u001b[39;00m\n\u001b[0;32m--> 223\u001b[0m     res \u001b[38;5;241m=\u001b[39m \u001b[43m_PANDASTYPE2RPY2\u001b[49m\u001b[43m[\u001b[49m\u001b[43mhomogeneous_type\u001b[49m\u001b[43m]\u001b[49m(obj)\n\u001b[1;32m    224\u001b[0m \u001b[38;5;28;01melif\u001b[39;00m \u001b[38;5;28mtype\u001b[39m(obj\u001b[38;5;241m.\u001b[39mdtype) \u001b[38;5;129;01min\u001b[39;00m (pandas\u001b[38;5;241m.\u001b[39mFloat64Dtype, pandas\u001b[38;5;241m.\u001b[39mBooleanDtype):\n\u001b[1;32m    225\u001b[0m     res \u001b[38;5;241m=\u001b[39m _PANDASTYPE2RPY2[\u001b[38;5;28mtype\u001b[39m(obj\u001b[38;5;241m.\u001b[39mdtype)](obj)\n",
      "\u001b[0;31mKeyError\u001b[0m: <class 'float'>"
     ]
    }
   ],
   "source": [
    "import math, datetime\n",
    "import rpy2.robjects.lib.ggplot2 as ggplot2\n",
    "import rpy2.robjects as ro\n",
    "from rpy2.robjects.packages import importr\n",
    "base = importr('base')\n",
    "\n",
    "dataf_rnorm = robjects.DataFrame(ddist_blog.iloc[:,0:-1])\n",
    "robjects.r(''' \n",
    "library(data.table)\n",
    "topic.title.tall <- melt(setDT(ddist_blog), id.vars = c(\"title\"), variable.name = \"topic\")\n",
    "''')"
   ]
  },
  {
   "cell_type": "code",
   "execution_count": 198,
   "id": "d03f7910-d7ad-4d65-b921-bf7a3bef08fa",
   "metadata": {},
   "outputs": [
    {
     "ename": "PlotnineError",
     "evalue": "\"Could not evaluate the 'x' mapping: 'blog' (original error: name 'blog' is not defined)\"",
     "output_type": "error",
     "traceback": [
      "\u001b[0;31m---------------------------------------------------------------------------\u001b[0m",
      "\u001b[0;31mNameError\u001b[0m                                 Traceback (most recent call last)",
      "File \u001b[0;32m/usr/local/lib/python3.9/site-packages/plotnine/mapping/evaluation.py:228\u001b[0m, in \u001b[0;36mevaluate\u001b[0;34m(aesthetics, data, env)\u001b[0m\n\u001b[1;32m    227\u001b[0m \u001b[38;5;28;01mtry\u001b[39;00m:\n\u001b[0;32m--> 228\u001b[0m     new_val \u001b[38;5;241m=\u001b[39m \u001b[43menv\u001b[49m\u001b[38;5;241;43m.\u001b[39;49m\u001b[43meval\u001b[49m\u001b[43m(\u001b[49m\u001b[43mcol\u001b[49m\u001b[43m,\u001b[49m\u001b[43m \u001b[49m\u001b[43minner_namespace\u001b[49m\u001b[38;5;241;43m=\u001b[39;49m\u001b[43mdata\u001b[49m\u001b[43m)\u001b[49m\n\u001b[1;32m    229\u001b[0m \u001b[38;5;28;01mexcept\u001b[39;00m \u001b[38;5;167;01mException\u001b[39;00m \u001b[38;5;28;01mas\u001b[39;00m e:\n",
      "File \u001b[0;32m/usr/local/lib/python3.9/site-packages/patsy/eval.py:169\u001b[0m, in \u001b[0;36mEvalEnvironment.eval\u001b[0;34m(self, expr, source_name, inner_namespace)\u001b[0m\n\u001b[1;32m    168\u001b[0m code \u001b[38;5;241m=\u001b[39m \u001b[38;5;28mcompile\u001b[39m(expr, source_name, \u001b[38;5;124m\"\u001b[39m\u001b[38;5;124meval\u001b[39m\u001b[38;5;124m\"\u001b[39m, \u001b[38;5;28mself\u001b[39m\u001b[38;5;241m.\u001b[39mflags, \u001b[38;5;28;01mFalse\u001b[39;00m)\n\u001b[0;32m--> 169\u001b[0m \u001b[38;5;28;01mreturn\u001b[39;00m \u001b[38;5;28;43meval\u001b[39;49m\u001b[43m(\u001b[49m\u001b[43mcode\u001b[49m\u001b[43m,\u001b[49m\u001b[43m \u001b[49m\u001b[43m{\u001b[49m\u001b[43m}\u001b[49m\u001b[43m,\u001b[49m\u001b[43m \u001b[49m\u001b[43mVarLookupDict\u001b[49m\u001b[43m(\u001b[49m\u001b[43m[\u001b[49m\u001b[43minner_namespace\u001b[49m\u001b[43m]\u001b[49m\n\u001b[1;32m    170\u001b[0m \u001b[43m                                    \u001b[49m\u001b[38;5;241;43m+\u001b[39;49m\u001b[43m \u001b[49m\u001b[38;5;28;43mself\u001b[39;49m\u001b[38;5;241;43m.\u001b[39;49m\u001b[43m_namespaces\u001b[49m\u001b[43m)\u001b[49m\u001b[43m)\u001b[49m\n",
      "File \u001b[0;32m<string>:1\u001b[0m\n",
      "\u001b[0;31mNameError\u001b[0m: name 'blog' is not defined",
      "\nDuring handling of the above exception, another exception occurred:\n",
      "\u001b[0;31mPlotnineError\u001b[0m                             Traceback (most recent call last)",
      "File \u001b[0;32m/usr/local/lib/python3.9/site-packages/IPython/core/formatters.py:708\u001b[0m, in \u001b[0;36mPlainTextFormatter.__call__\u001b[0;34m(self, obj)\u001b[0m\n\u001b[1;32m    701\u001b[0m stream \u001b[38;5;241m=\u001b[39m StringIO()\n\u001b[1;32m    702\u001b[0m printer \u001b[38;5;241m=\u001b[39m pretty\u001b[38;5;241m.\u001b[39mRepresentationPrinter(stream, \u001b[38;5;28mself\u001b[39m\u001b[38;5;241m.\u001b[39mverbose,\n\u001b[1;32m    703\u001b[0m     \u001b[38;5;28mself\u001b[39m\u001b[38;5;241m.\u001b[39mmax_width, \u001b[38;5;28mself\u001b[39m\u001b[38;5;241m.\u001b[39mnewline,\n\u001b[1;32m    704\u001b[0m     max_seq_length\u001b[38;5;241m=\u001b[39m\u001b[38;5;28mself\u001b[39m\u001b[38;5;241m.\u001b[39mmax_seq_length,\n\u001b[1;32m    705\u001b[0m     singleton_pprinters\u001b[38;5;241m=\u001b[39m\u001b[38;5;28mself\u001b[39m\u001b[38;5;241m.\u001b[39msingleton_printers,\n\u001b[1;32m    706\u001b[0m     type_pprinters\u001b[38;5;241m=\u001b[39m\u001b[38;5;28mself\u001b[39m\u001b[38;5;241m.\u001b[39mtype_printers,\n\u001b[1;32m    707\u001b[0m     deferred_pprinters\u001b[38;5;241m=\u001b[39m\u001b[38;5;28mself\u001b[39m\u001b[38;5;241m.\u001b[39mdeferred_printers)\n\u001b[0;32m--> 708\u001b[0m \u001b[43mprinter\u001b[49m\u001b[38;5;241;43m.\u001b[39;49m\u001b[43mpretty\u001b[49m\u001b[43m(\u001b[49m\u001b[43mobj\u001b[49m\u001b[43m)\u001b[49m\n\u001b[1;32m    709\u001b[0m printer\u001b[38;5;241m.\u001b[39mflush()\n\u001b[1;32m    710\u001b[0m \u001b[38;5;28;01mreturn\u001b[39;00m stream\u001b[38;5;241m.\u001b[39mgetvalue()\n",
      "File \u001b[0;32m/usr/local/lib/python3.9/site-packages/IPython/lib/pretty.py:410\u001b[0m, in \u001b[0;36mRepresentationPrinter.pretty\u001b[0;34m(self, obj)\u001b[0m\n\u001b[1;32m    407\u001b[0m                         \u001b[38;5;28;01mreturn\u001b[39;00m meth(obj, \u001b[38;5;28mself\u001b[39m, cycle)\n\u001b[1;32m    408\u001b[0m                 \u001b[38;5;28;01mif\u001b[39;00m \u001b[38;5;28mcls\u001b[39m \u001b[38;5;129;01mis\u001b[39;00m \u001b[38;5;129;01mnot\u001b[39;00m \u001b[38;5;28mobject\u001b[39m \\\n\u001b[1;32m    409\u001b[0m                         \u001b[38;5;129;01mand\u001b[39;00m \u001b[38;5;28mcallable\u001b[39m(\u001b[38;5;28mcls\u001b[39m\u001b[38;5;241m.\u001b[39m\u001b[38;5;18m__dict__\u001b[39m\u001b[38;5;241m.\u001b[39mget(\u001b[38;5;124m'\u001b[39m\u001b[38;5;124m__repr__\u001b[39m\u001b[38;5;124m'\u001b[39m)):\n\u001b[0;32m--> 410\u001b[0m                     \u001b[38;5;28;01mreturn\u001b[39;00m \u001b[43m_repr_pprint\u001b[49m\u001b[43m(\u001b[49m\u001b[43mobj\u001b[49m\u001b[43m,\u001b[49m\u001b[43m \u001b[49m\u001b[38;5;28;43mself\u001b[39;49m\u001b[43m,\u001b[49m\u001b[43m \u001b[49m\u001b[43mcycle\u001b[49m\u001b[43m)\u001b[49m\n\u001b[1;32m    412\u001b[0m     \u001b[38;5;28;01mreturn\u001b[39;00m _default_pprint(obj, \u001b[38;5;28mself\u001b[39m, cycle)\n\u001b[1;32m    413\u001b[0m \u001b[38;5;28;01mfinally\u001b[39;00m:\n",
      "File \u001b[0;32m/usr/local/lib/python3.9/site-packages/IPython/lib/pretty.py:778\u001b[0m, in \u001b[0;36m_repr_pprint\u001b[0;34m(obj, p, cycle)\u001b[0m\n\u001b[1;32m    776\u001b[0m \u001b[38;5;250m\u001b[39m\u001b[38;5;124;03m\"\"\"A pprint that just redirects to the normal repr function.\"\"\"\u001b[39;00m\n\u001b[1;32m    777\u001b[0m \u001b[38;5;66;03m# Find newlines and replace them with p.break_()\u001b[39;00m\n\u001b[0;32m--> 778\u001b[0m output \u001b[38;5;241m=\u001b[39m \u001b[38;5;28;43mrepr\u001b[39;49m\u001b[43m(\u001b[49m\u001b[43mobj\u001b[49m\u001b[43m)\u001b[49m\n\u001b[1;32m    779\u001b[0m lines \u001b[38;5;241m=\u001b[39m output\u001b[38;5;241m.\u001b[39msplitlines()\n\u001b[1;32m    780\u001b[0m \u001b[38;5;28;01mwith\u001b[39;00m p\u001b[38;5;241m.\u001b[39mgroup():\n",
      "File \u001b[0;32m/usr/local/lib/python3.9/site-packages/plotnine/ggplot.py:114\u001b[0m, in \u001b[0;36mggplot.__repr__\u001b[0;34m(self)\u001b[0m\n\u001b[1;32m    110\u001b[0m \u001b[38;5;28;01mdef\u001b[39;00m \u001b[38;5;21m__repr__\u001b[39m(\u001b[38;5;28mself\u001b[39m) \u001b[38;5;241m-\u001b[39m\u001b[38;5;241m>\u001b[39m \u001b[38;5;28mstr\u001b[39m:\n\u001b[1;32m    111\u001b[0m \u001b[38;5;250m    \u001b[39m\u001b[38;5;124;03m\"\"\"\u001b[39;00m\n\u001b[1;32m    112\u001b[0m \u001b[38;5;124;03m    Print/show the plot\u001b[39;00m\n\u001b[1;32m    113\u001b[0m \u001b[38;5;124;03m    \"\"\"\u001b[39;00m\n\u001b[0;32m--> 114\u001b[0m     figure \u001b[38;5;241m=\u001b[39m \u001b[38;5;28;43mself\u001b[39;49m\u001b[38;5;241;43m.\u001b[39;49m\u001b[43mdraw\u001b[49m\u001b[43m(\u001b[49m\u001b[43mshow\u001b[49m\u001b[38;5;241;43m=\u001b[39;49m\u001b[38;5;28;43;01mTrue\u001b[39;49;00m\u001b[43m)\u001b[49m\n\u001b[1;32m    116\u001b[0m     dpi \u001b[38;5;241m=\u001b[39m figure\u001b[38;5;241m.\u001b[39mget_dpi()\n\u001b[1;32m    117\u001b[0m     W \u001b[38;5;241m=\u001b[39m \u001b[38;5;28mint\u001b[39m(figure\u001b[38;5;241m.\u001b[39mget_figwidth() \u001b[38;5;241m*\u001b[39m dpi)\n",
      "File \u001b[0;32m/usr/local/lib/python3.9/site-packages/plotnine/ggplot.py:224\u001b[0m, in \u001b[0;36mggplot.draw\u001b[0;34m(self, show)\u001b[0m\n\u001b[1;32m    222\u001b[0m \u001b[38;5;28mself\u001b[39m \u001b[38;5;241m=\u001b[39m deepcopy(\u001b[38;5;28mself\u001b[39m)\n\u001b[1;32m    223\u001b[0m \u001b[38;5;28;01mwith\u001b[39;00m plot_context(\u001b[38;5;28mself\u001b[39m, show\u001b[38;5;241m=\u001b[39mshow):\n\u001b[0;32m--> 224\u001b[0m     \u001b[38;5;28;43mself\u001b[39;49m\u001b[38;5;241;43m.\u001b[39;49m\u001b[43m_build\u001b[49m\u001b[43m(\u001b[49m\u001b[43m)\u001b[49m\n\u001b[1;32m    226\u001b[0m     \u001b[38;5;66;03m# setup\u001b[39;00m\n\u001b[1;32m    227\u001b[0m     figure, axs \u001b[38;5;241m=\u001b[39m \u001b[38;5;28mself\u001b[39m\u001b[38;5;241m.\u001b[39m_create_figure()\n",
      "File \u001b[0;32m/usr/local/lib/python3.9/site-packages/plotnine/ggplot.py:314\u001b[0m, in \u001b[0;36mggplot._build\u001b[0;34m(self)\u001b[0m\n\u001b[1;32m    310\u001b[0m layout\u001b[38;5;241m.\u001b[39msetup(layers, \u001b[38;5;28mself\u001b[39m)\n\u001b[1;32m    312\u001b[0m \u001b[38;5;66;03m# Compute aesthetics to produce data with generalised\u001b[39;00m\n\u001b[1;32m    313\u001b[0m \u001b[38;5;66;03m# variable names\u001b[39;00m\n\u001b[0;32m--> 314\u001b[0m \u001b[43mlayers\u001b[49m\u001b[38;5;241;43m.\u001b[39;49m\u001b[43mcompute_aesthetics\u001b[49m\u001b[43m(\u001b[49m\u001b[38;5;28;43mself\u001b[39;49m\u001b[43m)\u001b[49m\n\u001b[1;32m    316\u001b[0m \u001b[38;5;66;03m# Transform data using all scales\u001b[39;00m\n\u001b[1;32m    317\u001b[0m layers\u001b[38;5;241m.\u001b[39mtransform(scales)\n",
      "File \u001b[0;32m/usr/local/lib/python3.9/site-packages/plotnine/layer.py:467\u001b[0m, in \u001b[0;36mLayers.compute_aesthetics\u001b[0;34m(self, plot)\u001b[0m\n\u001b[1;32m    465\u001b[0m \u001b[38;5;28;01mdef\u001b[39;00m \u001b[38;5;21mcompute_aesthetics\u001b[39m(\u001b[38;5;28mself\u001b[39m, plot: Ggplot):\n\u001b[1;32m    466\u001b[0m     \u001b[38;5;28;01mfor\u001b[39;00m l \u001b[38;5;129;01min\u001b[39;00m \u001b[38;5;28mself\u001b[39m:\n\u001b[0;32m--> 467\u001b[0m         \u001b[43ml\u001b[49m\u001b[38;5;241;43m.\u001b[39;49m\u001b[43mcompute_aesthetics\u001b[49m\u001b[43m(\u001b[49m\u001b[43mplot\u001b[49m\u001b[43m)\u001b[49m\n",
      "File \u001b[0;32m/usr/local/lib/python3.9/site-packages/plotnine/layer.py:260\u001b[0m, in \u001b[0;36mlayer.compute_aesthetics\u001b[0;34m(self, plot)\u001b[0m\n\u001b[1;32m    253\u001b[0m \u001b[38;5;28;01mdef\u001b[39;00m \u001b[38;5;21mcompute_aesthetics\u001b[39m(\u001b[38;5;28mself\u001b[39m, plot: Ggplot):\n\u001b[1;32m    254\u001b[0m \u001b[38;5;250m    \u001b[39m\u001b[38;5;124;03m\"\"\"\u001b[39;00m\n\u001b[1;32m    255\u001b[0m \u001b[38;5;124;03m    Return a dataframe where the columns match the aesthetic mappings\u001b[39;00m\n\u001b[1;32m    256\u001b[0m \n\u001b[1;32m    257\u001b[0m \u001b[38;5;124;03m    Transformations like 'factor(cyl)' and other\u001b[39;00m\n\u001b[1;32m    258\u001b[0m \u001b[38;5;124;03m    expression evaluation are  made in here\u001b[39;00m\n\u001b[1;32m    259\u001b[0m \u001b[38;5;124;03m    \"\"\"\u001b[39;00m\n\u001b[0;32m--> 260\u001b[0m     evaled \u001b[38;5;241m=\u001b[39m \u001b[43mevaluate\u001b[49m\u001b[43m(\u001b[49m\u001b[38;5;28;43mself\u001b[39;49m\u001b[38;5;241;43m.\u001b[39;49m\u001b[43mmapping\u001b[49m\u001b[38;5;241;43m.\u001b[39;49m\u001b[43m_starting\u001b[49m\u001b[43m,\u001b[49m\u001b[43m \u001b[49m\u001b[38;5;28;43mself\u001b[39;49m\u001b[38;5;241;43m.\u001b[39;49m\u001b[43mdata\u001b[49m\u001b[43m,\u001b[49m\u001b[43m \u001b[49m\u001b[43mplot\u001b[49m\u001b[38;5;241;43m.\u001b[39;49m\u001b[43menvironment\u001b[49m\u001b[43m)\u001b[49m\n\u001b[1;32m    261\u001b[0m     evaled_aes \u001b[38;5;241m=\u001b[39m aes(\u001b[38;5;241m*\u001b[39m\u001b[38;5;241m*\u001b[39m{\u001b[38;5;28mstr\u001b[39m(col): col \u001b[38;5;28;01mfor\u001b[39;00m col \u001b[38;5;129;01min\u001b[39;00m evaled})\n\u001b[1;32m    262\u001b[0m     plot\u001b[38;5;241m.\u001b[39mscales\u001b[38;5;241m.\u001b[39madd_defaults(evaled, evaled_aes)\n",
      "File \u001b[0;32m/usr/local/lib/python3.9/site-packages/plotnine/mapping/evaluation.py:230\u001b[0m, in \u001b[0;36mevaluate\u001b[0;34m(aesthetics, data, env)\u001b[0m\n\u001b[1;32m    228\u001b[0m     new_val \u001b[38;5;241m=\u001b[39m env\u001b[38;5;241m.\u001b[39meval(col, inner_namespace\u001b[38;5;241m=\u001b[39mdata)\n\u001b[1;32m    229\u001b[0m \u001b[38;5;28;01mexcept\u001b[39;00m \u001b[38;5;167;01mException\u001b[39;00m \u001b[38;5;28;01mas\u001b[39;00m e:\n\u001b[0;32m--> 230\u001b[0m     \u001b[38;5;28;01mraise\u001b[39;00m PlotnineError(_TPL_EVAL_FAIL\u001b[38;5;241m.\u001b[39mformat(ae, col, \u001b[38;5;28mstr\u001b[39m(e)))\n\u001b[1;32m    232\u001b[0m \u001b[38;5;28;01mtry\u001b[39;00m:\n\u001b[1;32m    233\u001b[0m     evaled[ae] \u001b[38;5;241m=\u001b[39m new_val\n",
      "\u001b[0;31mPlotnineError\u001b[0m: \"Could not evaluate the 'x' mapping: 'blog' (original error: name 'blog' is not defined)\""
     ]
    }
   ],
   "source": [
    "from plotnine import ggplot, aes, geom_line,geom_tile, scale_fill_gradient\n",
    "(\n",
    "ggplot(ddist_blog.iloc[:,0:-1], aes(x='blog')) +\n",
    "    # geom_tile(aes(fill = value)) + \n",
    "    # geom_text(aes(label = round(value, 2))) +\n",
    "    scale_fill_gradient(low = \"white\", high = \"red\")\n",
    "    # +theme(text = element_text(size=20),axis.text.x = element_text(angle=45, hjust=1))\n",
    ")"
   ]
  },
  {
   "cell_type": "code",
   "execution_count": 199,
   "id": "40473e75-c951-4974-8aae-01eb554e281d",
   "metadata": {},
   "outputs": [
    {
     "data": {
      "text/html": [
       "<div>\n",
       "<style scoped>\n",
       "    .dataframe tbody tr th:only-of-type {\n",
       "        vertical-align: middle;\n",
       "    }\n",
       "\n",
       "    .dataframe tbody tr th {\n",
       "        vertical-align: top;\n",
       "    }\n",
       "\n",
       "    .dataframe thead th {\n",
       "        text-align: right;\n",
       "    }\n",
       "</style>\n",
       "<table border=\"1\" class=\"dataframe\">\n",
       "  <thead>\n",
       "    <tr style=\"text-align: right;\">\n",
       "      <th></th>\n",
       "      <th>eating_support_alliance_us</th>\n",
       "      <th>bowl_oats_butter_almond</th>\n",
       "      <th>life_body_feel_like</th>\n",
       "      <th>roasted_#healthy_oil_add</th>\n",
       "      <th>body_like_feel_day</th>\n",
       "      <th>day_time_one_like</th>\n",
       "      <th>cup_chocolate_butter_add</th>\n",
       "      <th>id</th>\n",
       "    </tr>\n",
       "    <tr>\n",
       "      <th>blog</th>\n",
       "      <th></th>\n",
       "      <th></th>\n",
       "      <th></th>\n",
       "      <th></th>\n",
       "      <th></th>\n",
       "      <th></th>\n",
       "      <th></th>\n",
       "      <th></th>\n",
       "    </tr>\n",
       "  </thead>\n",
       "  <tbody>\n",
       "    <tr>\n",
       "      <th>Breeelenehan</th>\n",
       "      <td>0.004505</td>\n",
       "      <td>0.011943</td>\n",
       "      <td>0.032642</td>\n",
       "      <td>0.002196</td>\n",
       "      <td>0.805447</td>\n",
       "      <td>0.123988</td>\n",
       "      <td>0.006482</td>\n",
       "      <td>1873399</td>\n",
       "    </tr>\n",
       "    <tr>\n",
       "      <th>alliancefored</th>\n",
       "      <td>0.901694</td>\n",
       "      <td>0.000727</td>\n",
       "      <td>0.074312</td>\n",
       "      <td>0.0</td>\n",
       "      <td>0.035109</td>\n",
       "      <td>0.021241</td>\n",
       "      <td>0.000715</td>\n",
       "      <td>6127291</td>\n",
       "    </tr>\n",
       "    <tr>\n",
       "      <th>amandavsevilla</th>\n",
       "      <td>0.009553</td>\n",
       "      <td>0.019371</td>\n",
       "      <td>0.158634</td>\n",
       "      <td>0.015112</td>\n",
       "      <td>0.018207</td>\n",
       "      <td>0.11161</td>\n",
       "      <td>0.005156</td>\n",
       "      <td>6136628</td>\n",
       "    </tr>\n",
       "    <tr>\n",
       "      <th>anxiousgayyy</th>\n",
       "      <td>0.000502</td>\n",
       "      <td>0.0</td>\n",
       "      <td>0.020532</td>\n",
       "      <td>0.000634</td>\n",
       "      <td>0.002199</td>\n",
       "      <td>0.002959</td>\n",
       "      <td>0.0</td>\n",
       "      <td>132541</td>\n",
       "    </tr>\n",
       "    <tr>\n",
       "      <th>healthfulradiance</th>\n",
       "      <td>0.009095</td>\n",
       "      <td>0.587512</td>\n",
       "      <td>0.09613</td>\n",
       "      <td>0.699153</td>\n",
       "      <td>0.027373</td>\n",
       "      <td>0.112608</td>\n",
       "      <td>0.944535</td>\n",
       "      <td>14710522</td>\n",
       "    </tr>\n",
       "    <tr>\n",
       "      <th>imtrying-butimpissed</th>\n",
       "      <td>0.024045</td>\n",
       "      <td>0.015182</td>\n",
       "      <td>0.285263</td>\n",
       "      <td>0.004865</td>\n",
       "      <td>0.031289</td>\n",
       "      <td>0.040838</td>\n",
       "      <td>0.0</td>\n",
       "      <td>1490061</td>\n",
       "    </tr>\n",
       "    <tr>\n",
       "      <th>itsclairexu</th>\n",
       "      <td>0.036686</td>\n",
       "      <td>0.293368</td>\n",
       "      <td>0.30226</td>\n",
       "      <td>0.09059</td>\n",
       "      <td>0.05645</td>\n",
       "      <td>0.139927</td>\n",
       "      <td>0.03727</td>\n",
       "      <td>14539093</td>\n",
       "    </tr>\n",
       "    <tr>\n",
       "      <th>veganhollyg</th>\n",
       "      <td>0.013919</td>\n",
       "      <td>0.071898</td>\n",
       "      <td>0.030227</td>\n",
       "      <td>0.187451</td>\n",
       "      <td>0.023927</td>\n",
       "      <td>0.446829</td>\n",
       "      <td>0.005842</td>\n",
       "      <td>12825333</td>\n",
       "    </tr>\n",
       "  </tbody>\n",
       "</table>\n",
       "</div>"
      ],
      "text/plain": [
       "                     eating_support_alliance_us bowl_oats_butter_almond  \\\n",
       "blog                                                                      \n",
       "Breeelenehan                           0.004505                0.011943   \n",
       "alliancefored                          0.901694                0.000727   \n",
       "amandavsevilla                         0.009553                0.019371   \n",
       "anxiousgayyy                           0.000502                     0.0   \n",
       "healthfulradiance                      0.009095                0.587512   \n",
       "imtrying-butimpissed                   0.024045                0.015182   \n",
       "itsclairexu                            0.036686                0.293368   \n",
       "veganhollyg                            0.013919                0.071898   \n",
       "\n",
       "                     life_body_feel_like roasted_#healthy_oil_add  \\\n",
       "blog                                                                \n",
       "Breeelenehan                    0.032642                 0.002196   \n",
       "alliancefored                   0.074312                      0.0   \n",
       "amandavsevilla                  0.158634                 0.015112   \n",
       "anxiousgayyy                    0.020532                 0.000634   \n",
       "healthfulradiance                0.09613                 0.699153   \n",
       "imtrying-butimpissed            0.285263                 0.004865   \n",
       "itsclairexu                      0.30226                  0.09059   \n",
       "veganhollyg                     0.030227                 0.187451   \n",
       "\n",
       "                     body_like_feel_day day_time_one_like  \\\n",
       "blog                                                        \n",
       "Breeelenehan                   0.805447          0.123988   \n",
       "alliancefored                  0.035109          0.021241   \n",
       "amandavsevilla                 0.018207           0.11161   \n",
       "anxiousgayyy                   0.002199          0.002959   \n",
       "healthfulradiance              0.027373          0.112608   \n",
       "imtrying-butimpissed           0.031289          0.040838   \n",
       "itsclairexu                     0.05645          0.139927   \n",
       "veganhollyg                    0.023927          0.446829   \n",
       "\n",
       "                     cup_chocolate_butter_add        id  \n",
       "blog                                                     \n",
       "Breeelenehan                         0.006482   1873399  \n",
       "alliancefored                        0.000715   6127291  \n",
       "amandavsevilla                       0.005156   6136628  \n",
       "anxiousgayyy                              0.0    132541  \n",
       "healthfulradiance                    0.944535  14710522  \n",
       "imtrying-butimpissed                      0.0   1490061  \n",
       "itsclairexu                           0.03727  14539093  \n",
       "veganhollyg                          0.005842  12825333  "
      ]
     },
     "execution_count": 199,
     "metadata": {},
     "output_type": "execute_result"
    }
   ],
   "source": [
    "ddist_blog"
   ]
  }
 ],
 "metadata": {
  "kernelspec": {
   "display_name": "Python 3 (ipykernel)",
   "language": "python",
   "name": "python3"
  },
  "language_info": {
   "codemirror_mode": {
    "name": "ipython",
    "version": 3
   },
   "file_extension": ".py",
   "mimetype": "text/x-python",
   "name": "python",
   "nbconvert_exporter": "python",
   "pygments_lexer": "ipython3",
   "version": "3.8.6"
  },
  "toc-autonumbering": false,
  "toc-showcode": true,
  "toc-showmarkdowntxt": false
 },
 "nbformat": 4,
 "nbformat_minor": 5
}
