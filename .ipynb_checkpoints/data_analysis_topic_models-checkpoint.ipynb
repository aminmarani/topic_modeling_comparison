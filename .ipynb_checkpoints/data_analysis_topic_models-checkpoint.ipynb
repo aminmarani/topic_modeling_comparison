{
 "cells": [
  {
   "cell_type": "code",
   "execution_count": 64,
   "id": "fdb66805-93e6-4944-99f2-54006260bb6b",
   "metadata": {},
   "outputs": [],
   "source": [
    "%load_ext rpy2.ipython"
   ]
  },
  {
   "cell_type": "code",
   "execution_count": 50,
   "id": "3d46af5e-27a7-4e37-81bc-c5b6ce856e45",
   "metadata": {},
   "outputs": [],
   "source": [
    "import pandas as pd\n",
    "from collections import Counter\n",
    "import seaborn as sns"
   ]
  },
  {
   "cell_type": "code",
   "execution_count": 66,
   "id": "d3d0edb0-718e-4be9-bcad-a950522c50dd",
   "metadata": {},
   "outputs": [],
   "source": [
    "maps = {\"Strongly disagree\":1,\"Disagree\":2,\"Somewhat disagree\":3,\n",
    "        \"Neither disagree nor agree\":4,\"Somewhat agree\":5,\"Agree\":6,\n",
    "        \"Strongly Agree\":7}\n",
    "model_mapping = {\"Program Alpha is definitely better.\":1,\n",
    "                 \"Program Alpha is probably better.\":2,\n",
    "                 \"Program Alpha might be better.\":3,\n",
    "                 \"I cannot decide.\":4,\n",
    "                 \"Program Beta might be better.\":5,\n",
    "                 \"Program Beta is probably better.\":6,\n",
    "                 \"Program Beta is definitely  better.\":7}\n",
    "# set(df.model1_diversity_1)"
   ]
  },
  {
   "cell_type": "markdown",
   "id": "7f901fd6-8eb7-4f04-82c8-51516abae4f1",
   "metadata": {},
   "source": [
    "loading data from Prolific CSV"
   ]
  },
  {
   "cell_type": "code",
   "execution_count": 53,
   "id": "fad78873-9079-44df-bf1e-643f285a5a13",
   "metadata": {},
   "outputs": [],
   "source": [
    "df = pd.read_csv(\"./data/qualtrics/Topic_Model_Assessment_December+16,+2024_16.41.csv\")"
   ]
  },
  {
   "cell_type": "markdown",
   "id": "3ea33001-98be-40d2-9f4e-42e7a17a19be",
   "metadata": {},
   "source": [
    "removing unnacceptable responses"
   ]
  },
  {
   "cell_type": "code",
   "execution_count": 54,
   "id": "d6ab152a-3479-4b80-b4af-145e2db6cd32",
   "metadata": {},
   "outputs": [
    {
     "name": "stdout",
     "output_type": "stream",
     "text": [
      "Number of tasks: 61\n"
     ]
    }
   ],
   "source": [
    "df = df[df.mars == 'Never']\n",
    "print(f\"Number of tasks: {len(df)}\")"
   ]
  },
  {
   "cell_type": "markdown",
   "id": "0e474671-b169-4c40-b18f-b444cfb49361",
   "metadata": {},
   "source": [
    "number of comparisions"
   ]
  },
  {
   "cell_type": "code",
   "execution_count": 55,
   "id": "7009e72a-3250-4263-b476-9e0a56b302dc",
   "metadata": {},
   "outputs": [
    {
     "name": "stdout",
     "output_type": "stream",
     "text": [
      "Counter({'lda-stm': 12, 'bertopic-stm': 12, 'scholar-stm': 11, 'bertopic-lda': 10, 'lda-scholar': 9, 'bertopic-scholar': 7})\n",
      "{'scholar': 27, 'bertopic': 29, 'lda': 31, 'stm': 35}\n"
     ]
    }
   ],
   "source": [
    "print(Counter(['-'.join(sorted([i,j])) for i,j in zip(df.Model1,df.Model2)]))\n",
    "models_appearance = dict(Counter([i for i in list(df.Model1)+list(df.Model2)]))\n",
    "print(models_appearance)\n",
    "# list(df.columns)"
   ]
  },
  {
   "cell_type": "markdown",
   "id": "767da59f-6ed5-4e89-98a1-49af69287b0e",
   "metadata": {},
   "source": [
    "models quality (individual analysis)"
   ]
  },
  {
   "cell_type": "code",
   "execution_count": 56,
   "id": "2d491f8b-46ef-48d7-be73-e88df944130e",
   "metadata": {},
   "outputs": [],
   "source": [
    "# indv_ratings = pd.DataFrame(columns=[\"model\",\"item\",\"quality\"])\n",
    "ls = []\n",
    "\n",
    "for _,row in df.iterrows():\n",
    "    ls.append({\"model\":row.Model1,\"item\":\"diversity\",\"value\":maps[row.model1_diversity_1]})\n",
    "    ls.append({\"model\":row.Model1,\"item\":\"distinct\",\"value\":maps[row.m1_distinct_1]})\n",
    "    ls.append({\"model\":row.Model1,\"item\":\"understand\",\"value\":maps[row.m1_understand_1]})\n",
    "\n",
    "    ls.append({\"model\":row.Model2,\"item\":\"diversity\",\"value\":maps[row.m2_diverse_1]})\n",
    "    ls.append({\"model\":row.Model2,\"item\":\"distinct\",\"value\":maps[row.m2_distinct_1]})\n",
    "    ls.append({\"model\":row.Model2,\"item\":\"understand\",\"value\":maps[row.m2_understand_1]})\n",
    "\n",
    "indv_df = pd.DataFrame(ls)"
   ]
  },
  {
   "cell_type": "code",
   "execution_count": 57,
   "id": "76c3e1bb-f795-4e85-bd0e-349f5331dc87",
   "metadata": {},
   "outputs": [
    {
     "data": {
      "text/plain": [
       "<Axes: xlabel='item', ylabel='value'>"
      ]
     },
     "execution_count": 57,
     "metadata": {},
     "output_type": "execute_result"
    },
    {
     "data": {
      "image/png": "[encoded data removed]",
      "text/plain": [
       "<Figure size 640x480 with 1 Axes>"
      ]
     },
     "metadata": {},
     "output_type": "display_data"
    }
   ],
   "source": [
    "# sns.barplot(indv_df.groupby([\"model\",\"item\"]).mean().reset_index(),\n",
    "#             x=\"item\",y=\"value\",hue=\"model\")\n",
    "sns.barplot(indv_df,\n",
    "            x=\"item\",y=\"value\",hue=\"model\")"
   ]
  },
  {
   "cell_type": "markdown",
   "id": "4c4d69ac-06ee-450d-a8ee-02b3669041c0",
   "metadata": {},
   "source": [
    "wins ratio"
   ]
  },
  {
   "cell_type": "code",
   "execution_count": 58,
   "id": "ed9a2d9f-1b7b-4feb-9468-ee31391f1f98",
   "metadata": {},
   "outputs": [
    {
     "name": "stdout",
     "output_type": "stream",
     "text": [
      "{'scholar': 15, 'bertopic': 15, 'lda': 12, 'stm': 19}\n",
      "{'scholar': 0.5555555555555556, 'bertopic': 0.5172413793103449, 'lda': 0.3870967741935484, 'stm': 0.5428571428571428}\n"
     ]
    }
   ],
   "source": [
    "# models_appearance\n",
    "models_win = {k:0 for k,v in models_appearance.items()}\n",
    "\n",
    "for _,row in df.iterrows():\n",
    "    if \"Alpha\" in row.model_selection_1:\n",
    "        models_win[row.Model1] += 1\n",
    "    else:\n",
    "        models_win[row.Model2] += 1\n",
    "\n",
    "models_ratio = {k:models_win[k]/models_appearance[k] for k in models_win.keys()}\n",
    "\n",
    "print(models_win)\n",
    "print(models_ratio)"
   ]
  },
  {
   "cell_type": "markdown",
   "id": "9a67bf0d-bb0b-4c10-bb56-4f5f744bf177",
   "metadata": {},
   "source": [
    "how many times first model (i.e., Alpha model) wins "
   ]
  },
  {
   "cell_type": "code",
   "execution_count": 61,
   "id": "25cd9bbd-a8df-42b7-a14f-cf783360278b",
   "metadata": {},
   "outputs": [
    {
     "name": "stdout",
     "output_type": "stream",
     "text": [
      "Alpha wins 42.62%\n"
     ]
    }
   ],
   "source": [
    "count =0\n",
    "alpha_wins = 0\n",
    "for _,row in df.iterrows():\n",
    "    if \"Alpha\" in row.model_selection_1:\n",
    "        alpha_wins +=1\n",
    "    count+=1\n",
    "\n",
    "print(f\"Alpha wins {100*alpha_wins/count:0.2f}%\")"
   ]
  },
  {
   "cell_type": "markdown",
   "id": "14102941-0294-4a02-93cd-4cada27bb96d",
   "metadata": {},
   "source": [
    "Anova on model_selection"
   ]
  },
  {
   "cell_type": "code",
   "execution_count": 88,
   "id": "32011a5b-3d57-4f7f-8ead-a645bbccedb3",
   "metadata": {},
   "outputs": [
    {
     "data": {
      "text/html": [
       "<div>\n",
       "<style scoped>\n",
       "    .dataframe tbody tr th:only-of-type {\n",
       "        vertical-align: middle;\n",
       "    }\n",
       "\n",
       "    .dataframe tbody tr th {\n",
       "        vertical-align: top;\n",
       "    }\n",
       "\n",
       "    .dataframe thead th {\n",
       "        text-align: right;\n",
       "    }\n",
       "</style>\n",
       "<table border=\"1\" class=\"dataframe\">\n",
       "  <thead>\n",
       "    <tr style=\"text-align: right;\">\n",
       "      <th></th>\n",
       "      <th>comparison</th>\n",
       "      <th>model1</th>\n",
       "      <th>model2</th>\n",
       "      <th>rating</th>\n",
       "      <th>diverse1</th>\n",
       "      <th>distinct1</th>\n",
       "      <th>understand1</th>\n",
       "      <th>diverse2</th>\n",
       "      <th>distinct2</th>\n",
       "      <th>understand2</th>\n",
       "    </tr>\n",
       "  </thead>\n",
       "  <tbody>\n",
       "    <tr>\n",
       "      <th>0</th>\n",
       "      <td>scholar-stm</td>\n",
       "      <td>scholar</td>\n",
       "      <td>stm</td>\n",
       "      <td>3</td>\n",
       "      <td>7</td>\n",
       "      <td>3</td>\n",
       "      <td>4</td>\n",
       "      <td>2</td>\n",
       "      <td>6</td>\n",
       "      <td>3</td>\n",
       "    </tr>\n",
       "    <tr>\n",
       "      <th>1</th>\n",
       "      <td>bertopic-lda</td>\n",
       "      <td>bertopic</td>\n",
       "      <td>lda</td>\n",
       "      <td>5</td>\n",
       "      <td>3</td>\n",
       "      <td>5</td>\n",
       "      <td>4</td>\n",
       "      <td>4</td>\n",
       "      <td>4</td>\n",
       "      <td>4</td>\n",
       "    </tr>\n",
       "    <tr>\n",
       "      <th>2</th>\n",
       "      <td>bertopic-lda</td>\n",
       "      <td>bertopic</td>\n",
       "      <td>lda</td>\n",
       "      <td>3</td>\n",
       "      <td>4</td>\n",
       "      <td>4</td>\n",
       "      <td>4</td>\n",
       "      <td>4</td>\n",
       "      <td>4</td>\n",
       "      <td>4</td>\n",
       "    </tr>\n",
       "    <tr>\n",
       "      <th>3</th>\n",
       "      <td>scholar-stm</td>\n",
       "      <td>scholar</td>\n",
       "      <td>stm</td>\n",
       "      <td>4</td>\n",
       "      <td>4</td>\n",
       "      <td>3</td>\n",
       "      <td>5</td>\n",
       "      <td>4</td>\n",
       "      <td>3</td>\n",
       "      <td>5</td>\n",
       "    </tr>\n",
       "    <tr>\n",
       "      <th>4</th>\n",
       "      <td>lda-scholar</td>\n",
       "      <td>lda</td>\n",
       "      <td>scholar</td>\n",
       "      <td>6</td>\n",
       "      <td>5</td>\n",
       "      <td>5</td>\n",
       "      <td>4</td>\n",
       "      <td>5</td>\n",
       "      <td>5</td>\n",
       "      <td>4</td>\n",
       "    </tr>\n",
       "  </tbody>\n",
       "</table>\n",
       "</div>"
      ],
      "text/plain": [
       "     comparison    model1   model2  rating  diverse1  distinct1  understand1  \\\n",
       "0   scholar-stm   scholar      stm       3         7          3            4   \n",
       "1  bertopic-lda  bertopic      lda       5         3          5            4   \n",
       "2  bertopic-lda  bertopic      lda       3         4          4            4   \n",
       "3   scholar-stm   scholar      stm       4         4          3            5   \n",
       "4   lda-scholar       lda  scholar       6         5          5            4   \n",
       "\n",
       "   diverse2  distinct2  understand2  \n",
       "0         2          6            3  \n",
       "1         4          4            4  \n",
       "2         4          4            4  \n",
       "3         4          3            5  \n",
       "4         5          5            4  "
      ]
     },
     "execution_count": 88,
     "metadata": {},
     "output_type": "execute_result"
    }
   ],
   "source": [
    "#data prepartion\n",
    "selection = []\n",
    "\n",
    "for _,row in df.iterrows():\n",
    "    compare_name = \"-\".join(sorted([row.Model1,row.Model2]))\n",
    "    models = sorted([row.Model1,row.Model2])\n",
    "    indv_rating = [(maps[row.model1_diversity_1],maps[row.m1_distinct_1],maps[row.m1_understand_1]),\n",
    "                   (maps[row.m2_diverse_1],maps[row.m2_distinct_1],maps[row.m2_understand_1])]\n",
    "    if row.Model2 == models[0]:\n",
    "        indv_rating = [indv_rating[1],indv_rating[1]]\n",
    "    compare_val = model_mapping[row[\"model_selection_1\"]]\n",
    "    selection.append({\"comparison\":compare_name,\"model1\":models[0],\"model2\":models[1],\n",
    "                     \"rating\":compare_val if (\"-\".join([row.Model1,row.Model2]) == compare_name) \n",
    "                      else 8-compare_val,\n",
    "                     \"diverse1\":indv_rating[0][0],\"distinct1\":indv_rating[0][1],\"understand1\":indv_rating[0][2],\n",
    "                     \"diverse2\":indv_rating[1][0],\"distinct2\":indv_rating[1][1],\"understand2\":indv_rating[1][2]})\n",
    "\n",
    "selection_df = pd.DataFrame(selection)\n",
    "selection_df.head()"
   ]
  },
  {
   "cell_type": "code",
   "execution_count": 89,
   "id": "6e434421-34ef-4585-b26b-82dfee4ffd5b",
   "metadata": {},
   "outputs": [
    {
     "name": "stdout",
     "output_type": "stream",
     "text": [
      "[1] 2\n",
      "                      Df Sum Sq Mean Sq F value Pr(>F)\n",
      "as.factor(comparison)  5   8.01   1.602   0.401  0.846\n",
      "Residuals             55 219.73   3.995               \n",
      "  Tukey multiple comparisons of means\n",
      "    95% family-wise confidence level\n",
      "\n",
      "Fit: aov(formula = rating ~ as.factor(comparison), data = selection_df)\n",
      "\n",
      "$`as.factor(comparison)`\n",
      "                                     diff       lwr      upr     p adj\n",
      "bertopic-scholar-bertopic-lda  0.21428571 -2.693955 3.122526 0.9999291\n",
      "bertopic-stm-bertopic-lda      1.00000000 -1.526828 3.526828 0.8497226\n",
      "lda-scholar-bertopic-lda       0.94444444 -1.767061 3.655950 0.9063462\n",
      "lda-stm-bertopic-lda           0.66666667 -1.860161 3.193494 0.9699593\n",
      "scholar-stm-bertopic-lda       0.40909091 -2.169415 2.987597 0.9970405\n",
      "bertopic-stm-bertopic-scholar  0.78571429 -2.020960 3.592389 0.9613150\n",
      "lda-scholar-bertopic-scholar   0.73015873 -2.243866 3.704184 0.9780384\n",
      "lda-stm-bertopic-scholar       0.45238095 -2.354294 3.259055 0.9968106\n",
      "scholar-stm-bertopic-scholar   0.19480519 -2.658484 3.048094 0.9999514\n",
      "lda-scholar-bertopic-stm      -0.05555556 -2.657827 2.546716 0.9999999\n",
      "lda-stm-bertopic-stm          -0.33333333 -2.742569 2.075902 0.9984600\n",
      "scholar-stm-bertopic-stm      -0.59090909 -3.054292 1.872473 0.9801751\n",
      "lda-stm-lda-scholar           -0.27777778 -2.880050 2.324494 0.9995617\n",
      "scholar-stm-lda-scholar       -0.53535354 -3.187835 2.117127 0.9908971\n",
      "scholar-stm-lda-stm           -0.25757576 -2.720958 2.205807 0.9996037\n",
      "\n"
     ]
    }
   ],
   "source": [
    "%%R -i selection_df\n",
    "print(2)\n",
    "# print(summary(analysis.variance <- aov(rating ~ (as.factor(model1)+as.factor(model2))^2,data=selection_df)))\n",
    "print(summary(analysis.variance <- aov(rating ~ as.factor(comparison),data=selection_df)))\n",
    "print(TukeyHSD(analysis.variance))"
   ]
  },
  {
   "cell_type": "code",
   "execution_count": 98,
   "id": "6c1114fa-84b0-41ef-a6be-98615d20b5cf",
   "metadata": {},
   "outputs": [
    {
     "name": "stdout",
     "output_type": "stream",
     "text": [
      "                                                Df Sum Sq Mean Sq F value\n",
      "as.ordered(distinct1)                            6  54.22   9.036   2.439\n",
      "as.ordered(distinct2)                            4  31.59   7.897   2.132\n",
      "as.ordered(understand1)                          5   6.52   1.305   0.352\n",
      "as.ordered(understand2)                          5  13.87   2.774   0.749\n",
      "as.ordered(diverse1)                             5   9.38   1.877   0.507\n",
      "as.ordered(diverse2)                             4   7.88   1.971   0.532\n",
      "as.ordered(distinct1):as.ordered(distinct2)      2   4.19   2.094   0.565\n",
      "as.ordered(understand1):as.ordered(understand2)  1   0.06   0.063   0.017\n",
      "as.ordered(diverse1):as.ordered(diverse2)        1   0.00   0.000   0.000\n",
      "Residuals                                       27 100.02   3.705        \n",
      "                                                Pr(>F)  \n",
      "as.ordered(distinct1)                           0.0515 .\n",
      "as.ordered(distinct2)                           0.1043  \n",
      "as.ordered(understand1)                         0.8763  \n",
      "as.ordered(understand2)                         0.5941  \n",
      "as.ordered(diverse1)                            0.7687  \n",
      "as.ordered(diverse2)                            0.7133  \n",
      "as.ordered(distinct1):as.ordered(distinct2)     0.5748  \n",
      "as.ordered(understand1):as.ordered(understand2) 0.8969  \n",
      "as.ordered(diverse1):as.ordered(diverse2)       0.9931  \n",
      "Residuals                                               \n",
      "---\n",
      "Signif. codes:  0 ‘***’ 0.001 ‘**’ 0.01 ‘*’ 0.05 ‘.’ 0.1 ‘ ’ 1\n"
     ]
    }
   ],
   "source": [
    "%%R -i selection_df\n",
    "print(summary(analysis.variance <- aov(rating ~ (as.ordered(distinct1)*as.ordered(distinct2)+\n",
    "                                              as.ordered(understand1)*as.ordered(understand2)+\n",
    "                                              as.ordered(diverse1)*as.ordered(diverse2))\n",
    "                                       ,data=selection_df)))\n",
    "# print(TukeyHSD(analysis.variance))"
   ]
  },
  {
   "cell_type": "code",
   "execution_count": 117,
   "id": "d4b92545-21f3-4564-8636-7e00a62b0282",
   "metadata": {},
   "outputs": [
    {
     "name": "stdout",
     "output_type": "stream",
     "text": [
      "                  Df  Pillai approx F num Df den Df Pr(>F)\n",
      "as.factor(model1)  2 0.12245   1.2392      6    114 0.2916\n",
      "Residuals         58                                      \n",
      "                  Df   Pillai approx F num Df den Df Pr(>F)\n",
      "as.factor(model2)  2 0.087734  0.87172      6    114 0.5181\n",
      "Residuals         58                                       \n",
      "                  Df Sum Sq Mean Sq F value Pr(>F)  \n",
      "as.factor(model1)  2   8.63   4.316   2.577 0.0847 .\n",
      "Residuals         58  97.14   1.675                 \n",
      "---\n",
      "Signif. codes:  0 ‘***’ 0.001 ‘**’ 0.01 ‘*’ 0.05 ‘.’ 0.1 ‘ ’ 1\n"
     ]
    }
   ],
   "source": [
    "%%R -i selection_df\n",
    "print(summary(analysis.variance <- manova(cbind(diverse1,distinct1,understand1) ~ as.factor(model1)\n",
    "                                       ,data=selection_df)))\n",
    "print(summary(analysis.variance <- manova(cbind(diverse2,distinct2,understand2) ~ as.factor(model2)\n",
    "                                       ,data=selection_df)))\n",
    "\n",
    "print(summary(analysis.variance <- aov(distinct1 ~ as.factor(model1)\n",
    "                                       ,data=selection_df)))"
   ]
  }
 ],
 "metadata": {
  "kernelspec": {
   "display_name": "Python 3 (ipykernel)",
   "language": "python",
   "name": "python3"
  },
  "language_info": {
   "codemirror_mode": {
    "name": "ipython",
    "version": 3
   },
   "file_extension": ".py",
   "mimetype": "text/x-python",
   "name": "python",
   "nbconvert_exporter": "python",
   "pygments_lexer": "ipython3",
   "version": "3.9.16"
  }
 },
 "nbformat": 4,
 "nbformat_minor": 5
}
