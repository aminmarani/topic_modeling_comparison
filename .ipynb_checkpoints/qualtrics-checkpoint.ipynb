{
 "cells": [
  {
   "cell_type": "markdown",
   "id": "1a547faa-b8b1-46b4-a4b0-82bdc2f06600",
   "metadata": {},
   "source": [
    "# loading up JSON file"
   ]
  },
  {
   "cell_type": "code",
   "execution_count": 165,
   "id": "96e4db29-58bc-4ebc-adf8-64e34a7cad56",
   "metadata": {
    "scrolled": true
   },
   "outputs": [],
   "source": [
    "import json\n",
    "\n",
    "with open(\"./result/qualtrics/Topic_Item_assessment_Template.qsf\", \"r\") as f:\n",
    "    # Read the contents of the file\n",
    "    data = json.load(f)"
   ]
  },
  {
   "cell_type": "markdown",
   "id": "5c39e14d-d291-411a-9bc3-d94a2ab6073f",
   "metadata": {},
   "source": [
    "# loading survey data and injecting in QSF file"
   ]
  },
  {
   "cell_type": "code",
   "execution_count": 166,
   "id": "8c6943f6-fbca-4e45-b5f2-16437c74003b",
   "metadata": {},
   "outputs": [
    {
     "data": {
      "text/plain": [
       "'done'"
      ]
     },
     "execution_count": 166,
     "metadata": {},
     "output_type": "execute_result"
    }
   ],
   "source": [
    "import os\n",
    "import pandas as pd\n",
    "import copy\n",
    "\n",
    "#path to the topic models\n",
    "pth = './result/final results/'\n",
    "#directory of each model\n",
    "dirs = ['bertopic', 'lda', 'stm', 'scholar']\n",
    "FlowID = 221#making fake flow_ids\n",
    "\n",
    "for folder in dirs:\n",
    "    df = pd.read_csv(pth+folder+'/'+'survey_data.csv')\n",
    "    npmi_df = pd.read_csv(pth+folder+'/'+'topic_terms.csv')\n",
    "    for itr,row in df.iterrows():\n",
    "        if folder == 'bertopic' and itr==0:\n",
    "            continue\n",
    "        #copy a fake row\n",
    "        data['SurveyElements'][1]['Payload']['Flow'][6]['Flow'].append(copy.deepcopy( \\\n",
    "                data['SurveyElements'][1]['Payload']['Flow'][6]['Flow'][0]))\n",
    "        #setting top terms\n",
    "        data['SurveyElements'][1]['Payload']['Flow'][6]['Flow'][-1]['EmbeddedData'][0]['Value'] = \\\n",
    "            ', '.join([row['term'+str(i)] for i in range(1,11)])\n",
    "        #adding top-5 documents\n",
    "        for i in range(1,6):\n",
    "            data['SurveyElements'][1]['Payload']['Flow'][6]['Flow'][-1]['EmbeddedData'][i]['Value'] = \\\n",
    "                row['document'+str(i)]\n",
    "        #model name\n",
    "        data['SurveyElements'][1]['Payload']['Flow'][6]['Flow'][-1]['EmbeddedData'][6]['Value'] = folder\n",
    "        #topic_id\n",
    "        data['SurveyElements'][1]['Payload']['Flow'][6]['Flow'][-1]['EmbeddedData'][7]['Value'] = \\\n",
    "            row.id\n",
    "        #NPMI\n",
    "        data['SurveyElements'][1]['Payload']['Flow'][6]['Flow'][-1]['EmbeddedData'][8]['Value'] = \\\n",
    "            npmi_df.iloc[itr]['npmi']\n",
    "        #update flowID\n",
    "        data['SurveyElements'][1]['Payload']['Flow'][6]['Flow'][-1]['FlowID'] = 'FL_'+str(FlowID)\n",
    "        FlowID += 1\n",
    "\n",
    "#pop two first rows ==> they were fake rows\n",
    "data['SurveyElements'][1]['Payload']['Flow'][6]['Flow'].pop(0)\n",
    "data['SurveyElements'][1]['Payload']['Flow'][6]['Flow'].pop(0)\n",
    "'done'"
   ]
  },
  {
   "cell_type": "code",
   "execution_count": 170,
   "id": "5edc8af1-1355-4a7e-9eb2-0c97854a9005",
   "metadata": {},
   "outputs": [
    {
     "data": {
      "text/plain": [
       "{'Description': 'NPMI',\n",
       " 'Type': 'Custom',\n",
       " 'Field': 'NPMI',\n",
       " 'VariableType': 'String',\n",
       " 'DataVisibility': [],\n",
       " 'AnalyzeText': False,\n",
       " 'Value': 0.053387736010273}"
      ]
     },
     "execution_count": 170,
     "metadata": {},
     "output_type": "execute_result"
    }
   ],
   "source": [
    "# data['SurveyElements'][1]['Payload']['Flow'][6]['Flow'].append(data['SurveyElements'][1]['Payload']['Flow'][6]['Flow'][0].copy())\n",
    "# data['SurveyElements'][1]['Payload']['Flow'][6]['Flow'][2]['EmbeddedData'][8]#['Value']\n",
    "# len(data['SurveyElements'][1]['Payload']['Flow'][6]['Flow'])\n",
    "data['SurveyElements'][1]['Payload']['Flow'][6]['Flow'][-1]['EmbeddedData'][8]"
   ]
  },
  {
   "cell_type": "code",
   "execution_count": 114,
   "id": "ec61867e-a40c-4220-9369-3c105df55231",
   "metadata": {},
   "outputs": [],
   "source": [
    "with open(\"./result/qualtrics/Topic_Item_assessment.qsf\", \"w\") as f:\n",
    "    # Read the contents of the file\n",
    "    json.dump(data,f)"
   ]
  }
 ],
 "metadata": {
  "kernelspec": {
   "display_name": "Python 3 (ipykernel)",
   "language": "python",
   "name": "python3"
  },
  "language_info": {
   "codemirror_mode": {
    "name": "ipython",
    "version": 3
   },
   "file_extension": ".py",
   "mimetype": "text/x-python",
   "name": "python",
   "nbconvert_exporter": "python",
   "pygments_lexer": "ipython3",
   "version": "3.9.16"
  }
 },
 "nbformat": 4,
 "nbformat_minor": 5
}
