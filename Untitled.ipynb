{
 "cells": [
  {
   "cell_type": "code",
   "execution_count": 1,
   "metadata": {},
   "outputs": [
    {
     "name": "stderr",
     "output_type": "stream",
     "text": [
      "[nltk_data] Downloading package stopwords to\n",
      "[nltk_data]     C:\\Users\\aminh\\AppData\\Roaming\\nltk_data...\n",
      "[nltk_data]   Package stopwords is already up-to-date!\n",
      "[nltk_data] Downloading package wordnet to\n",
      "[nltk_data]     C:\\Users\\aminh\\AppData\\Roaming\\nltk_data...\n",
      "[nltk_data]   Package wordnet is already up-to-date!\n",
      "[nltk_data] Downloading package omw-1.4 to\n",
      "[nltk_data]     C:\\Users\\aminh\\AppData\\Roaming\\nltk_data...\n",
      "[nltk_data]   Package omw-1.4 is already up-to-date!\n",
      "[nltk_data] Downloading package averaged_perceptron_tagger to\n",
      "[nltk_data]     C:\\Users\\aminh\\AppData\\Roaming\\nltk_data...\n",
      "[nltk_data]   Package averaged_perceptron_tagger is already up-to-\n",
      "[nltk_data]       date!\n"
     ]
    },
    {
     "name": "stdout",
     "output_type": "stream",
     "text": [
      "Error in setting maxSize for CSV output\n"
     ]
    }
   ],
   "source": [
    "from pre_processing import *"
   ]
  },
  {
   "cell_type": "code",
   "execution_count": 2,
   "metadata": {},
   "outputs": [
    {
     "data": {
      "text/html": [
       "<div>\n",
       "<style scoped>\n",
       "    .dataframe tbody tr th:only-of-type {\n",
       "        vertical-align: middle;\n",
       "    }\n",
       "\n",
       "    .dataframe tbody tr th {\n",
       "        vertical-align: top;\n",
       "    }\n",
       "\n",
       "    .dataframe thead th {\n",
       "        text-align: right;\n",
       "    }\n",
       "</style>\n",
       "<table border=\"1\" class=\"dataframe\">\n",
       "  <thead>\n",
       "    <tr style=\"text-align: right;\">\n",
       "      <th></th>\n",
       "      <th>text</th>\n",
       "      <th>text_cleaned</th>\n",
       "    </tr>\n",
       "  </thead>\n",
       "  <tbody>\n",
       "    <tr>\n",
       "      <th>0</th>\n",
       "      <td>A 16-year-old student at a private Baptist sc...</td>\n",
       "      <td>A 16-year-old student at a private Baptist sc...</td>\n",
       "    </tr>\n",
       "    <tr>\n",
       "      <th>1</th>\n",
       "      <td>The Bechtel Group Inc. offered in 1985 to sel...</td>\n",
       "      <td>The Bechtel Group Inc. offered in 1985 to sel...</td>\n",
       "    </tr>\n",
       "    <tr>\n",
       "      <th>2</th>\n",
       "      <td>A gunman took a 74-year-old woman hostage aft...</td>\n",
       "      <td>A gunman took a 74-year-old woman hostage aft...</td>\n",
       "    </tr>\n",
       "    <tr>\n",
       "      <th>3</th>\n",
       "      <td>Today is Saturday, Oct. 29, the 303rd day of ...</td>\n",
       "      <td>Today is Saturday, Oct. 29, the 303rd day of ...</td>\n",
       "    </tr>\n",
       "    <tr>\n",
       "      <th>4</th>\n",
       "      <td>Cupid has a new message for lovers this Valen...</td>\n",
       "      <td>Cupid has a new message for lovers this Valen...</td>\n",
       "    </tr>\n",
       "    <tr>\n",
       "      <th>...</th>\n",
       "      <td>...</td>\n",
       "      <td>...</td>\n",
       "    </tr>\n",
       "    <tr>\n",
       "      <th>2241</th>\n",
       "      <td>The dollar rose in quiet European trading thi...</td>\n",
       "      <td>The dollar rose in quiet European trading thi...</td>\n",
       "    </tr>\n",
       "    <tr>\n",
       "      <th>2242</th>\n",
       "      <td>Here are the companies known to be conducting...</td>\n",
       "      <td>Here are the companies known to be conducting...</td>\n",
       "    </tr>\n",
       "    <tr>\n",
       "      <th>2243</th>\n",
       "      <td>Bloodstains on a pillowcase and exercise bar ...</td>\n",
       "      <td>Bloodstains on a pillowcase and exercise bar ...</td>\n",
       "    </tr>\n",
       "    <tr>\n",
       "      <th>2244</th>\n",
       "      <td>When Ron Thompson sat down for lunch on New Y...</td>\n",
       "      <td>When Ron Thompson sat down for lunch on New Y...</td>\n",
       "    </tr>\n",
       "    <tr>\n",
       "      <th>2245</th>\n",
       "      <td>A Navy anti-submarine helicopter crashed whil...</td>\n",
       "      <td>A Navy anti-submarine helicopter crashed whil...</td>\n",
       "    </tr>\n",
       "  </tbody>\n",
       "</table>\n",
       "<p>2246 rows × 2 columns</p>\n",
       "</div>"
      ],
      "text/plain": [
       "                                                   text  \\\n",
       "0      A 16-year-old student at a private Baptist sc...   \n",
       "1      The Bechtel Group Inc. offered in 1985 to sel...   \n",
       "2      A gunman took a 74-year-old woman hostage aft...   \n",
       "3      Today is Saturday, Oct. 29, the 303rd day of ...   \n",
       "4      Cupid has a new message for lovers this Valen...   \n",
       "...                                                 ...   \n",
       "2241   The dollar rose in quiet European trading thi...   \n",
       "2242   Here are the companies known to be conducting...   \n",
       "2243   Bloodstains on a pillowcase and exercise bar ...   \n",
       "2244   When Ron Thompson sat down for lunch on New Y...   \n",
       "2245   A Navy anti-submarine helicopter crashed whil...   \n",
       "\n",
       "                                           text_cleaned  \n",
       "0      A 16-year-old student at a private Baptist sc...  \n",
       "1      The Bechtel Group Inc. offered in 1985 to sel...  \n",
       "2      A gunman took a 74-year-old woman hostage aft...  \n",
       "3      Today is Saturday, Oct. 29, the 303rd day of ...  \n",
       "4      Cupid has a new message for lovers this Valen...  \n",
       "...                                                 ...  \n",
       "2241   The dollar rose in quiet European trading thi...  \n",
       "2242   Here are the companies known to be conducting...  \n",
       "2243   Bloodstains on a pillowcase and exercise bar ...  \n",
       "2244   When Ron Thompson sat down for lunch on New Y...  \n",
       "2245   A Navy anti-submarine helicopter crashed whil...  \n",
       "\n",
       "[2246 rows x 2 columns]"
      ]
     },
     "execution_count": 2,
     "metadata": {},
     "output_type": "execute_result"
    }
   ],
   "source": [
    "txt_df = ap_corpus('./data/ap.txt')\n",
    "txt_df"
   ]
  }
 ],
 "metadata": {
  "kernelspec": {
   "display_name": "Python 3",
   "language": "python",
   "name": "python3"
  },
  "language_info": {
   "codemirror_mode": {
    "name": "ipython",
    "version": 3
   },
   "file_extension": ".py",
   "mimetype": "text/x-python",
   "name": "python",
   "nbconvert_exporter": "python",
   "pygments_lexer": "ipython3",
   "version": "3.7.0"
  }
 },
 "nbformat": 4,
 "nbformat_minor": 4
}
